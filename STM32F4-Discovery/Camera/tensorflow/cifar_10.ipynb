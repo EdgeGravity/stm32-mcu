{
 "cells": [
  {
   "cell_type": "markdown",
   "metadata": {},
   "source": [
    "# CIFAR-10\n",
    "\n",
    "Original data: http://www.cs.toronto.edu/~kriz/cifar.html"
   ]
  },
  {
   "cell_type": "code",
   "execution_count": 199,
   "metadata": {},
   "outputs": [],
   "source": [
    "%matplotlib inline\n",
    "import matplotlib.pyplot as plt\n",
    "import numpy as np\n",
    "import sklearn.preprocessing as pp\n",
    "\n",
    "def unpickle(file):\n",
    "    import pickle\n",
    "    with open(file, 'rb') as fo:\n",
    "        dict = pickle.load(fo, encoding='bytes')\n",
    "    return dict"
   ]
  },
  {
   "cell_type": "code",
   "execution_count": 206,
   "metadata": {},
   "outputs": [
    {
     "data": {
      "text/plain": [
       "array([[[-1.57884459, -1.46089282, -1.3934918 ],\n",
       "        [-1.54514408, -1.47774307, -1.30924054],\n",
       "        [-1.49459332, -1.30924054, -1.25868978],\n",
       "        ...,\n",
       "        [-1.32609079, -1.1070375 , -1.29239028],\n",
       "        [-1.17443851, -0.97223547, -1.15758826],\n",
       "        [-1.27554003, -1.07333699, -1.25868978]],\n",
       "\n",
       "       [[-1.59569484, -1.54514408, -1.41034206],\n",
       "        [-1.59569484, -1.57884459, -1.3597913 ],\n",
       "        [-1.69679636, -1.52829383, -1.3934918 ],\n",
       "        ...,\n",
       "        [-0.16342332,  0.24098275, -0.41617712],\n",
       "        [-0.07917206,  0.30838377, -0.34877611],\n",
       "        [-0.11287256,  0.27468326, -0.36562636]],\n",
       "\n",
       "       [[-1.47774307, -1.44404256, -1.34294104],\n",
       "        [-1.49459332, -1.49459332, -1.32609079],\n",
       "        [-1.6462456 , -1.54514408, -1.37664155],\n",
       "        ...,\n",
       "        [ 0.89814263,  1.45420098,  0.35893453],\n",
       "        [ 0.93184314,  1.47105124,  0.37578478],\n",
       "        [ 0.91499288,  1.45420098,  0.35893453]],\n",
       "\n",
       "       ...,\n",
       "\n",
       "       [[ 0.34208427,  0.91499288, -0.0623218 ],\n",
       "        [ 0.34208427,  0.91499288, -0.0623218 ],\n",
       "        [ 0.4768863 ,  1.04979491,  0.08933048],\n",
       "        ...,\n",
       "        [ 0.20728225,  0.89814263, -0.04547155],\n",
       "        [ 0.10618073,  0.78019086, -0.16342332],\n",
       "        [ 0.20728225,  0.89814263, -0.04547155]],\n",
       "\n",
       "       [[ 0.30838377,  0.91499288,  0.03877972],\n",
       "        [ 0.39263503,  0.98239389,  0.12303098],\n",
       "        [ 0.4768863 ,  1.08349541,  0.20728225],\n",
       "        ...,\n",
       "        [ 0.15673149,  0.81389136, -0.04547155],\n",
       "        [ 0.13988124,  0.81389136, -0.04547155],\n",
       "        [ 0.00507921,  0.67908934, -0.18027357]],\n",
       "\n",
       "       [[ 0.20728225,  0.83074162,  0.02192946],\n",
       "        [ 0.24098275,  0.83074162,  0.03877972],\n",
       "        [ 0.24098275,  0.83074162,  0.03877972],\n",
       "        ...,\n",
       "        [-0.26452484,  0.37578478, -0.36562636],\n",
       "        [-0.29822535,  0.34208427, -0.38247661],\n",
       "        [-0.34877611,  0.30838377, -0.43302737]]])"
      ]
     },
     "execution_count": 206,
     "metadata": {},
     "output_type": "execute_result"
    }
   ],
   "source": [
    "FILE = '../../../../../cifar-10-batches-py/data_batch_1'\n",
    "original = unpickle(FILE)\n",
    "original_images = original[b'data'].reshape(10000,3,1024)\n",
    "class_labels = original[b'labels']\n",
    "filenames = original[b'filenames']\n",
    "original_images = original_images.transpose(0,2,1)\n",
    "original_images = original_images.reshape(10000, 32, 32, 3)\n",
    "\n",
    "# Normalization\n",
    "scaled = pp.scale(original[b'data'].astype(float), axis=1)\n",
    "images = scaled.reshape(10000,3,1024)\n",
    "\n",
    "# Transpose into Keras input tensor shape\n",
    "images = images.transpose(0,2,1)\n",
    "images = images.reshape(10000, 32, 32, 3)\n",
    "images.shape\n",
    "images[7]"
   ]
  },
  {
   "cell_type": "markdown",
   "metadata": {},
   "source": [
    "## Pick up one sample and show the image"
   ]
  },
  {
   "cell_type": "code",
   "execution_count": 207,
   "metadata": {},
   "outputs": [],
   "source": [
    "red = original_images[7,:,:,0]\n",
    "green = original_images[7,:,:,1]\n",
    "blue = original_images[7,:,:,2]\n",
    "\n",
    "import numpy as np\n",
    "img = np.dstack((red, green ,blue))"
   ]
  },
  {
   "cell_type": "code",
   "execution_count": 208,
   "metadata": {},
   "outputs": [
    {
     "data": {
      "text/plain": [
       "(b'cow_pony_s_001168.png', 7)"
      ]
     },
     "execution_count": 208,
     "metadata": {},
     "output_type": "execute_result"
    },
    {
     "data": {
      "image/png": "[encoded data removed]",
      "text/plain": [
       "<matplotlib.figure.Figure at 0x23984e1d160>"
      ]
     },
     "metadata": {},
     "output_type": "display_data"
    }
   ],
   "source": [
    "plt.imshow(img)\n",
    "filenames[7], class_labels[7]"
   ]
  },
  {
   "cell_type": "markdown",
   "metadata": {},
   "source": [
    "## Prepare input data for Keras "
   ]
  },
  {
   "cell_type": "code",
   "execution_count": 228,
   "metadata": {},
   "outputs": [
    {
     "data": {
      "text/plain": [
       "((1400, 32, 32, 3), (600, 32, 32, 3), (1400, 10), (600, 10))"
      ]
     },
     "execution_count": 228,
     "metadata": {},
     "output_type": "execute_result"
    }
   ],
   "source": [
    "from keras.utils import to_categorical\n",
    "\n",
    "FILES = 2000\n",
    "TRAINING_FILES = 1400 \n",
    "TEST_FILES = FILES - TRAINING_FILES\n",
    "NUM_CLASSES = 10\n",
    "\n",
    "train_data = images[:TRAINING_FILES]\n",
    "test_data = images[TRAINING_FILES:FILES]\n",
    "\n",
    "train_labels=to_categorical(class_labels[:TRAINING_FILES])\n",
    "test_labels=to_categorical(class_labels[TRAINING_FILES:FILES])\n",
    "\n",
    "train_data.shape, test_data.shape, train_labels.shape, test_labels.shape"
   ]
  },
  {
   "cell_type": "markdown",
   "metadata": {},
   "source": [
    "## CNN model"
   ]
  },
  {
   "cell_type": "code",
   "execution_count": 229,
   "metadata": {},
   "outputs": [
    {
     "name": "stdout",
     "output_type": "stream",
     "text": [
      "_________________________________________________________________\n",
      "Layer (type)                 Output Shape              Param #   \n",
      "=================================================================\n",
      "conv2d_74 (Conv2D)           (None, 32, 32, 8)         224       \n",
      "_________________________________________________________________\n",
      "max_pooling2d_73 (MaxPooling (None, 16, 16, 8)         0         \n",
      "_________________________________________________________________\n",
      "conv2d_75 (Conv2D)           (None, 16, 16, 16)        1168      \n",
      "_________________________________________________________________\n",
      "max_pooling2d_74 (MaxPooling (None, 8, 8, 16)          0         \n",
      "_________________________________________________________________\n",
      "conv2d_76 (Conv2D)           (None, 8, 8, 32)          4640      \n",
      "_________________________________________________________________\n",
      "max_pooling2d_75 (MaxPooling (None, 4, 4, 32)          0         \n",
      "_________________________________________________________________\n",
      "flatten_26 (Flatten)         (None, 512)               0         \n",
      "_________________________________________________________________\n",
      "dropout_44 (Dropout)         (None, 512)               0         \n",
      "_________________________________________________________________\n",
      "dense_44 (Dense)             (None, 10)                5130      \n",
      "=================================================================\n",
      "Total params: 11,162\n",
      "Trainable params: 11,162\n",
      "Non-trainable params: 0\n",
      "_________________________________________________________________\n"
     ]
    }
   ],
   "source": [
    "from keras import layers\n",
    "from keras import models\n",
    "\n",
    "model = models.Sequential()\n",
    "\n",
    "model.add(layers.Conv2D(8, (3, 3), padding='same', activation='relu', input_shape=(32, 32, 3)))\n",
    "model.add(layers.MaxPooling2D((2,2)))\n",
    "\n",
    "model.add(layers.Conv2D(16, (3, 3), padding='same', activation='relu'))\n",
    "model.add(layers.MaxPooling2D((2,2)))\n",
    "\n",
    "model.add(layers.Conv2D(32, (3, 3), padding='same', activation='relu'))\n",
    "model.add(layers.MaxPooling2D((2,2)))\n",
    "\n",
    "model.add(layers.Flatten())\n",
    "#model.add(layers.Dropout(0.5))\n",
    "#model.add(layers.Dense(128, activation='relu'))\n",
    "model.add(layers.Dropout(0.5))\n",
    "model.add(layers.Dense(NUM_CLASSES, activation='softmax'))\n",
    "\n",
    "model.summary()"
   ]
  },
  {
   "cell_type": "code",
   "execution_count": 230,
   "metadata": {},
   "outputs": [
    {
     "data": {
      "image/svg+xml": [
       "<svg height=\"702pt\" viewBox=\"0.00 0.00 223.00 702.00\" width=\"223pt\" xmlns=\"http://www.w3.org/2000/svg\" xmlns:xlink=\"http://www.w3.org/1999/xlink\">\n",
       "<g class=\"graph\" id=\"graph0\" transform=\"scale(1 1) rotate(0) translate(4 698)\">\n",
       "<title>G</title>\n",
       "<polygon fill=\"white\" points=\"-4,4 -4,-698 219,-698 219,4 -4,4\" stroke=\"none\"/>\n",
       "<!-- 2446216556728 -->\n",
       "<g class=\"node\" id=\"node1\"><title>2446216556728</title>\n",
       "<polygon fill=\"none\" points=\"40.5,-584.5 40.5,-620.5 174.5,-620.5 174.5,-584.5 40.5,-584.5\" stroke=\"black\"/>\n",
       "<text font-family=\"Times New Roman,serif\" font-size=\"14.00\" text-anchor=\"middle\" x=\"107.5\" y=\"-598.8\">conv2d_74: Conv2D</text>\n",
       "</g>\n",
       "<!-- 2446216557120 -->\n",
       "<g class=\"node\" id=\"node2\"><title>2446216557120</title>\n",
       "<polygon fill=\"none\" points=\"0,-511.5 0,-547.5 215,-547.5 215,-511.5 0,-511.5\" stroke=\"black\"/>\n",
       "<text font-family=\"Times New Roman,serif\" font-size=\"14.00\" text-anchor=\"middle\" x=\"107.5\" y=\"-525.8\">max_pooling2d_73: MaxPooling2D</text>\n",
       "</g>\n",
       "<!-- 2446216556728&#45;&gt;2446216557120 -->\n",
       "<g class=\"edge\" id=\"edge2\"><title>2446216556728-&gt;2446216557120</title>\n",
       "<path d=\"M107.5,-584.313C107.5,-576.289 107.5,-566.547 107.5,-557.569\" fill=\"none\" stroke=\"black\"/>\n",
       "<polygon fill=\"black\" points=\"111,-557.529 107.5,-547.529 104,-557.529 111,-557.529\" stroke=\"black\"/>\n",
       "</g>\n",
       "<!-- 2446216557792 -->\n",
       "<g class=\"node\" id=\"node3\"><title>2446216557792</title>\n",
       "<polygon fill=\"none\" points=\"40.5,-438.5 40.5,-474.5 174.5,-474.5 174.5,-438.5 40.5,-438.5\" stroke=\"black\"/>\n",
       "<text font-family=\"Times New Roman,serif\" font-size=\"14.00\" text-anchor=\"middle\" x=\"107.5\" y=\"-452.8\">conv2d_75: Conv2D</text>\n",
       "</g>\n",
       "<!-- 2446216557120&#45;&gt;2446216557792 -->\n",
       "<g class=\"edge\" id=\"edge3\"><title>2446216557120-&gt;2446216557792</title>\n",
       "<path d=\"M107.5,-511.313C107.5,-503.289 107.5,-493.547 107.5,-484.569\" fill=\"none\" stroke=\"black\"/>\n",
       "<polygon fill=\"black\" points=\"111,-484.529 107.5,-474.529 104,-484.529 111,-484.529\" stroke=\"black\"/>\n",
       "</g>\n",
       "<!-- 2446220976424 -->\n",
       "<g class=\"node\" id=\"node4\"><title>2446220976424</title>\n",
       "<polygon fill=\"none\" points=\"0,-365.5 0,-401.5 215,-401.5 215,-365.5 0,-365.5\" stroke=\"black\"/>\n",
       "<text font-family=\"Times New Roman,serif\" font-size=\"14.00\" text-anchor=\"middle\" x=\"107.5\" y=\"-379.8\">max_pooling2d_74: MaxPooling2D</text>\n",
       "</g>\n",
       "<!-- 2446216557792&#45;&gt;2446220976424 -->\n",
       "<g class=\"edge\" id=\"edge4\"><title>2446216557792-&gt;2446220976424</title>\n",
       "<path d=\"M107.5,-438.313C107.5,-430.289 107.5,-420.547 107.5,-411.569\" fill=\"none\" stroke=\"black\"/>\n",
       "<polygon fill=\"black\" points=\"111,-411.529 107.5,-401.529 104,-411.529 111,-411.529\" stroke=\"black\"/>\n",
       "</g>\n",
       "<!-- 2446216559920 -->\n",
       "<g class=\"node\" id=\"node5\"><title>2446216559920</title>\n",
       "<polygon fill=\"none\" points=\"40.5,-292.5 40.5,-328.5 174.5,-328.5 174.5,-292.5 40.5,-292.5\" stroke=\"black\"/>\n",
       "<text font-family=\"Times New Roman,serif\" font-size=\"14.00\" text-anchor=\"middle\" x=\"107.5\" y=\"-306.8\">conv2d_76: Conv2D</text>\n",
       "</g>\n",
       "<!-- 2446220976424&#45;&gt;2446216559920 -->\n",
       "<g class=\"edge\" id=\"edge5\"><title>2446220976424-&gt;2446216559920</title>\n",
       "<path d=\"M107.5,-365.313C107.5,-357.289 107.5,-347.547 107.5,-338.569\" fill=\"none\" stroke=\"black\"/>\n",
       "<polygon fill=\"black\" points=\"111,-338.529 107.5,-328.529 104,-338.529 111,-338.529\" stroke=\"black\"/>\n",
       "</g>\n",
       "<!-- 2446181248528 -->\n",
       "<g class=\"node\" id=\"node6\"><title>2446181248528</title>\n",
       "<polygon fill=\"none\" points=\"0,-219.5 0,-255.5 215,-255.5 215,-219.5 0,-219.5\" stroke=\"black\"/>\n",
       "<text font-family=\"Times New Roman,serif\" font-size=\"14.00\" text-anchor=\"middle\" x=\"107.5\" y=\"-233.8\">max_pooling2d_75: MaxPooling2D</text>\n",
       "</g>\n",
       "<!-- 2446216559920&#45;&gt;2446181248528 -->\n",
       "<g class=\"edge\" id=\"edge6\"><title>2446216559920-&gt;2446181248528</title>\n",
       "<path d=\"M107.5,-292.313C107.5,-284.289 107.5,-274.547 107.5,-265.569\" fill=\"none\" stroke=\"black\"/>\n",
       "<polygon fill=\"black\" points=\"111,-265.529 107.5,-255.529 104,-265.529 111,-265.529\" stroke=\"black\"/>\n",
       "</g>\n",
       "<!-- 2446221064456 -->\n",
       "<g class=\"node\" id=\"node7\"><title>2446221064456</title>\n",
       "<polygon fill=\"none\" points=\"49.5,-146.5 49.5,-182.5 165.5,-182.5 165.5,-146.5 49.5,-146.5\" stroke=\"black\"/>\n",
       "<text font-family=\"Times New Roman,serif\" font-size=\"14.00\" text-anchor=\"middle\" x=\"107.5\" y=\"-160.8\">flatten_26: Flatten</text>\n",
       "</g>\n",
       "<!-- 2446181248528&#45;&gt;2446221064456 -->\n",
       "<g class=\"edge\" id=\"edge7\"><title>2446181248528-&gt;2446221064456</title>\n",
       "<path d=\"M107.5,-219.313C107.5,-211.289 107.5,-201.547 107.5,-192.569\" fill=\"none\" stroke=\"black\"/>\n",
       "<polygon fill=\"black\" points=\"111,-192.529 107.5,-182.529 104,-192.529 111,-192.529\" stroke=\"black\"/>\n",
       "</g>\n",
       "<!-- 2446181244376 -->\n",
       "<g class=\"node\" id=\"node8\"><title>2446181244376</title>\n",
       "<polygon fill=\"none\" points=\"39,-73.5 39,-109.5 176,-109.5 176,-73.5 39,-73.5\" stroke=\"black\"/>\n",
       "<text font-family=\"Times New Roman,serif\" font-size=\"14.00\" text-anchor=\"middle\" x=\"107.5\" y=\"-87.8\">dropout_44: Dropout</text>\n",
       "</g>\n",
       "<!-- 2446221064456&#45;&gt;2446181244376 -->\n",
       "<g class=\"edge\" id=\"edge8\"><title>2446221064456-&gt;2446181244376</title>\n",
       "<path d=\"M107.5,-146.313C107.5,-138.289 107.5,-128.547 107.5,-119.569\" fill=\"none\" stroke=\"black\"/>\n",
       "<polygon fill=\"black\" points=\"111,-119.529 107.5,-109.529 104,-119.529 111,-119.529\" stroke=\"black\"/>\n",
       "</g>\n",
       "<!-- 2446181244656 -->\n",
       "<g class=\"node\" id=\"node9\"><title>2446181244656</title>\n",
       "<polygon fill=\"none\" points=\"52,-0.5 52,-36.5 163,-36.5 163,-0.5 52,-0.5\" stroke=\"black\"/>\n",
       "<text font-family=\"Times New Roman,serif\" font-size=\"14.00\" text-anchor=\"middle\" x=\"107.5\" y=\"-14.8\">dense_44: Dense</text>\n",
       "</g>\n",
       "<!-- 2446181244376&#45;&gt;2446181244656 -->\n",
       "<g class=\"edge\" id=\"edge9\"><title>2446181244376-&gt;2446181244656</title>\n",
       "<path d=\"M107.5,-73.3129C107.5,-65.2895 107.5,-55.5475 107.5,-46.5691\" fill=\"none\" stroke=\"black\"/>\n",
       "<polygon fill=\"black\" points=\"111,-46.5288 107.5,-36.5288 104,-46.5289 111,-46.5288\" stroke=\"black\"/>\n",
       "</g>\n",
       "<!-- 2446216557064 -->\n",
       "<g class=\"node\" id=\"node10\"><title>2446216557064</title>\n",
       "<polygon fill=\"none\" points=\"55.5,-657.5 55.5,-693.5 159.5,-693.5 159.5,-657.5 55.5,-657.5\" stroke=\"black\"/>\n",
       "<text font-family=\"Times New Roman,serif\" font-size=\"14.00\" text-anchor=\"middle\" x=\"107.5\" y=\"-671.8\">2446216557064</text>\n",
       "</g>\n",
       "<!-- 2446216557064&#45;&gt;2446216556728 -->\n",
       "<g class=\"edge\" id=\"edge1\"><title>2446216557064-&gt;2446216556728</title>\n",
       "<path d=\"M107.5,-657.313C107.5,-649.289 107.5,-639.547 107.5,-630.569\" fill=\"none\" stroke=\"black\"/>\n",
       "<polygon fill=\"black\" points=\"111,-630.529 107.5,-620.529 104,-630.529 111,-630.529\" stroke=\"black\"/>\n",
       "</g>\n",
       "</g>\n",
       "</svg>"
      ],
      "text/plain": [
       "<IPython.core.display.SVG object>"
      ]
     },
     "execution_count": 230,
     "metadata": {},
     "output_type": "execute_result"
    }
   ],
   "source": [
    "model.compile(optimizer='rmsprop', loss='categorical_crossentropy', metrics=['accuracy'])\n",
    "from IPython.display import SVG\n",
    "from keras.utils.vis_utils import model_to_dot\n",
    "\n",
    "SVG(model_to_dot(model).create(prog='dot', format='svg'))"
   ]
  },
  {
   "cell_type": "code",
   "execution_count": 231,
   "metadata": {},
   "outputs": [
    {
     "name": "stdout",
     "output_type": "stream",
     "text": [
      "Train on 1400 samples, validate on 600 samples\n",
      "Epoch 1/100\n",
      "1400/1400 [==============================] - 48s 35ms/step - loss: 2.2326 - acc: 0.1636 - val_loss: 2.0961 - val_acc: 0.2433\n",
      "Epoch 2/100\n",
      "1400/1400 [==============================] - 46s 33ms/step - loss: 2.0061 - acc: 0.2686 - val_loss: 1.9643 - val_acc: 0.2833\n",
      "Epoch 3/100\n",
      "1400/1400 [==============================] - 45s 32ms/step - loss: 1.8913 - acc: 0.2914 - val_loss: 1.8865 - val_acc: 0.3133\n",
      "Epoch 4/100\n",
      "1400/1400 [==============================] - 45s 32ms/step - loss: 1.8411 - acc: 0.3129 - val_loss: 1.8460 - val_acc: 0.3383\n",
      "Epoch 5/100\n",
      "1400/1400 [==============================] - 45s 32ms/step - loss: 1.7409 - acc: 0.3550 - val_loss: 1.7967 - val_acc: 0.3567\n",
      "Epoch 6/100\n",
      "1400/1400 [==============================] - 47s 33ms/step - loss: 1.6965 - acc: 0.3779 - val_loss: 1.7877 - val_acc: 0.3483\n",
      "Epoch 7/100\n",
      "1400/1400 [==============================] - 45s 32ms/step - loss: 1.6498 - acc: 0.3943 - val_loss: 1.7969 - val_acc: 0.3733\n",
      "Epoch 8/100\n",
      "1400/1400 [==============================] - 45s 32ms/step - loss: 1.5963 - acc: 0.4200 - val_loss: 1.7089 - val_acc: 0.3800\n",
      "Epoch 9/100\n",
      "1400/1400 [==============================] - 45s 32ms/step - loss: 1.5683 - acc: 0.4407 - val_loss: 1.6707 - val_acc: 0.3950\n",
      "Epoch 10/100\n",
      "1400/1400 [==============================] - 46s 33ms/step - loss: 1.5282 - acc: 0.4564 - val_loss: 1.6732 - val_acc: 0.4000\n",
      "Epoch 11/100\n",
      "1400/1400 [==============================] - 46s 33ms/step - loss: 1.4955 - acc: 0.4564 - val_loss: 1.7366 - val_acc: 0.3800\n",
      "Epoch 12/100\n",
      "1400/1400 [==============================] - 46s 33ms/step - loss: 1.4541 - acc: 0.4871 - val_loss: 1.6665 - val_acc: 0.4017\n",
      "Epoch 13/100\n",
      "1400/1400 [==============================] - 46s 33ms/step - loss: 1.4310 - acc: 0.5093 - val_loss: 1.6115 - val_acc: 0.4350\n",
      "Epoch 14/100\n",
      "1400/1400 [==============================] - 47s 33ms/step - loss: 1.4212 - acc: 0.5029 - val_loss: 1.6018 - val_acc: 0.4083\n",
      "Epoch 15/100\n",
      "1400/1400 [==============================] - 46s 33ms/step - loss: 1.3422 - acc: 0.5257 - val_loss: 1.5880 - val_acc: 0.4350\n",
      "Epoch 16/100\n",
      "1400/1400 [==============================] - 46s 33ms/step - loss: 1.3212 - acc: 0.5350 - val_loss: 1.6097 - val_acc: 0.4350\n",
      "Epoch 17/100\n",
      "1400/1400 [==============================] - 45s 32ms/step - loss: 1.3041 - acc: 0.5414 - val_loss: 1.5625 - val_acc: 0.4433\n",
      "Epoch 18/100\n",
      "1400/1400 [==============================] - 46s 33ms/step - loss: 1.3078 - acc: 0.5300 - val_loss: 1.6006 - val_acc: 0.4367\n",
      "Epoch 19/100\n",
      "1400/1400 [==============================] - 46s 33ms/step - loss: 1.2547 - acc: 0.5550 - val_loss: 1.5995 - val_acc: 0.4500\n",
      "Epoch 20/100\n",
      "1400/1400 [==============================] - 47s 33ms/step - loss: 1.2305 - acc: 0.5464 - val_loss: 1.6161 - val_acc: 0.4467\n",
      "Epoch 21/100\n",
      "1400/1400 [==============================] - 47s 33ms/step - loss: 1.2091 - acc: 0.5700 - val_loss: 1.6067 - val_acc: 0.4550\n",
      "Epoch 22/100\n",
      "1400/1400 [==============================] - 46s 33ms/step - loss: 1.2071 - acc: 0.5643 - val_loss: 1.5774 - val_acc: 0.4483\n",
      "Epoch 23/100\n",
      "1400/1400 [==============================] - 47s 33ms/step - loss: 1.1809 - acc: 0.5836 - val_loss: 1.6038 - val_acc: 0.4317\n",
      "Epoch 24/100\n",
      "1400/1400 [==============================] - 45s 32ms/step - loss: 1.1420 - acc: 0.5936 - val_loss: 1.5998 - val_acc: 0.4267\n",
      "Epoch 25/100\n",
      " 160/1400 [==>...........................] - ETA: 42s - loss: 1.1479 - acc: 0.5750"
     ]
    },
    {
     "ename": "KeyboardInterrupt",
     "evalue": "",
     "output_type": "error",
     "traceback": [
      "\u001b[1;31m---------------------------------------------------------------------------\u001b[0m",
      "\u001b[1;31mKeyboardInterrupt\u001b[0m                         Traceback (most recent call last)",
      "\u001b[1;32m<ipython-input-231-6860879fff3f>\u001b[0m in \u001b[0;36m<module>\u001b[1;34m()\u001b[0m\n\u001b[0;32m      1\u001b[0m \u001b[0mEPOCHS\u001b[0m \u001b[1;33m=\u001b[0m \u001b[1;36m100\u001b[0m\u001b[1;33m\u001b[0m\u001b[0m\n\u001b[1;32m----> 2\u001b[1;33m \u001b[0mhistory\u001b[0m \u001b[1;33m=\u001b[0m \u001b[0mmodel\u001b[0m\u001b[1;33m.\u001b[0m\u001b[0mfit\u001b[0m\u001b[1;33m(\u001b[0m\u001b[0mtrain_data\u001b[0m\u001b[1;33m,\u001b[0m \u001b[0mtrain_labels\u001b[0m\u001b[1;33m,\u001b[0m \u001b[0mepochs\u001b[0m\u001b[1;33m=\u001b[0m\u001b[0mEPOCHS\u001b[0m\u001b[1;33m,\u001b[0m \u001b[0mvalidation_data\u001b[0m\u001b[1;33m=\u001b[0m\u001b[1;33m(\u001b[0m\u001b[0mtest_data\u001b[0m\u001b[1;33m,\u001b[0m \u001b[0mtest_labels\u001b[0m\u001b[1;33m)\u001b[0m\u001b[1;33m)\u001b[0m\u001b[1;33m\u001b[0m\u001b[0m\n\u001b[0m",
      "\u001b[1;32m~\\Anaconda3\\lib\\site-packages\\keras\\engine\\training.py\u001b[0m in \u001b[0;36mfit\u001b[1;34m(self, x, y, batch_size, epochs, verbose, callbacks, validation_split, validation_data, shuffle, class_weight, sample_weight, initial_epoch, steps_per_epoch, validation_steps, **kwargs)\u001b[0m\n\u001b[0;32m   1037\u001b[0m                                         \u001b[0minitial_epoch\u001b[0m\u001b[1;33m=\u001b[0m\u001b[0minitial_epoch\u001b[0m\u001b[1;33m,\u001b[0m\u001b[1;33m\u001b[0m\u001b[0m\n\u001b[0;32m   1038\u001b[0m                                         \u001b[0msteps_per_epoch\u001b[0m\u001b[1;33m=\u001b[0m\u001b[0msteps_per_epoch\u001b[0m\u001b[1;33m,\u001b[0m\u001b[1;33m\u001b[0m\u001b[0m\n\u001b[1;32m-> 1039\u001b[1;33m                                         validation_steps=validation_steps)\n\u001b[0m\u001b[0;32m   1040\u001b[0m \u001b[1;33m\u001b[0m\u001b[0m\n\u001b[0;32m   1041\u001b[0m     def evaluate(self, x=None, y=None,\n",
      "\u001b[1;32m~\\Anaconda3\\lib\\site-packages\\keras\\engine\\training_arrays.py\u001b[0m in \u001b[0;36mfit_loop\u001b[1;34m(model, f, ins, out_labels, batch_size, epochs, verbose, callbacks, val_f, val_ins, shuffle, callback_metrics, initial_epoch, steps_per_epoch, validation_steps)\u001b[0m\n\u001b[0;32m    197\u001b[0m                     \u001b[0mins_batch\u001b[0m\u001b[1;33m[\u001b[0m\u001b[0mi\u001b[0m\u001b[1;33m]\u001b[0m \u001b[1;33m=\u001b[0m \u001b[0mins_batch\u001b[0m\u001b[1;33m[\u001b[0m\u001b[0mi\u001b[0m\u001b[1;33m]\u001b[0m\u001b[1;33m.\u001b[0m\u001b[0mtoarray\u001b[0m\u001b[1;33m(\u001b[0m\u001b[1;33m)\u001b[0m\u001b[1;33m\u001b[0m\u001b[0m\n\u001b[0;32m    198\u001b[0m \u001b[1;33m\u001b[0m\u001b[0m\n\u001b[1;32m--> 199\u001b[1;33m                 \u001b[0mouts\u001b[0m \u001b[1;33m=\u001b[0m \u001b[0mf\u001b[0m\u001b[1;33m(\u001b[0m\u001b[0mins_batch\u001b[0m\u001b[1;33m)\u001b[0m\u001b[1;33m\u001b[0m\u001b[0m\n\u001b[0m\u001b[0;32m    200\u001b[0m                 \u001b[0mouts\u001b[0m \u001b[1;33m=\u001b[0m \u001b[0mto_list\u001b[0m\u001b[1;33m(\u001b[0m\u001b[0mouts\u001b[0m\u001b[1;33m)\u001b[0m\u001b[1;33m\u001b[0m\u001b[0m\n\u001b[0;32m    201\u001b[0m                 \u001b[1;32mfor\u001b[0m \u001b[0ml\u001b[0m\u001b[1;33m,\u001b[0m \u001b[0mo\u001b[0m \u001b[1;32min\u001b[0m \u001b[0mzip\u001b[0m\u001b[1;33m(\u001b[0m\u001b[0mout_labels\u001b[0m\u001b[1;33m,\u001b[0m \u001b[0mouts\u001b[0m\u001b[1;33m)\u001b[0m\u001b[1;33m:\u001b[0m\u001b[1;33m\u001b[0m\u001b[0m\n",
      "\u001b[1;32m~\\Anaconda3\\lib\\site-packages\\keras\\backend\\tensorflow_backend.py\u001b[0m in \u001b[0;36m__call__\u001b[1;34m(self, inputs)\u001b[0m\n\u001b[0;32m   2713\u001b[0m                 \u001b[1;32mreturn\u001b[0m \u001b[0mself\u001b[0m\u001b[1;33m.\u001b[0m\u001b[0m_legacy_call\u001b[0m\u001b[1;33m(\u001b[0m\u001b[0minputs\u001b[0m\u001b[1;33m)\u001b[0m\u001b[1;33m\u001b[0m\u001b[0m\n\u001b[0;32m   2714\u001b[0m \u001b[1;33m\u001b[0m\u001b[0m\n\u001b[1;32m-> 2715\u001b[1;33m             \u001b[1;32mreturn\u001b[0m \u001b[0mself\u001b[0m\u001b[1;33m.\u001b[0m\u001b[0m_call\u001b[0m\u001b[1;33m(\u001b[0m\u001b[0minputs\u001b[0m\u001b[1;33m)\u001b[0m\u001b[1;33m\u001b[0m\u001b[0m\n\u001b[0m\u001b[0;32m   2716\u001b[0m         \u001b[1;32melse\u001b[0m\u001b[1;33m:\u001b[0m\u001b[1;33m\u001b[0m\u001b[0m\n\u001b[0;32m   2717\u001b[0m             \u001b[1;32mif\u001b[0m \u001b[0mpy_any\u001b[0m\u001b[1;33m(\u001b[0m\u001b[0mis_tensor\u001b[0m\u001b[1;33m(\u001b[0m\u001b[0mx\u001b[0m\u001b[1;33m)\u001b[0m \u001b[1;32mfor\u001b[0m \u001b[0mx\u001b[0m \u001b[1;32min\u001b[0m \u001b[0minputs\u001b[0m\u001b[1;33m)\u001b[0m\u001b[1;33m:\u001b[0m\u001b[1;33m\u001b[0m\u001b[0m\n",
      "\u001b[1;32m~\\Anaconda3\\lib\\site-packages\\keras\\backend\\tensorflow_backend.py\u001b[0m in \u001b[0;36m_call\u001b[1;34m(self, inputs)\u001b[0m\n\u001b[0;32m   2673\u001b[0m             \u001b[0mfetched\u001b[0m \u001b[1;33m=\u001b[0m \u001b[0mself\u001b[0m\u001b[1;33m.\u001b[0m\u001b[0m_callable_fn\u001b[0m\u001b[1;33m(\u001b[0m\u001b[1;33m*\u001b[0m\u001b[0marray_vals\u001b[0m\u001b[1;33m,\u001b[0m \u001b[0mrun_metadata\u001b[0m\u001b[1;33m=\u001b[0m\u001b[0mself\u001b[0m\u001b[1;33m.\u001b[0m\u001b[0mrun_metadata\u001b[0m\u001b[1;33m)\u001b[0m\u001b[1;33m\u001b[0m\u001b[0m\n\u001b[0;32m   2674\u001b[0m         \u001b[1;32melse\u001b[0m\u001b[1;33m:\u001b[0m\u001b[1;33m\u001b[0m\u001b[0m\n\u001b[1;32m-> 2675\u001b[1;33m             \u001b[0mfetched\u001b[0m \u001b[1;33m=\u001b[0m \u001b[0mself\u001b[0m\u001b[1;33m.\u001b[0m\u001b[0m_callable_fn\u001b[0m\u001b[1;33m(\u001b[0m\u001b[1;33m*\u001b[0m\u001b[0marray_vals\u001b[0m\u001b[1;33m)\u001b[0m\u001b[1;33m\u001b[0m\u001b[0m\n\u001b[0m\u001b[0;32m   2676\u001b[0m         \u001b[1;32mreturn\u001b[0m \u001b[0mfetched\u001b[0m\u001b[1;33m[\u001b[0m\u001b[1;33m:\u001b[0m\u001b[0mlen\u001b[0m\u001b[1;33m(\u001b[0m\u001b[0mself\u001b[0m\u001b[1;33m.\u001b[0m\u001b[0moutputs\u001b[0m\u001b[1;33m)\u001b[0m\u001b[1;33m]\u001b[0m\u001b[1;33m\u001b[0m\u001b[0m\n\u001b[0;32m   2677\u001b[0m \u001b[1;33m\u001b[0m\u001b[0m\n",
      "\u001b[1;32m~\\Anaconda3\\lib\\site-packages\\tensorflow\\python\\client\\session.py\u001b[0m in \u001b[0;36m__call__\u001b[1;34m(self, *args)\u001b[0m\n\u001b[0;32m   1449\u001b[0m         \u001b[1;32mif\u001b[0m \u001b[0mself\u001b[0m\u001b[1;33m.\u001b[0m\u001b[0m_session\u001b[0m\u001b[1;33m.\u001b[0m\u001b[0m_created_with_new_api\u001b[0m\u001b[1;33m:\u001b[0m\u001b[1;33m\u001b[0m\u001b[0m\n\u001b[0;32m   1450\u001b[0m           return tf_session.TF_SessionRunCallable(\n\u001b[1;32m-> 1451\u001b[1;33m               self._session._session, self._handle, args, status, None)\n\u001b[0m\u001b[0;32m   1452\u001b[0m         \u001b[1;32melse\u001b[0m\u001b[1;33m:\u001b[0m\u001b[1;33m\u001b[0m\u001b[0m\n\u001b[0;32m   1453\u001b[0m           return tf_session.TF_DeprecatedSessionRunCallable(\n",
      "\u001b[1;31mKeyboardInterrupt\u001b[0m: "
     ]
    }
   ],
   "source": [
    "EPOCHS = 100\n",
    "history = model.fit(train_data, train_labels, epochs=EPOCHS, validation_data=(test_data, test_labels))"
   ]
  },
  {
   "cell_type": "code",
   "execution_count": null,
   "metadata": {},
   "outputs": [],
   "source": []
  },
  {
   "cell_type": "code",
   "execution_count": null,
   "metadata": {},
   "outputs": [],
   "source": []
  }
 ],
 "metadata": {
  "kernelspec": {
   "display_name": "Python 3",
   "language": "python",
   "name": "python3"
  },
  "language_info": {
   "codemirror_mode": {
    "name": "ipython",
    "version": 3
   },
   "file_extension": ".py",
   "mimetype": "text/x-python",
   "name": "python",
   "nbconvert_exporter": "python",
   "pygments_lexer": "ipython3",
   "version": "3.6.4"
  }
 },
 "nbformat": 4,
 "nbformat_minor": 2
}
