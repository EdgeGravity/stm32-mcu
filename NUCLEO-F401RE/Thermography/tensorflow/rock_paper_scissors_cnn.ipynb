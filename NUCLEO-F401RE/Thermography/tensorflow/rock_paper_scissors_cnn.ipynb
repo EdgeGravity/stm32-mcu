{
 "cells": [
  {
   "cell_type": "markdown",
   "metadata": {
    "colab_type": "text",
    "id": "0X16cagQE-Y-"
   },
   "source": [
    "# CNN for rock-paper-scissors with Keras/TensorFlow\n",
    "\n",
    "Date: January 4, 2019\n",
    "\n",
    "Classification:\n",
    "- rock\n",
    "- paper\n",
    "- scissors"
   ]
  },
  {
   "cell_type": "markdown",
   "metadata": {
    "colab_type": "text",
    "id": "WwQ-dEltkl5Q"
   },
   "source": [
    "## Preparing data set for CNN"
   ]
  },
  {
   "cell_type": "code",
   "execution_count": 110,
   "metadata": {
    "colab": {
     "base_uri": "https://localhost:8080/",
     "height": 34
    },
    "colab_type": "code",
    "id": "VEJyQsGpV3ug",
    "outputId": "3929aa39-3383-4791-e065-3622e6781181"
   },
   "outputs": [],
   "source": [
    "DATA_FOLDER = '../thermography/data/'\n",
    "\n",
    "FILES = 45\n",
    "TRAINING_FILES = 30 \n",
    "TEST_FILES = FILES - TRAINING_FILES"
   ]
  },
  {
   "cell_type": "code",
   "execution_count": 111,
   "metadata": {
    "colab": {},
    "colab_type": "code",
    "id": "JTNdoPBFWGky"
   },
   "outputs": [],
   "source": [
    "%matplotlib inline\n",
    "\n",
    "import matplotlib.pyplot as plt\n",
    "import numpy as np\n",
    "import time\n",
    "import random\n",
    "import os\n",
    "import sklearn.preprocessing as pp"
   ]
  },
  {
   "cell_type": "code",
   "execution_count": 112,
   "metadata": {},
   "outputs": [
    {
     "name": "stdout",
     "output_type": "stream",
     "text": [
      "0: paper\n",
      "1: rock\n",
      "2: scissors\n"
     ]
    }
   ],
   "source": [
    "import glob\n",
    "\n",
    "data_files = glob.glob(DATA_FOLDER+'*.csv')\n",
    "class_labels = []\n",
    "\n",
    "for file in data_files:\n",
    "    label = file.split('-')[0].replace('\\\\', '/').split('/')[-1]\n",
    "    if label not in class_labels:\n",
    "        class_labels.append(label)\n",
    "\n",
    "data_set = {}\n",
    "\n",
    "class_number = 0\n",
    "\n",
    "for label in class_labels:\n",
    "    files = glob.glob(DATA_FOLDER+'{}-*.csv'.format(label))\n",
    "    random.shuffle(files)\n",
    "    data_set[label] = (files[:TRAINING_FILES], files[TRAINING_FILES:FILES], class_number)\n",
    "    class_number += 1\n",
    "\n",
    "training_set = []\n",
    "test_set = []\n",
    "\n",
    "for k, v in data_set.items():\n",
    "    files = v[0]\n",
    "    class_number = v[2]\n",
    "    for file in files:\n",
    "        with open(file) as f:\n",
    "            data = np.array(f.read().split(',')).astype(float)\n",
    "            training_set.append((pp.scale(data), class_number))\n",
    "    files = v[1]\n",
    "    for file in files:\n",
    "        with open(file) as f:\n",
    "            data = np.array(f.read().split(',')).astype(float)\n",
    "            test_set.append((pp.scale(data), class_number))\n",
    "random.shuffle(training_set)\n",
    "random.shuffle(test_set)\n",
    "\n",
    "class_labels = [None for _ in range(len(data_set))]\n",
    "\n",
    "# Class number and class labels\n",
    "for k,v in data_set.items():\n",
    "    print('{}: {}'.format(v[2],k))\n",
    "    class_labels[v[2]] = k\n",
    "    \n",
    "import yaml\n",
    "with open(DATA_FOLDER+'class_labels.yaml', 'w') as f:\n",
    "    yaml.dump(class_labels, f)"
   ]
  },
  {
   "cell_type": "code",
   "execution_count": 113,
   "metadata": {
    "colab": {},
    "colab_type": "code",
    "id": "28tIKkNyW3cO"
   },
   "outputs": [
    {
     "data": {
      "text/plain": [
       "array([[-0.32404051, -0.10172788,  0.05706686,  1.58149633,  2.21667528,\n",
       "         1.32742475, -0.00645104, -0.32404051],\n",
       "       [-0.41931735, -0.26052262,  0.62872791,  2.02612159,  2.02612159,\n",
       "         1.16863002, -0.19700472, -0.51459419],\n",
       "       [-0.41931735, -0.32404051,  1.16863002,  1.89908581,  1.80380896,\n",
       "         0.85104054, -0.32404051, -0.00645104],\n",
       "       [-0.57811209, -0.19700472,  1.58149633,  2.02612159,  1.48621949,\n",
       "        -0.00645104, -0.51459419, -0.32404051],\n",
       "       [-0.32404051,  0.31113844,  1.16863002,  1.26390686,  0.12058475,\n",
       "        -0.26052262, -0.57811209, -0.73690683],\n",
       "       [-0.73690683,  0.31113844, -0.26052262,  0.85104054, -0.32404051,\n",
       "        -0.73690683, -0.83218367, -1.14977314],\n",
       "       [-1.21329104, -0.64162998, -0.95921946,  0.43817423, -0.57811209,\n",
       "        -0.89570156, -1.14977314, -1.0544963 ],\n",
       "       [-1.27680893, -1.21329104, -1.14977314, -0.89570156, -0.89570156,\n",
       "        -1.0544963 , -1.27680893, -1.27680893]])"
      ]
     },
     "execution_count": 113,
     "metadata": {},
     "output_type": "execute_result"
    },
    {
     "data": {
      "image/png": "[encoded data removed]",
      "text/plain": [
       "<matplotlib.figure.Figure at 0x1861d738b70>"
      ]
     },
     "metadata": {},
     "output_type": "display_data"
    }
   ],
   "source": [
    "train_data, train_labels = [], []\n",
    "test_data, test_labels = [], []\n",
    "for img, label in training_set:\n",
    "    train_data.append(img)\n",
    "    train_labels.append(label)\n",
    "for img, label in test_set:\n",
    "    test_data.append(img)\n",
    "    test_labels.append(label)\n",
    "train_data = np.array(train_data).reshape((TRAINING_FILES*len(class_labels), 8, 8, 1))\n",
    "train_labels = np.array(train_labels, dtype='uint8')\n",
    "test_data = np.array(test_data).reshape((TEST_FILES*len(class_labels), 8, 8, 1))\n",
    "test_lables = np.array(test_labels, dtype='uint8')\n",
    "#train_data.shape\n",
    "\n",
    "from keras.utils import to_categorical\n",
    "\n",
    "train_labels=to_categorical(train_labels)\n",
    "test_labels=to_categorical(test_labels)\n",
    "\n",
    "plt.imshow(train_data[12,:,:,0])\n",
    "train_data[12,:,:,0]"
   ]
  },
  {
   "cell_type": "markdown",
   "metadata": {
    "colab_type": "text",
    "id": "VfUmgxxVk6uM"
   },
   "source": [
    "### CNN model"
   ]
  },
  {
   "cell_type": "code",
   "execution_count": 114,
   "metadata": {
    "colab": {
     "base_uri": "https://localhost:8080/",
     "height": 509
    },
    "colab_type": "code",
    "id": "B2Xg6tGLdMKP",
    "outputId": "ae3daa32-9dbf-4d8b-9a11-7f596dd2e4a6"
   },
   "outputs": [
    {
     "name": "stdout",
     "output_type": "stream",
     "text": [
      "_________________________________________________________________\n",
      "Layer (type)                 Output Shape              Param #   \n",
      "=================================================================\n",
      "conv2d_17 (Conv2D)           (None, 8, 8, 16)          160       \n",
      "_________________________________________________________________\n",
      "max_pooling2d_17 (MaxPooling (None, 4, 4, 16)          0         \n",
      "_________________________________________________________________\n",
      "conv2d_18 (Conv2D)           (None, 4, 4, 32)          4640      \n",
      "_________________________________________________________________\n",
      "max_pooling2d_18 (MaxPooling (None, 2, 2, 32)          0         \n",
      "_________________________________________________________________\n",
      "flatten_9 (Flatten)          (None, 128)               0         \n",
      "_________________________________________________________________\n",
      "dropout_17 (Dropout)         (None, 128)               0         \n",
      "_________________________________________________________________\n",
      "dense_17 (Dense)             (None, 150)               19350     \n",
      "_________________________________________________________________\n",
      "dropout_18 (Dropout)         (None, 150)               0         \n",
      "_________________________________________________________________\n",
      "dense_18 (Dense)             (None, 3)                 453       \n",
      "=================================================================\n",
      "Total params: 24,603\n",
      "Trainable params: 24,603\n",
      "Non-trainable params: 0\n",
      "_________________________________________________________________\n"
     ]
    }
   ],
   "source": [
    "from keras import layers\n",
    "from keras import models\n",
    "\n",
    "model = models.Sequential()\n",
    "\n",
    "model.add(layers.Conv2D(16, (3, 3), padding='same', activation='relu', input_shape=(8, 8, 1)))\n",
    "model.add(layers.MaxPooling2D((2,2)))\n",
    "\n",
    "model.add(layers.Conv2D(32, (3, 3), padding='same', activation='relu'))\n",
    "model.add(layers.MaxPooling2D((2,2)))\n",
    "\n",
    "model.add(layers.Flatten())\n",
    "model.add(layers.Dropout(0.5))\n",
    "model.add(layers.Dense(150, activation='relu'))\n",
    "model.add(layers.Dropout(0.5))\n",
    "model.add(layers.Dense(len(class_labels), activation='softmax'))\n",
    "\n",
    "model.summary()"
   ]
  },
  {
   "cell_type": "code",
   "execution_count": 115,
   "metadata": {
    "colab": {},
    "colab_type": "code",
    "id": "nRr1L_4ogL6i"
   },
   "outputs": [],
   "source": [
    "model.compile(optimizer='rmsprop', loss='categorical_crossentropy', metrics=['accuracy'])"
   ]
  },
  {
   "cell_type": "code",
   "execution_count": 116,
   "metadata": {},
   "outputs": [
    {
     "data": {
      "image/svg+xml": [
       "<svg height=\"702pt\" viewBox=\"0.00 0.00 223.00 702.00\" width=\"223pt\" xmlns=\"http://www.w3.org/2000/svg\" xmlns:xlink=\"http://www.w3.org/1999/xlink\">\n",
       "<g class=\"graph\" id=\"graph0\" transform=\"scale(1 1) rotate(0) translate(4 698)\">\n",
       "<title>G</title>\n",
       "<polygon fill=\"white\" points=\"-4,4 -4,-698 219,-698 219,4 -4,4\" stroke=\"none\"/>\n",
       "<!-- 1675531461464 -->\n",
       "<g class=\"node\" id=\"node1\"><title>1675531461464</title>\n",
       "<polygon fill=\"none\" points=\"40.5,-584.5 40.5,-620.5 174.5,-620.5 174.5,-584.5 40.5,-584.5\" stroke=\"black\"/>\n",
       "<text font-family=\"Times New Roman,serif\" font-size=\"14.00\" text-anchor=\"middle\" x=\"107.5\" y=\"-598.8\">conv2d_17: Conv2D</text>\n",
       "</g>\n",
       "<!-- 1675531163744 -->\n",
       "<g class=\"node\" id=\"node2\"><title>1675531163744</title>\n",
       "<polygon fill=\"none\" points=\"0,-511.5 0,-547.5 215,-547.5 215,-511.5 0,-511.5\" stroke=\"black\"/>\n",
       "<text font-family=\"Times New Roman,serif\" font-size=\"14.00\" text-anchor=\"middle\" x=\"107.5\" y=\"-525.8\">max_pooling2d_17: MaxPooling2D</text>\n",
       "</g>\n",
       "<!-- 1675531461464&#45;&gt;1675531163744 -->\n",
       "<g class=\"edge\" id=\"edge2\"><title>1675531461464-&gt;1675531163744</title>\n",
       "<path d=\"M107.5,-584.313C107.5,-576.289 107.5,-566.547 107.5,-557.569\" fill=\"none\" stroke=\"black\"/>\n",
       "<polygon fill=\"black\" points=\"111,-557.529 107.5,-547.529 104,-557.529 111,-557.529\" stroke=\"black\"/>\n",
       "</g>\n",
       "<!-- 1675531766808 -->\n",
       "<g class=\"node\" id=\"node3\"><title>1675531766808</title>\n",
       "<polygon fill=\"none\" points=\"40.5,-438.5 40.5,-474.5 174.5,-474.5 174.5,-438.5 40.5,-438.5\" stroke=\"black\"/>\n",
       "<text font-family=\"Times New Roman,serif\" font-size=\"14.00\" text-anchor=\"middle\" x=\"107.5\" y=\"-452.8\">conv2d_18: Conv2D</text>\n",
       "</g>\n",
       "<!-- 1675531163744&#45;&gt;1675531766808 -->\n",
       "<g class=\"edge\" id=\"edge3\"><title>1675531163744-&gt;1675531766808</title>\n",
       "<path d=\"M107.5,-511.313C107.5,-503.289 107.5,-493.547 107.5,-484.569\" fill=\"none\" stroke=\"black\"/>\n",
       "<polygon fill=\"black\" points=\"111,-484.529 107.5,-474.529 104,-484.529 111,-484.529\" stroke=\"black\"/>\n",
       "</g>\n",
       "<!-- 1675577989608 -->\n",
       "<g class=\"node\" id=\"node4\"><title>1675577989608</title>\n",
       "<polygon fill=\"none\" points=\"0,-365.5 0,-401.5 215,-401.5 215,-365.5 0,-365.5\" stroke=\"black\"/>\n",
       "<text font-family=\"Times New Roman,serif\" font-size=\"14.00\" text-anchor=\"middle\" x=\"107.5\" y=\"-379.8\">max_pooling2d_18: MaxPooling2D</text>\n",
       "</g>\n",
       "<!-- 1675531766808&#45;&gt;1675577989608 -->\n",
       "<g class=\"edge\" id=\"edge4\"><title>1675531766808-&gt;1675577989608</title>\n",
       "<path d=\"M107.5,-438.313C107.5,-430.289 107.5,-420.547 107.5,-411.569\" fill=\"none\" stroke=\"black\"/>\n",
       "<polygon fill=\"black\" points=\"111,-411.529 107.5,-401.529 104,-411.529 111,-411.529\" stroke=\"black\"/>\n",
       "</g>\n",
       "<!-- 1675531163128 -->\n",
       "<g class=\"node\" id=\"node5\"><title>1675531163128</title>\n",
       "<polygon fill=\"none\" points=\"53,-292.5 53,-328.5 162,-328.5 162,-292.5 53,-292.5\" stroke=\"black\"/>\n",
       "<text font-family=\"Times New Roman,serif\" font-size=\"14.00\" text-anchor=\"middle\" x=\"107.5\" y=\"-306.8\">flatten_9: Flatten</text>\n",
       "</g>\n",
       "<!-- 1675577989608&#45;&gt;1675531163128 -->\n",
       "<g class=\"edge\" id=\"edge5\"><title>1675577989608-&gt;1675531163128</title>\n",
       "<path d=\"M107.5,-365.313C107.5,-357.289 107.5,-347.547 107.5,-338.569\" fill=\"none\" stroke=\"black\"/>\n",
       "<polygon fill=\"black\" points=\"111,-338.529 107.5,-328.529 104,-338.529 111,-338.529\" stroke=\"black\"/>\n",
       "</g>\n",
       "<!-- 1675577990784 -->\n",
       "<g class=\"node\" id=\"node6\"><title>1675577990784</title>\n",
       "<polygon fill=\"none\" points=\"39,-219.5 39,-255.5 176,-255.5 176,-219.5 39,-219.5\" stroke=\"black\"/>\n",
       "<text font-family=\"Times New Roman,serif\" font-size=\"14.00\" text-anchor=\"middle\" x=\"107.5\" y=\"-233.8\">dropout_17: Dropout</text>\n",
       "</g>\n",
       "<!-- 1675531163128&#45;&gt;1675577990784 -->\n",
       "<g class=\"edge\" id=\"edge6\"><title>1675531163128-&gt;1675577990784</title>\n",
       "<path d=\"M107.5,-292.313C107.5,-284.289 107.5,-274.547 107.5,-265.569\" fill=\"none\" stroke=\"black\"/>\n",
       "<polygon fill=\"black\" points=\"111,-265.529 107.5,-255.529 104,-265.529 111,-265.529\" stroke=\"black\"/>\n",
       "</g>\n",
       "<!-- 1675577989104 -->\n",
       "<g class=\"node\" id=\"node7\"><title>1675577989104</title>\n",
       "<polygon fill=\"none\" points=\"52,-146.5 52,-182.5 163,-182.5 163,-146.5 52,-146.5\" stroke=\"black\"/>\n",
       "<text font-family=\"Times New Roman,serif\" font-size=\"14.00\" text-anchor=\"middle\" x=\"107.5\" y=\"-160.8\">dense_17: Dense</text>\n",
       "</g>\n",
       "<!-- 1675577990784&#45;&gt;1675577989104 -->\n",
       "<g class=\"edge\" id=\"edge7\"><title>1675577990784-&gt;1675577989104</title>\n",
       "<path d=\"M107.5,-219.313C107.5,-211.289 107.5,-201.547 107.5,-192.569\" fill=\"none\" stroke=\"black\"/>\n",
       "<polygon fill=\"black\" points=\"111,-192.529 107.5,-182.529 104,-192.529 111,-192.529\" stroke=\"black\"/>\n",
       "</g>\n",
       "<!-- 1675577988488 -->\n",
       "<g class=\"node\" id=\"node8\"><title>1675577988488</title>\n",
       "<polygon fill=\"none\" points=\"39,-73.5 39,-109.5 176,-109.5 176,-73.5 39,-73.5\" stroke=\"black\"/>\n",
       "<text font-family=\"Times New Roman,serif\" font-size=\"14.00\" text-anchor=\"middle\" x=\"107.5\" y=\"-87.8\">dropout_18: Dropout</text>\n",
       "</g>\n",
       "<!-- 1675577989104&#45;&gt;1675577988488 -->\n",
       "<g class=\"edge\" id=\"edge8\"><title>1675577989104-&gt;1675577988488</title>\n",
       "<path d=\"M107.5,-146.313C107.5,-138.289 107.5,-128.547 107.5,-119.569\" fill=\"none\" stroke=\"black\"/>\n",
       "<polygon fill=\"black\" points=\"111,-119.529 107.5,-109.529 104,-119.529 111,-119.529\" stroke=\"black\"/>\n",
       "</g>\n",
       "<!-- 1675578265552 -->\n",
       "<g class=\"node\" id=\"node9\"><title>1675578265552</title>\n",
       "<polygon fill=\"none\" points=\"52,-0.5 52,-36.5 163,-36.5 163,-0.5 52,-0.5\" stroke=\"black\"/>\n",
       "<text font-family=\"Times New Roman,serif\" font-size=\"14.00\" text-anchor=\"middle\" x=\"107.5\" y=\"-14.8\">dense_18: Dense</text>\n",
       "</g>\n",
       "<!-- 1675577988488&#45;&gt;1675578265552 -->\n",
       "<g class=\"edge\" id=\"edge9\"><title>1675577988488-&gt;1675578265552</title>\n",
       "<path d=\"M107.5,-73.3129C107.5,-65.2895 107.5,-55.5475 107.5,-46.5691\" fill=\"none\" stroke=\"black\"/>\n",
       "<polygon fill=\"black\" points=\"111,-46.5288 107.5,-36.5288 104,-46.5289 111,-46.5288\" stroke=\"black\"/>\n",
       "</g>\n",
       "<!-- 1675531162624 -->\n",
       "<g class=\"node\" id=\"node10\"><title>1675531162624</title>\n",
       "<polygon fill=\"none\" points=\"55.5,-657.5 55.5,-693.5 159.5,-693.5 159.5,-657.5 55.5,-657.5\" stroke=\"black\"/>\n",
       "<text font-family=\"Times New Roman,serif\" font-size=\"14.00\" text-anchor=\"middle\" x=\"107.5\" y=\"-671.8\">1675531162624</text>\n",
       "</g>\n",
       "<!-- 1675531162624&#45;&gt;1675531461464 -->\n",
       "<g class=\"edge\" id=\"edge1\"><title>1675531162624-&gt;1675531461464</title>\n",
       "<path d=\"M107.5,-657.313C107.5,-649.289 107.5,-639.547 107.5,-630.569\" fill=\"none\" stroke=\"black\"/>\n",
       "<polygon fill=\"black\" points=\"111,-630.529 107.5,-620.529 104,-630.529 111,-630.529\" stroke=\"black\"/>\n",
       "</g>\n",
       "</g>\n",
       "</svg>"
      ],
      "text/plain": [
       "<IPython.core.display.SVG object>"
      ]
     },
     "execution_count": 116,
     "metadata": {},
     "output_type": "execute_result"
    }
   ],
   "source": [
    "from IPython.display import SVG\n",
    "from keras.utils.vis_utils import model_to_dot\n",
    "\n",
    "SVG(model_to_dot(model).create(prog='dot', format='svg'))"
   ]
  },
  {
   "cell_type": "markdown",
   "metadata": {
    "colab_type": "text",
    "id": "TfypWUJIlFkz"
   },
   "source": [
    "## Training CNN"
   ]
  },
  {
   "cell_type": "code",
   "execution_count": 117,
   "metadata": {
    "colab": {
     "base_uri": "https://localhost:8080/",
     "height": 931
    },
    "colab_type": "code",
    "id": "zsdmu-ggfvr1",
    "outputId": "77a52558-8ecc-4fc5-e0cb-2b86a75df4c6",
    "scrolled": false
   },
   "outputs": [
    {
     "name": "stdout",
     "output_type": "stream",
     "text": [
      "Train on 90 samples, validate on 45 samples\n",
      "Epoch 1/80\n",
      "90/90 [==============================] - 1s 8ms/step - loss: 1.1214 - acc: 0.3444 - val_loss: 1.0606 - val_acc: 0.3333\n",
      "Epoch 2/80\n",
      "90/90 [==============================] - 0s 347us/step - loss: 1.1589 - acc: 0.4222 - val_loss: 1.0258 - val_acc: 0.7333\n",
      "Epoch 3/80\n",
      "90/90 [==============================] - 0s 332us/step - loss: 1.0460 - acc: 0.4556 - val_loss: 0.9914 - val_acc: 0.6667\n",
      "Epoch 4/80\n",
      "90/90 [==============================] - 0s 332us/step - loss: 1.0307 - acc: 0.4556 - val_loss: 0.9572 - val_acc: 0.8444\n",
      "Epoch 5/80\n",
      "90/90 [==============================] - 0s 355us/step - loss: 1.0169 - acc: 0.4667 - val_loss: 0.9364 - val_acc: 0.8222\n",
      "Epoch 6/80\n",
      "90/90 [==============================] - 0s 454us/step - loss: 0.9319 - acc: 0.6333 - val_loss: 0.8913 - val_acc: 0.7778\n",
      "Epoch 7/80\n",
      "90/90 [==============================] - 0s 288us/step - loss: 0.9555 - acc: 0.5222 - val_loss: 0.8701 - val_acc: 0.7333\n",
      "Epoch 8/80\n",
      "90/90 [==============================] - 0s 455us/step - loss: 0.9383 - acc: 0.5667 - val_loss: 0.8215 - val_acc: 0.8444\n",
      "Epoch 9/80\n",
      "90/90 [==============================] - 0s 299us/step - loss: 0.8886 - acc: 0.6444 - val_loss: 0.7795 - val_acc: 0.9111\n",
      "Epoch 10/80\n",
      "90/90 [==============================] - 0s 266us/step - loss: 0.8238 - acc: 0.7556 - val_loss: 0.7275 - val_acc: 0.9333\n",
      "Epoch 11/80\n",
      "90/90 [==============================] - 0s 421us/step - loss: 0.7948 - acc: 0.6556 - val_loss: 0.6946 - val_acc: 0.8889\n",
      "Epoch 12/80\n",
      "90/90 [==============================] - 0s 432us/step - loss: 0.7564 - acc: 0.6444 - val_loss: 0.6592 - val_acc: 0.9333\n",
      "Epoch 13/80\n",
      "90/90 [==============================] - 0s 310us/step - loss: 0.6930 - acc: 0.7222 - val_loss: 0.6345 - val_acc: 0.8222\n",
      "Epoch 14/80\n",
      "90/90 [==============================] - 0s 244us/step - loss: 0.7374 - acc: 0.6556 - val_loss: 0.5908 - val_acc: 0.9111\n",
      "Epoch 15/80\n",
      "90/90 [==============================] - 0s 222us/step - loss: 0.7431 - acc: 0.7444 - val_loss: 0.5573 - val_acc: 0.9111\n",
      "Epoch 16/80\n",
      "90/90 [==============================] - 0s 199us/step - loss: 0.6267 - acc: 0.8111 - val_loss: 0.5277 - val_acc: 0.8889\n",
      "Epoch 17/80\n",
      "90/90 [==============================] - 0s 188us/step - loss: 0.6374 - acc: 0.8333 - val_loss: 0.4895 - val_acc: 0.9333\n",
      "Epoch 18/80\n",
      "90/90 [==============================] - 0s 188us/step - loss: 0.6284 - acc: 0.7778 - val_loss: 0.4560 - val_acc: 0.9333\n",
      "Epoch 19/80\n",
      "90/90 [==============================] - 0s 177us/step - loss: 0.5553 - acc: 0.8000 - val_loss: 0.4478 - val_acc: 0.9333\n",
      "Epoch 20/80\n",
      "90/90 [==============================] - 0s 188us/step - loss: 0.5362 - acc: 0.8222 - val_loss: 0.3984 - val_acc: 0.9111\n",
      "Epoch 21/80\n",
      "90/90 [==============================] - 0s 188us/step - loss: 0.4978 - acc: 0.8333 - val_loss: 0.3732 - val_acc: 0.9111\n",
      "Epoch 22/80\n",
      "90/90 [==============================] - 0s 188us/step - loss: 0.4582 - acc: 0.8444 - val_loss: 0.3599 - val_acc: 0.9111\n",
      "Epoch 23/80\n",
      "90/90 [==============================] - 0s 200us/step - loss: 0.4824 - acc: 0.8222 - val_loss: 0.3113 - val_acc: 0.9556\n",
      "Epoch 24/80\n",
      "90/90 [==============================] - 0s 177us/step - loss: 0.4515 - acc: 0.8333 - val_loss: 0.2917 - val_acc: 1.0000\n",
      "Epoch 25/80\n",
      "90/90 [==============================] - 0s 188us/step - loss: 0.4521 - acc: 0.8667 - val_loss: 0.2785 - val_acc: 0.9778\n",
      "Epoch 26/80\n",
      "90/90 [==============================] - 0s 188us/step - loss: 0.4006 - acc: 0.9000 - val_loss: 0.2652 - val_acc: 0.9778\n",
      "Epoch 27/80\n",
      "90/90 [==============================] - 0s 199us/step - loss: 0.4308 - acc: 0.9000 - val_loss: 0.2408 - val_acc: 0.9556\n",
      "Epoch 28/80\n",
      "90/90 [==============================] - 0s 199us/step - loss: 0.3443 - acc: 0.8889 - val_loss: 0.2121 - val_acc: 1.0000\n",
      "Epoch 29/80\n",
      "90/90 [==============================] - 0s 199us/step - loss: 0.3108 - acc: 0.9111 - val_loss: 0.2033 - val_acc: 1.0000\n",
      "Epoch 30/80\n",
      "90/90 [==============================] - 0s 199us/step - loss: 0.3675 - acc: 0.8778 - val_loss: 0.1907 - val_acc: 1.0000\n",
      "Epoch 31/80\n",
      "90/90 [==============================] - 0s 211us/step - loss: 0.3201 - acc: 0.8889 - val_loss: 0.1894 - val_acc: 1.0000\n",
      "Epoch 32/80\n",
      "90/90 [==============================] - 0s 188us/step - loss: 0.3435 - acc: 0.9111 - val_loss: 0.1884 - val_acc: 1.0000\n",
      "Epoch 33/80\n",
      "90/90 [==============================] - 0s 188us/step - loss: 0.2918 - acc: 0.9111 - val_loss: 0.1536 - val_acc: 1.0000\n",
      "Epoch 34/80\n",
      "90/90 [==============================] - 0s 199us/step - loss: 0.3071 - acc: 0.8889 - val_loss: 0.1422 - val_acc: 1.0000\n",
      "Epoch 35/80\n",
      "90/90 [==============================] - 0s 211us/step - loss: 0.2844 - acc: 0.9222 - val_loss: 0.1530 - val_acc: 1.0000\n",
      "Epoch 36/80\n",
      "90/90 [==============================] - 0s 188us/step - loss: 0.2768 - acc: 0.9222 - val_loss: 0.1460 - val_acc: 1.0000\n",
      "Epoch 37/80\n",
      "90/90 [==============================] - 0s 288us/step - loss: 0.2275 - acc: 0.9333 - val_loss: 0.1152 - val_acc: 1.0000\n",
      "Epoch 38/80\n",
      "90/90 [==============================] - 0s 377us/step - loss: 0.2157 - acc: 0.9333 - val_loss: 0.1106 - val_acc: 1.0000\n",
      "Epoch 39/80\n",
      "90/90 [==============================] - 0s 321us/step - loss: 0.2064 - acc: 0.9444 - val_loss: 0.0983 - val_acc: 1.0000\n",
      "Epoch 40/80\n",
      "90/90 [==============================] - 0s 355us/step - loss: 0.1866 - acc: 0.9778 - val_loss: 0.0959 - val_acc: 1.0000\n",
      "Epoch 41/80\n",
      "90/90 [==============================] - 0s 366us/step - loss: 0.1664 - acc: 0.9889 - val_loss: 0.0859 - val_acc: 1.0000\n",
      "Epoch 42/80\n",
      "90/90 [==============================] - 0s 299us/step - loss: 0.1402 - acc: 0.9889 - val_loss: 0.0796 - val_acc: 1.0000\n",
      "Epoch 43/80\n",
      "90/90 [==============================] - 0s 199us/step - loss: 0.1526 - acc: 0.9556 - val_loss: 0.0691 - val_acc: 1.0000\n",
      "Epoch 44/80\n",
      "90/90 [==============================] - 0s 177us/step - loss: 0.2270 - acc: 0.9667 - val_loss: 0.0781 - val_acc: 1.0000\n",
      "Epoch 45/80\n",
      "90/90 [==============================] - 0s 211us/step - loss: 0.1716 - acc: 0.9556 - val_loss: 0.0691 - val_acc: 1.0000\n",
      "Epoch 46/80\n",
      "90/90 [==============================] - 0s 211us/step - loss: 0.1641 - acc: 0.9444 - val_loss: 0.0752 - val_acc: 0.9778\n",
      "Epoch 47/80\n",
      "90/90 [==============================] - 0s 299us/step - loss: 0.1561 - acc: 0.9667 - val_loss: 0.0739 - val_acc: 1.0000\n",
      "Epoch 48/80\n",
      "90/90 [==============================] - 0s 443us/step - loss: 0.0969 - acc: 1.0000 - val_loss: 0.0530 - val_acc: 1.0000\n",
      "Epoch 49/80\n",
      "90/90 [==============================] - 0s 388us/step - loss: 0.1289 - acc: 0.9778 - val_loss: 0.0662 - val_acc: 1.0000\n",
      "Epoch 50/80\n",
      "90/90 [==============================] - 0s 321us/step - loss: 0.1250 - acc: 0.9667 - val_loss: 0.0586 - val_acc: 1.0000\n",
      "Epoch 51/80\n",
      "90/90 [==============================] - 0s 244us/step - loss: 0.1017 - acc: 0.9889 - val_loss: 0.0565 - val_acc: 1.0000\n",
      "Epoch 52/80\n",
      "90/90 [==============================] - 0s 255us/step - loss: 0.1250 - acc: 0.9556 - val_loss: 0.0526 - val_acc: 1.0000\n",
      "Epoch 53/80\n",
      "90/90 [==============================] - 0s 343us/step - loss: 0.1596 - acc: 0.9556 - val_loss: 0.0585 - val_acc: 1.0000\n",
      "Epoch 54/80\n",
      "90/90 [==============================] - 0s 255us/step - loss: 0.0883 - acc: 0.9667 - val_loss: 0.0487 - val_acc: 1.0000\n",
      "Epoch 55/80\n",
      "90/90 [==============================] - 0s 332us/step - loss: 0.1335 - acc: 0.9778 - val_loss: 0.0465 - val_acc: 1.0000\n",
      "Epoch 56/80\n",
      "90/90 [==============================] - 0s 321us/step - loss: 0.0991 - acc: 0.9667 - val_loss: 0.0469 - val_acc: 1.0000\n",
      "Epoch 57/80\n",
      "90/90 [==============================] - 0s 277us/step - loss: 0.1134 - acc: 0.9667 - val_loss: 0.0369 - val_acc: 1.0000\n",
      "Epoch 58/80\n",
      "90/90 [==============================] - 0s 255us/step - loss: 0.0904 - acc: 0.9778 - val_loss: 0.0498 - val_acc: 1.0000\n",
      "Epoch 59/80\n",
      "90/90 [==============================] - 0s 199us/step - loss: 0.1111 - acc: 0.9556 - val_loss: 0.0340 - val_acc: 1.0000\n",
      "Epoch 60/80\n",
      "90/90 [==============================] - 0s 188us/step - loss: 0.0899 - acc: 0.9778 - val_loss: 0.0310 - val_acc: 1.0000\n",
      "Epoch 61/80\n",
      "90/90 [==============================] - 0s 188us/step - loss: 0.1108 - acc: 0.9667 - val_loss: 0.0337 - val_acc: 1.0000\n",
      "Epoch 62/80\n"
     ]
    },
    {
     "name": "stdout",
     "output_type": "stream",
     "text": [
      "90/90 [==============================] - 0s 188us/step - loss: 0.1054 - acc: 0.9667 - val_loss: 0.0290 - val_acc: 1.0000\n",
      "Epoch 63/80\n",
      "90/90 [==============================] - 0s 188us/step - loss: 0.0797 - acc: 0.9778 - val_loss: 0.0298 - val_acc: 1.0000\n",
      "Epoch 64/80\n",
      "90/90 [==============================] - 0s 177us/step - loss: 0.0464 - acc: 0.9889 - val_loss: 0.0260 - val_acc: 1.0000\n",
      "Epoch 65/80\n",
      "90/90 [==============================] - 0s 188us/step - loss: 0.0939 - acc: 0.9667 - val_loss: 0.0275 - val_acc: 1.0000\n",
      "Epoch 66/80\n",
      "90/90 [==============================] - 0s 177us/step - loss: 0.0442 - acc: 0.9889 - val_loss: 0.0250 - val_acc: 1.0000\n",
      "Epoch 67/80\n",
      "90/90 [==============================] - 0s 177us/step - loss: 0.0552 - acc: 0.9778 - val_loss: 0.0247 - val_acc: 1.0000\n",
      "Epoch 68/80\n",
      "90/90 [==============================] - 0s 177us/step - loss: 0.0603 - acc: 0.9778 - val_loss: 0.0397 - val_acc: 1.0000\n",
      "Epoch 69/80\n",
      "90/90 [==============================] - 0s 188us/step - loss: 0.0543 - acc: 0.9889 - val_loss: 0.0293 - val_acc: 1.0000\n",
      "Epoch 70/80\n",
      "90/90 [==============================] - 0s 188us/step - loss: 0.0843 - acc: 0.9444 - val_loss: 0.0277 - val_acc: 1.0000\n",
      "Epoch 71/80\n",
      "90/90 [==============================] - 0s 188us/step - loss: 0.0340 - acc: 1.0000 - val_loss: 0.0209 - val_acc: 1.0000\n",
      "Epoch 72/80\n",
      "90/90 [==============================] - 0s 188us/step - loss: 0.1134 - acc: 0.9667 - val_loss: 0.0250 - val_acc: 1.0000\n",
      "Epoch 73/80\n",
      "90/90 [==============================] - 0s 188us/step - loss: 0.0811 - acc: 0.9778 - val_loss: 0.0360 - val_acc: 1.0000\n",
      "Epoch 74/80\n",
      "90/90 [==============================] - 0s 177us/step - loss: 0.0595 - acc: 0.9889 - val_loss: 0.0300 - val_acc: 1.0000\n",
      "Epoch 75/80\n",
      "90/90 [==============================] - 0s 188us/step - loss: 0.0408 - acc: 0.9889 - val_loss: 0.0225 - val_acc: 1.0000\n",
      "Epoch 76/80\n",
      "90/90 [==============================] - 0s 188us/step - loss: 0.0427 - acc: 0.9889 - val_loss: 0.0279 - val_acc: 1.0000\n",
      "Epoch 77/80\n",
      "90/90 [==============================] - 0s 211us/step - loss: 0.0574 - acc: 0.9889 - val_loss: 0.0234 - val_acc: 1.0000\n",
      "Epoch 78/80\n",
      "90/90 [==============================] - 0s 199us/step - loss: 0.0314 - acc: 1.0000 - val_loss: 0.0189 - val_acc: 1.0000\n",
      "Epoch 79/80\n",
      "90/90 [==============================] - 0s 188us/step - loss: 0.0532 - acc: 0.9889 - val_loss: 0.0161 - val_acc: 1.0000\n",
      "Epoch 80/80\n",
      "90/90 [==============================] - 0s 199us/step - loss: 0.0223 - acc: 1.0000 - val_loss: 0.0154 - val_acc: 1.0000\n"
     ]
    }
   ],
   "source": [
    "EPOCHS = 80\n",
    "history = model.fit(train_data, train_labels, epochs=EPOCHS, validation_data=(test_data, test_labels))"
   ]
  },
  {
   "cell_type": "code",
   "execution_count": 118,
   "metadata": {},
   "outputs": [
    {
     "name": "stdout",
     "output_type": "stream",
     "text": [
      "dict_keys(['val_loss', 'val_acc', 'loss', 'acc'])\n"
     ]
    },
    {
     "data": {
      "image/png": "[encoded data removed]",
      "text/plain": [
       "<matplotlib.figure.Figure at 0x18622163ba8>"
      ]
     },
     "metadata": {},
     "output_type": "display_data"
    },
    {
     "data": {
      "image/png": "[encoded data removed]",
      "text/plain": [
       "<matplotlib.figure.Figure at 0x1861d792588>"
      ]
     },
     "metadata": {},
     "output_type": "display_data"
    }
   ],
   "source": [
    "print(history.history.keys())\n",
    "\n",
    "# Plot training & validation accuracy values\n",
    "plt.plot(history.history['acc'])\n",
    "plt.plot(history.history['val_acc'])\n",
    "\n",
    "plt.title('Model accuracy')\n",
    "plt.ylabel('Accuracy')\n",
    "plt.xlabel('Epoch')\n",
    "plt.legend(['Train', 'Test'], loc='upper left')\n",
    "plt.show()\n",
    "\n",
    "# Plot training & validation loss values\n",
    "plt.plot(history.history['loss'])\n",
    "plt.plot(history.history['val_loss'])\n",
    "plt.title('Model loss')\n",
    "plt.ylabel('Loss')\n",
    "plt.xlabel('Epoch')\n",
    "plt.legend(['Train', 'Test'], loc='upper left')\n",
    "plt.show()"
   ]
  },
  {
   "cell_type": "markdown",
   "metadata": {},
   "source": [
    "## Save the model"
   ]
  },
  {
   "cell_type": "code",
   "execution_count": 119,
   "metadata": {},
   "outputs": [],
   "source": [
    "import datetime\n",
    "\n",
    "dt = datetime.datetime.today().strftime('%Y%m%d%H%M%S')\n",
    "filename = 'rock_paper_scissors_cnn_{}.h5'.format(dt)\n",
    "model.save(filename)"
   ]
  },
  {
   "cell_type": "markdown",
   "metadata": {},
   "source": [
    "## Load the model"
   ]
  },
  {
   "cell_type": "code",
   "execution_count": 120,
   "metadata": {},
   "outputs": [],
   "source": [
    "del model\n",
    "model = models.load_model(filename)"
   ]
  },
  {
   "cell_type": "markdown",
   "metadata": {
    "colab_type": "text",
    "id": "j6con4C3lKC1"
   },
   "source": [
    "## Confirmation"
   ]
  },
  {
   "cell_type": "code",
   "execution_count": 121,
   "metadata": {
    "colab": {
     "base_uri": "https://localhost:8080/",
     "height": 34
    },
    "colab_type": "code",
    "id": "4oZYLLij69wU",
    "outputId": "b37a4b8a-2c80-411f-d8a9-5df1c6dbfe22"
   },
   "outputs": [
    {
     "data": {
      "text/plain": [
       "(90, 8, 8, 1)"
      ]
     },
     "execution_count": 121,
     "metadata": {},
     "output_type": "execute_result"
    }
   ],
   "source": [
    "import numpy as np\n",
    "import matplotlib.pyplot as plt\n",
    "train_data.shape"
   ]
  },
  {
   "cell_type": "code",
   "execution_count": 122,
   "metadata": {
    "colab": {
     "base_uri": "https://localhost:8080/",
     "height": 193
    },
    "colab_type": "code",
    "id": "zSxXE9FgRBdJ",
    "outputId": "f3a53efe-e99f-4572-f9b4-1bf3c39c77ec"
   },
   "outputs": [],
   "source": [
    "layer_outputs = [layer.output for layer in model.layers]\n",
    "#layer_outputs"
   ]
  },
  {
   "cell_type": "code",
   "execution_count": 123,
   "metadata": {
    "colab": {
     "base_uri": "https://localhost:8080/",
     "height": 34
    },
    "colab_type": "code",
    "id": "dcw7yHKrRkPD",
    "outputId": "a3ed5441-ae48-4635-bf07-ac5060030608"
   },
   "outputs": [],
   "source": [
    "activation_model = models.Model(inputs=model.input, outputs=layer_outputs)\n",
    "activations = activation_model.predict(test_data)\n",
    "#activations[0][0,:,:,0].shape"
   ]
  },
  {
   "cell_type": "code",
   "execution_count": 124,
   "metadata": {},
   "outputs": [
    {
     "data": {
      "text/plain": [
       "['paper', 'rock', 'scissors']"
      ]
     },
     "execution_count": 124,
     "metadata": {},
     "output_type": "execute_result"
    }
   ],
   "source": [
    "class_labels"
   ]
  },
  {
   "cell_type": "code",
   "execution_count": 125,
   "metadata": {
    "colab": {
     "base_uri": "https://localhost:8080/",
     "height": 193
    },
    "colab_type": "code",
    "id": "ccSNAwGKhRn9",
    "outputId": "0ad22e12-713b-4b07-e17b-45d39ff1b80b"
   },
   "outputs": [
    {
     "data": {
      "text/plain": [
       "array([[ 0, 99,  0],\n",
       "       [ 0,  3, 96],\n",
       "       [ 0, 88, 10],\n",
       "       [ 0,  0, 99],\n",
       "       [98,  0,  1],\n",
       "       [ 0, 99,  0],\n",
       "       [ 0,  4, 95],\n",
       "       [ 0, 99,  0],\n",
       "       [ 0,  0, 99],\n",
       "       [87,  0, 12]])"
      ]
     },
     "execution_count": 125,
     "metadata": {},
     "output_type": "execute_result"
    }
   ],
   "source": [
    "(activations[-1][:10]*100).astype(int)"
   ]
  },
  {
   "cell_type": "code",
   "execution_count": 126,
   "metadata": {
    "colab": {
     "base_uri": "https://localhost:8080/",
     "height": 193
    },
    "colab_type": "code",
    "id": "RoE0nxtuiGIN",
    "outputId": "154437a8-ab72-46f4-f42c-3e6464af47d0"
   },
   "outputs": [
    {
     "data": {
      "text/plain": [
       "array([[0, 1, 0],\n",
       "       [0, 0, 1],\n",
       "       [0, 1, 0],\n",
       "       [0, 0, 1],\n",
       "       [1, 0, 0],\n",
       "       [0, 1, 0],\n",
       "       [0, 0, 1],\n",
       "       [0, 1, 0],\n",
       "       [0, 0, 1],\n",
       "       [1, 0, 0]])"
      ]
     },
     "execution_count": 126,
     "metadata": {},
     "output_type": "execute_result"
    }
   ],
   "source": [
    "test_labels[:10].astype(int)"
   ]
  },
  {
   "cell_type": "code",
   "execution_count": 127,
   "metadata": {},
   "outputs": [],
   "source": [
    "def plot_layer(activations, sample, layer):\n",
    "    a = activations[layer].shape\n",
    "    rows = int(a[3]/4)\n",
    "    fig, axarr = plt.subplots(rows, 4, figsize=[20,15])\n",
    "    for i in range(a[3]):\n",
    "        row = int(i/4)\n",
    "        x, y = row, i-4*row\n",
    "        axarr[x, y].imshow(activations[layer][sample, :, :, i])\n",
    "        axarr[x, y].set_xticks([])\n",
    "        axarr[x, y].set_yticks([])"
   ]
  },
  {
   "cell_type": "code",
   "execution_count": 128,
   "metadata": {},
   "outputs": [
    {
     "data": {
      "text/plain": [
       "'paper'"
      ]
     },
     "execution_count": 128,
     "metadata": {},
     "output_type": "execute_result"
    },
    {
     "data": {
      "image/png": "[encoded data removed]",
      "text/plain": [
       "<matplotlib.figure.Figure at 0x186221637f0>"
      ]
     },
     "metadata": {},
     "output_type": "display_data"
    }
   ],
   "source": [
    "image_number = 10\n",
    "\n",
    "plt.imshow(test_data[image_number,:,:,0])\n",
    "class_labels[np.argmax(test_labels[image_number])]"
   ]
  },
  {
   "cell_type": "code",
   "execution_count": 129,
   "metadata": {},
   "outputs": [
    {
     "data": {
      "image/png": "[encoded data removed]",
      "text/plain": [
       "<matplotlib.figure.Figure at 0x18621db1908>"
      ]
     },
     "metadata": {},
     "output_type": "display_data"
    }
   ],
   "source": [
    "plot_layer(activations, image_number, 1)"
   ]
  },
  {
   "cell_type": "code",
   "execution_count": 130,
   "metadata": {},
   "outputs": [
    {
     "data": {
      "image/png": "[encoded data removed]",
      "text/plain": [
       "<matplotlib.figure.Figure at 0x1861d237400>"
      ]
     },
     "metadata": {},
     "output_type": "display_data"
    }
   ],
   "source": [
    "plot_layer(activations, image_number, 2)"
   ]
  },
  {
   "cell_type": "code",
   "execution_count": null,
   "metadata": {},
   "outputs": [],
   "source": []
  }
 ],
 "metadata": {
  "colab": {
   "collapsed_sections": [],
   "name": "CNN for AED",
   "provenance": [],
   "version": "0.3.2"
  },
  "kernelspec": {
   "display_name": "Python 3",
   "language": "python",
   "name": "python3"
  },
  "language_info": {
   "codemirror_mode": {
    "name": "ipython",
    "version": 3
   },
   "file_extension": ".py",
   "mimetype": "text/x-python",
   "name": "python",
   "nbconvert_exporter": "python",
   "pygments_lexer": "ipython3",
   "version": "3.6.4"
  }
 },
 "nbformat": 4,
 "nbformat_minor": 1
}
