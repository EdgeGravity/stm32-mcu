{
 "cells": [
  {
   "cell_type": "markdown",
   "metadata": {
    "colab_type": "text",
    "id": "0X16cagQE-Y-"
   },
   "source": [
    "# CNN for rock-paper-scissors with Keras/TensorFlow (DCT Type-II)\n",
    "\n",
    "Date: January 9, 2019\n",
    "\n",
    "Classification:\n",
    "- rock\n",
    "- paper\n",
    "- scissors"
   ]
  },
  {
   "cell_type": "markdown",
   "metadata": {
    "colab_type": "text",
    "id": "WwQ-dEltkl5Q"
   },
   "source": [
    "## Preparing data set for CNN"
   ]
  },
  {
   "cell_type": "code",
   "execution_count": 348,
   "metadata": {
    "colab": {
     "base_uri": "https://localhost:8080/",
     "height": 34
    },
    "colab_type": "code",
    "id": "VEJyQsGpV3ug",
    "outputId": "3929aa39-3383-4791-e065-3622e6781181"
   },
   "outputs": [],
   "source": [
    "DATA_FOLDER = '../thermography/data/'\n",
    "\n",
    "FILES = 45\n",
    "TRAINING_FILES = 30 \n",
    "TEST_FILES = FILES - TRAINING_FILES"
   ]
  },
  {
   "cell_type": "code",
   "execution_count": 349,
   "metadata": {
    "colab": {},
    "colab_type": "code",
    "id": "JTNdoPBFWGky"
   },
   "outputs": [],
   "source": [
    "%matplotlib inline\n",
    "\n",
    "import matplotlib.pyplot as plt\n",
    "import numpy as np\n",
    "import time\n",
    "import random\n",
    "import os\n",
    "import sklearn.preprocessing as pp\n",
    "from scipy.fftpack import dct, idct"
   ]
  },
  {
   "cell_type": "code",
   "execution_count": 350,
   "metadata": {},
   "outputs": [
    {
     "name": "stdout",
     "output_type": "stream",
     "text": [
      "0: paper\n",
      "1: rock\n",
      "2: scissors\n"
     ]
    }
   ],
   "source": [
    "import glob\n",
    "\n",
    "data_files = glob.glob(DATA_FOLDER+'*.csv')\n",
    "class_labels = []\n",
    "\n",
    "for file in data_files:\n",
    "    label = file.split('-')[0].replace('\\\\', '/').split('/')[-1]\n",
    "    if label not in class_labels:\n",
    "        class_labels.append(label)\n",
    "\n",
    "data_set = {}\n",
    "\n",
    "class_number = 0\n",
    "\n",
    "for label in class_labels:\n",
    "    files = glob.glob(DATA_FOLDER+'{}-*.csv'.format(label))\n",
    "    random.shuffle(files)\n",
    "    data_set[label] = (files[:TRAINING_FILES], files[TRAINING_FILES:FILES], class_number)\n",
    "    class_number += 1\n",
    "\n",
    "training_set = []\n",
    "test_set = []\n",
    "\n",
    "for k, v in data_set.items():\n",
    "    files = v[0]\n",
    "    class_number = v[2]\n",
    "    for file in files:\n",
    "        with open(file) as f:\n",
    "            data = np.array(f.read().split(',')).astype(float)\n",
    "            training_set.append((data, class_number))\n",
    "    files = v[1]\n",
    "    for file in files:\n",
    "        with open(file) as f:\n",
    "            data = np.array(f.read().split(',')).astype(float)\n",
    "            test_set.append((data, class_number))\n",
    "random.shuffle(training_set)\n",
    "random.shuffle(test_set)\n",
    "\n",
    "class_labels = [None for _ in range(len(data_set))]\n",
    "\n",
    "# Class number and class labels\n",
    "for k,v in data_set.items():\n",
    "    print('{}: {}'.format(v[2],k))\n",
    "    class_labels[v[2]] = k\n",
    "    \n",
    "import yaml\n",
    "with open(DATA_FOLDER+'class_labels.yaml', 'w') as f:\n",
    "    yaml.dump(class_labels, f)"
   ]
  },
  {
   "cell_type": "code",
   "execution_count": 351,
   "metadata": {
    "colab": {},
    "colab_type": "code",
    "id": "28tIKkNyW3cO"
   },
   "outputs": [
    {
     "data": {
      "text/plain": [
       "(array([ 0.02113671,  3.85340149, -1.67592492, -1.29185413,  0.13513487,\n",
       "        -0.46931574,  3.0537695 ,  0.83452816, -0.92565225, -0.72062464,\n",
       "         0.0779169 ,  0.22095335, -1.59418904, -1.01484841,  0.05078066,\n",
       "         0.47816897,  0.1135445 ,  0.18851234,  0.41710771,  0.12324441,\n",
       "        -0.14800846,  0.45423572,  0.10677277, -0.24729157, -0.16077523,\n",
       "        -0.54820422, -0.38339936, -0.16285987, -0.01524567,  0.08330213,\n",
       "        -0.10030855, -0.20210472, -0.15906752, -0.18682663, -0.12929434,\n",
       "        -0.07671494]), array([1., 0., 0.], dtype=float32))"
      ]
     },
     "execution_count": 351,
     "metadata": {},
     "output_type": "execute_result"
    },
    {
     "data": {
      "image/png": "[encoded data removed]",
      "text/plain": [
       "<matplotlib.figure.Figure at 0x263a76a92e8>"
      ]
     },
     "metadata": {},
     "output_type": "display_data"
    }
   ],
   "source": [
    "CUTOFF=6\n",
    "train_data, train_labels = [], []\n",
    "test_data, test_labels = [], []\n",
    "for img, label in training_set:\n",
    "    img = img.reshape(8,8)\n",
    "    img = dct(dct(img, norm='ortho').T, norm='ortho').T\n",
    "    img[0,0] = 0\n",
    "    img = img[:CUTOFF,:CUTOFF].flatten()\n",
    "    img = pp.scale(img)    \n",
    "    train_data.append(img)\n",
    "    train_labels.append(label)\n",
    "for img, label in test_set:\n",
    "    img = img.reshape(8,8)\n",
    "    img = dct(dct(img, norm='ortho').T, norm='ortho').T\n",
    "    img[0,0] = 0\n",
    "    img = img[:CUTOFF,:CUTOFF].flatten()\n",
    "    img = pp.scale(img)\n",
    "    test_data.append(img)\n",
    "    test_labels.append(label)\n",
    "train_data = np.array(train_data)\n",
    "train_labels = np.array(train_labels, dtype='uint8')\n",
    "test_data = np.array(test_data)\n",
    "test_lables = np.array(test_labels, dtype='uint8')\n",
    "\n",
    "from keras.utils import to_categorical\n",
    "\n",
    "train_labels=to_categorical(train_labels)\n",
    "test_labels=to_categorical(test_labels)\n",
    "\n",
    "plt.imshow(train_data[12].reshape((CUTOFF,CUTOFF)), cmap='seismic')\n",
    "train_data[12], train_labels[12]"
   ]
  },
  {
   "cell_type": "markdown",
   "metadata": {
    "colab_type": "text",
    "id": "VfUmgxxVk6uM"
   },
   "source": [
    "### CNN model"
   ]
  },
  {
   "cell_type": "code",
   "execution_count": 352,
   "metadata": {
    "colab": {
     "base_uri": "https://localhost:8080/",
     "height": 509
    },
    "colab_type": "code",
    "id": "B2Xg6tGLdMKP",
    "outputId": "ae3daa32-9dbf-4d8b-9a11-7f596dd2e4a6"
   },
   "outputs": [
    {
     "name": "stdout",
     "output_type": "stream",
     "text": [
      "_________________________________________________________________\n",
      "Layer (type)                 Output Shape              Param #   \n",
      "=================================================================\n",
      "dense_126 (Dense)            (None, 54)                1998      \n",
      "_________________________________________________________________\n",
      "dropout_90 (Dropout)         (None, 54)                0         \n",
      "_________________________________________________________________\n",
      "dense_127 (Dense)            (None, 54)                2970      \n",
      "_________________________________________________________________\n",
      "dropout_91 (Dropout)         (None, 54)                0         \n",
      "_________________________________________________________________\n",
      "dense_128 (Dense)            (None, 3)                 165       \n",
      "=================================================================\n",
      "Total params: 5,133\n",
      "Trainable params: 5,133\n",
      "Non-trainable params: 0\n",
      "_________________________________________________________________\n"
     ]
    }
   ],
   "source": [
    "from keras import layers\n",
    "from keras import models\n",
    "\n",
    "model = models.Sequential()\n",
    "\n",
    "model.add(layers.Dense(int(CUTOFF**2*1.5), activation='relu', input_shape=(CUTOFF**2,)))\n",
    "model.add(layers.Dropout(0.5))\n",
    "model.add(layers.Dense(int(CUTOFF**2*1.5), activation='relu'))\n",
    "model.add(layers.Dropout(0.5))\n",
    "model.add(layers.Dense(len(class_labels), activation='softmax'))\n",
    "\n",
    "model.summary()"
   ]
  },
  {
   "cell_type": "code",
   "execution_count": 353,
   "metadata": {
    "colab": {},
    "colab_type": "code",
    "id": "nRr1L_4ogL6i"
   },
   "outputs": [],
   "source": [
    "model.compile(optimizer='rmsprop', loss='categorical_crossentropy', metrics=['accuracy'])"
   ]
  },
  {
   "cell_type": "code",
   "execution_count": 354,
   "metadata": {},
   "outputs": [
    {
     "data": {
      "image/svg+xml": [
       "<svg height=\"410pt\" viewBox=\"0.00 0.00 145.00 410.00\" width=\"145pt\" xmlns=\"http://www.w3.org/2000/svg\" xmlns:xlink=\"http://www.w3.org/1999/xlink\">\n",
       "<g class=\"graph\" id=\"graph0\" transform=\"scale(1 1) rotate(0) translate(4 406)\">\n",
       "<title>G</title>\n",
       "<polygon fill=\"white\" points=\"-4,4 -4,-406 141,-406 141,4 -4,4\" stroke=\"none\"/>\n",
       "<!-- 2627145111312 -->\n",
       "<g class=\"node\" id=\"node1\"><title>2627145111312</title>\n",
       "<polygon fill=\"none\" points=\"9.5,-292.5 9.5,-328.5 127.5,-328.5 127.5,-292.5 9.5,-292.5\" stroke=\"black\"/>\n",
       "<text font-family=\"Times New Roman,serif\" font-size=\"14.00\" text-anchor=\"middle\" x=\"68.5\" y=\"-306.8\">dense_126: Dense</text>\n",
       "</g>\n",
       "<!-- 2627145111032 -->\n",
       "<g class=\"node\" id=\"node2\"><title>2627145111032</title>\n",
       "<polygon fill=\"none\" points=\"0,-219.5 0,-255.5 137,-255.5 137,-219.5 0,-219.5\" stroke=\"black\"/>\n",
       "<text font-family=\"Times New Roman,serif\" font-size=\"14.00\" text-anchor=\"middle\" x=\"68.5\" y=\"-233.8\">dropout_90: Dropout</text>\n",
       "</g>\n",
       "<!-- 2627145111312&#45;&gt;2627145111032 -->\n",
       "<g class=\"edge\" id=\"edge2\"><title>2627145111312-&gt;2627145111032</title>\n",
       "<path d=\"M68.5,-292.313C68.5,-284.289 68.5,-274.547 68.5,-265.569\" fill=\"none\" stroke=\"black\"/>\n",
       "<polygon fill=\"black\" points=\"72.0001,-265.529 68.5,-255.529 65.0001,-265.529 72.0001,-265.529\" stroke=\"black\"/>\n",
       "</g>\n",
       "<!-- 2627145112152 -->\n",
       "<g class=\"node\" id=\"node3\"><title>2627145112152</title>\n",
       "<polygon fill=\"none\" points=\"9.5,-146.5 9.5,-182.5 127.5,-182.5 127.5,-146.5 9.5,-146.5\" stroke=\"black\"/>\n",
       "<text font-family=\"Times New Roman,serif\" font-size=\"14.00\" text-anchor=\"middle\" x=\"68.5\" y=\"-160.8\">dense_127: Dense</text>\n",
       "</g>\n",
       "<!-- 2627145111032&#45;&gt;2627145112152 -->\n",
       "<g class=\"edge\" id=\"edge3\"><title>2627145111032-&gt;2627145112152</title>\n",
       "<path d=\"M68.5,-219.313C68.5,-211.289 68.5,-201.547 68.5,-192.569\" fill=\"none\" stroke=\"black\"/>\n",
       "<polygon fill=\"black\" points=\"72.0001,-192.529 68.5,-182.529 65.0001,-192.529 72.0001,-192.529\" stroke=\"black\"/>\n",
       "</g>\n",
       "<!-- 2627162125312 -->\n",
       "<g class=\"node\" id=\"node4\"><title>2627162125312</title>\n",
       "<polygon fill=\"none\" points=\"0,-73.5 0,-109.5 137,-109.5 137,-73.5 0,-73.5\" stroke=\"black\"/>\n",
       "<text font-family=\"Times New Roman,serif\" font-size=\"14.00\" text-anchor=\"middle\" x=\"68.5\" y=\"-87.8\">dropout_91: Dropout</text>\n",
       "</g>\n",
       "<!-- 2627145112152&#45;&gt;2627162125312 -->\n",
       "<g class=\"edge\" id=\"edge4\"><title>2627145112152-&gt;2627162125312</title>\n",
       "<path d=\"M68.5,-146.313C68.5,-138.289 68.5,-128.547 68.5,-119.569\" fill=\"none\" stroke=\"black\"/>\n",
       "<polygon fill=\"black\" points=\"72.0001,-119.529 68.5,-109.529 65.0001,-119.529 72.0001,-119.529\" stroke=\"black\"/>\n",
       "</g>\n",
       "<!-- 2627230981536 -->\n",
       "<g class=\"node\" id=\"node5\"><title>2627230981536</title>\n",
       "<polygon fill=\"none\" points=\"9.5,-0.5 9.5,-36.5 127.5,-36.5 127.5,-0.5 9.5,-0.5\" stroke=\"black\"/>\n",
       "<text font-family=\"Times New Roman,serif\" font-size=\"14.00\" text-anchor=\"middle\" x=\"68.5\" y=\"-14.8\">dense_128: Dense</text>\n",
       "</g>\n",
       "<!-- 2627162125312&#45;&gt;2627230981536 -->\n",
       "<g class=\"edge\" id=\"edge5\"><title>2627162125312-&gt;2627230981536</title>\n",
       "<path d=\"M68.5,-73.3129C68.5,-65.2895 68.5,-55.5475 68.5,-46.5691\" fill=\"none\" stroke=\"black\"/>\n",
       "<polygon fill=\"black\" points=\"72.0001,-46.5288 68.5,-36.5288 65.0001,-46.5289 72.0001,-46.5288\" stroke=\"black\"/>\n",
       "</g>\n",
       "<!-- 2627145111704 -->\n",
       "<g class=\"node\" id=\"node6\"><title>2627145111704</title>\n",
       "<polygon fill=\"none\" points=\"16.5,-365.5 16.5,-401.5 120.5,-401.5 120.5,-365.5 16.5,-365.5\" stroke=\"black\"/>\n",
       "<text font-family=\"Times New Roman,serif\" font-size=\"14.00\" text-anchor=\"middle\" x=\"68.5\" y=\"-379.8\">2627145111704</text>\n",
       "</g>\n",
       "<!-- 2627145111704&#45;&gt;2627145111312 -->\n",
       "<g class=\"edge\" id=\"edge1\"><title>2627145111704-&gt;2627145111312</title>\n",
       "<path d=\"M68.5,-365.313C68.5,-357.289 68.5,-347.547 68.5,-338.569\" fill=\"none\" stroke=\"black\"/>\n",
       "<polygon fill=\"black\" points=\"72.0001,-338.529 68.5,-328.529 65.0001,-338.529 72.0001,-338.529\" stroke=\"black\"/>\n",
       "</g>\n",
       "</g>\n",
       "</svg>"
      ],
      "text/plain": [
       "<IPython.core.display.SVG object>"
      ]
     },
     "execution_count": 354,
     "metadata": {},
     "output_type": "execute_result"
    }
   ],
   "source": [
    "from IPython.display import SVG\n",
    "from keras.utils.vis_utils import model_to_dot\n",
    "\n",
    "SVG(model_to_dot(model).create(prog='dot', format='svg'))"
   ]
  },
  {
   "cell_type": "markdown",
   "metadata": {
    "colab_type": "text",
    "id": "TfypWUJIlFkz"
   },
   "source": [
    "## Training CNN"
   ]
  },
  {
   "cell_type": "code",
   "execution_count": 355,
   "metadata": {
    "colab": {
     "base_uri": "https://localhost:8080/",
     "height": 931
    },
    "colab_type": "code",
    "id": "zsdmu-ggfvr1",
    "outputId": "77a52558-8ecc-4fc5-e0cb-2b86a75df4c6",
    "scrolled": false
   },
   "outputs": [
    {
     "name": "stdout",
     "output_type": "stream",
     "text": [
      "Train on 90 samples, validate on 45 samples\n",
      "Epoch 1/100\n",
      "90/90 [==============================] - 1s 16ms/step - loss: 1.1254 - acc: 0.4667 - val_loss: 1.0161 - val_acc: 0.4667\n",
      "Epoch 2/100\n",
      "90/90 [==============================] - 0s 141us/step - loss: 1.2442 - acc: 0.4444 - val_loss: 0.9805 - val_acc: 0.5333\n",
      "Epoch 3/100\n",
      "90/90 [==============================] - 0s 166us/step - loss: 1.0744 - acc: 0.4556 - val_loss: 0.9569 - val_acc: 0.6000\n",
      "Epoch 4/100\n",
      "90/90 [==============================] - 0s 166us/step - loss: 1.1186 - acc: 0.4333 - val_loss: 0.9314 - val_acc: 0.6444\n",
      "Epoch 5/100\n",
      "90/90 [==============================] - 0s 155us/step - loss: 1.0934 - acc: 0.4778 - val_loss: 0.9090 - val_acc: 0.6444\n",
      "Epoch 6/100\n",
      "90/90 [==============================] - 0s 188us/step - loss: 0.9958 - acc: 0.4889 - val_loss: 0.8943 - val_acc: 0.6667\n",
      "Epoch 7/100\n",
      "90/90 [==============================] - 0s 233us/step - loss: 1.0458 - acc: 0.5333 - val_loss: 0.8717 - val_acc: 0.7111\n",
      "Epoch 8/100\n",
      "90/90 [==============================] - 0s 177us/step - loss: 1.0221 - acc: 0.5111 - val_loss: 0.8519 - val_acc: 0.7778\n",
      "Epoch 9/100\n",
      "90/90 [==============================] - 0s 177us/step - loss: 1.0441 - acc: 0.5000 - val_loss: 0.8380 - val_acc: 0.8000\n",
      "Epoch 10/100\n",
      "90/90 [==============================] - 0s 166us/step - loss: 1.0239 - acc: 0.5000 - val_loss: 0.8264 - val_acc: 0.7778\n",
      "Epoch 11/100\n",
      "90/90 [==============================] - 0s 166us/step - loss: 0.8836 - acc: 0.5444 - val_loss: 0.8041 - val_acc: 0.8000\n",
      "Epoch 12/100\n",
      "90/90 [==============================] - 0s 199us/step - loss: 0.8810 - acc: 0.5889 - val_loss: 0.7952 - val_acc: 0.8000\n",
      "Epoch 13/100\n",
      "90/90 [==============================] - 0s 166us/step - loss: 0.8921 - acc: 0.5556 - val_loss: 0.7778 - val_acc: 0.8000\n",
      "Epoch 14/100\n",
      "90/90 [==============================] - 0s 177us/step - loss: 0.8759 - acc: 0.5667 - val_loss: 0.7593 - val_acc: 0.8000\n",
      "Epoch 15/100\n",
      "90/90 [==============================] - 0s 155us/step - loss: 0.9135 - acc: 0.5333 - val_loss: 0.7455 - val_acc: 0.7778\n",
      "Epoch 16/100\n",
      "90/90 [==============================] - 0s 166us/step - loss: 0.8853 - acc: 0.6222 - val_loss: 0.7314 - val_acc: 0.7778\n",
      "Epoch 17/100\n",
      "90/90 [==============================] - 0s 199us/step - loss: 0.7995 - acc: 0.6222 - val_loss: 0.7143 - val_acc: 0.7778\n",
      "Epoch 18/100\n",
      "90/90 [==============================] - 0s 166us/step - loss: 0.8033 - acc: 0.6111 - val_loss: 0.6933 - val_acc: 0.8000\n",
      "Epoch 19/100\n",
      "90/90 [==============================] - 0s 155us/step - loss: 0.7667 - acc: 0.7556 - val_loss: 0.6760 - val_acc: 0.8000\n",
      "Epoch 20/100\n",
      "90/90 [==============================] - 0s 133us/step - loss: 0.8105 - acc: 0.6333 - val_loss: 0.6647 - val_acc: 0.8000\n",
      "Epoch 21/100\n",
      "90/90 [==============================] - 0s 122us/step - loss: 0.7398 - acc: 0.6889 - val_loss: 0.6524 - val_acc: 0.8000\n",
      "Epoch 22/100\n",
      "90/90 [==============================] - 0s 188us/step - loss: 0.8276 - acc: 0.6111 - val_loss: 0.6381 - val_acc: 0.8000\n",
      "Epoch 23/100\n",
      "90/90 [==============================] - 0s 155us/step - loss: 0.6939 - acc: 0.7111 - val_loss: 0.6147 - val_acc: 0.8444\n",
      "Epoch 24/100\n",
      "90/90 [==============================] - 0s 155us/step - loss: 0.6670 - acc: 0.7667 - val_loss: 0.5944 - val_acc: 0.8667\n",
      "Epoch 25/100\n",
      "90/90 [==============================] - 0s 155us/step - loss: 0.8100 - acc: 0.6889 - val_loss: 0.5830 - val_acc: 0.8667\n",
      "Epoch 26/100\n",
      "90/90 [==============================] - 0s 100us/step - loss: 0.7188 - acc: 0.7333 - val_loss: 0.5748 - val_acc: 0.8667\n",
      "Epoch 27/100\n",
      "90/90 [==============================] - 0s 111us/step - loss: 0.7020 - acc: 0.7778 - val_loss: 0.5615 - val_acc: 0.8889\n",
      "Epoch 28/100\n",
      "90/90 [==============================] - 0s 111us/step - loss: 0.6091 - acc: 0.7667 - val_loss: 0.5442 - val_acc: 0.8889\n",
      "Epoch 29/100\n",
      "90/90 [==============================] - 0s 111us/step - loss: 0.6165 - acc: 0.7667 - val_loss: 0.5295 - val_acc: 0.8889\n",
      "Epoch 30/100\n",
      "90/90 [==============================] - 0s 111us/step - loss: 0.8647 - acc: 0.6333 - val_loss: 0.5231 - val_acc: 0.8889\n",
      "Epoch 31/100\n",
      "90/90 [==============================] - 0s 100us/step - loss: 0.6555 - acc: 0.7111 - val_loss: 0.5093 - val_acc: 0.8889\n",
      "Epoch 32/100\n",
      "90/90 [==============================] - 0s 122us/step - loss: 0.7085 - acc: 0.6667 - val_loss: 0.4946 - val_acc: 0.8889\n",
      "Epoch 33/100\n",
      "90/90 [==============================] - 0s 100us/step - loss: 0.6410 - acc: 0.7778 - val_loss: 0.4829 - val_acc: 0.8889\n",
      "Epoch 34/100\n",
      "90/90 [==============================] - 0s 100us/step - loss: 0.6357 - acc: 0.7000 - val_loss: 0.4722 - val_acc: 0.8889\n",
      "Epoch 35/100\n",
      "90/90 [==============================] - 0s 111us/step - loss: 0.5827 - acc: 0.7667 - val_loss: 0.4607 - val_acc: 0.8889\n",
      "Epoch 36/100\n",
      "90/90 [==============================] - 0s 111us/step - loss: 0.6149 - acc: 0.7667 - val_loss: 0.4485 - val_acc: 0.8889\n",
      "Epoch 37/100\n",
      "90/90 [==============================] - 0s 111us/step - loss: 0.5876 - acc: 0.8111 - val_loss: 0.4388 - val_acc: 0.8889\n",
      "Epoch 38/100\n",
      "90/90 [==============================] - 0s 111us/step - loss: 0.5643 - acc: 0.7778 - val_loss: 0.4315 - val_acc: 0.9111\n",
      "Epoch 39/100\n",
      "90/90 [==============================] - 0s 100us/step - loss: 0.6424 - acc: 0.7556 - val_loss: 0.4199 - val_acc: 0.8889\n",
      "Epoch 40/100\n",
      "90/90 [==============================] - 0s 122us/step - loss: 0.5951 - acc: 0.7556 - val_loss: 0.4118 - val_acc: 0.8889\n",
      "Epoch 41/100\n",
      "90/90 [==============================] - 0s 111us/step - loss: 0.5610 - acc: 0.7667 - val_loss: 0.4002 - val_acc: 0.8889\n",
      "Epoch 42/100\n",
      "90/90 [==============================] - 0s 111us/step - loss: 0.4540 - acc: 0.8222 - val_loss: 0.3875 - val_acc: 0.8889\n",
      "Epoch 43/100\n",
      "90/90 [==============================] - 0s 122us/step - loss: 0.4906 - acc: 0.8667 - val_loss: 0.3797 - val_acc: 0.9111\n",
      "Epoch 44/100\n",
      "90/90 [==============================] - 0s 111us/step - loss: 0.5560 - acc: 0.8000 - val_loss: 0.3703 - val_acc: 0.8889\n",
      "Epoch 45/100\n",
      "90/90 [==============================] - 0s 122us/step - loss: 0.5675 - acc: 0.8000 - val_loss: 0.3566 - val_acc: 0.8889\n",
      "Epoch 46/100\n",
      "90/90 [==============================] - 0s 188us/step - loss: 0.5095 - acc: 0.7556 - val_loss: 0.3425 - val_acc: 0.8889\n",
      "Epoch 47/100\n",
      "90/90 [==============================] - 0s 122us/step - loss: 0.5389 - acc: 0.7556 - val_loss: 0.3374 - val_acc: 0.9111\n",
      "Epoch 48/100\n",
      "90/90 [==============================] - 0s 111us/step - loss: 0.6452 - acc: 0.7222 - val_loss: 0.3304 - val_acc: 0.9111\n",
      "Epoch 49/100\n",
      "90/90 [==============================] - 0s 111us/step - loss: 0.5561 - acc: 0.7889 - val_loss: 0.3257 - val_acc: 0.9111\n",
      "Epoch 50/100\n",
      "90/90 [==============================] - 0s 122us/step - loss: 0.4335 - acc: 0.8222 - val_loss: 0.3164 - val_acc: 0.9111\n",
      "Epoch 51/100\n",
      "90/90 [==============================] - 0s 111us/step - loss: 0.4919 - acc: 0.8222 - val_loss: 0.3029 - val_acc: 0.9111\n",
      "Epoch 52/100\n",
      "90/90 [==============================] - 0s 111us/step - loss: 0.4805 - acc: 0.8000 - val_loss: 0.2974 - val_acc: 0.9111\n",
      "Epoch 53/100\n",
      "90/90 [==============================] - 0s 188us/step - loss: 0.4431 - acc: 0.8444 - val_loss: 0.2892 - val_acc: 0.9111\n",
      "Epoch 54/100\n",
      "90/90 [==============================] - 0s 144us/step - loss: 0.4539 - acc: 0.8222 - val_loss: 0.2836 - val_acc: 0.9111\n",
      "Epoch 55/100\n",
      "90/90 [==============================] - 0s 122us/step - loss: 0.4080 - acc: 0.8444 - val_loss: 0.2748 - val_acc: 0.9111\n",
      "Epoch 56/100\n",
      "90/90 [==============================] - 0s 111us/step - loss: 0.4256 - acc: 0.8667 - val_loss: 0.2681 - val_acc: 0.9333\n",
      "Epoch 57/100\n",
      "90/90 [==============================] - 0s 199us/step - loss: 0.4659 - acc: 0.8333 - val_loss: 0.2655 - val_acc: 0.9333\n",
      "Epoch 58/100\n",
      "90/90 [==============================] - 0s 111us/step - loss: 0.4223 - acc: 0.8667 - val_loss: 0.2620 - val_acc: 0.9111\n",
      "Epoch 59/100\n",
      "90/90 [==============================] - 0s 133us/step - loss: 0.4238 - acc: 0.8667 - val_loss: 0.2540 - val_acc: 0.9111\n",
      "Epoch 60/100\n",
      "90/90 [==============================] - 0s 122us/step - loss: 0.4571 - acc: 0.8222 - val_loss: 0.2467 - val_acc: 0.9111\n",
      "Epoch 61/100\n",
      "90/90 [==============================] - 0s 199us/step - loss: 0.3847 - acc: 0.8556 - val_loss: 0.2416 - val_acc: 0.9333\n"
     ]
    },
    {
     "name": "stdout",
     "output_type": "stream",
     "text": [
      "Epoch 62/100\n",
      "90/90 [==============================] - 0s 100us/step - loss: 0.3172 - acc: 0.9000 - val_loss: 0.2330 - val_acc: 0.9333\n",
      "Epoch 63/100\n",
      "90/90 [==============================] - 0s 111us/step - loss: 0.3653 - acc: 0.8889 - val_loss: 0.2276 - val_acc: 0.9556\n",
      "Epoch 64/100\n",
      "90/90 [==============================] - 0s 155us/step - loss: 0.3217 - acc: 0.9222 - val_loss: 0.2197 - val_acc: 0.9333\n",
      "Epoch 65/100\n",
      "90/90 [==============================] - 0s 166us/step - loss: 0.3717 - acc: 0.8333 - val_loss: 0.2131 - val_acc: 0.9556\n",
      "Epoch 66/100\n",
      "90/90 [==============================] - 0s 122us/step - loss: 0.3146 - acc: 0.9000 - val_loss: 0.2068 - val_acc: 0.9556\n",
      "Epoch 67/100\n",
      "90/90 [==============================] - 0s 100us/step - loss: 0.3868 - acc: 0.8667 - val_loss: 0.1975 - val_acc: 0.9556\n",
      "Epoch 68/100\n",
      "90/90 [==============================] - 0s 144us/step - loss: 0.2875 - acc: 0.8778 - val_loss: 0.1957 - val_acc: 0.9556\n",
      "Epoch 69/100\n",
      "90/90 [==============================] - 0s 155us/step - loss: 0.3786 - acc: 0.8556 - val_loss: 0.1957 - val_acc: 0.9556\n",
      "Epoch 70/100\n",
      "90/90 [==============================] - 0s 177us/step - loss: 0.3431 - acc: 0.8556 - val_loss: 0.1881 - val_acc: 0.9333\n",
      "Epoch 71/100\n",
      "90/90 [==============================] - 0s 122us/step - loss: 0.3468 - acc: 0.8778 - val_loss: 0.1837 - val_acc: 0.9333\n",
      "Epoch 72/100\n",
      "90/90 [==============================] - 0s 244us/step - loss: 0.3246 - acc: 0.9556 - val_loss: 0.1818 - val_acc: 0.9333\n",
      "Epoch 73/100\n",
      "90/90 [==============================] - 0s 211us/step - loss: 0.3757 - acc: 0.8778 - val_loss: 0.1799 - val_acc: 0.9333\n",
      "Epoch 74/100\n",
      "90/90 [==============================] - 0s 144us/step - loss: 0.3274 - acc: 0.9000 - val_loss: 0.1808 - val_acc: 0.9556\n",
      "Epoch 75/100\n",
      "90/90 [==============================] - 0s 155us/step - loss: 0.2817 - acc: 0.9000 - val_loss: 0.1754 - val_acc: 0.9333\n",
      "Epoch 76/100\n",
      "90/90 [==============================] - 0s 200us/step - loss: 0.3354 - acc: 0.8556 - val_loss: 0.1740 - val_acc: 0.9556\n",
      "Epoch 77/100\n",
      "90/90 [==============================] - 0s 199us/step - loss: 0.3249 - acc: 0.9000 - val_loss: 0.1727 - val_acc: 0.9333\n",
      "Epoch 78/100\n",
      "90/90 [==============================] - 0s 144us/step - loss: 0.3518 - acc: 0.8778 - val_loss: 0.1676 - val_acc: 0.9333\n",
      "Epoch 79/100\n",
      "90/90 [==============================] - 0s 166us/step - loss: 0.2803 - acc: 0.9111 - val_loss: 0.1613 - val_acc: 0.9333\n",
      "Epoch 80/100\n",
      "90/90 [==============================] - 0s 155us/step - loss: 0.2686 - acc: 0.9222 - val_loss: 0.1599 - val_acc: 0.9556\n",
      "Epoch 81/100\n",
      "90/90 [==============================] - 0s 222us/step - loss: 0.3408 - acc: 0.8889 - val_loss: 0.1575 - val_acc: 0.9333\n",
      "Epoch 82/100\n",
      "90/90 [==============================] - 0s 166us/step - loss: 0.2545 - acc: 0.9111 - val_loss: 0.1530 - val_acc: 0.9556\n",
      "Epoch 83/100\n",
      "90/90 [==============================] - 0s 166us/step - loss: 0.3283 - acc: 0.8889 - val_loss: 0.1513 - val_acc: 0.9556\n",
      "Epoch 84/100\n",
      "90/90 [==============================] - 0s 166us/step - loss: 0.2753 - acc: 0.9333 - val_loss: 0.1537 - val_acc: 0.9556\n",
      "Epoch 85/100\n",
      "90/90 [==============================] - 0s 155us/step - loss: 0.3582 - acc: 0.8667 - val_loss: 0.1467 - val_acc: 0.9556\n",
      "Epoch 86/100\n",
      "90/90 [==============================] - 0s 199us/step - loss: 0.3404 - acc: 0.8889 - val_loss: 0.1442 - val_acc: 0.9778\n",
      "Epoch 87/100\n",
      "90/90 [==============================] - 0s 144us/step - loss: 0.2745 - acc: 0.9000 - val_loss: 0.1425 - val_acc: 0.9778\n",
      "Epoch 88/100\n",
      "90/90 [==============================] - 0s 122us/step - loss: 0.3164 - acc: 0.8889 - val_loss: 0.1429 - val_acc: 0.9556\n",
      "Epoch 89/100\n",
      "90/90 [==============================] - 0s 155us/step - loss: 0.2803 - acc: 0.9111 - val_loss: 0.1459 - val_acc: 0.9556\n",
      "Epoch 90/100\n",
      "90/90 [==============================] - 0s 111us/step - loss: 0.2992 - acc: 0.8889 - val_loss: 0.1448 - val_acc: 0.9556\n",
      "Epoch 91/100\n",
      "90/90 [==============================] - 0s 222us/step - loss: 0.2017 - acc: 0.9556 - val_loss: 0.1419 - val_acc: 0.9556\n",
      "Epoch 92/100\n",
      "90/90 [==============================] - 0s 100us/step - loss: 0.2490 - acc: 0.9111 - val_loss: 0.1440 - val_acc: 0.9556\n",
      "Epoch 93/100\n",
      "90/90 [==============================] - 0s 210us/step - loss: 0.2141 - acc: 0.9444 - val_loss: 0.1425 - val_acc: 0.9556\n",
      "Epoch 94/100\n",
      "90/90 [==============================] - 0s 122us/step - loss: 0.2235 - acc: 0.9333 - val_loss: 0.1377 - val_acc: 0.9556\n",
      "Epoch 95/100\n",
      "90/90 [==============================] - 0s 188us/step - loss: 0.2254 - acc: 0.9444 - val_loss: 0.1349 - val_acc: 0.9556\n",
      "Epoch 96/100\n",
      "90/90 [==============================] - 0s 122us/step - loss: 0.2396 - acc: 0.9333 - val_loss: 0.1345 - val_acc: 0.9556\n",
      "Epoch 97/100\n",
      "90/90 [==============================] - 0s 178us/step - loss: 0.2454 - acc: 0.9333 - val_loss: 0.1344 - val_acc: 0.9556\n",
      "Epoch 98/100\n",
      "90/90 [==============================] - 0s 100us/step - loss: 0.1824 - acc: 0.9444 - val_loss: 0.1370 - val_acc: 0.9556\n",
      "Epoch 99/100\n",
      "90/90 [==============================] - 0s 122us/step - loss: 0.2413 - acc: 0.9000 - val_loss: 0.1325 - val_acc: 0.9556\n",
      "Epoch 100/100\n",
      "90/90 [==============================] - 0s 100us/step - loss: 0.2182 - acc: 0.9778 - val_loss: 0.1347 - val_acc: 0.9556\n"
     ]
    }
   ],
   "source": [
    "EPOCHS = 100\n",
    "history = model.fit(train_data, train_labels, epochs=EPOCHS, validation_data=(test_data, test_labels))"
   ]
  },
  {
   "cell_type": "code",
   "execution_count": 356,
   "metadata": {},
   "outputs": [
    {
     "name": "stdout",
     "output_type": "stream",
     "text": [
      "dict_keys(['val_loss', 'val_acc', 'loss', 'acc'])\n"
     ]
    },
    {
     "data": {
      "image/png": "[encoded data removed]",
      "text/plain": [
       "<matplotlib.figure.Figure at 0x263abebb6d8>"
      ]
     },
     "metadata": {},
     "output_type": "display_data"
    },
    {
     "data": {
      "image/png": "[encoded data removed]",
      "text/plain": [
       "<matplotlib.figure.Figure at 0x263ac3a4080>"
      ]
     },
     "metadata": {},
     "output_type": "display_data"
    }
   ],
   "source": [
    "print(history.history.keys())\n",
    "\n",
    "# Plot training & validation accuracy values\n",
    "plt.plot(history.history['acc'])\n",
    "plt.plot(history.history['val_acc'])\n",
    "\n",
    "plt.title('Model accuracy')\n",
    "plt.ylabel('Accuracy')\n",
    "plt.xlabel('Epoch')\n",
    "plt.legend(['Train', 'Test'], loc='upper left')\n",
    "plt.show()\n",
    "\n",
    "# Plot training & validation loss values\n",
    "plt.plot(history.history['loss'])\n",
    "plt.plot(history.history['val_loss'])\n",
    "plt.title('Model loss')\n",
    "plt.ylabel('Loss')\n",
    "plt.xlabel('Epoch')\n",
    "plt.legend(['Train', 'Test'], loc='upper left')\n",
    "plt.show()"
   ]
  },
  {
   "cell_type": "markdown",
   "metadata": {},
   "source": [
    "## Save the model"
   ]
  },
  {
   "cell_type": "code",
   "execution_count": 357,
   "metadata": {},
   "outputs": [],
   "source": [
    "import datetime\n",
    "\n",
    "dt = datetime.datetime.today().strftime('%Y%m%d%H%M%S')\n",
    "filename = 'cnn_for_rock_paper_scissors{}.h5'.format(dt)\n",
    "model.save(filename)"
   ]
  },
  {
   "cell_type": "markdown",
   "metadata": {},
   "source": [
    "## Load the model"
   ]
  },
  {
   "cell_type": "code",
   "execution_count": 358,
   "metadata": {},
   "outputs": [],
   "source": [
    "del model\n",
    "model = models.load_model(filename)"
   ]
  },
  {
   "cell_type": "markdown",
   "metadata": {
    "colab_type": "text",
    "id": "j6con4C3lKC1"
   },
   "source": [
    "## Confirmation"
   ]
  },
  {
   "cell_type": "code",
   "execution_count": 359,
   "metadata": {
    "colab": {
     "base_uri": "https://localhost:8080/",
     "height": 34
    },
    "colab_type": "code",
    "id": "4oZYLLij69wU",
    "outputId": "b37a4b8a-2c80-411f-d8a9-5df1c6dbfe22"
   },
   "outputs": [
    {
     "data": {
      "text/plain": [
       "(90, 36)"
      ]
     },
     "execution_count": 359,
     "metadata": {},
     "output_type": "execute_result"
    }
   ],
   "source": [
    "import numpy as np\n",
    "import matplotlib.pyplot as plt\n",
    "train_data.shape"
   ]
  },
  {
   "cell_type": "code",
   "execution_count": 360,
   "metadata": {
    "colab": {
     "base_uri": "https://localhost:8080/",
     "height": 193
    },
    "colab_type": "code",
    "id": "zSxXE9FgRBdJ",
    "outputId": "f3a53efe-e99f-4572-f9b4-1bf3c39c77ec"
   },
   "outputs": [],
   "source": [
    "layer_outputs = [layer.output for layer in model.layers]\n",
    "#layer_outputs"
   ]
  },
  {
   "cell_type": "code",
   "execution_count": 361,
   "metadata": {
    "colab": {
     "base_uri": "https://localhost:8080/",
     "height": 34
    },
    "colab_type": "code",
    "id": "dcw7yHKrRkPD",
    "outputId": "a3ed5441-ae48-4635-bf07-ac5060030608"
   },
   "outputs": [],
   "source": [
    "activation_model = models.Model(inputs=model.input, outputs=layer_outputs)\n",
    "activations = activation_model.predict(test_data)\n",
    "#activations[0][0,:,:,0].shape"
   ]
  },
  {
   "cell_type": "code",
   "execution_count": 362,
   "metadata": {},
   "outputs": [
    {
     "data": {
      "text/plain": [
       "['paper', 'rock', 'scissors']"
      ]
     },
     "execution_count": 362,
     "metadata": {},
     "output_type": "execute_result"
    }
   ],
   "source": [
    "class_labels"
   ]
  },
  {
   "cell_type": "code",
   "execution_count": 363,
   "metadata": {
    "colab": {
     "base_uri": "https://localhost:8080/",
     "height": 193
    },
    "colab_type": "code",
    "id": "ccSNAwGKhRn9",
    "outputId": "0ad22e12-713b-4b07-e17b-45d39ff1b80b"
   },
   "outputs": [
    {
     "data": {
      "text/plain": [
       "array([[99,  0,  0],\n",
       "       [ 0, 99,  0],\n",
       "       [ 8, 85,  5],\n",
       "       [ 4,  3, 92],\n",
       "       [ 7,  2, 90],\n",
       "       [ 0, 99,  0],\n",
       "       [ 0, 99,  0],\n",
       "       [ 1, 97,  1],\n",
       "       [ 1,  1, 96],\n",
       "       [99,  0,  0]])"
      ]
     },
     "execution_count": 363,
     "metadata": {},
     "output_type": "execute_result"
    }
   ],
   "source": [
    "(activations[-1][:10]*100).astype(int)"
   ]
  },
  {
   "cell_type": "code",
   "execution_count": 364,
   "metadata": {
    "colab": {
     "base_uri": "https://localhost:8080/",
     "height": 193
    },
    "colab_type": "code",
    "id": "RoE0nxtuiGIN",
    "outputId": "154437a8-ab72-46f4-f42c-3e6464af47d0"
   },
   "outputs": [
    {
     "data": {
      "text/plain": [
       "array([[1, 0, 0],\n",
       "       [0, 1, 0],\n",
       "       [0, 1, 0],\n",
       "       [0, 0, 1],\n",
       "       [0, 0, 1],\n",
       "       [0, 1, 0],\n",
       "       [0, 1, 0],\n",
       "       [0, 1, 0],\n",
       "       [0, 0, 1],\n",
       "       [1, 0, 0]])"
      ]
     },
     "execution_count": 364,
     "metadata": {},
     "output_type": "execute_result"
    }
   ],
   "source": [
    "test_labels[:10].astype(int)"
   ]
  },
  {
   "cell_type": "code",
   "execution_count": null,
   "metadata": {},
   "outputs": [],
   "source": []
  }
 ],
 "metadata": {
  "colab": {
   "collapsed_sections": [],
   "name": "CNN for AED",
   "provenance": [],
   "version": "0.3.2"
  },
  "kernelspec": {
   "display_name": "Python 3",
   "language": "python",
   "name": "python3"
  },
  "language_info": {
   "codemirror_mode": {
    "name": "ipython",
    "version": 3
   },
   "file_extension": ".py",
   "mimetype": "text/x-python",
   "name": "python",
   "nbconvert_exporter": "python",
   "pygments_lexer": "ipython3",
   "version": "3.6.4"
  }
 },
 "nbformat": 4,
 "nbformat_minor": 1
}
