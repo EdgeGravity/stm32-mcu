{
 "cells": [
  {
   "cell_type": "markdown",
   "metadata": {
    "colab_type": "text",
    "id": "0X16cagQE-Y-"
   },
   "source": [
    "# Rock-paper-scissors with Keras/TensorFlow (raw data)\n",
    "\n",
    "Date: January 9, 2019\n",
    "\n",
    "Classification:\n",
    "- rock\n",
    "- paper\n",
    "- scissors"
   ]
  },
  {
   "cell_type": "markdown",
   "metadata": {
    "colab_type": "text",
    "id": "WwQ-dEltkl5Q"
   },
   "source": [
    "## Preparing data set for DNN"
   ]
  },
  {
   "cell_type": "code",
   "execution_count": 84,
   "metadata": {
    "colab": {
     "base_uri": "https://localhost:8080/",
     "height": 34
    },
    "colab_type": "code",
    "id": "VEJyQsGpV3ug",
    "outputId": "3929aa39-3383-4791-e065-3622e6781181"
   },
   "outputs": [],
   "source": [
    "DATA_FOLDER = '../thermography/data/'\n",
    "\n",
    "FILES = 45\n",
    "TRAINING_FILES = 30 \n",
    "TEST_FILES = FILES - TRAINING_FILES"
   ]
  },
  {
   "cell_type": "code",
   "execution_count": 85,
   "metadata": {
    "colab": {},
    "colab_type": "code",
    "id": "JTNdoPBFWGky"
   },
   "outputs": [],
   "source": [
    "%matplotlib inline\n",
    "\n",
    "import matplotlib.pyplot as plt\n",
    "import numpy as np\n",
    "import time\n",
    "import random\n",
    "import os\n",
    "import sklearn.preprocessing as pp\n",
    "from scipy.fftpack import dct, idct"
   ]
  },
  {
   "cell_type": "code",
   "execution_count": 86,
   "metadata": {},
   "outputs": [
    {
     "name": "stdout",
     "output_type": "stream",
     "text": [
      "0: paper\n",
      "1: rock\n",
      "2: scissors\n"
     ]
    }
   ],
   "source": [
    "import glob\n",
    "\n",
    "data_files = glob.glob(DATA_FOLDER+'*.csv')\n",
    "class_labels = []\n",
    "\n",
    "for file in data_files:\n",
    "    label = file.split('-')[0].replace('\\\\', '/').split('/')[-1]\n",
    "    if label not in class_labels:\n",
    "        class_labels.append(label)\n",
    "\n",
    "data_set = {}\n",
    "\n",
    "class_number = 0\n",
    "\n",
    "for label in class_labels:\n",
    "    files = glob.glob(DATA_FOLDER+'{}-*.csv'.format(label))\n",
    "    random.shuffle(files)\n",
    "    data_set[label] = (files[:TRAINING_FILES], files[TRAINING_FILES:FILES], class_number)\n",
    "    class_number += 1\n",
    "\n",
    "training_set = []\n",
    "test_set = []\n",
    "\n",
    "for k, v in data_set.items():\n",
    "    files = v[0]\n",
    "    class_number = v[2]\n",
    "    for file in files:\n",
    "        with open(file) as f:\n",
    "            data = np.array(f.read().split(',')).astype(float)\n",
    "            training_set.append((data, class_number))\n",
    "    files = v[1]\n",
    "    for file in files:\n",
    "        with open(file) as f:\n",
    "            data = np.array(f.read().split(',')).astype(float)\n",
    "            test_set.append((data, class_number))\n",
    "random.shuffle(training_set)\n",
    "random.shuffle(test_set)\n",
    "\n",
    "class_labels = [None for _ in range(len(data_set))]\n",
    "\n",
    "# Class number and class labels\n",
    "for k,v in data_set.items():\n",
    "    print('{}: {}'.format(v[2],k))\n",
    "    class_labels[v[2]] = k\n",
    "    \n",
    "import yaml\n",
    "with open(DATA_FOLDER+'class_labels.yaml', 'w') as f:\n",
    "    yaml.dump(class_labels, f)"
   ]
  },
  {
   "cell_type": "code",
   "execution_count": 87,
   "metadata": {
    "colab": {},
    "colab_type": "code",
    "id": "28tIKkNyW3cO"
   },
   "outputs": [
    {
     "data": {
      "text/plain": [
       "(array([-0.37369142, -0.37369142,  0.42162334,  0.76247252,  0.33641104,\n",
       "        -0.71454061, -0.8849652 , -1.08379389, -0.14645863, -0.37369142,\n",
       "         1.38736269,  1.75661597,  0.62045203, -0.71454061, -0.8849652 ,\n",
       "        -1.08379389, -0.43049962, -0.43049962,  1.55778728,  1.84182827,\n",
       "         0.90449301, -0.71454061, -0.99858159, -0.94177339, -0.60092421,\n",
       "        -0.23167093,  1.61459548,  1.75661597,  1.55778728, -0.31688323,\n",
       "        -0.8849652 , -0.94177339, -0.60092421,  0.19439055,  1.67140368,\n",
       "         1.89863647,  1.84182827, -0.03284224, -0.7997529 , -0.8849652 ,\n",
       "        -0.65773241,  0.42162334,  1.84182827,  1.75661597,  1.33055449,\n",
       "        -0.31688323, -0.71454061, -0.99858159, -0.7997529 , -0.08965044,\n",
       "         1.2737463 ,  1.04651351, -0.03284224, -0.71454061, -0.8849652 ,\n",
       "        -1.08379389, -0.8849652 , -0.65773241, -0.65773241, -0.60092421,\n",
       "        -0.65773241, -0.71454061, -0.8849652 , -0.99858159]),\n",
       " array([0., 1., 0.], dtype=float32))"
      ]
     },
     "execution_count": 87,
     "metadata": {},
     "output_type": "execute_result"
    },
    {
     "data": {
      "image/png": "[encoded data removed]",
      "text/plain": [
       "<matplotlib.figure.Figure at 0x25020ba3860>"
      ]
     },
     "metadata": {},
     "output_type": "display_data"
    }
   ],
   "source": [
    "CUTOFF=8\n",
    "train_data, train_labels = [], []\n",
    "test_data, test_labels = [], []\n",
    "for img, label in training_set:\n",
    "    img = img.reshape(8,8)\n",
    "    #img = dct(dct(img, norm='ortho').T, norm='ortho').T\n",
    "    #img[0,0] = 0\n",
    "    img = img[:CUTOFF,:CUTOFF].flatten()\n",
    "    img = pp.scale(img)    \n",
    "    train_data.append(img)\n",
    "    train_labels.append(label)\n",
    "for img, label in test_set:\n",
    "    img = img.reshape(8,8)\n",
    "    #img = dct(dct(img, norm='ortho').T, norm='ortho').T\n",
    "    #img[0,0] = 0\n",
    "    img = img[:CUTOFF,:CUTOFF].flatten()\n",
    "    img = pp.scale(img)\n",
    "    test_data.append(img)\n",
    "    test_labels.append(label)\n",
    "train_data = np.array(train_data)\n",
    "train_labels = np.array(train_labels, dtype='uint8')\n",
    "test_data = np.array(test_data)\n",
    "test_lables = np.array(test_labels, dtype='uint8')\n",
    "\n",
    "from keras.utils import to_categorical\n",
    "\n",
    "train_labels=to_categorical(train_labels)\n",
    "test_labels=to_categorical(test_labels)\n",
    "\n",
    "plt.imshow(train_data[12].reshape((CUTOFF,CUTOFF)))\n",
    "train_data[12], train_labels[12]"
   ]
  },
  {
   "cell_type": "markdown",
   "metadata": {
    "colab_type": "text",
    "id": "VfUmgxxVk6uM"
   },
   "source": [
    "### DNN model"
   ]
  },
  {
   "cell_type": "code",
   "execution_count": 88,
   "metadata": {
    "colab": {
     "base_uri": "https://localhost:8080/",
     "height": 509
    },
    "colab_type": "code",
    "id": "B2Xg6tGLdMKP",
    "outputId": "ae3daa32-9dbf-4d8b-9a11-7f596dd2e4a6"
   },
   "outputs": [
    {
     "name": "stdout",
     "output_type": "stream",
     "text": [
      "_________________________________________________________________\n",
      "Layer (type)                 Output Shape              Param #   \n",
      "=================================================================\n",
      "dense_19 (Dense)             (None, 96)                6240      \n",
      "_________________________________________________________________\n",
      "dropout_13 (Dropout)         (None, 96)                0         \n",
      "_________________________________________________________________\n",
      "dense_20 (Dense)             (None, 96)                9312      \n",
      "_________________________________________________________________\n",
      "dropout_14 (Dropout)         (None, 96)                0         \n",
      "_________________________________________________________________\n",
      "dense_21 (Dense)             (None, 3)                 291       \n",
      "=================================================================\n",
      "Total params: 15,843\n",
      "Trainable params: 15,843\n",
      "Non-trainable params: 0\n",
      "_________________________________________________________________\n"
     ]
    }
   ],
   "source": [
    "from keras import layers\n",
    "from keras import models\n",
    "\n",
    "model = models.Sequential()\n",
    "\n",
    "model.add(layers.Dense(int(CUTOFF**2*1.5), activation='relu', input_shape=(CUTOFF**2,)))\n",
    "model.add(layers.Dropout(0.5))\n",
    "model.add(layers.Dense(int(CUTOFF**2*1.5), activation='relu'))\n",
    "model.add(layers.Dropout(0.5))\n",
    "model.add(layers.Dense(len(class_labels), activation='softmax'))\n",
    "\n",
    "model.summary()"
   ]
  },
  {
   "cell_type": "code",
   "execution_count": 89,
   "metadata": {
    "colab": {},
    "colab_type": "code",
    "id": "nRr1L_4ogL6i"
   },
   "outputs": [],
   "source": [
    "model.compile(optimizer='rmsprop', loss='categorical_crossentropy', metrics=['accuracy'])"
   ]
  },
  {
   "cell_type": "code",
   "execution_count": 90,
   "metadata": {},
   "outputs": [
    {
     "data": {
      "image/svg+xml": [
       "<svg height=\"410pt\" viewBox=\"0.00 0.00 145.00 410.00\" width=\"145pt\" xmlns=\"http://www.w3.org/2000/svg\" xmlns:xlink=\"http://www.w3.org/1999/xlink\">\n",
       "<g class=\"graph\" id=\"graph0\" transform=\"scale(1 1) rotate(0) translate(4 406)\">\n",
       "<title>G</title>\n",
       "<polygon fill=\"white\" points=\"-4,4 -4,-406 141,-406 141,4 -4,4\" stroke=\"none\"/>\n",
       "<!-- 2543169131520 -->\n",
       "<g class=\"node\" id=\"node1\"><title>2543169131520</title>\n",
       "<polygon fill=\"none\" points=\"13,-292.5 13,-328.5 124,-328.5 124,-292.5 13,-292.5\" stroke=\"black\"/>\n",
       "<text font-family=\"Times New Roman,serif\" font-size=\"14.00\" text-anchor=\"middle\" x=\"68.5\" y=\"-306.8\">dense_19: Dense</text>\n",
       "</g>\n",
       "<!-- 2543168784368 -->\n",
       "<g class=\"node\" id=\"node2\"><title>2543168784368</title>\n",
       "<polygon fill=\"none\" points=\"0,-219.5 0,-255.5 137,-255.5 137,-219.5 0,-219.5\" stroke=\"black\"/>\n",
       "<text font-family=\"Times New Roman,serif\" font-size=\"14.00\" text-anchor=\"middle\" x=\"68.5\" y=\"-233.8\">dropout_13: Dropout</text>\n",
       "</g>\n",
       "<!-- 2543169131520&#45;&gt;2543168784368 -->\n",
       "<g class=\"edge\" id=\"edge2\"><title>2543169131520-&gt;2543168784368</title>\n",
       "<path d=\"M68.5,-292.313C68.5,-284.289 68.5,-274.547 68.5,-265.569\" fill=\"none\" stroke=\"black\"/>\n",
       "<polygon fill=\"black\" points=\"72.0001,-265.529 68.5,-255.529 65.0001,-265.529 72.0001,-265.529\" stroke=\"black\"/>\n",
       "</g>\n",
       "<!-- 2543168785488 -->\n",
       "<g class=\"node\" id=\"node3\"><title>2543168785488</title>\n",
       "<polygon fill=\"none\" points=\"13,-146.5 13,-182.5 124,-182.5 124,-146.5 13,-146.5\" stroke=\"black\"/>\n",
       "<text font-family=\"Times New Roman,serif\" font-size=\"14.00\" text-anchor=\"middle\" x=\"68.5\" y=\"-160.8\">dense_20: Dense</text>\n",
       "</g>\n",
       "<!-- 2543168784368&#45;&gt;2543168785488 -->\n",
       "<g class=\"edge\" id=\"edge3\"><title>2543168784368-&gt;2543168785488</title>\n",
       "<path d=\"M68.5,-219.313C68.5,-211.289 68.5,-201.547 68.5,-192.569\" fill=\"none\" stroke=\"black\"/>\n",
       "<polygon fill=\"black\" points=\"72.0001,-192.529 68.5,-182.529 65.0001,-192.529 72.0001,-192.529\" stroke=\"black\"/>\n",
       "</g>\n",
       "<!-- 2543168783528 -->\n",
       "<g class=\"node\" id=\"node4\"><title>2543168783528</title>\n",
       "<polygon fill=\"none\" points=\"0,-73.5 0,-109.5 137,-109.5 137,-73.5 0,-73.5\" stroke=\"black\"/>\n",
       "<text font-family=\"Times New Roman,serif\" font-size=\"14.00\" text-anchor=\"middle\" x=\"68.5\" y=\"-87.8\">dropout_14: Dropout</text>\n",
       "</g>\n",
       "<!-- 2543168785488&#45;&gt;2543168783528 -->\n",
       "<g class=\"edge\" id=\"edge4\"><title>2543168785488-&gt;2543168783528</title>\n",
       "<path d=\"M68.5,-146.313C68.5,-138.289 68.5,-128.547 68.5,-119.569\" fill=\"none\" stroke=\"black\"/>\n",
       "<polygon fill=\"black\" points=\"72.0001,-119.529 68.5,-109.529 65.0001,-119.529 72.0001,-119.529\" stroke=\"black\"/>\n",
       "</g>\n",
       "<!-- 2543126798120 -->\n",
       "<g class=\"node\" id=\"node5\"><title>2543126798120</title>\n",
       "<polygon fill=\"none\" points=\"13,-0.5 13,-36.5 124,-36.5 124,-0.5 13,-0.5\" stroke=\"black\"/>\n",
       "<text font-family=\"Times New Roman,serif\" font-size=\"14.00\" text-anchor=\"middle\" x=\"68.5\" y=\"-14.8\">dense_21: Dense</text>\n",
       "</g>\n",
       "<!-- 2543168783528&#45;&gt;2543126798120 -->\n",
       "<g class=\"edge\" id=\"edge5\"><title>2543168783528-&gt;2543126798120</title>\n",
       "<path d=\"M68.5,-73.3129C68.5,-65.2895 68.5,-55.5475 68.5,-46.5691\" fill=\"none\" stroke=\"black\"/>\n",
       "<polygon fill=\"black\" points=\"72.0001,-46.5288 68.5,-36.5288 65.0001,-46.5289 72.0001,-46.5288\" stroke=\"black\"/>\n",
       "</g>\n",
       "<!-- 2543168782464 -->\n",
       "<g class=\"node\" id=\"node6\"><title>2543168782464</title>\n",
       "<polygon fill=\"none\" points=\"16.5,-365.5 16.5,-401.5 120.5,-401.5 120.5,-365.5 16.5,-365.5\" stroke=\"black\"/>\n",
       "<text font-family=\"Times New Roman,serif\" font-size=\"14.00\" text-anchor=\"middle\" x=\"68.5\" y=\"-379.8\">2543168782464</text>\n",
       "</g>\n",
       "<!-- 2543168782464&#45;&gt;2543169131520 -->\n",
       "<g class=\"edge\" id=\"edge1\"><title>2543168782464-&gt;2543169131520</title>\n",
       "<path d=\"M68.5,-365.313C68.5,-357.289 68.5,-347.547 68.5,-338.569\" fill=\"none\" stroke=\"black\"/>\n",
       "<polygon fill=\"black\" points=\"72.0001,-338.529 68.5,-328.529 65.0001,-338.529 72.0001,-338.529\" stroke=\"black\"/>\n",
       "</g>\n",
       "</g>\n",
       "</svg>"
      ],
      "text/plain": [
       "<IPython.core.display.SVG object>"
      ]
     },
     "execution_count": 90,
     "metadata": {},
     "output_type": "execute_result"
    }
   ],
   "source": [
    "from IPython.display import SVG\n",
    "from keras.utils.vis_utils import model_to_dot\n",
    "\n",
    "SVG(model_to_dot(model).create(prog='dot', format='svg'))"
   ]
  },
  {
   "cell_type": "markdown",
   "metadata": {
    "colab_type": "text",
    "id": "TfypWUJIlFkz"
   },
   "source": [
    "## Training DNN"
   ]
  },
  {
   "cell_type": "code",
   "execution_count": 91,
   "metadata": {
    "colab": {
     "base_uri": "https://localhost:8080/",
     "height": 931
    },
    "colab_type": "code",
    "id": "zsdmu-ggfvr1",
    "outputId": "77a52558-8ecc-4fc5-e0cb-2b86a75df4c6",
    "scrolled": false
   },
   "outputs": [
    {
     "name": "stdout",
     "output_type": "stream",
     "text": [
      "Train on 90 samples, validate on 45 samples\n",
      "Epoch 1/100\n",
      "90/90 [==============================] - 0s 5ms/step - loss: 1.7268 - acc: 0.2778 - val_loss: 1.1372 - val_acc: 0.4444\n",
      "Epoch 2/100\n",
      "90/90 [==============================] - 0s 175us/step - loss: 1.1913 - acc: 0.4333 - val_loss: 0.9864 - val_acc: 0.5333\n",
      "Epoch 3/100\n",
      "90/90 [==============================] - 0s 122us/step - loss: 1.0970 - acc: 0.5222 - val_loss: 0.9457 - val_acc: 0.6000\n",
      "Epoch 4/100\n",
      "90/90 [==============================] - 0s 188us/step - loss: 1.0831 - acc: 0.4444 - val_loss: 0.8997 - val_acc: 0.6000\n",
      "Epoch 5/100\n",
      "90/90 [==============================] - 0s 122us/step - loss: 1.1042 - acc: 0.4222 - val_loss: 0.8691 - val_acc: 0.5778\n",
      "Epoch 6/100\n",
      "90/90 [==============================] - 0s 155us/step - loss: 1.1224 - acc: 0.4333 - val_loss: 0.8363 - val_acc: 0.6889\n",
      "Epoch 7/100\n",
      "90/90 [==============================] - 0s 211us/step - loss: 0.9802 - acc: 0.5000 - val_loss: 0.8051 - val_acc: 0.6667\n",
      "Epoch 8/100\n",
      "90/90 [==============================] - 0s 122us/step - loss: 0.9257 - acc: 0.5556 - val_loss: 0.7903 - val_acc: 0.7556\n",
      "Epoch 9/100\n",
      "90/90 [==============================] - 0s 178us/step - loss: 0.8441 - acc: 0.6222 - val_loss: 0.7547 - val_acc: 0.7556\n",
      "Epoch 10/100\n",
      "90/90 [==============================] - 0s 144us/step - loss: 0.9129 - acc: 0.6111 - val_loss: 0.7285 - val_acc: 0.7778\n",
      "Epoch 11/100\n",
      "90/90 [==============================] - 0s 122us/step - loss: 0.8321 - acc: 0.5889 - val_loss: 0.7082 - val_acc: 0.7778\n",
      "Epoch 12/100\n",
      "90/90 [==============================] - 0s 111us/step - loss: 0.7392 - acc: 0.6667 - val_loss: 0.6946 - val_acc: 0.6889\n",
      "Epoch 13/100\n",
      "90/90 [==============================] - 0s 122us/step - loss: 0.7879 - acc: 0.6667 - val_loss: 0.6697 - val_acc: 0.7333\n",
      "Epoch 14/100\n",
      "90/90 [==============================] - 0s 155us/step - loss: 0.6962 - acc: 0.7000 - val_loss: 0.6351 - val_acc: 0.7556\n",
      "Epoch 15/100\n",
      "90/90 [==============================] - 0s 122us/step - loss: 0.6379 - acc: 0.7222 - val_loss: 0.6019 - val_acc: 0.8222\n",
      "Epoch 16/100\n",
      "90/90 [==============================] - 0s 155us/step - loss: 0.6107 - acc: 0.8000 - val_loss: 0.5786 - val_acc: 0.7778\n",
      "Epoch 17/100\n",
      "90/90 [==============================] - 0s 177us/step - loss: 0.5706 - acc: 0.7444 - val_loss: 0.5568 - val_acc: 0.7778\n",
      "Epoch 18/100\n",
      "90/90 [==============================] - 0s 155us/step - loss: 0.5810 - acc: 0.7667 - val_loss: 0.5367 - val_acc: 0.7778\n",
      "Epoch 19/100\n",
      "90/90 [==============================] - 0s 111us/step - loss: 0.6283 - acc: 0.7556 - val_loss: 0.5138 - val_acc: 0.8222\n",
      "Epoch 20/100\n",
      "90/90 [==============================] - 0s 100us/step - loss: 0.6424 - acc: 0.7778 - val_loss: 0.5011 - val_acc: 0.8000\n",
      "Epoch 21/100\n",
      "90/90 [==============================] - 0s 89us/step - loss: 0.4998 - acc: 0.8000 - val_loss: 0.4670 - val_acc: 0.8444\n",
      "Epoch 22/100\n",
      "90/90 [==============================] - 0s 166us/step - loss: 0.4747 - acc: 0.8444 - val_loss: 0.4729 - val_acc: 0.8000\n",
      "Epoch 23/100\n",
      "90/90 [==============================] - 0s 89us/step - loss: 0.5356 - acc: 0.7889 - val_loss: 0.4653 - val_acc: 0.8222\n",
      "Epoch 24/100\n",
      "90/90 [==============================] - 0s 122us/step - loss: 0.4533 - acc: 0.8222 - val_loss: 0.4387 - val_acc: 0.8667\n",
      "Epoch 25/100\n",
      "90/90 [==============================] - 0s 111us/step - loss: 0.4385 - acc: 0.8222 - val_loss: 0.4085 - val_acc: 0.8889\n",
      "Epoch 26/100\n",
      "90/90 [==============================] - 0s 111us/step - loss: 0.5050 - acc: 0.8222 - val_loss: 0.4242 - val_acc: 0.8444\n",
      "Epoch 27/100\n",
      "90/90 [==============================] - 0s 144us/step - loss: 0.5053 - acc: 0.8000 - val_loss: 0.4196 - val_acc: 0.8222\n",
      "Epoch 28/100\n",
      "90/90 [==============================] - 0s 122us/step - loss: 0.3672 - acc: 0.9222 - val_loss: 0.3815 - val_acc: 0.9111\n",
      "Epoch 29/100\n",
      "90/90 [==============================] - 0s 144us/step - loss: 0.4825 - acc: 0.8111 - val_loss: 0.3623 - val_acc: 0.8889\n",
      "Epoch 30/100\n",
      "90/90 [==============================] - 0s 155us/step - loss: 0.3514 - acc: 0.8889 - val_loss: 0.3597 - val_acc: 0.8667\n",
      "Epoch 31/100\n",
      "90/90 [==============================] - 0s 199us/step - loss: 0.3235 - acc: 0.9000 - val_loss: 0.3493 - val_acc: 0.8889\n",
      "Epoch 32/100\n",
      "90/90 [==============================] - 0s 166us/step - loss: 0.3325 - acc: 0.8889 - val_loss: 0.3684 - val_acc: 0.8667\n",
      "Epoch 33/100\n",
      "90/90 [==============================] - 0s 155us/step - loss: 0.2986 - acc: 0.9333 - val_loss: 0.3330 - val_acc: 0.9111\n",
      "Epoch 34/100\n",
      "90/90 [==============================] - 0s 177us/step - loss: 0.3427 - acc: 0.9000 - val_loss: 0.3079 - val_acc: 0.9111\n",
      "Epoch 35/100\n",
      "90/90 [==============================] - 0s 122us/step - loss: 0.3434 - acc: 0.9000 - val_loss: 0.3001 - val_acc: 0.9111\n",
      "Epoch 36/100\n",
      "90/90 [==============================] - 0s 122us/step - loss: 0.2846 - acc: 0.9222 - val_loss: 0.3137 - val_acc: 0.9111\n",
      "Epoch 37/100\n",
      "90/90 [==============================] - 0s 133us/step - loss: 0.2774 - acc: 0.9000 - val_loss: 0.2856 - val_acc: 0.9111\n",
      "Epoch 38/100\n",
      "90/90 [==============================] - 0s 166us/step - loss: 0.2678 - acc: 0.9000 - val_loss: 0.2900 - val_acc: 0.9111\n",
      "Epoch 39/100\n",
      "90/90 [==============================] - 0s 100us/step - loss: 0.3120 - acc: 0.8889 - val_loss: 0.2799 - val_acc: 0.9111\n",
      "Epoch 40/100\n",
      "90/90 [==============================] - 0s 144us/step - loss: 0.2597 - acc: 0.9111 - val_loss: 0.2756 - val_acc: 0.9111\n",
      "Epoch 41/100\n",
      "90/90 [==============================] - 0s 122us/step - loss: 0.2139 - acc: 0.9222 - val_loss: 0.2698 - val_acc: 0.9111\n",
      "Epoch 42/100\n",
      "90/90 [==============================] - 0s 155us/step - loss: 0.2878 - acc: 0.9222 - val_loss: 0.2370 - val_acc: 0.9111\n",
      "Epoch 43/100\n",
      "90/90 [==============================] - 0s 100us/step - loss: 0.2222 - acc: 0.9556 - val_loss: 0.2680 - val_acc: 0.9111\n",
      "Epoch 44/100\n",
      "90/90 [==============================] - 0s 100us/step - loss: 0.2742 - acc: 0.9000 - val_loss: 0.2650 - val_acc: 0.9111\n",
      "Epoch 45/100\n",
      "90/90 [==============================] - 0s 188us/step - loss: 0.2502 - acc: 0.9000 - val_loss: 0.2691 - val_acc: 0.9111\n",
      "Epoch 46/100\n",
      "90/90 [==============================] - 0s 133us/step - loss: 0.2184 - acc: 0.9222 - val_loss: 0.2883 - val_acc: 0.9111\n",
      "Epoch 47/100\n",
      "90/90 [==============================] - 0s 100us/step - loss: 0.1835 - acc: 0.9444 - val_loss: 0.2464 - val_acc: 0.9111\n",
      "Epoch 48/100\n",
      "90/90 [==============================] - 0s 100us/step - loss: 0.2125 - acc: 0.9556 - val_loss: 0.2654 - val_acc: 0.9111\n",
      "Epoch 49/100\n",
      "90/90 [==============================] - 0s 111us/step - loss: 0.2365 - acc: 0.9444 - val_loss: 0.2539 - val_acc: 0.9111\n",
      "Epoch 50/100\n",
      "90/90 [==============================] - 0s 100us/step - loss: 0.2029 - acc: 0.9333 - val_loss: 0.2398 - val_acc: 0.9111\n",
      "Epoch 51/100\n",
      "90/90 [==============================] - 0s 111us/step - loss: 0.2007 - acc: 0.9667 - val_loss: 0.2245 - val_acc: 0.9111\n",
      "Epoch 52/100\n",
      "90/90 [==============================] - 0s 111us/step - loss: 0.1225 - acc: 0.9778 - val_loss: 0.2447 - val_acc: 0.9111\n",
      "Epoch 53/100\n",
      "90/90 [==============================] - 0s 100us/step - loss: 0.1812 - acc: 0.9667 - val_loss: 0.2524 - val_acc: 0.9111\n",
      "Epoch 54/100\n",
      "90/90 [==============================] - 0s 100us/step - loss: 0.1726 - acc: 0.9333 - val_loss: 0.2242 - val_acc: 0.9111\n",
      "Epoch 55/100\n",
      "90/90 [==============================] - 0s 89us/step - loss: 0.1300 - acc: 0.9778 - val_loss: 0.2605 - val_acc: 0.8889\n",
      "Epoch 56/100\n",
      "90/90 [==============================] - 0s 133us/step - loss: 0.1366 - acc: 0.9778 - val_loss: 0.2505 - val_acc: 0.8889\n",
      "Epoch 57/100\n",
      "90/90 [==============================] - 0s 144us/step - loss: 0.1459 - acc: 0.9333 - val_loss: 0.2688 - val_acc: 0.8889\n",
      "Epoch 58/100\n",
      "90/90 [==============================] - 0s 100us/step - loss: 0.1934 - acc: 0.9333 - val_loss: 0.2626 - val_acc: 0.8889\n",
      "Epoch 59/100\n",
      "90/90 [==============================] - 0s 111us/step - loss: 0.1189 - acc: 0.9667 - val_loss: 0.2510 - val_acc: 0.8889\n",
      "Epoch 60/100\n",
      "90/90 [==============================] - 0s 100us/step - loss: 0.1416 - acc: 0.9556 - val_loss: 0.2708 - val_acc: 0.8889\n",
      "Epoch 61/100\n",
      "90/90 [==============================] - 0s 111us/step - loss: 0.1269 - acc: 0.9778 - val_loss: 0.2461 - val_acc: 0.8889\n"
     ]
    },
    {
     "name": "stdout",
     "output_type": "stream",
     "text": [
      "Epoch 62/100\n",
      "90/90 [==============================] - 0s 122us/step - loss: 0.1182 - acc: 0.9667 - val_loss: 0.2912 - val_acc: 0.8889\n",
      "Epoch 63/100\n",
      "90/90 [==============================] - 0s 89us/step - loss: 0.1785 - acc: 0.9444 - val_loss: 0.3160 - val_acc: 0.8889\n",
      "Epoch 64/100\n",
      "90/90 [==============================] - 0s 89us/step - loss: 0.1444 - acc: 0.9333 - val_loss: 0.2875 - val_acc: 0.8889\n",
      "Epoch 65/100\n",
      "90/90 [==============================] - 0s 111us/step - loss: 0.1480 - acc: 0.9778 - val_loss: 0.2882 - val_acc: 0.8889\n",
      "Epoch 66/100\n",
      "90/90 [==============================] - 0s 100us/step - loss: 0.1189 - acc: 0.9778 - val_loss: 0.2581 - val_acc: 0.8889\n",
      "Epoch 67/100\n",
      "90/90 [==============================] - 0s 100us/step - loss: 0.1206 - acc: 0.9889 - val_loss: 0.2465 - val_acc: 0.8889\n",
      "Epoch 68/100\n",
      "90/90 [==============================] - 0s 100us/step - loss: 0.1358 - acc: 0.9667 - val_loss: 0.2728 - val_acc: 0.8889\n",
      "Epoch 69/100\n",
      "90/90 [==============================] - 0s 89us/step - loss: 0.1073 - acc: 0.9667 - val_loss: 0.2467 - val_acc: 0.8889\n",
      "Epoch 70/100\n",
      "90/90 [==============================] - 0s 111us/step - loss: 0.1054 - acc: 0.9667 - val_loss: 0.2171 - val_acc: 0.9111\n",
      "Epoch 71/100\n",
      "90/90 [==============================] - 0s 144us/step - loss: 0.0879 - acc: 0.9667 - val_loss: 0.2285 - val_acc: 0.9111\n",
      "Epoch 72/100\n",
      "90/90 [==============================] - 0s 100us/step - loss: 0.0950 - acc: 0.9778 - val_loss: 0.3105 - val_acc: 0.8889\n",
      "Epoch 73/100\n",
      "90/90 [==============================] - 0s 122us/step - loss: 0.1174 - acc: 0.9667 - val_loss: 0.2872 - val_acc: 0.8889\n",
      "Epoch 74/100\n",
      "90/90 [==============================] - 0s 122us/step - loss: 0.1220 - acc: 0.9778 - val_loss: 0.2999 - val_acc: 0.8889\n",
      "Epoch 75/100\n",
      "90/90 [==============================] - 0s 144us/step - loss: 0.1177 - acc: 0.9556 - val_loss: 0.3111 - val_acc: 0.8889\n",
      "Epoch 76/100\n",
      "90/90 [==============================] - 0s 144us/step - loss: 0.1032 - acc: 0.9667 - val_loss: 0.2708 - val_acc: 0.8889\n",
      "Epoch 77/100\n",
      "90/90 [==============================] - 0s 111us/step - loss: 0.1393 - acc: 0.9333 - val_loss: 0.2150 - val_acc: 0.9111\n",
      "Epoch 78/100\n",
      "90/90 [==============================] - 0s 122us/step - loss: 0.0856 - acc: 0.9778 - val_loss: 0.2301 - val_acc: 0.9111\n",
      "Epoch 79/100\n",
      "90/90 [==============================] - 0s 111us/step - loss: 0.1024 - acc: 0.9667 - val_loss: 0.2302 - val_acc: 0.9111\n",
      "Epoch 80/100\n",
      "90/90 [==============================] - 0s 89us/step - loss: 0.0349 - acc: 1.0000 - val_loss: 0.2242 - val_acc: 0.9111\n",
      "Epoch 81/100\n",
      "90/90 [==============================] - 0s 89us/step - loss: 0.1236 - acc: 0.9667 - val_loss: 0.2446 - val_acc: 0.8889\n",
      "Epoch 82/100\n",
      "90/90 [==============================] - 0s 89us/step - loss: 0.0926 - acc: 0.9778 - val_loss: 0.2232 - val_acc: 0.8889\n",
      "Epoch 83/100\n",
      "90/90 [==============================] - 0s 100us/step - loss: 0.1183 - acc: 0.9444 - val_loss: 0.2343 - val_acc: 0.9111\n",
      "Epoch 84/100\n",
      "90/90 [==============================] - 0s 89us/step - loss: 0.0429 - acc: 1.0000 - val_loss: 0.2111 - val_acc: 0.9111\n",
      "Epoch 85/100\n",
      "90/90 [==============================] - 0s 100us/step - loss: 0.1251 - acc: 0.9556 - val_loss: 0.2176 - val_acc: 0.9111\n",
      "Epoch 86/100\n",
      "90/90 [==============================] - 0s 89us/step - loss: 0.0995 - acc: 0.9667 - val_loss: 0.2827 - val_acc: 0.8667\n",
      "Epoch 87/100\n",
      "90/90 [==============================] - 0s 89us/step - loss: 0.0930 - acc: 0.9556 - val_loss: 0.2317 - val_acc: 0.9111\n",
      "Epoch 88/100\n",
      "90/90 [==============================] - 0s 100us/step - loss: 0.0433 - acc: 0.9889 - val_loss: 0.2395 - val_acc: 0.9111\n",
      "Epoch 89/100\n",
      "90/90 [==============================] - 0s 100us/step - loss: 0.0537 - acc: 0.9889 - val_loss: 0.2722 - val_acc: 0.8667\n",
      "Epoch 90/100\n",
      "90/90 [==============================] - 0s 89us/step - loss: 0.0739 - acc: 0.9778 - val_loss: 0.3022 - val_acc: 0.8889\n",
      "Epoch 91/100\n",
      "90/90 [==============================] - 0s 100us/step - loss: 0.0867 - acc: 0.9778 - val_loss: 0.3127 - val_acc: 0.8889\n",
      "Epoch 92/100\n",
      "90/90 [==============================] - 0s 100us/step - loss: 0.0194 - acc: 1.0000 - val_loss: 0.2867 - val_acc: 0.8889\n",
      "Epoch 93/100\n",
      "90/90 [==============================] - 0s 100us/step - loss: 0.0194 - acc: 1.0000 - val_loss: 0.2759 - val_acc: 0.9111\n",
      "Epoch 94/100\n",
      "90/90 [==============================] - 0s 100us/step - loss: 0.0446 - acc: 0.9889 - val_loss: 0.2283 - val_acc: 0.9111\n",
      "Epoch 95/100\n",
      "90/90 [==============================] - 0s 89us/step - loss: 0.0629 - acc: 0.9778 - val_loss: 0.2162 - val_acc: 0.9111\n",
      "Epoch 96/100\n",
      "90/90 [==============================] - 0s 111us/step - loss: 0.0773 - acc: 0.9889 - val_loss: 0.2520 - val_acc: 0.9111\n",
      "Epoch 97/100\n",
      "90/90 [==============================] - 0s 100us/step - loss: 0.0817 - acc: 0.9889 - val_loss: 0.2311 - val_acc: 0.9111\n",
      "Epoch 98/100\n",
      "90/90 [==============================] - 0s 89us/step - loss: 0.0519 - acc: 0.9889 - val_loss: 0.2371 - val_acc: 0.9111\n",
      "Epoch 99/100\n",
      "90/90 [==============================] - 0s 89us/step - loss: 0.0484 - acc: 0.9778 - val_loss: 0.2422 - val_acc: 0.9111\n",
      "Epoch 100/100\n",
      "90/90 [==============================] - 0s 100us/step - loss: 0.0355 - acc: 1.0000 - val_loss: 0.2703 - val_acc: 0.8889\n"
     ]
    }
   ],
   "source": [
    "EPOCHS = 100\n",
    "history = model.fit(train_data, train_labels, epochs=EPOCHS, validation_data=(test_data, test_labels))"
   ]
  },
  {
   "cell_type": "code",
   "execution_count": 92,
   "metadata": {},
   "outputs": [
    {
     "name": "stdout",
     "output_type": "stream",
     "text": [
      "dict_keys(['val_loss', 'val_acc', 'loss', 'acc'])\n"
     ]
    },
    {
     "data": {
      "image/png": "[encoded data removed]",
      "text/plain": [
       "<matplotlib.figure.Figure at 0x250212e4860>"
      ]
     },
     "metadata": {},
     "output_type": "display_data"
    },
    {
     "data": {
      "image/png": "[encoded data removed]",
      "text/plain": [
       "<matplotlib.figure.Figure at 0x250212df208>"
      ]
     },
     "metadata": {},
     "output_type": "display_data"
    }
   ],
   "source": [
    "print(history.history.keys())\n",
    "\n",
    "# Plot training & validation accuracy values\n",
    "plt.plot(history.history['acc'])\n",
    "plt.plot(history.history['val_acc'])\n",
    "\n",
    "plt.title('Model accuracy')\n",
    "plt.ylabel('Accuracy')\n",
    "plt.xlabel('Epoch')\n",
    "plt.legend(['Train', 'Test'], loc='upper left')\n",
    "plt.show()\n",
    "\n",
    "# Plot training & validation loss values\n",
    "plt.plot(history.history['loss'])\n",
    "plt.plot(history.history['val_loss'])\n",
    "plt.title('Model loss')\n",
    "plt.ylabel('Loss')\n",
    "plt.xlabel('Epoch')\n",
    "plt.legend(['Train', 'Test'], loc='upper left')\n",
    "plt.show()"
   ]
  },
  {
   "cell_type": "markdown",
   "metadata": {
    "colab_type": "text",
    "id": "j6con4C3lKC1"
   },
   "source": [
    "## Confirmation"
   ]
  },
  {
   "cell_type": "code",
   "execution_count": 93,
   "metadata": {
    "colab": {
     "base_uri": "https://localhost:8080/",
     "height": 34
    },
    "colab_type": "code",
    "id": "4oZYLLij69wU",
    "outputId": "b37a4b8a-2c80-411f-d8a9-5df1c6dbfe22"
   },
   "outputs": [
    {
     "data": {
      "text/plain": [
       "(90, 64)"
      ]
     },
     "execution_count": 93,
     "metadata": {},
     "output_type": "execute_result"
    }
   ],
   "source": [
    "import numpy as np\n",
    "import matplotlib.pyplot as plt\n",
    "train_data.shape"
   ]
  },
  {
   "cell_type": "code",
   "execution_count": 94,
   "metadata": {
    "colab": {
     "base_uri": "https://localhost:8080/",
     "height": 193
    },
    "colab_type": "code",
    "id": "zSxXE9FgRBdJ",
    "outputId": "f3a53efe-e99f-4572-f9b4-1bf3c39c77ec"
   },
   "outputs": [],
   "source": [
    "layer_outputs = [layer.output for layer in model.layers]\n",
    "#layer_outputs"
   ]
  },
  {
   "cell_type": "code",
   "execution_count": 95,
   "metadata": {
    "colab": {
     "base_uri": "https://localhost:8080/",
     "height": 34
    },
    "colab_type": "code",
    "id": "dcw7yHKrRkPD",
    "outputId": "a3ed5441-ae48-4635-bf07-ac5060030608"
   },
   "outputs": [],
   "source": [
    "activation_model = models.Model(inputs=model.input, outputs=layer_outputs)\n",
    "activations = activation_model.predict(test_data)"
   ]
  },
  {
   "cell_type": "code",
   "execution_count": 96,
   "metadata": {},
   "outputs": [
    {
     "data": {
      "text/plain": [
       "['paper', 'rock', 'scissors']"
      ]
     },
     "execution_count": 96,
     "metadata": {},
     "output_type": "execute_result"
    }
   ],
   "source": [
    "class_labels"
   ]
  },
  {
   "cell_type": "code",
   "execution_count": 97,
   "metadata": {
    "colab": {
     "base_uri": "https://localhost:8080/",
     "height": 193
    },
    "colab_type": "code",
    "id": "ccSNAwGKhRn9",
    "outputId": "0ad22e12-713b-4b07-e17b-45d39ff1b80b"
   },
   "outputs": [
    {
     "data": {
      "text/plain": [
       "array([[ 0,  0, 99],\n",
       "       [ 0, 87, 12],\n",
       "       [ 0,  0, 99],\n",
       "       [ 0, 99,  0],\n",
       "       [ 0, 99,  0],\n",
       "       [ 0, 99,  0],\n",
       "       [ 0,  0, 99],\n",
       "       [ 0,  3, 96],\n",
       "       [ 4,  1, 93],\n",
       "       [ 0,  0, 99]])"
      ]
     },
     "execution_count": 97,
     "metadata": {},
     "output_type": "execute_result"
    }
   ],
   "source": [
    "(activations[-1][:10]*100).astype(int)"
   ]
  },
  {
   "cell_type": "code",
   "execution_count": 98,
   "metadata": {
    "colab": {
     "base_uri": "https://localhost:8080/",
     "height": 193
    },
    "colab_type": "code",
    "id": "RoE0nxtuiGIN",
    "outputId": "154437a8-ab72-46f4-f42c-3e6464af47d0"
   },
   "outputs": [
    {
     "data": {
      "text/plain": [
       "array([[0, 0, 1],\n",
       "       [0, 0, 1],\n",
       "       [0, 0, 1],\n",
       "       [0, 1, 0],\n",
       "       [0, 1, 0],\n",
       "       [0, 1, 0],\n",
       "       [0, 0, 1],\n",
       "       [0, 0, 1],\n",
       "       [1, 0, 0],\n",
       "       [0, 0, 1]])"
      ]
     },
     "execution_count": 98,
     "metadata": {},
     "output_type": "execute_result"
    }
   ],
   "source": [
    "test_labels[:10].astype(int)"
   ]
  },
  {
   "cell_type": "code",
   "execution_count": null,
   "metadata": {},
   "outputs": [],
   "source": []
  }
 ],
 "metadata": {
  "colab": {
   "collapsed_sections": [],
   "name": "CNN for AED",
   "provenance": [],
   "version": "0.3.2"
  },
  "kernelspec": {
   "display_name": "Python 3",
   "language": "python",
   "name": "python3"
  },
  "language_info": {
   "codemirror_mode": {
    "name": "ipython",
    "version": 3
   },
   "file_extension": ".py",
   "mimetype": "text/x-python",
   "name": "python",
   "nbconvert_exporter": "python",
   "pygments_lexer": "ipython3",
   "version": "3.6.4"
  }
 },
 "nbformat": 4,
 "nbformat_minor": 1
}
