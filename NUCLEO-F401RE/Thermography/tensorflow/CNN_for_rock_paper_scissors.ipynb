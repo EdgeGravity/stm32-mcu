{
 "cells": [
  {
   "cell_type": "markdown",
   "metadata": {
    "colab_type": "text",
    "id": "0X16cagQE-Y-"
   },
   "source": [
    "# CNN for rock-paper-scissors with Keras/TensorFlow\n",
    "\n",
    "Date: December 6, 2018\n",
    "\n",
    "Classification:\n",
    "- rock\n",
    "- paper\n",
    "- scissors"
   ]
  },
  {
   "cell_type": "markdown",
   "metadata": {
    "colab_type": "text",
    "id": "WwQ-dEltkl5Q"
   },
   "source": [
    "## Preparing data set for CNN"
   ]
  },
  {
   "cell_type": "code",
   "execution_count": 1,
   "metadata": {
    "colab": {
     "base_uri": "https://localhost:8080/",
     "height": 34
    },
    "colab_type": "code",
    "id": "VEJyQsGpV3ug",
    "outputId": "3929aa39-3383-4791-e065-3622e6781181"
   },
   "outputs": [],
   "source": [
    "DATA_FOLDER = '../thermography/data/'\n",
    "\n",
    "FILES = 56\n",
    "TRAINING_FILES = 40\n",
    "TEST_FILES = FILES - TRAINING_FILES"
   ]
  },
  {
   "cell_type": "code",
   "execution_count": 2,
   "metadata": {
    "colab": {},
    "colab_type": "code",
    "id": "JTNdoPBFWGky"
   },
   "outputs": [],
   "source": [
    "%matplotlib inline\n",
    "\n",
    "import matplotlib.pyplot as plt\n",
    "import numpy as np\n",
    "import time\n",
    "import random\n",
    "import os\n",
    "import sklearn.preprocessing as pp"
   ]
  },
  {
   "cell_type": "code",
   "execution_count": 3,
   "metadata": {},
   "outputs": [
    {
     "name": "stdout",
     "output_type": "stream",
     "text": [
      "0: paper\n",
      "1: rock\n",
      "2: scissors\n"
     ]
    }
   ],
   "source": [
    "import glob\n",
    "\n",
    "data_files = glob.glob(DATA_FOLDER+'*.csv')\n",
    "class_labels = []\n",
    "\n",
    "for file in data_files:\n",
    "    label = file.split('-')[0].replace('\\\\', '/').split('/')[-1]\n",
    "    if label not in class_labels:\n",
    "        class_labels.append(label)\n",
    "\n",
    "data_set = {}\n",
    "\n",
    "class_number = 0\n",
    "\n",
    "for label in class_labels:\n",
    "    files = glob.glob(DATA_FOLDER+'{}-*.csv'.format(label))\n",
    "    random.shuffle(files)\n",
    "    data_set[label] = (files[:TRAINING_FILES], files[TRAINING_FILES:FILES], class_number)\n",
    "    class_number += 1\n",
    "\n",
    "training_set = []\n",
    "test_set = []\n",
    "\n",
    "for k, v in data_set.items():\n",
    "    files = v[0]\n",
    "    class_number = v[2]\n",
    "    for file in files:\n",
    "        with open(file) as f:\n",
    "            data = np.array(f.read().split(',')).astype(float)\n",
    "            training_set.append((pp.scale(data), class_number))\n",
    "    files = v[1]\n",
    "    for file in files:\n",
    "        with open(file) as f:\n",
    "            data = np.array(f.read().split(',')).astype(float)\n",
    "            test_set.append((pp.scale(data), class_number))\n",
    "\n",
    "random.shuffle(training_set)\n",
    "random.shuffle(test_set)\n",
    "\n",
    "class_labels = [None for _ in range(len(data_set))]\n",
    "\n",
    "# Class number and class labels\n",
    "for k,v in data_set.items():\n",
    "    print('{}: {}'.format(v[2],k))\n",
    "    class_labels[v[2]] = k\n",
    "    \n",
    "import yaml\n",
    "with open(DATA_FOLDER+'class_labels.yaml', 'w') as f:\n",
    "    yaml.dump(class_labels, f)"
   ]
  },
  {
   "cell_type": "code",
   "execution_count": 5,
   "metadata": {
    "colab": {},
    "colab_type": "code",
    "id": "28tIKkNyW3cO"
   },
   "outputs": [
    {
     "data": {
      "text/plain": [
       "<matplotlib.image.AxesImage at 0x11060576710>"
      ]
     },
     "execution_count": 5,
     "metadata": {},
     "output_type": "execute_result"
    },
    {
     "data": {
      "image/png": "[encoded data removed]",
      "text/plain": [
       "<matplotlib.figure.Figure at 0x11060531f60>"
      ]
     },
     "metadata": {},
     "output_type": "display_data"
    }
   ],
   "source": [
    "train_data, train_labels = [], []\n",
    "test_data, test_labels = [], []\n",
    "for img, label in training_set:\n",
    "    train_data.append(img)\n",
    "    train_labels.append(label)\n",
    "for img, label in test_set:\n",
    "    test_data.append(img)\n",
    "    test_labels.append(label)\n",
    "train_data = np.array(train_data, dtype=np.float32).reshape((TRAINING_FILES*len(class_labels), 32, 32, 1))\n",
    "train_labels = np.array(train_labels, dtype='uint8')\n",
    "test_data = np.array(test_data, dtype=np.float32).reshape((TEST_FILES*len(class_labels), 32, 32, 1))\n",
    "test_lables = np.array(test_labels, dtype='uint8')\n",
    "#train_data.shape\n",
    "\n",
    "from keras.utils import to_categorical\n",
    "\n",
    "train_labels=to_categorical(train_labels)\n",
    "test_labels=to_categorical(test_labels)\n",
    "\n",
    "plt.imshow(train_data[12,:,:,0])"
   ]
  },
  {
   "cell_type": "markdown",
   "metadata": {
    "colab_type": "text",
    "id": "VfUmgxxVk6uM"
   },
   "source": [
    "### CNN model"
   ]
  },
  {
   "cell_type": "code",
   "execution_count": 6,
   "metadata": {
    "colab": {
     "base_uri": "https://localhost:8080/",
     "height": 509
    },
    "colab_type": "code",
    "id": "B2Xg6tGLdMKP",
    "outputId": "ae3daa32-9dbf-4d8b-9a11-7f596dd2e4a6"
   },
   "outputs": [
    {
     "name": "stdout",
     "output_type": "stream",
     "text": [
      "_________________________________________________________________\n",
      "Layer (type)                 Output Shape              Param #   \n",
      "=================================================================\n",
      "conv2d_1 (Conv2D)            (None, 30, 30, 16)        160       \n",
      "_________________________________________________________________\n",
      "max_pooling2d_1 (MaxPooling2 (None, 15, 15, 16)        0         \n",
      "_________________________________________________________________\n",
      "conv2d_2 (Conv2D)            (None, 13, 13, 32)        4640      \n",
      "_________________________________________________________________\n",
      "max_pooling2d_2 (MaxPooling2 (None, 6, 6, 32)          0         \n",
      "_________________________________________________________________\n",
      "flatten_1 (Flatten)          (None, 1152)              0         \n",
      "_________________________________________________________________\n",
      "dropout_1 (Dropout)          (None, 1152)              0         \n",
      "_________________________________________________________________\n",
      "dense_1 (Dense)              (None, 3)                 3459      \n",
      "=================================================================\n",
      "Total params: 8,259\n",
      "Trainable params: 8,259\n",
      "Non-trainable params: 0\n",
      "_________________________________________________________________\n"
     ]
    }
   ],
   "source": [
    "from keras import layers\n",
    "from keras import models\n",
    "\n",
    "model = models.Sequential()\n",
    "\n",
    "model.add(layers.Conv2D(16, (3, 3), activation='relu', input_shape=(32, 32, 1)))\n",
    "model.add(layers.MaxPooling2D((2,2)))\n",
    "\n",
    "model.add(layers.Conv2D(32, (3, 3), activation='relu'))\n",
    "model.add(layers.MaxPooling2D((2,2)))\n",
    "\n",
    "model.add(layers.Flatten())\n",
    "model.add(layers.Dropout(0.5))\n",
    "model.add(layers.Dense(len(class_labels), activation='softmax'))\n",
    "\n",
    "model.summary()"
   ]
  },
  {
   "cell_type": "code",
   "execution_count": 7,
   "metadata": {
    "colab": {},
    "colab_type": "code",
    "id": "nRr1L_4ogL6i"
   },
   "outputs": [],
   "source": [
    "model.compile(optimizer='rmsprop', loss='categorical_crossentropy', metrics=['accuracy'])"
   ]
  },
  {
   "cell_type": "code",
   "execution_count": 8,
   "metadata": {},
   "outputs": [
    {
     "data": {
      "image/svg+xml": [
       "<svg height=\"556pt\" viewBox=\"0.00 0.00 217.00 556.00\" width=\"217pt\" xmlns=\"http://www.w3.org/2000/svg\" xmlns:xlink=\"http://www.w3.org/1999/xlink\">\n",
       "<g class=\"graph\" id=\"graph0\" transform=\"scale(1 1) rotate(0) translate(4 552)\">\n",
       "<title>G</title>\n",
       "<polygon fill=\"white\" points=\"-4,4 -4,-552 213,-552 213,4 -4,4\" stroke=\"none\"/>\n",
       "<!-- 1169847162640 -->\n",
       "<g class=\"node\" id=\"node1\"><title>1169847162640</title>\n",
       "<polygon fill=\"none\" points=\"41,-438.5 41,-474.5 168,-474.5 168,-438.5 41,-438.5\" stroke=\"black\"/>\n",
       "<text font-family=\"Times New Roman,serif\" font-size=\"14.00\" text-anchor=\"middle\" x=\"104.5\" y=\"-452.8\">conv2d_1: Conv2D</text>\n",
       "</g>\n",
       "<!-- 1169847163480 -->\n",
       "<g class=\"node\" id=\"node2\"><title>1169847163480</title>\n",
       "<polygon fill=\"none\" points=\"0,-365.5 0,-401.5 209,-401.5 209,-365.5 0,-365.5\" stroke=\"black\"/>\n",
       "<text font-family=\"Times New Roman,serif\" font-size=\"14.00\" text-anchor=\"middle\" x=\"104.5\" y=\"-379.8\">max_pooling2d_1: MaxPooling2D</text>\n",
       "</g>\n",
       "<!-- 1169847162640&#45;&gt;1169847163480 -->\n",
       "<g class=\"edge\" id=\"edge2\"><title>1169847162640-&gt;1169847163480</title>\n",
       "<path d=\"M104.5,-438.313C104.5,-430.289 104.5,-420.547 104.5,-411.569\" fill=\"none\" stroke=\"black\"/>\n",
       "<polygon fill=\"black\" points=\"108,-411.529 104.5,-401.529 101,-411.529 108,-411.529\" stroke=\"black\"/>\n",
       "</g>\n",
       "<!-- 1169847337480 -->\n",
       "<g class=\"node\" id=\"node3\"><title>1169847337480</title>\n",
       "<polygon fill=\"none\" points=\"41,-292.5 41,-328.5 168,-328.5 168,-292.5 41,-292.5\" stroke=\"black\"/>\n",
       "<text font-family=\"Times New Roman,serif\" font-size=\"14.00\" text-anchor=\"middle\" x=\"104.5\" y=\"-306.8\">conv2d_2: Conv2D</text>\n",
       "</g>\n",
       "<!-- 1169847163480&#45;&gt;1169847337480 -->\n",
       "<g class=\"edge\" id=\"edge3\"><title>1169847163480-&gt;1169847337480</title>\n",
       "<path d=\"M104.5,-365.313C104.5,-357.289 104.5,-347.547 104.5,-338.569\" fill=\"none\" stroke=\"black\"/>\n",
       "<polygon fill=\"black\" points=\"108,-338.529 104.5,-328.529 101,-338.529 108,-338.529\" stroke=\"black\"/>\n",
       "</g>\n",
       "<!-- 1169846898528 -->\n",
       "<g class=\"node\" id=\"node4\"><title>1169846898528</title>\n",
       "<polygon fill=\"none\" points=\"0,-219.5 0,-255.5 209,-255.5 209,-219.5 0,-219.5\" stroke=\"black\"/>\n",
       "<text font-family=\"Times New Roman,serif\" font-size=\"14.00\" text-anchor=\"middle\" x=\"104.5\" y=\"-233.8\">max_pooling2d_2: MaxPooling2D</text>\n",
       "</g>\n",
       "<!-- 1169847337480&#45;&gt;1169846898528 -->\n",
       "<g class=\"edge\" id=\"edge4\"><title>1169847337480-&gt;1169846898528</title>\n",
       "<path d=\"M104.5,-292.313C104.5,-284.289 104.5,-274.547 104.5,-265.569\" fill=\"none\" stroke=\"black\"/>\n",
       "<polygon fill=\"black\" points=\"108,-265.529 104.5,-255.529 101,-265.529 108,-265.529\" stroke=\"black\"/>\n",
       "</g>\n",
       "<!-- 1169847162416 -->\n",
       "<g class=\"node\" id=\"node5\"><title>1169847162416</title>\n",
       "<polygon fill=\"none\" points=\"50,-146.5 50,-182.5 159,-182.5 159,-146.5 50,-146.5\" stroke=\"black\"/>\n",
       "<text font-family=\"Times New Roman,serif\" font-size=\"14.00\" text-anchor=\"middle\" x=\"104.5\" y=\"-160.8\">flatten_1: Flatten</text>\n",
       "</g>\n",
       "<!-- 1169846898528&#45;&gt;1169847162416 -->\n",
       "<g class=\"edge\" id=\"edge5\"><title>1169846898528-&gt;1169847162416</title>\n",
       "<path d=\"M104.5,-219.313C104.5,-211.289 104.5,-201.547 104.5,-192.569\" fill=\"none\" stroke=\"black\"/>\n",
       "<polygon fill=\"black\" points=\"108,-192.529 104.5,-182.529 101,-192.529 108,-192.529\" stroke=\"black\"/>\n",
       "</g>\n",
       "<!-- 1169846897632 -->\n",
       "<g class=\"node\" id=\"node6\"><title>1169846897632</title>\n",
       "<polygon fill=\"none\" points=\"39.5,-73.5 39.5,-109.5 169.5,-109.5 169.5,-73.5 39.5,-73.5\" stroke=\"black\"/>\n",
       "<text font-family=\"Times New Roman,serif\" font-size=\"14.00\" text-anchor=\"middle\" x=\"104.5\" y=\"-87.8\">dropout_1: Dropout</text>\n",
       "</g>\n",
       "<!-- 1169847162416&#45;&gt;1169846897632 -->\n",
       "<g class=\"edge\" id=\"edge6\"><title>1169847162416-&gt;1169846897632</title>\n",
       "<path d=\"M104.5,-146.313C104.5,-138.289 104.5,-128.547 104.5,-119.569\" fill=\"none\" stroke=\"black\"/>\n",
       "<polygon fill=\"black\" points=\"108,-119.529 104.5,-109.529 101,-119.529 108,-119.529\" stroke=\"black\"/>\n",
       "</g>\n",
       "<!-- 1169847535208 -->\n",
       "<g class=\"node\" id=\"node7\"><title>1169847535208</title>\n",
       "<polygon fill=\"none\" points=\"52.5,-0.5 52.5,-36.5 156.5,-36.5 156.5,-0.5 52.5,-0.5\" stroke=\"black\"/>\n",
       "<text font-family=\"Times New Roman,serif\" font-size=\"14.00\" text-anchor=\"middle\" x=\"104.5\" y=\"-14.8\">dense_1: Dense</text>\n",
       "</g>\n",
       "<!-- 1169846897632&#45;&gt;1169847535208 -->\n",
       "<g class=\"edge\" id=\"edge7\"><title>1169846897632-&gt;1169847535208</title>\n",
       "<path d=\"M104.5,-73.3129C104.5,-65.2895 104.5,-55.5475 104.5,-46.5691\" fill=\"none\" stroke=\"black\"/>\n",
       "<polygon fill=\"black\" points=\"108,-46.5288 104.5,-36.5288 101,-46.5289 108,-46.5288\" stroke=\"black\"/>\n",
       "</g>\n",
       "<!-- 1169847163424 -->\n",
       "<g class=\"node\" id=\"node8\"><title>1169847163424</title>\n",
       "<polygon fill=\"none\" points=\"52.5,-511.5 52.5,-547.5 156.5,-547.5 156.5,-511.5 52.5,-511.5\" stroke=\"black\"/>\n",
       "<text font-family=\"Times New Roman,serif\" font-size=\"14.00\" text-anchor=\"middle\" x=\"104.5\" y=\"-525.8\">1169847163424</text>\n",
       "</g>\n",
       "<!-- 1169847163424&#45;&gt;1169847162640 -->\n",
       "<g class=\"edge\" id=\"edge1\"><title>1169847163424-&gt;1169847162640</title>\n",
       "<path d=\"M104.5,-511.313C104.5,-503.289 104.5,-493.547 104.5,-484.569\" fill=\"none\" stroke=\"black\"/>\n",
       "<polygon fill=\"black\" points=\"108,-484.529 104.5,-474.529 101,-484.529 108,-484.529\" stroke=\"black\"/>\n",
       "</g>\n",
       "</g>\n",
       "</svg>"
      ],
      "text/plain": [
       "<IPython.core.display.SVG object>"
      ]
     },
     "execution_count": 8,
     "metadata": {},
     "output_type": "execute_result"
    }
   ],
   "source": [
    "from IPython.display import SVG\n",
    "from keras.utils.vis_utils import model_to_dot\n",
    "\n",
    "SVG(model_to_dot(model).create(prog='dot', format='svg'))"
   ]
  },
  {
   "cell_type": "markdown",
   "metadata": {
    "colab_type": "text",
    "id": "TfypWUJIlFkz"
   },
   "source": [
    "## Training CNN"
   ]
  },
  {
   "cell_type": "code",
   "execution_count": 9,
   "metadata": {
    "colab": {
     "base_uri": "https://localhost:8080/",
     "height": 931
    },
    "colab_type": "code",
    "id": "zsdmu-ggfvr1",
    "outputId": "77a52558-8ecc-4fc5-e0cb-2b86a75df4c6"
   },
   "outputs": [
    {
     "name": "stdout",
     "output_type": "stream",
     "text": [
      "Train on 120 samples, validate on 48 samples\n",
      "Epoch 1/100\n",
      "120/120 [==============================] - 4s 32ms/step - loss: 1.1241 - acc: 0.2833 - val_loss: 1.0500 - val_acc: 0.6042\n",
      "Epoch 2/100\n",
      "120/120 [==============================] - 2s 16ms/step - loss: 1.0307 - acc: 0.4833 - val_loss: 1.0248 - val_acc: 0.3542\n",
      "Epoch 3/100\n",
      "120/120 [==============================] - 2s 14ms/step - loss: 1.0255 - acc: 0.5167 - val_loss: 0.9768 - val_acc: 0.7292\n",
      "Epoch 4/100\n",
      "120/120 [==============================] - 2s 17ms/step - loss: 0.9851 - acc: 0.5083 - val_loss: 0.9418 - val_acc: 0.7500\n",
      "Epoch 5/100\n",
      "120/120 [==============================] - 2s 15ms/step - loss: 0.9274 - acc: 0.6167 - val_loss: 0.9082 - val_acc: 0.7083\n",
      "Epoch 6/100\n",
      "120/120 [==============================] - 2s 16ms/step - loss: 0.9172 - acc: 0.6167 - val_loss: 0.8728 - val_acc: 0.7500\n",
      "Epoch 7/100\n",
      "120/120 [==============================] - 2s 14ms/step - loss: 0.8697 - acc: 0.5917 - val_loss: 0.8530 - val_acc: 0.7292\n",
      "Epoch 8/100\n",
      "120/120 [==============================] - 2s 15ms/step - loss: 0.8742 - acc: 0.6250 - val_loss: 0.8533 - val_acc: 0.7083\n",
      "Epoch 9/100\n",
      "120/120 [==============================] - 2s 14ms/step - loss: 0.8415 - acc: 0.6250 - val_loss: 0.8316 - val_acc: 0.7083\n",
      "Epoch 10/100\n",
      "120/120 [==============================] - 2s 16ms/step - loss: 0.8121 - acc: 0.6583 - val_loss: 0.7874 - val_acc: 0.7500\n",
      "Epoch 11/100\n",
      "120/120 [==============================] - 2s 17ms/step - loss: 0.7649 - acc: 0.6917 - val_loss: 0.7710 - val_acc: 0.7917\n",
      "Epoch 12/100\n",
      "120/120 [==============================] - 2s 17ms/step - loss: 0.7275 - acc: 0.7333 - val_loss: 0.8163 - val_acc: 0.6458\n",
      "Epoch 13/100\n",
      "120/120 [==============================] - 2s 14ms/step - loss: 0.7562 - acc: 0.6667 - val_loss: 0.7285 - val_acc: 0.8125\n",
      "Epoch 14/100\n",
      "120/120 [==============================] - 2s 15ms/step - loss: 0.7139 - acc: 0.6667 - val_loss: 0.7286 - val_acc: 0.7708\n",
      "Epoch 15/100\n",
      "120/120 [==============================] - 2s 14ms/step - loss: 0.6693 - acc: 0.7583 - val_loss: 0.7454 - val_acc: 0.7500\n",
      "Epoch 16/100\n",
      "120/120 [==============================] - 2s 14ms/step - loss: 0.7192 - acc: 0.7083 - val_loss: 0.7008 - val_acc: 0.7708\n",
      "Epoch 17/100\n",
      "120/120 [==============================] - 2s 16ms/step - loss: 0.7077 - acc: 0.7417 - val_loss: 0.6640 - val_acc: 0.7917\n",
      "Epoch 18/100\n",
      "120/120 [==============================] - 2s 17ms/step - loss: 0.6728 - acc: 0.7583 - val_loss: 0.6523 - val_acc: 0.8125\n",
      "Epoch 19/100\n",
      "120/120 [==============================] - 2s 17ms/step - loss: 0.6444 - acc: 0.7667 - val_loss: 0.6794 - val_acc: 0.7917\n",
      "Epoch 20/100\n",
      "120/120 [==============================] - 2s 15ms/step - loss: 0.6429 - acc: 0.7833 - val_loss: 0.6542 - val_acc: 0.7917\n",
      "Epoch 21/100\n",
      "120/120 [==============================] - 2s 15ms/step - loss: 0.6146 - acc: 0.7833 - val_loss: 0.6408 - val_acc: 0.8125\n",
      "Epoch 22/100\n",
      "120/120 [==============================] - 2s 18ms/step - loss: 0.6345 - acc: 0.7583 - val_loss: 0.6347 - val_acc: 0.8125\n",
      "Epoch 23/100\n",
      "120/120 [==============================] - 2s 17ms/step - loss: 0.6006 - acc: 0.7667 - val_loss: 0.6123 - val_acc: 0.7917\n",
      "Epoch 24/100\n",
      "120/120 [==============================] - 2s 17ms/step - loss: 0.5867 - acc: 0.7750 - val_loss: 0.6124 - val_acc: 0.8125\n",
      "Epoch 25/100\n",
      "120/120 [==============================] - 2s 15ms/step - loss: 0.5758 - acc: 0.7667 - val_loss: 0.5974 - val_acc: 0.8125\n",
      "Epoch 26/100\n",
      "120/120 [==============================] - 2s 14ms/step - loss: 0.6439 - acc: 0.7250 - val_loss: 0.5778 - val_acc: 0.8125\n",
      "Epoch 27/100\n",
      "120/120 [==============================] - 2s 14ms/step - loss: 0.5187 - acc: 0.7500 - val_loss: 0.5668 - val_acc: 0.8333\n",
      "Epoch 28/100\n",
      "120/120 [==============================] - 2s 16ms/step - loss: 0.5006 - acc: 0.8167 - val_loss: 0.5525 - val_acc: 0.8333\n",
      "Epoch 29/100\n",
      "120/120 [==============================] - 2s 15ms/step - loss: 0.4952 - acc: 0.8583 - val_loss: 0.5509 - val_acc: 0.7917\n",
      "Epoch 30/100\n",
      "120/120 [==============================] - 2s 17ms/step - loss: 0.4637 - acc: 0.8250 - val_loss: 0.5247 - val_acc: 0.8333\n",
      "Epoch 31/100\n",
      "120/120 [==============================] - 2s 15ms/step - loss: 0.6604 - acc: 0.6833 - val_loss: 0.5350 - val_acc: 0.8125\n",
      "Epoch 32/100\n",
      "120/120 [==============================] - 2s 15ms/step - loss: 0.5258 - acc: 0.7667 - val_loss: 0.5202 - val_acc: 0.8333\n",
      "Epoch 33/100\n",
      "120/120 [==============================] - 2s 15ms/step - loss: 0.4840 - acc: 0.8500 - val_loss: 0.5040 - val_acc: 0.8333\n",
      "Epoch 34/100\n",
      "120/120 [==============================] - 2s 16ms/step - loss: 0.4703 - acc: 0.8167 - val_loss: 0.5618 - val_acc: 0.8333\n",
      "Epoch 35/100\n",
      "120/120 [==============================] - 2s 17ms/step - loss: 0.4372 - acc: 0.8500 - val_loss: 0.5003 - val_acc: 0.8333\n",
      "Epoch 36/100\n",
      "120/120 [==============================] - 2s 16ms/step - loss: 0.5068 - acc: 0.8083 - val_loss: 0.4797 - val_acc: 0.8333\n",
      "Epoch 37/100\n",
      "120/120 [==============================] - 2s 13ms/step - loss: 0.3893 - acc: 0.8583 - val_loss: 0.4970 - val_acc: 0.8333\n",
      "Epoch 38/100\n",
      "120/120 [==============================] - 2s 16ms/step - loss: 0.4964 - acc: 0.7917 - val_loss: 0.5162 - val_acc: 0.7708\n",
      "Epoch 39/100\n",
      "120/120 [==============================] - 2s 16ms/step - loss: 0.4168 - acc: 0.8500 - val_loss: 0.4875 - val_acc: 0.8333\n",
      "Epoch 40/100\n",
      "120/120 [==============================] - 2s 15ms/step - loss: 0.4513 - acc: 0.8417 - val_loss: 0.4718 - val_acc: 0.8333\n",
      "Epoch 41/100\n",
      "120/120 [==============================] - 2s 15ms/step - loss: 0.4349 - acc: 0.8083 - val_loss: 0.4457 - val_acc: 0.8333\n",
      "Epoch 42/100\n",
      "120/120 [==============================] - 2s 14ms/step - loss: 0.4456 - acc: 0.8167 - val_loss: 0.4493 - val_acc: 0.8333\n",
      "Epoch 43/100\n",
      "120/120 [==============================] - 2s 15ms/step - loss: 0.4500 - acc: 0.8333 - val_loss: 0.4427 - val_acc: 0.8542\n",
      "Epoch 44/100\n",
      "120/120 [==============================] - 2s 15ms/step - loss: 0.3405 - acc: 0.8917 - val_loss: 0.4585 - val_acc: 0.8333\n",
      "Epoch 45/100\n",
      "120/120 [==============================] - 2s 14ms/step - loss: 0.3788 - acc: 0.8833 - val_loss: 0.5551 - val_acc: 0.8542\n",
      "Epoch 46/100\n",
      "120/120 [==============================] - 2s 14ms/step - loss: 0.4601 - acc: 0.8250 - val_loss: 0.4567 - val_acc: 0.8333\n",
      "Epoch 47/100\n",
      "120/120 [==============================] - 2s 16ms/step - loss: 0.3795 - acc: 0.8583 - val_loss: 0.5392 - val_acc: 0.8542\n",
      "Epoch 48/100\n",
      "120/120 [==============================] - 2s 16ms/step - loss: 0.4259 - acc: 0.7917 - val_loss: 0.4663 - val_acc: 0.8333\n",
      "Epoch 49/100\n",
      "120/120 [==============================] - 2s 16ms/step - loss: 0.3883 - acc: 0.8333 - val_loss: 0.4193 - val_acc: 0.8333\n",
      "Epoch 50/100\n",
      "120/120 [==============================] - 2s 15ms/step - loss: 0.3580 - acc: 0.8500 - val_loss: 0.3978 - val_acc: 0.8542\n",
      "Epoch 51/100\n",
      "120/120 [==============================] - 2s 16ms/step - loss: 0.3501 - acc: 0.8750 - val_loss: 0.4728 - val_acc: 0.8542\n",
      "Epoch 52/100\n",
      "120/120 [==============================] - 2s 15ms/step - loss: 0.3640 - acc: 0.8917 - val_loss: 0.4850 - val_acc: 0.8542\n",
      "Epoch 53/100\n",
      "120/120 [==============================] - 2s 16ms/step - loss: 0.4613 - acc: 0.8250 - val_loss: 0.4246 - val_acc: 0.8333\n",
      "Epoch 54/100\n",
      "120/120 [==============================] - 2s 15ms/step - loss: 0.3447 - acc: 0.8833 - val_loss: 0.3721 - val_acc: 0.8750\n",
      "Epoch 55/100\n",
      "120/120 [==============================] - 2s 19ms/step - loss: 0.2910 - acc: 0.9083 - val_loss: 0.3751 - val_acc: 0.8542\n",
      "Epoch 56/100\n",
      "120/120 [==============================] - 2s 19ms/step - loss: 0.2893 - acc: 0.9083 - val_loss: 0.3931 - val_acc: 0.8333\n",
      "Epoch 57/100\n",
      "120/120 [==============================] - 2s 14ms/step - loss: 0.3322 - acc: 0.8583 - val_loss: 0.3998 - val_acc: 0.8542\n",
      "Epoch 58/100\n",
      "120/120 [==============================] - 2s 17ms/step - loss: 0.3372 - acc: 0.8667 - val_loss: 0.3606 - val_acc: 0.8750\n",
      "Epoch 59/100\n",
      "120/120 [==============================] - 2s 17ms/step - loss: 0.2657 - acc: 0.9000 - val_loss: 0.3873 - val_acc: 0.8542\n",
      "Epoch 60/100\n",
      "120/120 [==============================] - 2s 15ms/step - loss: 0.3462 - acc: 0.8750 - val_loss: 0.3571 - val_acc: 0.8542\n",
      "Epoch 61/100\n"
     ]
    },
    {
     "name": "stdout",
     "output_type": "stream",
     "text": [
      "120/120 [==============================] - 2s 15ms/step - loss: 0.3244 - acc: 0.8833 - val_loss: 0.3956 - val_acc: 0.8542\n",
      "Epoch 62/100\n",
      "120/120 [==============================] - 2s 16ms/step - loss: 0.3306 - acc: 0.8417 - val_loss: 0.4189 - val_acc: 0.8542\n",
      "Epoch 63/100\n",
      "120/120 [==============================] - 2s 15ms/step - loss: 0.2758 - acc: 0.9167 - val_loss: 0.3464 - val_acc: 0.8542\n",
      "Epoch 64/100\n",
      "120/120 [==============================] - 2s 15ms/step - loss: 0.2838 - acc: 0.8917 - val_loss: 0.3466 - val_acc: 0.8542\n",
      "Epoch 65/100\n",
      "120/120 [==============================] - 2s 16ms/step - loss: 0.2087 - acc: 0.9583 - val_loss: 0.4310 - val_acc: 0.8542\n",
      "Epoch 66/100\n",
      "120/120 [==============================] - 2s 16ms/step - loss: 0.3111 - acc: 0.9167 - val_loss: 0.3505 - val_acc: 0.8542\n",
      "Epoch 67/100\n",
      "120/120 [==============================] - 2s 17ms/step - loss: 0.2727 - acc: 0.9167 - val_loss: 0.3610 - val_acc: 0.8750\n",
      "Epoch 68/100\n",
      "120/120 [==============================] - 2s 15ms/step - loss: 0.3080 - acc: 0.8833 - val_loss: 0.3312 - val_acc: 0.8750\n",
      "Epoch 69/100\n",
      "120/120 [==============================] - 2s 15ms/step - loss: 0.2247 - acc: 0.9333 - val_loss: 0.3678 - val_acc: 0.8750\n",
      "Epoch 70/100\n",
      "120/120 [==============================] - 2s 17ms/step - loss: 0.2630 - acc: 0.9000 - val_loss: 0.3323 - val_acc: 0.8542\n",
      "Epoch 71/100\n",
      "120/120 [==============================] - 2s 16ms/step - loss: 0.2506 - acc: 0.9167 - val_loss: 0.3145 - val_acc: 0.8542\n",
      "Epoch 72/100\n",
      "120/120 [==============================] - 2s 16ms/step - loss: 0.2520 - acc: 0.9083 - val_loss: 0.3653 - val_acc: 0.8750\n",
      "Epoch 73/100\n",
      "120/120 [==============================] - 2s 16ms/step - loss: 0.2214 - acc: 0.9333 - val_loss: 0.4523 - val_acc: 0.8542\n",
      "Epoch 74/100\n",
      "120/120 [==============================] - 2s 15ms/step - loss: 0.2063 - acc: 0.9250 - val_loss: 0.3706 - val_acc: 0.8542\n",
      "Epoch 75/100\n",
      "120/120 [==============================] - 2s 16ms/step - loss: 0.2052 - acc: 0.9333 - val_loss: 0.3379 - val_acc: 0.8750\n",
      "Epoch 76/100\n",
      "120/120 [==============================] - 2s 14ms/step - loss: 0.2671 - acc: 0.9000 - val_loss: 0.3966 - val_acc: 0.8542\n",
      "Epoch 77/100\n",
      "120/120 [==============================] - 2s 15ms/step - loss: 0.2193 - acc: 0.9167 - val_loss: 0.3074 - val_acc: 0.8750\n",
      "Epoch 78/100\n",
      "120/120 [==============================] - 2s 16ms/step - loss: 0.1799 - acc: 0.9250 - val_loss: 0.4160 - val_acc: 0.8542\n",
      "Epoch 79/100\n",
      "120/120 [==============================] - 2s 16ms/step - loss: 0.2221 - acc: 0.9333 - val_loss: 0.3054 - val_acc: 0.8750\n",
      "Epoch 80/100\n",
      "120/120 [==============================] - 2s 15ms/step - loss: 0.2216 - acc: 0.9083 - val_loss: 0.3940 - val_acc: 0.8542\n",
      "Epoch 81/100\n",
      "120/120 [==============================] - 2s 15ms/step - loss: 0.2046 - acc: 0.9167 - val_loss: 0.2991 - val_acc: 0.8542\n",
      "Epoch 82/100\n",
      "120/120 [==============================] - 2s 15ms/step - loss: 0.2148 - acc: 0.9250 - val_loss: 0.3341 - val_acc: 0.8750\n",
      "Epoch 83/100\n",
      "120/120 [==============================] - 2s 17ms/step - loss: 0.2179 - acc: 0.9250 - val_loss: 0.3626 - val_acc: 0.8750\n",
      "Epoch 84/100\n",
      "120/120 [==============================] - 2s 16ms/step - loss: 0.2575 - acc: 0.9083 - val_loss: 0.3431 - val_acc: 0.8542\n",
      "Epoch 85/100\n",
      "120/120 [==============================] - 2s 13ms/step - loss: 0.1652 - acc: 0.9500 - val_loss: 0.2879 - val_acc: 0.8750\n",
      "Epoch 86/100\n",
      "120/120 [==============================] - 2s 15ms/step - loss: 0.2031 - acc: 0.9250 - val_loss: 0.2842 - val_acc: 0.8542\n",
      "Epoch 87/100\n",
      "120/120 [==============================] - 2s 16ms/step - loss: 0.1732 - acc: 0.9583 - val_loss: 0.2721 - val_acc: 0.8750\n",
      "Epoch 88/100\n",
      "120/120 [==============================] - 2s 14ms/step - loss: 0.1609 - acc: 0.9667 - val_loss: 0.3154 - val_acc: 0.8958\n",
      "Epoch 89/100\n",
      "120/120 [==============================] - 2s 15ms/step - loss: 0.2136 - acc: 0.9333 - val_loss: 0.3066 - val_acc: 0.8750\n",
      "Epoch 90/100\n",
      "120/120 [==============================] - 2s 16ms/step - loss: 0.1734 - acc: 0.9333 - val_loss: 0.2559 - val_acc: 0.8958\n",
      "Epoch 91/100\n",
      "120/120 [==============================] - 2s 16ms/step - loss: 0.2615 - acc: 0.9167 - val_loss: 0.2667 - val_acc: 0.8958\n",
      "Epoch 92/100\n",
      "120/120 [==============================] - 2s 18ms/step - loss: 0.1266 - acc: 0.9667 - val_loss: 0.2663 - val_acc: 0.8958\n",
      "Epoch 93/100\n",
      "120/120 [==============================] - 2s 15ms/step - loss: 0.1825 - acc: 0.9333 - val_loss: 0.2917 - val_acc: 0.8958\n",
      "Epoch 94/100\n",
      "120/120 [==============================] - 2s 16ms/step - loss: 0.1872 - acc: 0.9250 - val_loss: 0.2721 - val_acc: 0.8750\n",
      "Epoch 95/100\n",
      "120/120 [==============================] - 2s 16ms/step - loss: 0.1783 - acc: 0.9583 - val_loss: 0.2775 - val_acc: 0.8958\n",
      "Epoch 96/100\n",
      "120/120 [==============================] - 2s 15ms/step - loss: 0.2185 - acc: 0.9167 - val_loss: 0.2495 - val_acc: 0.8958\n",
      "Epoch 97/100\n",
      "120/120 [==============================] - 2s 16ms/step - loss: 0.1890 - acc: 0.9250 - val_loss: 0.2885 - val_acc: 0.8750\n",
      "Epoch 98/100\n",
      "120/120 [==============================] - 2s 16ms/step - loss: 0.1661 - acc: 0.9333 - val_loss: 0.2522 - val_acc: 0.9167\n",
      "Epoch 99/100\n",
      "120/120 [==============================] - 2s 15ms/step - loss: 0.1857 - acc: 0.9417 - val_loss: 0.2431 - val_acc: 0.8750\n",
      "Epoch 100/100\n",
      "120/120 [==============================] - 2s 16ms/step - loss: 0.1741 - acc: 0.9333 - val_loss: 0.2634 - val_acc: 0.9167\n"
     ]
    }
   ],
   "source": [
    "EPOCHS = 100\n",
    "history = model.fit(train_data, train_labels, epochs=EPOCHS, validation_data=(test_data, test_labels))"
   ]
  },
  {
   "cell_type": "code",
   "execution_count": 10,
   "metadata": {},
   "outputs": [
    {
     "name": "stdout",
     "output_type": "stream",
     "text": [
      "dict_keys(['val_loss', 'val_acc', 'loss', 'acc'])\n"
     ]
    },
    {
     "data": {
      "image/png": "[encoded data removed]",
      "text/plain": [
       "<matplotlib.figure.Figure at 0x11060a64710>"
      ]
     },
     "metadata": {},
     "output_type": "display_data"
    },
    {
     "data": {
      "image/png": "[encoded data removed]",
      "text/plain": [
       "<matplotlib.figure.Figure at 0x110607274e0>"
      ]
     },
     "metadata": {},
     "output_type": "display_data"
    }
   ],
   "source": [
    "print(history.history.keys())\n",
    "\n",
    "# Plot training & validation accuracy values\n",
    "plt.plot(history.history['acc'])\n",
    "plt.plot(history.history['val_acc'])\n",
    "\n",
    "plt.title('Model accuracy')\n",
    "plt.ylabel('Accuracy')\n",
    "plt.xlabel('Epoch')\n",
    "plt.legend(['Train', 'Test'], loc='upper left')\n",
    "plt.show()\n",
    "\n",
    "# Plot training & validation loss values\n",
    "plt.plot(history.history['loss'])\n",
    "plt.plot(history.history['val_loss'])\n",
    "plt.title('Model loss')\n",
    "plt.ylabel('Loss')\n",
    "plt.xlabel('Epoch')\n",
    "plt.legend(['Train', 'Test'], loc='upper left')\n",
    "plt.show()"
   ]
  },
  {
   "cell_type": "markdown",
   "metadata": {},
   "source": [
    "## Save the model"
   ]
  },
  {
   "cell_type": "code",
   "execution_count": 11,
   "metadata": {},
   "outputs": [],
   "source": [
    "import datetime\n",
    "\n",
    "dt = datetime.datetime.today().strftime('%Y%m%d%H%M%S')\n",
    "filename = 'cnn_for_rock_paper_scissors_{}.h5'.format(dt)\n",
    "model.save(filename)"
   ]
  },
  {
   "cell_type": "markdown",
   "metadata": {},
   "source": [
    "## Load the model"
   ]
  },
  {
   "cell_type": "code",
   "execution_count": 12,
   "metadata": {},
   "outputs": [],
   "source": [
    "del model\n",
    "model = models.load_model(filename)"
   ]
  },
  {
   "cell_type": "markdown",
   "metadata": {
    "colab_type": "text",
    "id": "j6con4C3lKC1"
   },
   "source": [
    "## Confirmation"
   ]
  },
  {
   "cell_type": "code",
   "execution_count": 13,
   "metadata": {
    "colab": {
     "base_uri": "https://localhost:8080/",
     "height": 34
    },
    "colab_type": "code",
    "id": "4oZYLLij69wU",
    "outputId": "b37a4b8a-2c80-411f-d8a9-5df1c6dbfe22"
   },
   "outputs": [
    {
     "data": {
      "text/plain": [
       "(120, 32, 32, 1)"
      ]
     },
     "execution_count": 13,
     "metadata": {},
     "output_type": "execute_result"
    }
   ],
   "source": [
    "import numpy as np\n",
    "import matplotlib.pyplot as plt\n",
    "train_data.shape"
   ]
  },
  {
   "cell_type": "code",
   "execution_count": 14,
   "metadata": {
    "colab": {
     "base_uri": "https://localhost:8080/",
     "height": 193
    },
    "colab_type": "code",
    "id": "zSxXE9FgRBdJ",
    "outputId": "f3a53efe-e99f-4572-f9b4-1bf3c39c77ec"
   },
   "outputs": [],
   "source": [
    "layer_outputs = [layer.output for layer in model.layers]\n",
    "#layer_outputs"
   ]
  },
  {
   "cell_type": "code",
   "execution_count": 15,
   "metadata": {
    "colab": {
     "base_uri": "https://localhost:8080/",
     "height": 34
    },
    "colab_type": "code",
    "id": "dcw7yHKrRkPD",
    "outputId": "a3ed5441-ae48-4635-bf07-ac5060030608"
   },
   "outputs": [],
   "source": [
    "activation_model = models.Model(inputs=model.input, outputs=layer_outputs)\n",
    "activations = activation_model.predict(test_data)\n",
    "#activations[0][0,:,:,0].shape"
   ]
  },
  {
   "cell_type": "code",
   "execution_count": 16,
   "metadata": {},
   "outputs": [
    {
     "data": {
      "text/plain": [
       "['paper', 'rock', 'scissors']"
      ]
     },
     "execution_count": 16,
     "metadata": {},
     "output_type": "execute_result"
    }
   ],
   "source": [
    "class_labels"
   ]
  },
  {
   "cell_type": "code",
   "execution_count": 17,
   "metadata": {
    "colab": {
     "base_uri": "https://localhost:8080/",
     "height": 193
    },
    "colab_type": "code",
    "id": "ccSNAwGKhRn9",
    "outputId": "0ad22e12-713b-4b07-e17b-45d39ff1b80b"
   },
   "outputs": [
    {
     "data": {
      "text/plain": [
       "array([[ 6, 25, 67],\n",
       "       [ 0,  0, 99],\n",
       "       [ 0,  3, 95],\n",
       "       [99,  0,  0],\n",
       "       [96,  1,  1],\n",
       "       [87,  6,  6],\n",
       "       [ 4, 94,  0],\n",
       "       [99,  0,  0],\n",
       "       [ 0, 99,  0],\n",
       "       [99,  0,  0]])"
      ]
     },
     "execution_count": 17,
     "metadata": {},
     "output_type": "execute_result"
    }
   ],
   "source": [
    "(activations[-1][:10]*100).astype(int)"
   ]
  },
  {
   "cell_type": "code",
   "execution_count": 18,
   "metadata": {
    "colab": {
     "base_uri": "https://localhost:8080/",
     "height": 193
    },
    "colab_type": "code",
    "id": "RoE0nxtuiGIN",
    "outputId": "154437a8-ab72-46f4-f42c-3e6464af47d0"
   },
   "outputs": [
    {
     "data": {
      "text/plain": [
       "array([[0, 0, 1],\n",
       "       [0, 0, 1],\n",
       "       [0, 0, 1],\n",
       "       [1, 0, 0],\n",
       "       [0, 1, 0],\n",
       "       [0, 1, 0],\n",
       "       [0, 1, 0],\n",
       "       [1, 0, 0],\n",
       "       [0, 1, 0],\n",
       "       [1, 0, 0]])"
      ]
     },
     "execution_count": 18,
     "metadata": {},
     "output_type": "execute_result"
    }
   ],
   "source": [
    "test_labels[:10].astype(int)"
   ]
  },
  {
   "cell_type": "code",
   "execution_count": 19,
   "metadata": {},
   "outputs": [],
   "source": [
    "def plot_layer(activations, sample, layer):\n",
    "    a = activations[layer].shape\n",
    "    rows = int(a[3]/4)\n",
    "    fig, axarr = plt.subplots(rows, 4, figsize=[20,15])\n",
    "    for i in range(a[3]):\n",
    "        row = int(i/4)\n",
    "        x, y = row, i-4*row\n",
    "        axarr[x, y].imshow(activations[layer][sample, :, :, i])\n",
    "        axarr[x, y].set_xticks([])\n",
    "        axarr[x, y].set_yticks([])"
   ]
  },
  {
   "cell_type": "code",
   "execution_count": 20,
   "metadata": {},
   "outputs": [
    {
     "data": {
      "text/plain": [
       "'rock'"
      ]
     },
     "execution_count": 20,
     "metadata": {},
     "output_type": "execute_result"
    },
    {
     "data": {
      "image/png": "[encoded data removed]",
      "text/plain": [
       "<matplotlib.figure.Figure at 0x11061b64f60>"
      ]
     },
     "metadata": {},
     "output_type": "display_data"
    }
   ],
   "source": [
    "image_number = 10\n",
    "\n",
    "plt.imshow(test_data[image_number,:,:,0])\n",
    "class_labels[np.argmax(test_labels[image_number])]"
   ]
  },
  {
   "cell_type": "code",
   "execution_count": 21,
   "metadata": {},
   "outputs": [
    {
     "data": {
      "image/png": "[encoded data removed]",
      "text/plain": [
       "<matplotlib.figure.Figure at 0x11061e8d160>"
      ]
     },
     "metadata": {},
     "output_type": "display_data"
    }
   ],
   "source": [
    "plot_layer(activations, image_number, 1)"
   ]
  },
  {
   "cell_type": "code",
   "execution_count": 22,
   "metadata": {},
   "outputs": [
    {
     "data": {
      "image/png": "[encoded data removed]",
      "text/plain": [
       "<matplotlib.figure.Figure at 0x1106346c9b0>"
      ]
     },
     "metadata": {},
     "output_type": "display_data"
    }
   ],
   "source": [
    "plot_layer(activations, image_number, 2)"
   ]
  },
  {
   "cell_type": "code",
   "execution_count": 30,
   "metadata": {},
   "outputs": [
    {
     "data": {
      "image/png": "[encoded data removed]",
      "text/plain": [
       "<matplotlib.figure.Figure at 0x296d4d4bf98>"
      ]
     },
     "metadata": {},
     "output_type": "display_data"
    }
   ],
   "source": [
    "plot_layer(activations, image_number, 3)"
   ]
  },
  {
   "cell_type": "code",
   "execution_count": null,
   "metadata": {},
   "outputs": [],
   "source": []
  }
 ],
 "metadata": {
  "colab": {
   "collapsed_sections": [],
   "name": "CNN for AED",
   "provenance": [],
   "version": "0.3.2"
  },
  "kernelspec": {
   "display_name": "Python 3",
   "language": "python",
   "name": "python3"
  },
  "language_info": {
   "codemirror_mode": {
    "name": "ipython",
    "version": 3
   },
   "file_extension": ".py",
   "mimetype": "text/x-python",
   "name": "python",
   "nbconvert_exporter": "python",
   "pygments_lexer": "ipython3",
   "version": "3.6.4"
  }
 },
 "nbformat": 4,
 "nbformat_minor": 1
}
