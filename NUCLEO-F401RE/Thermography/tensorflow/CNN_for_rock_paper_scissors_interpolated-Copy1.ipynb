{
 "cells": [
  {
   "cell_type": "markdown",
   "metadata": {
    "colab_type": "text",
    "id": "0X16cagQE-Y-"
   },
   "source": [
    "# CNN for rock-paper-scissors with Keras/TensorFlow\n",
    "\n",
    "Date: January 4, 2019\n",
    "\n",
    "Classification:\n",
    "- rock\n",
    "- paper\n",
    "- scissors"
   ]
  },
  {
   "cell_type": "markdown",
   "metadata": {
    "colab_type": "text",
    "id": "WwQ-dEltkl5Q"
   },
   "source": [
    "## Preparing data set for CNN"
   ]
  },
  {
   "cell_type": "code",
   "execution_count": 48,
   "metadata": {
    "colab": {
     "base_uri": "https://localhost:8080/",
     "height": 34
    },
    "colab_type": "code",
    "id": "VEJyQsGpV3ug",
    "outputId": "3929aa39-3383-4791-e065-3622e6781181"
   },
   "outputs": [],
   "source": [
    "DATA_FOLDER = '../thermography/data/'\n",
    "\n",
    "FILES = 24\n",
    "TRAINING_FILES = 16\n",
    "TEST_FILES = FILES - TRAINING_FILES"
   ]
  },
  {
   "cell_type": "code",
   "execution_count": 49,
   "metadata": {
    "colab": {},
    "colab_type": "code",
    "id": "JTNdoPBFWGky"
   },
   "outputs": [],
   "source": [
    "%matplotlib inline\n",
    "\n",
    "import matplotlib.pyplot as plt\n",
    "import numpy as np\n",
    "import time\n",
    "import random\n",
    "import os\n",
    "import sklearn.preprocessing as pp"
   ]
  },
  {
   "cell_type": "code",
   "execution_count": 50,
   "metadata": {},
   "outputs": [],
   "source": [
    "# Normalization\n",
    "def scale(data):\n",
    "    min_ = np.min(data)\n",
    "    max_ = np.max(data)\n",
    "    mean = (max_ + min_) / 2.0\n",
    "    range_ = (max_ - min_) / 2.0\n",
    "    data = (data - mean)/range_\n",
    "    return data"
   ]
  },
  {
   "cell_type": "code",
   "execution_count": 51,
   "metadata": {},
   "outputs": [
    {
     "name": "stdout",
     "output_type": "stream",
     "text": [
      "0: paper\n",
      "1: rock\n",
      "2: scissors\n"
     ]
    }
   ],
   "source": [
    "import glob\n",
    "\n",
    "data_files = glob.glob(DATA_FOLDER+'*.csv')\n",
    "class_labels = []\n",
    "\n",
    "for file in data_files:\n",
    "    label = file.split('-')[0].replace('\\\\', '/').split('/')[-1]\n",
    "    if label not in class_labels:\n",
    "        class_labels.append(label)\n",
    "\n",
    "data_set = {}\n",
    "\n",
    "class_number = 0\n",
    "\n",
    "for label in class_labels:\n",
    "    files = glob.glob(DATA_FOLDER+'{}-*.csv'.format(label))\n",
    "    random.shuffle(files)\n",
    "    data_set[label] = (files[:TRAINING_FILES], files[TRAINING_FILES:FILES], class_number)\n",
    "    class_number += 1\n",
    "\n",
    "training_set = []\n",
    "test_set = []\n",
    "\n",
    "for k, v in data_set.items():\n",
    "    files = v[0]\n",
    "    class_number = v[2]\n",
    "    for file in files:\n",
    "        with open(file) as f:\n",
    "            data = np.array(f.read().split(',')).astype(float)\n",
    "            #training_set.append((pp.scale(data), class_number))\n",
    "            training_set.append((scale(data), class_number))\n",
    "    files = v[1]\n",
    "    for file in files:\n",
    "        with open(file) as f:\n",
    "            data = np.array(f.read().split(',')).astype(float)\n",
    "            #test_set.append((pp.scale(data), class_number))\n",
    "            test_set.append((scale(data), class_number))\n",
    "random.shuffle(training_set)\n",
    "random.shuffle(test_set)\n",
    "\n",
    "class_labels = [None for _ in range(len(data_set))]\n",
    "\n",
    "# Class number and class labels\n",
    "for k,v in data_set.items():\n",
    "    print('{}: {}'.format(v[2],k))\n",
    "    class_labels[v[2]] = k\n",
    "    \n",
    "import yaml\n",
    "with open(DATA_FOLDER+'class_labels.yaml', 'w') as f:\n",
    "    yaml.dump(class_labels, f)"
   ]
  },
  {
   "cell_type": "code",
   "execution_count": 52,
   "metadata": {
    "colab": {},
    "colab_type": "code",
    "id": "28tIKkNyW3cO"
   },
   "outputs": [
    {
     "data": {
      "text/plain": [
       "array([[-0.96363636, -0.67272727, -0.85454545, -0.63636364, -0.96363636,\n",
       "        -0.63636364, -0.85454545, -1.        ],\n",
       "       [-0.78181818, -0.49090909, -0.54545455,  0.12727273, -0.67272727,\n",
       "         0.09090909, -0.12727273, -0.85454545],\n",
       "       [-0.54545455, -0.27272727,  0.        ,  0.27272727, -0.09090909,\n",
       "         0.23636364,  0.23636364, -0.67272727],\n",
       "       [-0.49090909, -0.54545455,  0.41818182,  0.6       ,  0.63636364,\n",
       "         0.49090909,  0.30909091, -0.63636364],\n",
       "       [-0.63636364, -0.6       ,  0.36363636,  0.85454545,  0.81818182,\n",
       "         0.90909091,  0.18181818, -0.63636364],\n",
       "       [-0.63636364, -0.63636364,  0.45454545,  0.90909091,  0.90909091,\n",
       "         0.90909091,  0.18181818,  0.18181818],\n",
       "       [-0.67272727, -0.45454545,  0.49090909,  1.        ,  0.90909091,\n",
       "         0.90909091,  0.81818182,  0.23636364],\n",
       "       [-0.6       , -0.30909091,  0.45454545,  0.85454545,  0.90909091,\n",
       "         0.72727273,  0.23636364,  0.23636364]])"
      ]
     },
     "execution_count": 52,
     "metadata": {},
     "output_type": "execute_result"
    },
    {
     "data": {
      "image/png": "[encoded data removed]",
      "text/plain": [
       "<matplotlib.figure.Figure at 0x216611bdcf8>"
      ]
     },
     "metadata": {},
     "output_type": "display_data"
    }
   ],
   "source": [
    "train_data, train_labels = [], []\n",
    "test_data, test_labels = [], []\n",
    "for img, label in training_set:\n",
    "    train_data.append(img)\n",
    "    train_labels.append(label)\n",
    "for img, label in test_set:\n",
    "    test_data.append(img)\n",
    "    test_labels.append(label)\n",
    "train_data = np.array(train_data).reshape((TRAINING_FILES*len(class_labels), 8, 8, 1))\n",
    "train_labels = np.array(train_labels, dtype='uint8')\n",
    "test_data = np.array(test_data).reshape((TEST_FILES*len(class_labels), 8, 8, 1))\n",
    "test_lables = np.array(test_labels, dtype='uint8')\n",
    "#train_data.shape\n",
    "\n",
    "from keras.utils import to_categorical\n",
    "\n",
    "train_labels=to_categorical(train_labels)\n",
    "test_labels=to_categorical(test_labels)\n",
    "\n",
    "plt.imshow(train_data[12,:,:,0])\n",
    "train_data[12,:,:,0]"
   ]
  },
  {
   "cell_type": "markdown",
   "metadata": {
    "colab_type": "text",
    "id": "VfUmgxxVk6uM"
   },
   "source": [
    "### CNN model"
   ]
  },
  {
   "cell_type": "code",
   "execution_count": 53,
   "metadata": {
    "colab": {
     "base_uri": "https://localhost:8080/",
     "height": 509
    },
    "colab_type": "code",
    "id": "B2Xg6tGLdMKP",
    "outputId": "ae3daa32-9dbf-4d8b-9a11-7f596dd2e4a6"
   },
   "outputs": [
    {
     "name": "stdout",
     "output_type": "stream",
     "text": [
      "_________________________________________________________________\n",
      "Layer (type)                 Output Shape              Param #   \n",
      "=================================================================\n",
      "conv2d_37 (Conv2D)           (None, 8, 8, 8)           80        \n",
      "_________________________________________________________________\n",
      "conv2d_38 (Conv2D)           (None, 8, 8, 16)          1168      \n",
      "_________________________________________________________________\n",
      "flatten_13 (Flatten)         (None, 1024)              0         \n",
      "_________________________________________________________________\n",
      "dropout_13 (Dropout)         (None, 1024)              0         \n",
      "_________________________________________________________________\n",
      "dense_13 (Dense)             (None, 3)                 3075      \n",
      "=================================================================\n",
      "Total params: 4,323\n",
      "Trainable params: 4,323\n",
      "Non-trainable params: 0\n",
      "_________________________________________________________________\n"
     ]
    }
   ],
   "source": [
    "from keras import layers\n",
    "from keras import models\n",
    "\n",
    "model = models.Sequential()\n",
    "\n",
    "model.add(layers.Conv2D(8, (3, 3), padding='same', activation='relu', input_shape=(8, 8, 1)))\n",
    "\n",
    "model.add(layers.Conv2D(16, (3, 3), padding='same', activation='relu'))\n",
    "\n",
    "model.add(layers.Flatten())\n",
    "model.add(layers.Dropout(0.5))\n",
    "model.add(layers.Dense(len(class_labels), activation='softmax'))\n",
    "\n",
    "model.summary()"
   ]
  },
  {
   "cell_type": "code",
   "execution_count": 54,
   "metadata": {
    "colab": {},
    "colab_type": "code",
    "id": "nRr1L_4ogL6i"
   },
   "outputs": [],
   "source": [
    "model.compile(optimizer='rmsprop', loss='categorical_crossentropy', metrics=['accuracy'])"
   ]
  },
  {
   "cell_type": "code",
   "execution_count": 55,
   "metadata": {},
   "outputs": [
    {
     "data": {
      "image/svg+xml": [
       "<svg height=\"410pt\" viewBox=\"0.00 0.00 145.00 410.00\" width=\"145pt\" xmlns=\"http://www.w3.org/2000/svg\" xmlns:xlink=\"http://www.w3.org/1999/xlink\">\n",
       "<g class=\"graph\" id=\"graph0\" transform=\"scale(1 1) rotate(0) translate(4 406)\">\n",
       "<title>G</title>\n",
       "<polygon fill=\"white\" points=\"-4,4 -4,-406 141,-406 141,4 -4,4\" stroke=\"none\"/>\n",
       "<!-- 2295124580672 -->\n",
       "<g class=\"node\" id=\"node1\"><title>2295124580672</title>\n",
       "<polygon fill=\"none\" points=\"1.5,-292.5 1.5,-328.5 135.5,-328.5 135.5,-292.5 1.5,-292.5\" stroke=\"black\"/>\n",
       "<text font-family=\"Times New Roman,serif\" font-size=\"14.00\" text-anchor=\"middle\" x=\"68.5\" y=\"-306.8\">conv2d_37: Conv2D</text>\n",
       "</g>\n",
       "<!-- 2295142213448 -->\n",
       "<g class=\"node\" id=\"node2\"><title>2295142213448</title>\n",
       "<polygon fill=\"none\" points=\"1.5,-219.5 1.5,-255.5 135.5,-255.5 135.5,-219.5 1.5,-219.5\" stroke=\"black\"/>\n",
       "<text font-family=\"Times New Roman,serif\" font-size=\"14.00\" text-anchor=\"middle\" x=\"68.5\" y=\"-233.8\">conv2d_38: Conv2D</text>\n",
       "</g>\n",
       "<!-- 2295124580672&#45;&gt;2295142213448 -->\n",
       "<g class=\"edge\" id=\"edge2\"><title>2295124580672-&gt;2295142213448</title>\n",
       "<path d=\"M68.5,-292.313C68.5,-284.289 68.5,-274.547 68.5,-265.569\" fill=\"none\" stroke=\"black\"/>\n",
       "<polygon fill=\"black\" points=\"72.0001,-265.529 68.5,-255.529 65.0001,-265.529 72.0001,-265.529\" stroke=\"black\"/>\n",
       "</g>\n",
       "<!-- 2295142213672 -->\n",
       "<g class=\"node\" id=\"node3\"><title>2295142213672</title>\n",
       "<polygon fill=\"none\" points=\"10.5,-146.5 10.5,-182.5 126.5,-182.5 126.5,-146.5 10.5,-146.5\" stroke=\"black\"/>\n",
       "<text font-family=\"Times New Roman,serif\" font-size=\"14.00\" text-anchor=\"middle\" x=\"68.5\" y=\"-160.8\">flatten_13: Flatten</text>\n",
       "</g>\n",
       "<!-- 2295142213448&#45;&gt;2295142213672 -->\n",
       "<g class=\"edge\" id=\"edge3\"><title>2295142213448-&gt;2295142213672</title>\n",
       "<path d=\"M68.5,-219.313C68.5,-211.289 68.5,-201.547 68.5,-192.569\" fill=\"none\" stroke=\"black\"/>\n",
       "<polygon fill=\"black\" points=\"72.0001,-192.529 68.5,-182.529 65.0001,-192.529 72.0001,-192.529\" stroke=\"black\"/>\n",
       "</g>\n",
       "<!-- 2295141978576 -->\n",
       "<g class=\"node\" id=\"node4\"><title>2295141978576</title>\n",
       "<polygon fill=\"none\" points=\"0,-73.5 0,-109.5 137,-109.5 137,-73.5 0,-73.5\" stroke=\"black\"/>\n",
       "<text font-family=\"Times New Roman,serif\" font-size=\"14.00\" text-anchor=\"middle\" x=\"68.5\" y=\"-87.8\">dropout_13: Dropout</text>\n",
       "</g>\n",
       "<!-- 2295142213672&#45;&gt;2295141978576 -->\n",
       "<g class=\"edge\" id=\"edge4\"><title>2295142213672-&gt;2295141978576</title>\n",
       "<path d=\"M68.5,-146.313C68.5,-138.289 68.5,-128.547 68.5,-119.569\" fill=\"none\" stroke=\"black\"/>\n",
       "<polygon fill=\"black\" points=\"72.0001,-119.529 68.5,-109.529 65.0001,-119.529 72.0001,-119.529\" stroke=\"black\"/>\n",
       "</g>\n",
       "<!-- 2295141979024 -->\n",
       "<g class=\"node\" id=\"node5\"><title>2295141979024</title>\n",
       "<polygon fill=\"none\" points=\"13,-0.5 13,-36.5 124,-36.5 124,-0.5 13,-0.5\" stroke=\"black\"/>\n",
       "<text font-family=\"Times New Roman,serif\" font-size=\"14.00\" text-anchor=\"middle\" x=\"68.5\" y=\"-14.8\">dense_13: Dense</text>\n",
       "</g>\n",
       "<!-- 2295141978576&#45;&gt;2295141979024 -->\n",
       "<g class=\"edge\" id=\"edge5\"><title>2295141978576-&gt;2295141979024</title>\n",
       "<path d=\"M68.5,-73.3129C68.5,-65.2895 68.5,-55.5475 68.5,-46.5691\" fill=\"none\" stroke=\"black\"/>\n",
       "<polygon fill=\"black\" points=\"72.0001,-46.5288 68.5,-36.5288 65.0001,-46.5289 72.0001,-46.5288\" stroke=\"black\"/>\n",
       "</g>\n",
       "<!-- 2295142214512 -->\n",
       "<g class=\"node\" id=\"node6\"><title>2295142214512</title>\n",
       "<polygon fill=\"none\" points=\"16.5,-365.5 16.5,-401.5 120.5,-401.5 120.5,-365.5 16.5,-365.5\" stroke=\"black\"/>\n",
       "<text font-family=\"Times New Roman,serif\" font-size=\"14.00\" text-anchor=\"middle\" x=\"68.5\" y=\"-379.8\">2295142214512</text>\n",
       "</g>\n",
       "<!-- 2295142214512&#45;&gt;2295124580672 -->\n",
       "<g class=\"edge\" id=\"edge1\"><title>2295142214512-&gt;2295124580672</title>\n",
       "<path d=\"M68.5,-365.313C68.5,-357.289 68.5,-347.547 68.5,-338.569\" fill=\"none\" stroke=\"black\"/>\n",
       "<polygon fill=\"black\" points=\"72.0001,-338.529 68.5,-328.529 65.0001,-338.529 72.0001,-338.529\" stroke=\"black\"/>\n",
       "</g>\n",
       "</g>\n",
       "</svg>"
      ],
      "text/plain": [
       "<IPython.core.display.SVG object>"
      ]
     },
     "execution_count": 55,
     "metadata": {},
     "output_type": "execute_result"
    }
   ],
   "source": [
    "from IPython.display import SVG\n",
    "from keras.utils.vis_utils import model_to_dot\n",
    "\n",
    "SVG(model_to_dot(model).create(prog='dot', format='svg'))"
   ]
  },
  {
   "cell_type": "markdown",
   "metadata": {
    "colab_type": "text",
    "id": "TfypWUJIlFkz"
   },
   "source": [
    "## Training CNN"
   ]
  },
  {
   "cell_type": "code",
   "execution_count": 56,
   "metadata": {
    "colab": {
     "base_uri": "https://localhost:8080/",
     "height": 931
    },
    "colab_type": "code",
    "id": "zsdmu-ggfvr1",
    "outputId": "77a52558-8ecc-4fc5-e0cb-2b86a75df4c6",
    "scrolled": false
   },
   "outputs": [
    {
     "name": "stdout",
     "output_type": "stream",
     "text": [
      "Train on 48 samples, validate on 24 samples\n",
      "Epoch 1/50\n",
      "48/48 [==============================] - 1s 16ms/step - loss: 1.1101 - acc: 0.2917 - val_loss: 1.0460 - val_acc: 0.6667\n",
      "Epoch 2/50\n",
      "48/48 [==============================] - 0s 263us/step - loss: 1.0674 - acc: 0.4375 - val_loss: 1.0074 - val_acc: 0.7917\n",
      "Epoch 3/50\n",
      "48/48 [==============================] - 0s 260us/step - loss: 1.0129 - acc: 0.5417 - val_loss: 0.9747 - val_acc: 0.7500\n",
      "Epoch 4/50\n",
      "48/48 [==============================] - 0s 237us/step - loss: 0.9723 - acc: 0.5417 - val_loss: 0.9436 - val_acc: 0.7917\n",
      "Epoch 5/50\n",
      "48/48 [==============================] - 0s 258us/step - loss: 0.9302 - acc: 0.6667 - val_loss: 0.9079 - val_acc: 0.7083\n",
      "Epoch 6/50\n",
      "48/48 [==============================] - 0s 250us/step - loss: 0.8925 - acc: 0.7292 - val_loss: 0.8702 - val_acc: 0.7500\n",
      "Epoch 7/50\n",
      "48/48 [==============================] - 0s 363us/step - loss: 0.8722 - acc: 0.5833 - val_loss: 0.8367 - val_acc: 0.7500\n",
      "Epoch 8/50\n",
      "48/48 [==============================] - 0s 279us/step - loss: 0.8693 - acc: 0.5833 - val_loss: 0.8074 - val_acc: 0.7083\n",
      "Epoch 9/50\n",
      "48/48 [==============================] - 0s 289us/step - loss: 0.8183 - acc: 0.6875 - val_loss: 0.7741 - val_acc: 0.7500\n",
      "Epoch 10/50\n",
      "48/48 [==============================] - 0s 259us/step - loss: 0.7783 - acc: 0.6458 - val_loss: 0.7411 - val_acc: 0.7083\n",
      "Epoch 11/50\n",
      "48/48 [==============================] - 0s 264us/step - loss: 0.7248 - acc: 0.7292 - val_loss: 0.7087 - val_acc: 0.7500\n",
      "Epoch 12/50\n",
      "48/48 [==============================] - 0s 248us/step - loss: 0.7172 - acc: 0.7083 - val_loss: 0.6836 - val_acc: 0.7917\n",
      "Epoch 13/50\n",
      "48/48 [==============================] - 0s 289us/step - loss: 0.6560 - acc: 0.7708 - val_loss: 0.6607 - val_acc: 0.7917\n",
      "Epoch 14/50\n",
      "48/48 [==============================] - 0s 217us/step - loss: 0.6432 - acc: 0.7708 - val_loss: 0.6334 - val_acc: 0.7917\n",
      "Epoch 15/50\n",
      "48/48 [==============================] - 0s 238us/step - loss: 0.6554 - acc: 0.7500 - val_loss: 0.6139 - val_acc: 0.7917\n",
      "Epoch 16/50\n",
      "48/48 [==============================] - 0s 239us/step - loss: 0.6011 - acc: 0.7917 - val_loss: 0.5940 - val_acc: 0.7917\n",
      "Epoch 17/50\n",
      "48/48 [==============================] - 0s 229us/step - loss: 0.6201 - acc: 0.7500 - val_loss: 0.5768 - val_acc: 0.7917\n",
      "Epoch 18/50\n",
      "48/48 [==============================] - 0s 412us/step - loss: 0.5905 - acc: 0.8125 - val_loss: 0.5588 - val_acc: 0.7917\n",
      "Epoch 19/50\n",
      "48/48 [==============================] - 0s 269us/step - loss: 0.5867 - acc: 0.7708 - val_loss: 0.5321 - val_acc: 0.8333\n",
      "Epoch 20/50\n",
      "48/48 [==============================] - 0s 300us/step - loss: 0.5774 - acc: 0.7917 - val_loss: 0.5170 - val_acc: 0.8333\n",
      "Epoch 21/50\n",
      "48/48 [==============================] - 0s 279us/step - loss: 0.5309 - acc: 0.7917 - val_loss: 0.4951 - val_acc: 0.8333\n",
      "Epoch 22/50\n",
      "48/48 [==============================] - 0s 300us/step - loss: 0.5405 - acc: 0.7708 - val_loss: 0.4921 - val_acc: 0.8333\n",
      "Epoch 23/50\n",
      "48/48 [==============================] - 0s 248us/step - loss: 0.4821 - acc: 0.7917 - val_loss: 0.4715 - val_acc: 0.8333\n",
      "Epoch 24/50\n",
      "48/48 [==============================] - 0s 279us/step - loss: 0.5229 - acc: 0.7708 - val_loss: 0.4645 - val_acc: 0.8333\n",
      "Epoch 25/50\n",
      "48/48 [==============================] - 0s 227us/step - loss: 0.4926 - acc: 0.7708 - val_loss: 0.4390 - val_acc: 0.8333\n",
      "Epoch 26/50\n",
      "48/48 [==============================] - 0s 258us/step - loss: 0.5158 - acc: 0.8125 - val_loss: 0.4309 - val_acc: 0.8333\n",
      "Epoch 27/50\n",
      "48/48 [==============================] - 0s 393us/step - loss: 0.4877 - acc: 0.8125 - val_loss: 0.4160 - val_acc: 0.8750\n",
      "Epoch 28/50\n",
      "48/48 [==============================] - 0s 310us/step - loss: 0.4910 - acc: 0.8333 - val_loss: 0.4075 - val_acc: 0.8750\n",
      "Epoch 29/50\n",
      "48/48 [==============================] - 0s 283us/step - loss: 0.4413 - acc: 0.8333 - val_loss: 0.3979 - val_acc: 0.8333\n",
      "Epoch 30/50\n",
      "48/48 [==============================] - 0s 279us/step - loss: 0.4107 - acc: 0.8958 - val_loss: 0.3815 - val_acc: 0.8750\n",
      "Epoch 31/50\n",
      "48/48 [==============================] - 0s 259us/step - loss: 0.4645 - acc: 0.8125 - val_loss: 0.3750 - val_acc: 0.8750\n",
      "Epoch 32/50\n",
      "48/48 [==============================] - 0s 351us/step - loss: 0.4369 - acc: 0.8542 - val_loss: 0.3644 - val_acc: 0.8750\n",
      "Epoch 33/50\n",
      "48/48 [==============================] - 0s 327us/step - loss: 0.4593 - acc: 0.8125 - val_loss: 0.3412 - val_acc: 0.8750\n",
      "Epoch 34/50\n",
      "48/48 [==============================] - 0s 269us/step - loss: 0.4091 - acc: 0.8125 - val_loss: 0.3320 - val_acc: 0.8750\n",
      "Epoch 35/50\n",
      "48/48 [==============================] - 0s 289us/step - loss: 0.4204 - acc: 0.8125 - val_loss: 0.3550 - val_acc: 0.8333\n",
      "Epoch 36/50\n",
      "48/48 [==============================] - 0s 269us/step - loss: 0.4415 - acc: 0.8333 - val_loss: 0.3280 - val_acc: 0.8750\n",
      "Epoch 37/50\n",
      "48/48 [==============================] - 0s 269us/step - loss: 0.4268 - acc: 0.7917 - val_loss: 0.3276 - val_acc: 0.8750\n",
      "Epoch 38/50\n",
      "48/48 [==============================] - 0s 320us/step - loss: 0.4274 - acc: 0.8542 - val_loss: 0.3196 - val_acc: 0.8333\n",
      "Epoch 39/50\n",
      "48/48 [==============================] - 0s 568us/step - loss: 0.4365 - acc: 0.8125 - val_loss: 0.3228 - val_acc: 0.8750\n",
      "Epoch 40/50\n",
      "48/48 [==============================] - 0s 289us/step - loss: 0.3226 - acc: 0.8958 - val_loss: 0.3023 - val_acc: 0.8750\n",
      "Epoch 41/50\n",
      "48/48 [==============================] - 0s 269us/step - loss: 0.3639 - acc: 0.8958 - val_loss: 0.2935 - val_acc: 0.8750\n",
      "Epoch 42/50\n",
      "48/48 [==============================] - 0s 279us/step - loss: 0.3503 - acc: 0.8958 - val_loss: 0.2847 - val_acc: 0.8750\n",
      "Epoch 43/50\n",
      "48/48 [==============================] - 0s 269us/step - loss: 0.3613 - acc: 0.8750 - val_loss: 0.2781 - val_acc: 0.8750\n",
      "Epoch 44/50\n",
      "48/48 [==============================] - 0s 320us/step - loss: 0.3283 - acc: 0.8750 - val_loss: 0.2666 - val_acc: 0.8750\n",
      "Epoch 45/50\n",
      "48/48 [==============================] - 0s 276us/step - loss: 0.3047 - acc: 0.9167 - val_loss: 0.2628 - val_acc: 0.8750\n",
      "Epoch 46/50\n",
      "48/48 [==============================] - 0s 320us/step - loss: 0.3136 - acc: 0.9167 - val_loss: 0.2659 - val_acc: 0.8750\n",
      "Epoch 47/50\n",
      "48/48 [==============================] - 0s 310us/step - loss: 0.3288 - acc: 0.8958 - val_loss: 0.2515 - val_acc: 0.8750\n",
      "Epoch 48/50\n",
      "48/48 [==============================] - 0s 320us/step - loss: 0.3088 - acc: 0.9167 - val_loss: 0.2722 - val_acc: 0.8750\n",
      "Epoch 49/50\n",
      "48/48 [==============================] - 0s 258us/step - loss: 0.3628 - acc: 0.8542 - val_loss: 0.2508 - val_acc: 0.8750\n",
      "Epoch 50/50\n",
      "48/48 [==============================] - 0s 258us/step - loss: 0.2933 - acc: 0.8958 - val_loss: 0.2460 - val_acc: 0.8750\n"
     ]
    }
   ],
   "source": [
    "EPOCHS = 50\n",
    "history = model.fit(train_data, train_labels, epochs=EPOCHS, validation_data=(test_data, test_labels))"
   ]
  },
  {
   "cell_type": "code",
   "execution_count": 57,
   "metadata": {},
   "outputs": [
    {
     "name": "stdout",
     "output_type": "stream",
     "text": [
      "dict_keys(['val_loss', 'val_acc', 'loss', 'acc'])\n"
     ]
    },
    {
     "data": {
      "image/png": "[encoded data removed]",
      "text/plain": [
       "<matplotlib.figure.Figure at 0x216615c8f98>"
      ]
     },
     "metadata": {},
     "output_type": "display_data"
    },
    {
     "data": {
      "image/png": "[encoded data removed]",
      "text/plain": [
       "<matplotlib.figure.Figure at 0x2165baa5a90>"
      ]
     },
     "metadata": {},
     "output_type": "display_data"
    }
   ],
   "source": [
    "print(history.history.keys())\n",
    "\n",
    "# Plot training & validation accuracy values\n",
    "plt.plot(history.history['acc'])\n",
    "plt.plot(history.history['val_acc'])\n",
    "\n",
    "plt.title('Model accuracy')\n",
    "plt.ylabel('Accuracy')\n",
    "plt.xlabel('Epoch')\n",
    "plt.legend(['Train', 'Test'], loc='upper left')\n",
    "plt.show()\n",
    "\n",
    "# Plot training & validation loss values\n",
    "plt.plot(history.history['loss'])\n",
    "plt.plot(history.history['val_loss'])\n",
    "plt.title('Model loss')\n",
    "plt.ylabel('Loss')\n",
    "plt.xlabel('Epoch')\n",
    "plt.legend(['Train', 'Test'], loc='upper left')\n",
    "plt.show()"
   ]
  },
  {
   "cell_type": "markdown",
   "metadata": {},
   "source": [
    "## Save the model"
   ]
  },
  {
   "cell_type": "code",
   "execution_count": 58,
   "metadata": {},
   "outputs": [],
   "source": [
    "import datetime\n",
    "\n",
    "dt = datetime.datetime.today().strftime('%Y%m%d%H%M%S')\n",
    "filename = 'cnn_for_rock_paper_scissors{}.h5'.format(dt)\n",
    "model.save(filename)"
   ]
  },
  {
   "cell_type": "markdown",
   "metadata": {},
   "source": [
    "## Load the model"
   ]
  },
  {
   "cell_type": "code",
   "execution_count": 59,
   "metadata": {},
   "outputs": [],
   "source": [
    "del model\n",
    "model = models.load_model(filename)"
   ]
  },
  {
   "cell_type": "markdown",
   "metadata": {
    "colab_type": "text",
    "id": "j6con4C3lKC1"
   },
   "source": [
    "## Confirmation"
   ]
  },
  {
   "cell_type": "code",
   "execution_count": 60,
   "metadata": {
    "colab": {
     "base_uri": "https://localhost:8080/",
     "height": 34
    },
    "colab_type": "code",
    "id": "4oZYLLij69wU",
    "outputId": "b37a4b8a-2c80-411f-d8a9-5df1c6dbfe22"
   },
   "outputs": [
    {
     "data": {
      "text/plain": [
       "(48, 8, 8, 1)"
      ]
     },
     "execution_count": 60,
     "metadata": {},
     "output_type": "execute_result"
    }
   ],
   "source": [
    "import numpy as np\n",
    "import matplotlib.pyplot as plt\n",
    "train_data.shape"
   ]
  },
  {
   "cell_type": "code",
   "execution_count": 61,
   "metadata": {
    "colab": {
     "base_uri": "https://localhost:8080/",
     "height": 193
    },
    "colab_type": "code",
    "id": "zSxXE9FgRBdJ",
    "outputId": "f3a53efe-e99f-4572-f9b4-1bf3c39c77ec"
   },
   "outputs": [],
   "source": [
    "layer_outputs = [layer.output for layer in model.layers]\n",
    "#layer_outputs"
   ]
  },
  {
   "cell_type": "code",
   "execution_count": 62,
   "metadata": {
    "colab": {
     "base_uri": "https://localhost:8080/",
     "height": 34
    },
    "colab_type": "code",
    "id": "dcw7yHKrRkPD",
    "outputId": "a3ed5441-ae48-4635-bf07-ac5060030608"
   },
   "outputs": [],
   "source": [
    "activation_model = models.Model(inputs=model.input, outputs=layer_outputs)\n",
    "activations = activation_model.predict(test_data)\n",
    "#activations[0][0,:,:,0].shape"
   ]
  },
  {
   "cell_type": "code",
   "execution_count": 63,
   "metadata": {},
   "outputs": [
    {
     "data": {
      "text/plain": [
       "['paper', 'rock', 'scissors']"
      ]
     },
     "execution_count": 63,
     "metadata": {},
     "output_type": "execute_result"
    }
   ],
   "source": [
    "class_labels"
   ]
  },
  {
   "cell_type": "code",
   "execution_count": 64,
   "metadata": {
    "colab": {
     "base_uri": "https://localhost:8080/",
     "height": 193
    },
    "colab_type": "code",
    "id": "ccSNAwGKhRn9",
    "outputId": "0ad22e12-713b-4b07-e17b-45d39ff1b80b"
   },
   "outputs": [
    {
     "data": {
      "text/plain": [
       "array([[31, 68,  0],\n",
       "       [19, 77,  2],\n",
       "       [14, 77,  7],\n",
       "       [97,  2,  0],\n",
       "       [93,  6,  0],\n",
       "       [24, 75,  0],\n",
       "       [ 0,  4, 95],\n",
       "       [94,  4,  1],\n",
       "       [ 0,  1, 98],\n",
       "       [84, 15,  0]])"
      ]
     },
     "execution_count": 64,
     "metadata": {},
     "output_type": "execute_result"
    }
   ],
   "source": [
    "(activations[-1][:10]*100).astype(int)"
   ]
  },
  {
   "cell_type": "code",
   "execution_count": 65,
   "metadata": {
    "colab": {
     "base_uri": "https://localhost:8080/",
     "height": 193
    },
    "colab_type": "code",
    "id": "RoE0nxtuiGIN",
    "outputId": "154437a8-ab72-46f4-f42c-3e6464af47d0"
   },
   "outputs": [
    {
     "data": {
      "text/plain": [
       "array([[0, 1, 0],\n",
       "       [0, 1, 0],\n",
       "       [0, 1, 0],\n",
       "       [1, 0, 0],\n",
       "       [1, 0, 0],\n",
       "       [0, 1, 0],\n",
       "       [0, 0, 1],\n",
       "       [1, 0, 0],\n",
       "       [0, 0, 1],\n",
       "       [1, 0, 0]])"
      ]
     },
     "execution_count": 65,
     "metadata": {},
     "output_type": "execute_result"
    }
   ],
   "source": [
    "test_labels[:10].astype(int)"
   ]
  },
  {
   "cell_type": "code",
   "execution_count": 66,
   "metadata": {},
   "outputs": [],
   "source": [
    "def plot_layer(activations, sample, layer):\n",
    "    a = activations[layer].shape\n",
    "    rows = int(a[3]/4)\n",
    "    fig, axarr = plt.subplots(rows, 4, figsize=[20,15])\n",
    "    for i in range(a[3]):\n",
    "        row = int(i/4)\n",
    "        x, y = row, i-4*row\n",
    "        axarr[x, y].imshow(activations[layer][sample, :, :, i])\n",
    "        axarr[x, y].set_xticks([])\n",
    "        axarr[x, y].set_yticks([])"
   ]
  },
  {
   "cell_type": "code",
   "execution_count": 67,
   "metadata": {},
   "outputs": [
    {
     "data": {
      "text/plain": [
       "'paper'"
      ]
     },
     "execution_count": 67,
     "metadata": {},
     "output_type": "execute_result"
    },
    {
     "data": {
      "image/png": "[encoded data removed]",
      "text/plain": [
       "<matplotlib.figure.Figure at 0x2166122e978>"
      ]
     },
     "metadata": {},
     "output_type": "display_data"
    }
   ],
   "source": [
    "image_number = 10\n",
    "\n",
    "plt.imshow(test_data[image_number,:,:,0])\n",
    "class_labels[np.argmax(test_labels[image_number])]"
   ]
  },
  {
   "cell_type": "code",
   "execution_count": 73,
   "metadata": {},
   "outputs": [
    {
     "data": {
      "image/png": "[encoded data removed]",
      "text/plain": [
       "<matplotlib.figure.Figure at 0x21662ff5be0>"
      ]
     },
     "metadata": {},
     "output_type": "display_data"
    }
   ],
   "source": [
    "plot_layer(activations, image_number, 1)"
   ]
  },
  {
   "cell_type": "code",
   "execution_count": null,
   "metadata": {},
   "outputs": [],
   "source": []
  }
 ],
 "metadata": {
  "colab": {
   "collapsed_sections": [],
   "name": "CNN for AED",
   "provenance": [],
   "version": "0.3.2"
  },
  "kernelspec": {
   "display_name": "Python 3",
   "language": "python",
   "name": "python3"
  },
  "language_info": {
   "codemirror_mode": {
    "name": "ipython",
    "version": 3
   },
   "file_extension": ".py",
   "mimetype": "text/x-python",
   "name": "python",
   "nbconvert_exporter": "python",
   "pygments_lexer": "ipython3",
   "version": "3.6.4"
  }
 },
 "nbformat": 4,
 "nbformat_minor": 1
}
