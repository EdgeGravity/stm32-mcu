{
 "cells": [
  {
   "cell_type": "markdown",
   "metadata": {
    "colab_type": "text",
    "id": "0X16cagQE-Y-"
   },
   "source": [
    "# CNN for rock-paper-scissors with Keras/TensorFlow\n",
    "\n",
    "Date: January 4, 2019\n",
    "\n",
    "Classification:\n",
    "- rock\n",
    "- paper\n",
    "- scissors"
   ]
  },
  {
   "cell_type": "markdown",
   "metadata": {
    "colab_type": "text",
    "id": "WwQ-dEltkl5Q"
   },
   "source": [
    "## Preparing data set for CNN"
   ]
  },
  {
   "cell_type": "code",
   "execution_count": 43,
   "metadata": {
    "colab": {
     "base_uri": "https://localhost:8080/",
     "height": 34
    },
    "colab_type": "code",
    "id": "VEJyQsGpV3ug",
    "outputId": "3929aa39-3383-4791-e065-3622e6781181"
   },
   "outputs": [],
   "source": [
    "DATA_FOLDER = '../thermography/data/'\n",
    "\n",
    "FILES = 45\n",
    "TRAINING_FILES = 30 \n",
    "TEST_FILES = FILES - TRAINING_FILES"
   ]
  },
  {
   "cell_type": "code",
   "execution_count": 44,
   "metadata": {
    "colab": {},
    "colab_type": "code",
    "id": "JTNdoPBFWGky"
   },
   "outputs": [],
   "source": [
    "%matplotlib inline\n",
    "\n",
    "import matplotlib.pyplot as plt\n",
    "import numpy as np\n",
    "import time\n",
    "import random\n",
    "import os\n",
    "import sklearn.preprocessing as pp"
   ]
  },
  {
   "cell_type": "code",
   "execution_count": 45,
   "metadata": {},
   "outputs": [
    {
     "name": "stdout",
     "output_type": "stream",
     "text": [
      "0: paper\n",
      "1: rock\n",
      "2: scissors\n"
     ]
    }
   ],
   "source": [
    "import glob\n",
    "\n",
    "data_files = glob.glob(DATA_FOLDER+'*.csv')\n",
    "class_labels = []\n",
    "\n",
    "for file in data_files:\n",
    "    label = file.split('-')[0].replace('\\\\', '/').split('/')[-1]\n",
    "    if label not in class_labels:\n",
    "        class_labels.append(label)\n",
    "\n",
    "data_set = {}\n",
    "\n",
    "class_number = 0\n",
    "\n",
    "for label in class_labels:\n",
    "    files = glob.glob(DATA_FOLDER+'{}-*.csv'.format(label))\n",
    "    random.shuffle(files)\n",
    "    data_set[label] = (files[:TRAINING_FILES], files[TRAINING_FILES:FILES], class_number)\n",
    "    class_number += 1\n",
    "\n",
    "training_set = []\n",
    "test_set = []\n",
    "\n",
    "for k, v in data_set.items():\n",
    "    files = v[0]\n",
    "    class_number = v[2]\n",
    "    for file in files:\n",
    "        with open(file) as f:\n",
    "            data = np.array(f.read().split(',')).astype(float)\n",
    "            training_set.append((pp.scale(data), class_number))\n",
    "    files = v[1]\n",
    "    for file in files:\n",
    "        with open(file) as f:\n",
    "            data = np.array(f.read().split(',')).astype(float)\n",
    "            test_set.append((pp.scale(data), class_number))\n",
    "random.shuffle(training_set)\n",
    "random.shuffle(test_set)\n",
    "\n",
    "class_labels = [None for _ in range(len(data_set))]\n",
    "\n",
    "# Class number and class labels\n",
    "for k,v in data_set.items():\n",
    "    print('{}: {}'.format(v[2],k))\n",
    "    class_labels[v[2]] = k\n",
    "    \n",
    "import yaml\n",
    "with open(DATA_FOLDER+'class_labels.yaml', 'w') as f:\n",
    "    yaml.dump(class_labels, f)"
   ]
  },
  {
   "cell_type": "code",
   "execution_count": 46,
   "metadata": {
    "colab": {},
    "colab_type": "code",
    "id": "28tIKkNyW3cO"
   },
   "outputs": [
    {
     "data": {
      "text/plain": [
       "array([[-0.61024783, -0.52619648,  1.07077919,  1.35095036, -0.24602531,\n",
       "        -1.08653881, -1.17059017, -1.36670998],\n",
       "       [-0.52619648, -0.41412801,  1.266899  ,  1.35095036,  0.65052243,\n",
       "        -0.890419  , -1.17059017, -1.36670998],\n",
       "       [-0.52619648,  0.70655667,  1.63112152,  1.63112152,  1.43500171,\n",
       "        -0.41412801, -1.03050458, -1.25464152],\n",
       "       [-0.33007666,  1.43500171,  1.54707017,  1.71517288,  1.54707017,\n",
       "         0.70655667, -0.890419  , -1.17059017],\n",
       "       [ 0.31431703,  0.03414586,  1.266899  ,  1.49103594,  1.49103594,\n",
       "         1.07077919, -0.13395684, -0.97447035],\n",
       "       [-0.69429918, -0.890419  ,  0.23026568,  1.21086477,  1.07077919,\n",
       "         0.31431703,  0.03414586, -0.41412801],\n",
       "       [-1.25464152, -1.03050458, -0.61024783,  0.98672784,  0.37035126,\n",
       "         0.51043685, -0.69429918, -0.890419  ],\n",
       "       [-1.25464152, -1.03050458, -1.03050458, -0.47016224,  0.23026568,\n",
       "        -0.52619648, -0.69429918, -1.08653881]])"
      ]
     },
     "execution_count": 46,
     "metadata": {},
     "output_type": "execute_result"
    },
    {
     "data": {
      "image/png": "[encoded data removed]",
      "text/plain": [
       "<matplotlib.figure.Figure at 0x1ebdc67b048>"
      ]
     },
     "metadata": {},
     "output_type": "display_data"
    }
   ],
   "source": [
    "train_data, train_labels = [], []\n",
    "test_data, test_labels = [], []\n",
    "for img, label in training_set:\n",
    "    train_data.append(img)\n",
    "    train_labels.append(label)\n",
    "for img, label in test_set:\n",
    "    test_data.append(img)\n",
    "    test_labels.append(label)\n",
    "train_data = np.array(train_data).reshape((TRAINING_FILES*len(class_labels), 8, 8, 1))\n",
    "train_labels = np.array(train_labels, dtype='uint8')\n",
    "test_data = np.array(test_data).reshape((TEST_FILES*len(class_labels), 8, 8, 1))\n",
    "test_lables = np.array(test_labels, dtype='uint8')\n",
    "#train_data.shape\n",
    "\n",
    "from keras.utils import to_categorical\n",
    "\n",
    "train_labels=to_categorical(train_labels)\n",
    "test_labels=to_categorical(test_labels)\n",
    "\n",
    "plt.imshow(train_data[12,:,:,0])\n",
    "train_data[12,:,:,0]"
   ]
  },
  {
   "cell_type": "markdown",
   "metadata": {
    "colab_type": "text",
    "id": "VfUmgxxVk6uM"
   },
   "source": [
    "### CNN model"
   ]
  },
  {
   "cell_type": "code",
   "execution_count": 47,
   "metadata": {
    "colab": {
     "base_uri": "https://localhost:8080/",
     "height": 509
    },
    "colab_type": "code",
    "id": "B2Xg6tGLdMKP",
    "outputId": "ae3daa32-9dbf-4d8b-9a11-7f596dd2e4a6"
   },
   "outputs": [
    {
     "name": "stdout",
     "output_type": "stream",
     "text": [
      "_________________________________________________________________\n",
      "Layer (type)                 Output Shape              Param #   \n",
      "=================================================================\n",
      "conv2d_5 (Conv2D)            (None, 8, 8, 16)          160       \n",
      "_________________________________________________________________\n",
      "max_pooling2d_5 (MaxPooling2 (None, 4, 4, 16)          0         \n",
      "_________________________________________________________________\n",
      "conv2d_6 (Conv2D)            (None, 4, 4, 32)          4640      \n",
      "_________________________________________________________________\n",
      "max_pooling2d_6 (MaxPooling2 (None, 2, 2, 32)          0         \n",
      "_________________________________________________________________\n",
      "flatten_3 (Flatten)          (None, 128)               0         \n",
      "_________________________________________________________________\n",
      "dropout_5 (Dropout)          (None, 128)               0         \n",
      "_________________________________________________________________\n",
      "dense_5 (Dense)              (None, 256)               33024     \n",
      "_________________________________________________________________\n",
      "dropout_6 (Dropout)          (None, 256)               0         \n",
      "_________________________________________________________________\n",
      "dense_6 (Dense)              (None, 3)                 771       \n",
      "=================================================================\n",
      "Total params: 38,595\n",
      "Trainable params: 38,595\n",
      "Non-trainable params: 0\n",
      "_________________________________________________________________\n"
     ]
    }
   ],
   "source": [
    "from keras import layers\n",
    "from keras import models\n",
    "\n",
    "model = models.Sequential()\n",
    "\n",
    "model.add(layers.Conv2D(16, (3, 3), padding='same', activation='relu', input_shape=(8, 8, 1)))\n",
    "model.add(layers.MaxPooling2D((2,2)))\n",
    "\n",
    "model.add(layers.Conv2D(32, (3, 3), padding='same', activation='relu'))\n",
    "model.add(layers.MaxPooling2D((2,2)))\n",
    "\n",
    "model.add(layers.Flatten())\n",
    "model.add(layers.Dropout(0.5))\n",
    "model.add(layers.Dense(256, activation='relu'))\n",
    "model.add(layers.Dropout(0.5))\n",
    "model.add(layers.Dense(len(class_labels), activation='softmax'))\n",
    "\n",
    "model.summary()"
   ]
  },
  {
   "cell_type": "code",
   "execution_count": 48,
   "metadata": {
    "colab": {},
    "colab_type": "code",
    "id": "nRr1L_4ogL6i"
   },
   "outputs": [],
   "source": [
    "model.compile(optimizer='rmsprop', loss='categorical_crossentropy', metrics=['accuracy'])"
   ]
  },
  {
   "cell_type": "code",
   "execution_count": 49,
   "metadata": {},
   "outputs": [
    {
     "data": {
      "image/svg+xml": [
       "<svg height=\"702pt\" viewBox=\"0.00 0.00 217.00 702.00\" width=\"217pt\" xmlns=\"http://www.w3.org/2000/svg\" xmlns:xlink=\"http://www.w3.org/1999/xlink\">\n",
       "<g class=\"graph\" id=\"graph0\" transform=\"scale(1 1) rotate(0) translate(4 698)\">\n",
       "<title>G</title>\n",
       "<polygon fill=\"white\" points=\"-4,4 -4,-698 213,-698 213,4 -4,4\" stroke=\"none\"/>\n",
       "<!-- 2112522232216 -->\n",
       "<g class=\"node\" id=\"node1\"><title>2112522232216</title>\n",
       "<polygon fill=\"none\" points=\"41,-584.5 41,-620.5 168,-620.5 168,-584.5 41,-584.5\" stroke=\"black\"/>\n",
       "<text font-family=\"Times New Roman,serif\" font-size=\"14.00\" text-anchor=\"middle\" x=\"104.5\" y=\"-598.8\">conv2d_5: Conv2D</text>\n",
       "</g>\n",
       "<!-- 2112521934720 -->\n",
       "<g class=\"node\" id=\"node2\"><title>2112521934720</title>\n",
       "<polygon fill=\"none\" points=\"0,-511.5 0,-547.5 209,-547.5 209,-511.5 0,-511.5\" stroke=\"black\"/>\n",
       "<text font-family=\"Times New Roman,serif\" font-size=\"14.00\" text-anchor=\"middle\" x=\"104.5\" y=\"-525.8\">max_pooling2d_5: MaxPooling2D</text>\n",
       "</g>\n",
       "<!-- 2112522232216&#45;&gt;2112521934720 -->\n",
       "<g class=\"edge\" id=\"edge2\"><title>2112522232216-&gt;2112521934720</title>\n",
       "<path d=\"M104.5,-584.313C104.5,-576.289 104.5,-566.547 104.5,-557.569\" fill=\"none\" stroke=\"black\"/>\n",
       "<polygon fill=\"black\" points=\"108,-557.529 104.5,-547.529 101,-557.529 108,-557.529\" stroke=\"black\"/>\n",
       "</g>\n",
       "<!-- 2112521933992 -->\n",
       "<g class=\"node\" id=\"node3\"><title>2112521933992</title>\n",
       "<polygon fill=\"none\" points=\"41,-438.5 41,-474.5 168,-474.5 168,-438.5 41,-438.5\" stroke=\"black\"/>\n",
       "<text font-family=\"Times New Roman,serif\" font-size=\"14.00\" text-anchor=\"middle\" x=\"104.5\" y=\"-452.8\">conv2d_6: Conv2D</text>\n",
       "</g>\n",
       "<!-- 2112521934720&#45;&gt;2112521933992 -->\n",
       "<g class=\"edge\" id=\"edge3\"><title>2112521934720-&gt;2112521933992</title>\n",
       "<path d=\"M104.5,-511.313C104.5,-503.289 104.5,-493.547 104.5,-484.569\" fill=\"none\" stroke=\"black\"/>\n",
       "<polygon fill=\"black\" points=\"108,-484.529 104.5,-474.529 101,-484.529 108,-484.529\" stroke=\"black\"/>\n",
       "</g>\n",
       "<!-- 2112526849248 -->\n",
       "<g class=\"node\" id=\"node4\"><title>2112526849248</title>\n",
       "<polygon fill=\"none\" points=\"0,-365.5 0,-401.5 209,-401.5 209,-365.5 0,-365.5\" stroke=\"black\"/>\n",
       "<text font-family=\"Times New Roman,serif\" font-size=\"14.00\" text-anchor=\"middle\" x=\"104.5\" y=\"-379.8\">max_pooling2d_6: MaxPooling2D</text>\n",
       "</g>\n",
       "<!-- 2112521933992&#45;&gt;2112526849248 -->\n",
       "<g class=\"edge\" id=\"edge4\"><title>2112521933992-&gt;2112526849248</title>\n",
       "<path d=\"M104.5,-438.313C104.5,-430.289 104.5,-420.547 104.5,-411.569\" fill=\"none\" stroke=\"black\"/>\n",
       "<polygon fill=\"black\" points=\"108,-411.529 104.5,-401.529 101,-411.529 108,-411.529\" stroke=\"black\"/>\n",
       "</g>\n",
       "<!-- 2112526729112 -->\n",
       "<g class=\"node\" id=\"node5\"><title>2112526729112</title>\n",
       "<polygon fill=\"none\" points=\"50,-292.5 50,-328.5 159,-328.5 159,-292.5 50,-292.5\" stroke=\"black\"/>\n",
       "<text font-family=\"Times New Roman,serif\" font-size=\"14.00\" text-anchor=\"middle\" x=\"104.5\" y=\"-306.8\">flatten_3: Flatten</text>\n",
       "</g>\n",
       "<!-- 2112526849248&#45;&gt;2112526729112 -->\n",
       "<g class=\"edge\" id=\"edge5\"><title>2112526849248-&gt;2112526729112</title>\n",
       "<path d=\"M104.5,-365.313C104.5,-357.289 104.5,-347.547 104.5,-338.569\" fill=\"none\" stroke=\"black\"/>\n",
       "<polygon fill=\"black\" points=\"108,-338.529 104.5,-328.529 101,-338.529 108,-338.529\" stroke=\"black\"/>\n",
       "</g>\n",
       "<!-- 2112496628008 -->\n",
       "<g class=\"node\" id=\"node6\"><title>2112496628008</title>\n",
       "<polygon fill=\"none\" points=\"39.5,-219.5 39.5,-255.5 169.5,-255.5 169.5,-219.5 39.5,-219.5\" stroke=\"black\"/>\n",
       "<text font-family=\"Times New Roman,serif\" font-size=\"14.00\" text-anchor=\"middle\" x=\"104.5\" y=\"-233.8\">dropout_5: Dropout</text>\n",
       "</g>\n",
       "<!-- 2112526729112&#45;&gt;2112496628008 -->\n",
       "<g class=\"edge\" id=\"edge6\"><title>2112526729112-&gt;2112496628008</title>\n",
       "<path d=\"M104.5,-292.313C104.5,-284.289 104.5,-274.547 104.5,-265.569\" fill=\"none\" stroke=\"black\"/>\n",
       "<polygon fill=\"black\" points=\"108,-265.529 104.5,-255.529 101,-265.529 108,-265.529\" stroke=\"black\"/>\n",
       "</g>\n",
       "<!-- 2112496628288 -->\n",
       "<g class=\"node\" id=\"node7\"><title>2112496628288</title>\n",
       "<polygon fill=\"none\" points=\"52.5,-146.5 52.5,-182.5 156.5,-182.5 156.5,-146.5 52.5,-146.5\" stroke=\"black\"/>\n",
       "<text font-family=\"Times New Roman,serif\" font-size=\"14.00\" text-anchor=\"middle\" x=\"104.5\" y=\"-160.8\">dense_5: Dense</text>\n",
       "</g>\n",
       "<!-- 2112496628008&#45;&gt;2112496628288 -->\n",
       "<g class=\"edge\" id=\"edge7\"><title>2112496628008-&gt;2112496628288</title>\n",
       "<path d=\"M104.5,-219.313C104.5,-211.289 104.5,-201.547 104.5,-192.569\" fill=\"none\" stroke=\"black\"/>\n",
       "<polygon fill=\"black\" points=\"108,-192.529 104.5,-182.529 101,-192.529 108,-192.529\" stroke=\"black\"/>\n",
       "</g>\n",
       "<!-- 2112475677080 -->\n",
       "<g class=\"node\" id=\"node8\"><title>2112475677080</title>\n",
       "<polygon fill=\"none\" points=\"39.5,-73.5 39.5,-109.5 169.5,-109.5 169.5,-73.5 39.5,-73.5\" stroke=\"black\"/>\n",
       "<text font-family=\"Times New Roman,serif\" font-size=\"14.00\" text-anchor=\"middle\" x=\"104.5\" y=\"-87.8\">dropout_6: Dropout</text>\n",
       "</g>\n",
       "<!-- 2112496628288&#45;&gt;2112475677080 -->\n",
       "<g class=\"edge\" id=\"edge8\"><title>2112496628288-&gt;2112475677080</title>\n",
       "<path d=\"M104.5,-146.313C104.5,-138.289 104.5,-128.547 104.5,-119.569\" fill=\"none\" stroke=\"black\"/>\n",
       "<polygon fill=\"black\" points=\"108,-119.529 104.5,-109.529 101,-119.529 108,-119.529\" stroke=\"black\"/>\n",
       "</g>\n",
       "<!-- 2112475679544 -->\n",
       "<g class=\"node\" id=\"node9\"><title>2112475679544</title>\n",
       "<polygon fill=\"none\" points=\"52.5,-0.5 52.5,-36.5 156.5,-36.5 156.5,-0.5 52.5,-0.5\" stroke=\"black\"/>\n",
       "<text font-family=\"Times New Roman,serif\" font-size=\"14.00\" text-anchor=\"middle\" x=\"104.5\" y=\"-14.8\">dense_6: Dense</text>\n",
       "</g>\n",
       "<!-- 2112475677080&#45;&gt;2112475679544 -->\n",
       "<g class=\"edge\" id=\"edge9\"><title>2112475677080-&gt;2112475679544</title>\n",
       "<path d=\"M104.5,-73.3129C104.5,-65.2895 104.5,-55.5475 104.5,-46.5691\" fill=\"none\" stroke=\"black\"/>\n",
       "<polygon fill=\"black\" points=\"108,-46.5288 104.5,-36.5288 101,-46.5289 108,-46.5288\" stroke=\"black\"/>\n",
       "</g>\n",
       "<!-- 2112521934944 -->\n",
       "<g class=\"node\" id=\"node10\"><title>2112521934944</title>\n",
       "<polygon fill=\"none\" points=\"52.5,-657.5 52.5,-693.5 156.5,-693.5 156.5,-657.5 52.5,-657.5\" stroke=\"black\"/>\n",
       "<text font-family=\"Times New Roman,serif\" font-size=\"14.00\" text-anchor=\"middle\" x=\"104.5\" y=\"-671.8\">2112521934944</text>\n",
       "</g>\n",
       "<!-- 2112521934944&#45;&gt;2112522232216 -->\n",
       "<g class=\"edge\" id=\"edge1\"><title>2112521934944-&gt;2112522232216</title>\n",
       "<path d=\"M104.5,-657.313C104.5,-649.289 104.5,-639.547 104.5,-630.569\" fill=\"none\" stroke=\"black\"/>\n",
       "<polygon fill=\"black\" points=\"108,-630.529 104.5,-620.529 101,-630.529 108,-630.529\" stroke=\"black\"/>\n",
       "</g>\n",
       "</g>\n",
       "</svg>"
      ],
      "text/plain": [
       "<IPython.core.display.SVG object>"
      ]
     },
     "execution_count": 49,
     "metadata": {},
     "output_type": "execute_result"
    }
   ],
   "source": [
    "from IPython.display import SVG\n",
    "from keras.utils.vis_utils import model_to_dot\n",
    "\n",
    "SVG(model_to_dot(model).create(prog='dot', format='svg'))"
   ]
  },
  {
   "cell_type": "markdown",
   "metadata": {
    "colab_type": "text",
    "id": "TfypWUJIlFkz"
   },
   "source": [
    "## Training CNN"
   ]
  },
  {
   "cell_type": "code",
   "execution_count": 50,
   "metadata": {
    "colab": {
     "base_uri": "https://localhost:8080/",
     "height": 931
    },
    "colab_type": "code",
    "id": "zsdmu-ggfvr1",
    "outputId": "77a52558-8ecc-4fc5-e0cb-2b86a75df4c6",
    "scrolled": false
   },
   "outputs": [
    {
     "name": "stdout",
     "output_type": "stream",
     "text": [
      "Train on 90 samples, validate on 45 samples\n",
      "Epoch 1/80\n",
      "90/90 [==============================] - 0s 5ms/step - loss: 1.2161 - acc: 0.3000 - val_loss: 1.0374 - val_acc: 0.3556\n",
      "Epoch 2/80\n",
      "90/90 [==============================] - 0s 199us/step - loss: 1.0992 - acc: 0.4222 - val_loss: 0.9781 - val_acc: 0.6444\n",
      "Epoch 3/80\n",
      "90/90 [==============================] - 0s 299us/step - loss: 1.0043 - acc: 0.5778 - val_loss: 0.9319 - val_acc: 0.6889\n",
      "Epoch 4/80\n",
      "90/90 [==============================] - 0s 266us/step - loss: 0.9490 - acc: 0.5889 - val_loss: 0.8753 - val_acc: 0.7111\n",
      "Epoch 5/80\n",
      "90/90 [==============================] - 0s 344us/step - loss: 0.9691 - acc: 0.5000 - val_loss: 0.8310 - val_acc: 0.9111\n",
      "Epoch 6/80\n",
      "90/90 [==============================] - 0s 277us/step - loss: 0.9366 - acc: 0.5778 - val_loss: 0.7896 - val_acc: 0.7778\n",
      "Epoch 7/80\n",
      "90/90 [==============================] - 0s 299us/step - loss: 0.8703 - acc: 0.6000 - val_loss: 0.7485 - val_acc: 0.8000\n",
      "Epoch 8/80\n",
      "90/90 [==============================] - 0s 332us/step - loss: 0.8302 - acc: 0.7000 - val_loss: 0.7067 - val_acc: 0.8000\n",
      "Epoch 9/80\n",
      "90/90 [==============================] - 0s 410us/step - loss: 0.8360 - acc: 0.6889 - val_loss: 0.6883 - val_acc: 0.7556\n",
      "Epoch 10/80\n",
      "90/90 [==============================] - 0s 344us/step - loss: 0.7976 - acc: 0.6667 - val_loss: 0.6280 - val_acc: 0.9111\n",
      "Epoch 11/80\n",
      "90/90 [==============================] - 0s 344us/step - loss: 0.6859 - acc: 0.8000 - val_loss: 0.5851 - val_acc: 0.9111\n",
      "Epoch 12/80\n",
      "90/90 [==============================] - 0s 366us/step - loss: 0.7586 - acc: 0.6667 - val_loss: 0.5596 - val_acc: 0.8667\n",
      "Epoch 13/80\n",
      "90/90 [==============================] - 0s 321us/step - loss: 0.7088 - acc: 0.7111 - val_loss: 0.5232 - val_acc: 0.9111\n",
      "Epoch 14/80\n",
      "90/90 [==============================] - 0s 355us/step - loss: 0.6912 - acc: 0.7333 - val_loss: 0.5131 - val_acc: 0.8889\n",
      "Epoch 15/80\n",
      "90/90 [==============================] - 0s 366us/step - loss: 0.6392 - acc: 0.7778 - val_loss: 0.4735 - val_acc: 0.8889\n",
      "Epoch 16/80\n",
      "90/90 [==============================] - 0s 332us/step - loss: 0.5612 - acc: 0.7667 - val_loss: 0.4266 - val_acc: 0.9333\n",
      "Epoch 17/80\n",
      "90/90 [==============================] - 0s 344us/step - loss: 0.4854 - acc: 0.8444 - val_loss: 0.3889 - val_acc: 0.9556\n",
      "Epoch 18/80\n",
      "90/90 [==============================] - 0s 321us/step - loss: 0.5551 - acc: 0.8333 - val_loss: 0.3633 - val_acc: 0.9333\n",
      "Epoch 19/80\n",
      "90/90 [==============================] - 0s 288us/step - loss: 0.4529 - acc: 0.8556 - val_loss: 0.3678 - val_acc: 0.9556\n",
      "Epoch 20/80\n",
      "90/90 [==============================] - 0s 233us/step - loss: 0.4639 - acc: 0.8222 - val_loss: 0.3121 - val_acc: 0.9778\n",
      "Epoch 21/80\n",
      "90/90 [==============================] - 0s 277us/step - loss: 0.5198 - acc: 0.8333 - val_loss: 0.3205 - val_acc: 0.9556\n",
      "Epoch 22/80\n",
      "90/90 [==============================] - 0s 199us/step - loss: 0.4931 - acc: 0.8333 - val_loss: 0.3145 - val_acc: 0.8889\n",
      "Epoch 23/80\n",
      "90/90 [==============================] - 0s 244us/step - loss: 0.4169 - acc: 0.8778 - val_loss: 0.2653 - val_acc: 0.9778\n",
      "Epoch 24/80\n",
      "90/90 [==============================] - 0s 177us/step - loss: 0.3963 - acc: 0.8667 - val_loss: 0.2591 - val_acc: 0.9778\n",
      "Epoch 25/80\n",
      "90/90 [==============================] - 0s 188us/step - loss: 0.3303 - acc: 0.9333 - val_loss: 0.2473 - val_acc: 0.9556\n",
      "Epoch 26/80\n",
      "90/90 [==============================] - 0s 177us/step - loss: 0.4203 - acc: 0.8556 - val_loss: 0.2242 - val_acc: 0.9778\n",
      "Epoch 27/80\n",
      "90/90 [==============================] - 0s 177us/step - loss: 0.3572 - acc: 0.8889 - val_loss: 0.2261 - val_acc: 0.9556\n",
      "Epoch 28/80\n",
      "90/90 [==============================] - 0s 177us/step - loss: 0.3419 - acc: 0.8667 - val_loss: 0.2040 - val_acc: 0.9778\n",
      "Epoch 29/80\n",
      "90/90 [==============================] - 0s 199us/step - loss: 0.2852 - acc: 0.9333 - val_loss: 0.1849 - val_acc: 0.9778\n",
      "Epoch 30/80\n",
      "90/90 [==============================] - 0s 199us/step - loss: 0.3192 - acc: 0.9111 - val_loss: 0.1999 - val_acc: 0.9778\n",
      "Epoch 31/80\n",
      "90/90 [==============================] - 0s 188us/step - loss: 0.2541 - acc: 0.9444 - val_loss: 0.1584 - val_acc: 0.9778\n",
      "Epoch 32/80\n",
      "90/90 [==============================] - 0s 166us/step - loss: 0.2673 - acc: 0.9333 - val_loss: 0.1836 - val_acc: 0.9778\n",
      "Epoch 33/80\n",
      "90/90 [==============================] - 0s 222us/step - loss: 0.3172 - acc: 0.9222 - val_loss: 0.1631 - val_acc: 0.9556\n",
      "Epoch 34/80\n",
      "90/90 [==============================] - 0s 211us/step - loss: 0.2539 - acc: 0.9222 - val_loss: 0.1578 - val_acc: 0.9778\n",
      "Epoch 35/80\n",
      "90/90 [==============================] - 0s 188us/step - loss: 0.1985 - acc: 0.9222 - val_loss: 0.1479 - val_acc: 0.9778\n",
      "Epoch 36/80\n",
      "90/90 [==============================] - 0s 199us/step - loss: 0.2469 - acc: 0.9444 - val_loss: 0.1374 - val_acc: 0.9778\n",
      "Epoch 37/80\n",
      "90/90 [==============================] - 0s 222us/step - loss: 0.2031 - acc: 0.9444 - val_loss: 0.1632 - val_acc: 0.9333\n",
      "Epoch 38/80\n",
      "90/90 [==============================] - 0s 188us/step - loss: 0.2621 - acc: 0.8889 - val_loss: 0.1541 - val_acc: 0.9556\n",
      "Epoch 39/80\n",
      "90/90 [==============================] - 0s 199us/step - loss: 0.1885 - acc: 0.9556 - val_loss: 0.1399 - val_acc: 0.9778\n",
      "Epoch 40/80\n",
      "90/90 [==============================] - 0s 266us/step - loss: 0.2564 - acc: 0.9222 - val_loss: 0.1273 - val_acc: 0.9778\n",
      "Epoch 41/80\n",
      "90/90 [==============================] - 0s 211us/step - loss: 0.1910 - acc: 0.9778 - val_loss: 0.1123 - val_acc: 0.9778\n",
      "Epoch 42/80\n",
      "90/90 [==============================] - 0s 188us/step - loss: 0.1875 - acc: 0.9444 - val_loss: 0.1093 - val_acc: 0.9778\n",
      "Epoch 43/80\n",
      "90/90 [==============================] - 0s 199us/step - loss: 0.2186 - acc: 0.9111 - val_loss: 0.1155 - val_acc: 0.9778\n",
      "Epoch 44/80\n",
      "90/90 [==============================] - 0s 199us/step - loss: 0.1449 - acc: 0.9889 - val_loss: 0.0961 - val_acc: 0.9778\n",
      "Epoch 45/80\n",
      "90/90 [==============================] - 0s 177us/step - loss: 0.1490 - acc: 0.9667 - val_loss: 0.1068 - val_acc: 0.9778\n",
      "Epoch 46/80\n",
      "90/90 [==============================] - 0s 177us/step - loss: 0.1318 - acc: 0.9778 - val_loss: 0.0849 - val_acc: 0.9778\n",
      "Epoch 47/80\n",
      "90/90 [==============================] - 0s 266us/step - loss: 0.1343 - acc: 0.9667 - val_loss: 0.0857 - val_acc: 0.9778\n",
      "Epoch 48/80\n",
      "90/90 [==============================] - 0s 233us/step - loss: 0.1470 - acc: 0.9667 - val_loss: 0.0827 - val_acc: 0.9778\n",
      "Epoch 49/80\n",
      "90/90 [==============================] - 0s 233us/step - loss: 0.0980 - acc: 0.9556 - val_loss: 0.0783 - val_acc: 0.9778\n",
      "Epoch 50/80\n",
      "90/90 [==============================] - 0s 188us/step - loss: 0.1630 - acc: 0.9778 - val_loss: 0.0749 - val_acc: 0.9778\n",
      "Epoch 51/80\n",
      "90/90 [==============================] - 0s 322us/step - loss: 0.0946 - acc: 0.9889 - val_loss: 0.0693 - val_acc: 0.9778\n",
      "Epoch 52/80\n",
      "90/90 [==============================] - 0s 233us/step - loss: 0.1444 - acc: 0.9778 - val_loss: 0.0790 - val_acc: 0.9778\n",
      "Epoch 53/80\n",
      "90/90 [==============================] - 0s 277us/step - loss: 0.2118 - acc: 0.9667 - val_loss: 0.0760 - val_acc: 0.9778\n",
      "Epoch 54/80\n",
      "90/90 [==============================] - 0s 211us/step - loss: 0.0750 - acc: 0.9889 - val_loss: 0.0782 - val_acc: 0.9778\n",
      "Epoch 55/80\n",
      "90/90 [==============================] - 0s 233us/step - loss: 0.0970 - acc: 0.9667 - val_loss: 0.0708 - val_acc: 0.9778\n",
      "Epoch 56/80\n",
      "90/90 [==============================] - 0s 277us/step - loss: 0.0884 - acc: 0.9889 - val_loss: 0.0624 - val_acc: 0.9778\n",
      "Epoch 57/80\n",
      "90/90 [==============================] - 0s 233us/step - loss: 0.1194 - acc: 0.9778 - val_loss: 0.0689 - val_acc: 0.9778\n",
      "Epoch 58/80\n",
      "90/90 [==============================] - 0s 189us/step - loss: 0.0738 - acc: 0.9889 - val_loss: 0.0971 - val_acc: 0.9778\n",
      "Epoch 59/80\n",
      "90/90 [==============================] - 0s 188us/step - loss: 0.0837 - acc: 0.9778 - val_loss: 0.0688 - val_acc: 0.9778\n",
      "Epoch 60/80\n",
      "90/90 [==============================] - 0s 277us/step - loss: 0.0732 - acc: 0.9667 - val_loss: 0.0631 - val_acc: 0.9778\n",
      "Epoch 61/80\n",
      "90/90 [==============================] - 0s 188us/step - loss: 0.0841 - acc: 0.9778 - val_loss: 0.0567 - val_acc: 0.9778\n",
      "Epoch 62/80\n"
     ]
    },
    {
     "name": "stdout",
     "output_type": "stream",
     "text": [
      "90/90 [==============================] - 0s 177us/step - loss: 0.0740 - acc: 0.9778 - val_loss: 0.0529 - val_acc: 0.9778\n",
      "Epoch 63/80\n",
      "90/90 [==============================] - 0s 222us/step - loss: 0.0772 - acc: 0.9667 - val_loss: 0.0437 - val_acc: 0.9778\n",
      "Epoch 64/80\n",
      "90/90 [==============================] - 0s 177us/step - loss: 0.0743 - acc: 0.9889 - val_loss: 0.0561 - val_acc: 0.9778\n",
      "Epoch 65/80\n",
      "90/90 [==============================] - 0s 177us/step - loss: 0.0616 - acc: 0.9778 - val_loss: 0.0480 - val_acc: 0.9778\n",
      "Epoch 66/80\n",
      "90/90 [==============================] - 0s 177us/step - loss: 0.0702 - acc: 0.9889 - val_loss: 0.0690 - val_acc: 0.9778\n",
      "Epoch 67/80\n",
      "90/90 [==============================] - 0s 255us/step - loss: 0.0547 - acc: 0.9889 - val_loss: 0.0450 - val_acc: 0.9778\n",
      "Epoch 68/80\n",
      "90/90 [==============================] - 0s 211us/step - loss: 0.0405 - acc: 1.0000 - val_loss: 0.0594 - val_acc: 0.9778\n",
      "Epoch 69/80\n",
      "90/90 [==============================] - ETA: 0s - loss: 0.0554 - acc: 1.000 - 0s 188us/step - loss: 0.0510 - acc: 1.0000 - val_loss: 0.0538 - val_acc: 0.9778\n",
      "Epoch 70/80\n",
      "90/90 [==============================] - 0s 244us/step - loss: 0.0496 - acc: 1.0000 - val_loss: 0.0348 - val_acc: 0.9778\n",
      "Epoch 71/80\n",
      "90/90 [==============================] - 0s 188us/step - loss: 0.0424 - acc: 1.0000 - val_loss: 0.0494 - val_acc: 0.9778\n",
      "Epoch 72/80\n",
      "90/90 [==============================] - 0s 211us/step - loss: 0.1447 - acc: 0.9556 - val_loss: 0.0518 - val_acc: 0.9778\n",
      "Epoch 73/80\n",
      "90/90 [==============================] - 0s 199us/step - loss: 0.0717 - acc: 0.9889 - val_loss: 0.0701 - val_acc: 0.9778\n",
      "Epoch 74/80\n",
      "90/90 [==============================] - 0s 199us/step - loss: 0.0577 - acc: 0.9889 - val_loss: 0.0652 - val_acc: 0.9778\n",
      "Epoch 75/80\n",
      "90/90 [==============================] - 0s 188us/step - loss: 0.0284 - acc: 1.0000 - val_loss: 0.0621 - val_acc: 0.9778\n",
      "Epoch 76/80\n",
      "90/90 [==============================] - 0s 211us/step - loss: 0.0350 - acc: 1.0000 - val_loss: 0.0565 - val_acc: 0.9778\n",
      "Epoch 77/80\n",
      "90/90 [==============================] - 0s 188us/step - loss: 0.0594 - acc: 0.9889 - val_loss: 0.0752 - val_acc: 0.9778\n",
      "Epoch 78/80\n",
      "90/90 [==============================] - 0s 188us/step - loss: 0.0350 - acc: 1.0000 - val_loss: 0.0485 - val_acc: 0.9778\n",
      "Epoch 79/80\n",
      "90/90 [==============================] - 0s 177us/step - loss: 0.0538 - acc: 0.9889 - val_loss: 0.0508 - val_acc: 0.9778\n",
      "Epoch 80/80\n",
      "90/90 [==============================] - 0s 177us/step - loss: 0.0463 - acc: 0.9889 - val_loss: 0.0490 - val_acc: 0.9778\n"
     ]
    }
   ],
   "source": [
    "EPOCHS = 80\n",
    "history = model.fit(train_data, train_labels, epochs=EPOCHS, validation_data=(test_data, test_labels))"
   ]
  },
  {
   "cell_type": "code",
   "execution_count": 51,
   "metadata": {},
   "outputs": [
    {
     "name": "stdout",
     "output_type": "stream",
     "text": [
      "dict_keys(['val_loss', 'val_acc', 'loss', 'acc'])\n"
     ]
    },
    {
     "data": {
      "image/png": "[encoded data removed]",
      "text/plain": [
       "<matplotlib.figure.Figure at 0x1ebde70fe80>"
      ]
     },
     "metadata": {},
     "output_type": "display_data"
    },
    {
     "data": {
      "image/png": "[encoded data removed]",
      "text/plain": [
       "<matplotlib.figure.Figure at 0x1ebdc65ab70>"
      ]
     },
     "metadata": {},
     "output_type": "display_data"
    }
   ],
   "source": [
    "print(history.history.keys())\n",
    "\n",
    "# Plot training & validation accuracy values\n",
    "plt.plot(history.history['acc'])\n",
    "plt.plot(history.history['val_acc'])\n",
    "\n",
    "plt.title('Model accuracy')\n",
    "plt.ylabel('Accuracy')\n",
    "plt.xlabel('Epoch')\n",
    "plt.legend(['Train', 'Test'], loc='upper left')\n",
    "plt.show()\n",
    "\n",
    "# Plot training & validation loss values\n",
    "plt.plot(history.history['loss'])\n",
    "plt.plot(history.history['val_loss'])\n",
    "plt.title('Model loss')\n",
    "plt.ylabel('Loss')\n",
    "plt.xlabel('Epoch')\n",
    "plt.legend(['Train', 'Test'], loc='upper left')\n",
    "plt.show()"
   ]
  },
  {
   "cell_type": "markdown",
   "metadata": {},
   "source": [
    "## Save the model"
   ]
  },
  {
   "cell_type": "code",
   "execution_count": 52,
   "metadata": {},
   "outputs": [],
   "source": [
    "import datetime\n",
    "\n",
    "dt = datetime.datetime.today().strftime('%Y%m%d%H%M%S')\n",
    "filename = 'rock_paper_scissors_cnn_{}.h5'.format(dt)\n",
    "model.save(filename)"
   ]
  },
  {
   "cell_type": "markdown",
   "metadata": {},
   "source": [
    "## Load the model"
   ]
  },
  {
   "cell_type": "code",
   "execution_count": 53,
   "metadata": {},
   "outputs": [],
   "source": [
    "del model\n",
    "model = models.load_model(filename)"
   ]
  },
  {
   "cell_type": "markdown",
   "metadata": {
    "colab_type": "text",
    "id": "j6con4C3lKC1"
   },
   "source": [
    "## Confirmation"
   ]
  },
  {
   "cell_type": "code",
   "execution_count": 54,
   "metadata": {
    "colab": {
     "base_uri": "https://localhost:8080/",
     "height": 34
    },
    "colab_type": "code",
    "id": "4oZYLLij69wU",
    "outputId": "b37a4b8a-2c80-411f-d8a9-5df1c6dbfe22"
   },
   "outputs": [
    {
     "data": {
      "text/plain": [
       "(90, 8, 8, 1)"
      ]
     },
     "execution_count": 54,
     "metadata": {},
     "output_type": "execute_result"
    }
   ],
   "source": [
    "import numpy as np\n",
    "import matplotlib.pyplot as plt\n",
    "train_data.shape"
   ]
  },
  {
   "cell_type": "code",
   "execution_count": 55,
   "metadata": {
    "colab": {
     "base_uri": "https://localhost:8080/",
     "height": 193
    },
    "colab_type": "code",
    "id": "zSxXE9FgRBdJ",
    "outputId": "f3a53efe-e99f-4572-f9b4-1bf3c39c77ec"
   },
   "outputs": [],
   "source": [
    "layer_outputs = [layer.output for layer in model.layers]\n",
    "#layer_outputs"
   ]
  },
  {
   "cell_type": "code",
   "execution_count": 56,
   "metadata": {
    "colab": {
     "base_uri": "https://localhost:8080/",
     "height": 34
    },
    "colab_type": "code",
    "id": "dcw7yHKrRkPD",
    "outputId": "a3ed5441-ae48-4635-bf07-ac5060030608"
   },
   "outputs": [],
   "source": [
    "activation_model = models.Model(inputs=model.input, outputs=layer_outputs)\n",
    "activations = activation_model.predict(test_data)\n",
    "#activations[0][0,:,:,0].shape"
   ]
  },
  {
   "cell_type": "code",
   "execution_count": 57,
   "metadata": {},
   "outputs": [
    {
     "data": {
      "text/plain": [
       "['paper', 'rock', 'scissors']"
      ]
     },
     "execution_count": 57,
     "metadata": {},
     "output_type": "execute_result"
    }
   ],
   "source": [
    "class_labels"
   ]
  },
  {
   "cell_type": "code",
   "execution_count": 58,
   "metadata": {
    "colab": {
     "base_uri": "https://localhost:8080/",
     "height": 193
    },
    "colab_type": "code",
    "id": "ccSNAwGKhRn9",
    "outputId": "0ad22e12-713b-4b07-e17b-45d39ff1b80b"
   },
   "outputs": [
    {
     "data": {
      "text/plain": [
       "array([[ 0,  0, 99],\n",
       "       [99,  0,  0],\n",
       "       [97,  0,  2],\n",
       "       [ 6, 93,  0],\n",
       "       [ 6, 78, 15],\n",
       "       [ 0,  0, 99],\n",
       "       [99,  0,  0],\n",
       "       [99,  0,  0],\n",
       "       [ 1,  0, 98],\n",
       "       [99,  0,  0]])"
      ]
     },
     "execution_count": 58,
     "metadata": {},
     "output_type": "execute_result"
    }
   ],
   "source": [
    "(activations[-1][:10]*100).astype(int)"
   ]
  },
  {
   "cell_type": "code",
   "execution_count": 59,
   "metadata": {
    "colab": {
     "base_uri": "https://localhost:8080/",
     "height": 193
    },
    "colab_type": "code",
    "id": "RoE0nxtuiGIN",
    "outputId": "154437a8-ab72-46f4-f42c-3e6464af47d0"
   },
   "outputs": [
    {
     "data": {
      "text/plain": [
       "array([[0, 0, 1],\n",
       "       [1, 0, 0],\n",
       "       [1, 0, 0],\n",
       "       [0, 1, 0],\n",
       "       [0, 0, 1],\n",
       "       [0, 0, 1],\n",
       "       [1, 0, 0],\n",
       "       [1, 0, 0],\n",
       "       [0, 0, 1],\n",
       "       [1, 0, 0]])"
      ]
     },
     "execution_count": 59,
     "metadata": {},
     "output_type": "execute_result"
    }
   ],
   "source": [
    "test_labels[:10].astype(int)"
   ]
  },
  {
   "cell_type": "code",
   "execution_count": 60,
   "metadata": {},
   "outputs": [],
   "source": [
    "def plot_layer(activations, sample, layer):\n",
    "    a = activations[layer].shape\n",
    "    rows = int(a[3]/4)\n",
    "    fig, axarr = plt.subplots(rows, 4, figsize=[20,15])\n",
    "    for i in range(a[3]):\n",
    "        row = int(i/4)\n",
    "        x, y = row, i-4*row\n",
    "        axarr[x, y].imshow(activations[layer][sample, :, :, i])\n",
    "        axarr[x, y].set_xticks([])\n",
    "        axarr[x, y].set_yticks([])"
   ]
  },
  {
   "cell_type": "code",
   "execution_count": 61,
   "metadata": {},
   "outputs": [
    {
     "data": {
      "text/plain": [
       "'paper'"
      ]
     },
     "execution_count": 61,
     "metadata": {},
     "output_type": "execute_result"
    },
    {
     "data": {
      "image/png": "[encoded data removed]",
      "text/plain": [
       "<matplotlib.figure.Figure at 0x1ebdd0be080>"
      ]
     },
     "metadata": {},
     "output_type": "display_data"
    }
   ],
   "source": [
    "image_number = 10\n",
    "\n",
    "plt.imshow(test_data[image_number,:,:,0])\n",
    "class_labels[np.argmax(test_labels[image_number])]"
   ]
  },
  {
   "cell_type": "code",
   "execution_count": 62,
   "metadata": {},
   "outputs": [
    {
     "data": {
      "image/png": "[encoded data removed]",
      "text/plain": [
       "<matplotlib.figure.Figure at 0x1ebdd0bc400>"
      ]
     },
     "metadata": {},
     "output_type": "display_data"
    }
   ],
   "source": [
    "plot_layer(activations, image_number, 1)"
   ]
  },
  {
   "cell_type": "code",
   "execution_count": 63,
   "metadata": {},
   "outputs": [
    {
     "data": {
      "image/png": "[encoded data removed]",
      "text/plain": [
       "<matplotlib.figure.Figure at 0x1ebd95e6550>"
      ]
     },
     "metadata": {},
     "output_type": "display_data"
    }
   ],
   "source": [
    "plot_layer(activations, image_number, 2)"
   ]
  },
  {
   "cell_type": "code",
   "execution_count": null,
   "metadata": {},
   "outputs": [],
   "source": []
  }
 ],
 "metadata": {
  "colab": {
   "collapsed_sections": [],
   "name": "CNN for AED",
   "provenance": [],
   "version": "0.3.2"
  },
  "kernelspec": {
   "display_name": "Python 3",
   "language": "python",
   "name": "python3"
  },
  "language_info": {
   "codemirror_mode": {
    "name": "ipython",
    "version": 3
   },
   "file_extension": ".py",
   "mimetype": "text/x-python",
   "name": "python",
   "nbconvert_exporter": "python",
   "pygments_lexer": "ipython3",
   "version": "3.6.4"
  }
 },
 "nbformat": 4,
 "nbformat_minor": 1
}
