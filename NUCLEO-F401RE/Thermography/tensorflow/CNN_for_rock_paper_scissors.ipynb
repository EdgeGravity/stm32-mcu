{
 "cells": [
  {
   "cell_type": "markdown",
   "metadata": {
    "colab_type": "text",
    "id": "0X16cagQE-Y-"
   },
   "source": [
    "# CNN for rock-paper-scissors with Keras/TensorFlow\n",
    "\n",
    "Date: December 6 and December 31, 2018\n",
    "\n",
    "Classification:\n",
    "- rock\n",
    "- paper\n",
    "- scissors"
   ]
  },
  {
   "cell_type": "markdown",
   "metadata": {
    "colab_type": "text",
    "id": "WwQ-dEltkl5Q"
   },
   "source": [
    "## Preparing data set for CNN"
   ]
  },
  {
   "cell_type": "code",
   "execution_count": 1,
   "metadata": {
    "colab": {
     "base_uri": "https://localhost:8080/",
     "height": 34
    },
    "colab_type": "code",
    "id": "VEJyQsGpV3ug",
    "outputId": "3929aa39-3383-4791-e065-3622e6781181"
   },
   "outputs": [],
   "source": [
    "DATA_FOLDER = '../thermography/data/'\n",
    "\n",
    "FILES = 56\n",
    "TRAINING_FILES = 40\n",
    "TEST_FILES = FILES - TRAINING_FILES"
   ]
  },
  {
   "cell_type": "code",
   "execution_count": 2,
   "metadata": {
    "colab": {},
    "colab_type": "code",
    "id": "JTNdoPBFWGky"
   },
   "outputs": [],
   "source": [
    "%matplotlib inline\n",
    "\n",
    "import matplotlib.pyplot as plt\n",
    "import numpy as np\n",
    "import time\n",
    "import random\n",
    "import os\n",
    "import sklearn.preprocessing as pp"
   ]
  },
  {
   "cell_type": "code",
   "execution_count": 3,
   "metadata": {},
   "outputs": [],
   "source": [
    "# Q7 quantization\n",
    "def scale_q7(data):\n",
    "    min_ = np.min(data)\n",
    "    max_ = np.max(data)\n",
    "    mean = (max_ + min_) / 2.0\n",
    "    range_ = (max_ - min_) / 2.0\n",
    "    data = (data - mean)/range_ * 127\n",
    "    return data.astype(np.int8)"
   ]
  },
  {
   "cell_type": "code",
   "execution_count": 4,
   "metadata": {},
   "outputs": [
    {
     "name": "stdout",
     "output_type": "stream",
     "text": [
      "0: paper\n",
      "1: rock\n",
      "2: scissors\n"
     ]
    }
   ],
   "source": [
    "import glob\n",
    "\n",
    "data_files = glob.glob(DATA_FOLDER+'*.csv')\n",
    "class_labels = []\n",
    "\n",
    "for file in data_files:\n",
    "    label = file.split('-')[0].replace('\\\\', '/').split('/')[-1]\n",
    "    if label not in class_labels:\n",
    "        class_labels.append(label)\n",
    "\n",
    "data_set = {}\n",
    "\n",
    "class_number = 0\n",
    "\n",
    "for label in class_labels:\n",
    "    files = glob.glob(DATA_FOLDER+'{}-*.csv'.format(label))\n",
    "    random.shuffle(files)\n",
    "    data_set[label] = (files[:TRAINING_FILES], files[TRAINING_FILES:FILES], class_number)\n",
    "    class_number += 1\n",
    "\n",
    "training_set = []\n",
    "test_set = []\n",
    "\n",
    "for k, v in data_set.items():\n",
    "    files = v[0]\n",
    "    class_number = v[2]\n",
    "    for file in files:\n",
    "        with open(file) as f:\n",
    "            data = np.array(f.read().split(',')).astype(float)\n",
    "            #training_set.append((pp.scale(data), class_number))\n",
    "            training_set.append((scale_q7(data), class_number))\n",
    "    files = v[1]\n",
    "    for file in files:\n",
    "        with open(file) as f:\n",
    "            data = np.array(f.read().split(',')).astype(float)\n",
    "            #test_set.append((pp.scale(data), class_number))\n",
    "            test_set.append((scale_q7(data), class_number))\n",
    "random.shuffle(training_set)\n",
    "random.shuffle(test_set)\n",
    "\n",
    "class_labels = [None for _ in range(len(data_set))]\n",
    "\n",
    "# Class number and class labels\n",
    "for k,v in data_set.items():\n",
    "    print('{}: {}'.format(v[2],k))\n",
    "    class_labels[v[2]] = k\n",
    "    \n",
    "import yaml\n",
    "with open(DATA_FOLDER+'class_labels.yaml', 'w') as f:\n",
    "    yaml.dump(class_labels, f)"
   ]
  },
  {
   "cell_type": "code",
   "execution_count": 24,
   "metadata": {
    "colab": {},
    "colab_type": "code",
    "id": "28tIKkNyW3cO"
   },
   "outputs": [
    {
     "data": {
      "text/plain": [
       "array([[-116, -110, -102, ..., -124, -124, -122],\n",
       "       [-108,  -97,  -89, ..., -116, -120, -122],\n",
       "       [ -97,  -87,  -74, ..., -112, -118, -124],\n",
       "       ...,\n",
       "       [ -52,  -12,   22, ..., -112, -112, -114],\n",
       "       [ -58,  -20,   14, ..., -114, -112, -112],\n",
       "       [ -66,  -27,    8, ..., -116, -114, -112]], dtype=int8)"
      ]
     },
     "execution_count": 24,
     "metadata": {},
     "output_type": "execute_result"
    },
    {
     "data": {
      "image/png": "[encoded data removed]",
      "text/plain": [
       "<matplotlib.figure.Figure at 0x2294227fcc0>"
      ]
     },
     "metadata": {},
     "output_type": "display_data"
    }
   ],
   "source": [
    "train_data, train_labels = [], []\n",
    "test_data, test_labels = [], []\n",
    "for img, label in training_set:\n",
    "    train_data.append(img)\n",
    "    train_labels.append(label)\n",
    "for img, label in test_set:\n",
    "    test_data.append(img)\n",
    "    test_labels.append(label)\n",
    "train_data = np.array(train_data).reshape((TRAINING_FILES*len(class_labels), 32, 32, 1))\n",
    "train_labels = np.array(train_labels, dtype='uint8')\n",
    "test_data = np.array(test_data).reshape((TEST_FILES*len(class_labels), 32, 32, 1))\n",
    "test_lables = np.array(test_labels, dtype='uint8')\n",
    "#train_data.shape\n",
    "\n",
    "from keras.utils import to_categorical\n",
    "\n",
    "train_labels=to_categorical(train_labels)\n",
    "test_labels=to_categorical(test_labels)\n",
    "\n",
    "plt.imshow(train_data[12,:,:,0])\n",
    "train_data[12,:,:,0]"
   ]
  },
  {
   "cell_type": "markdown",
   "metadata": {
    "colab_type": "text",
    "id": "VfUmgxxVk6uM"
   },
   "source": [
    "### CNN model"
   ]
  },
  {
   "cell_type": "code",
   "execution_count": 6,
   "metadata": {
    "colab": {
     "base_uri": "https://localhost:8080/",
     "height": 509
    },
    "colab_type": "code",
    "id": "B2Xg6tGLdMKP",
    "outputId": "ae3daa32-9dbf-4d8b-9a11-7f596dd2e4a6"
   },
   "outputs": [
    {
     "name": "stdout",
     "output_type": "stream",
     "text": [
      "_________________________________________________________________\n",
      "Layer (type)                 Output Shape              Param #   \n",
      "=================================================================\n",
      "conv2d_1 (Conv2D)            (None, 30, 30, 16)        160       \n",
      "_________________________________________________________________\n",
      "max_pooling2d_1 (MaxPooling2 (None, 15, 15, 16)        0         \n",
      "_________________________________________________________________\n",
      "conv2d_2 (Conv2D)            (None, 13, 13, 32)        4640      \n",
      "_________________________________________________________________\n",
      "max_pooling2d_2 (MaxPooling2 (None, 6, 6, 32)          0         \n",
      "_________________________________________________________________\n",
      "flatten_1 (Flatten)          (None, 1152)              0         \n",
      "_________________________________________________________________\n",
      "dropout_1 (Dropout)          (None, 1152)              0         \n",
      "_________________________________________________________________\n",
      "dense_1 (Dense)              (None, 3)                 3459      \n",
      "=================================================================\n",
      "Total params: 8,259\n",
      "Trainable params: 8,259\n",
      "Non-trainable params: 0\n",
      "_________________________________________________________________\n"
     ]
    }
   ],
   "source": [
    "from keras import layers\n",
    "from keras import models\n",
    "\n",
    "model = models.Sequential()\n",
    "\n",
    "model.add(layers.Conv2D(16, (3, 3), activation='relu', input_shape=(32, 32, 1)))\n",
    "model.add(layers.MaxPooling2D((2,2)))\n",
    "\n",
    "model.add(layers.Conv2D(32, (3, 3), activation='relu'))\n",
    "model.add(layers.MaxPooling2D((2,2)))\n",
    "\n",
    "model.add(layers.Flatten())\n",
    "model.add(layers.Dropout(0.5))\n",
    "model.add(layers.Dense(len(class_labels), activation='softmax'))\n",
    "\n",
    "model.summary()"
   ]
  },
  {
   "cell_type": "code",
   "execution_count": 7,
   "metadata": {
    "colab": {},
    "colab_type": "code",
    "id": "nRr1L_4ogL6i"
   },
   "outputs": [],
   "source": [
    "model.compile(optimizer='rmsprop', loss='categorical_crossentropy', metrics=['accuracy'])"
   ]
  },
  {
   "cell_type": "code",
   "execution_count": 8,
   "metadata": {},
   "outputs": [
    {
     "data": {
      "image/svg+xml": [
       "<svg height=\"556pt\" viewBox=\"0.00 0.00 217.00 556.00\" width=\"217pt\" xmlns=\"http://www.w3.org/2000/svg\" xmlns:xlink=\"http://www.w3.org/1999/xlink\">\n",
       "<g class=\"graph\" id=\"graph0\" transform=\"scale(1 1) rotate(0) translate(4 552)\">\n",
       "<title>G</title>\n",
       "<polygon fill=\"white\" points=\"-4,4 -4,-552 213,-552 213,4 -4,4\" stroke=\"none\"/>\n",
       "<!-- 2376162539672 -->\n",
       "<g class=\"node\" id=\"node1\"><title>2376162539672</title>\n",
       "<polygon fill=\"none\" points=\"41,-438.5 41,-474.5 168,-474.5 168,-438.5 41,-438.5\" stroke=\"black\"/>\n",
       "<text font-family=\"Times New Roman,serif\" font-size=\"14.00\" text-anchor=\"middle\" x=\"104.5\" y=\"-452.8\">conv2d_1: Conv2D</text>\n",
       "</g>\n",
       "<!-- 2376162540680 -->\n",
       "<g class=\"node\" id=\"node2\"><title>2376162540680</title>\n",
       "<polygon fill=\"none\" points=\"0,-365.5 0,-401.5 209,-401.5 209,-365.5 0,-365.5\" stroke=\"black\"/>\n",
       "<text font-family=\"Times New Roman,serif\" font-size=\"14.00\" text-anchor=\"middle\" x=\"104.5\" y=\"-379.8\">max_pooling2d_1: MaxPooling2D</text>\n",
       "</g>\n",
       "<!-- 2376162539672&#45;&gt;2376162540680 -->\n",
       "<g class=\"edge\" id=\"edge2\"><title>2376162539672-&gt;2376162540680</title>\n",
       "<path d=\"M104.5,-438.313C104.5,-430.289 104.5,-420.547 104.5,-411.569\" fill=\"none\" stroke=\"black\"/>\n",
       "<polygon fill=\"black\" points=\"108,-411.529 104.5,-401.529 101,-411.529 108,-411.529\" stroke=\"black\"/>\n",
       "</g>\n",
       "<!-- 2376162537712 -->\n",
       "<g class=\"node\" id=\"node3\"><title>2376162537712</title>\n",
       "<polygon fill=\"none\" points=\"41,-292.5 41,-328.5 168,-328.5 168,-292.5 41,-292.5\" stroke=\"black\"/>\n",
       "<text font-family=\"Times New Roman,serif\" font-size=\"14.00\" text-anchor=\"middle\" x=\"104.5\" y=\"-306.8\">conv2d_2: Conv2D</text>\n",
       "</g>\n",
       "<!-- 2376162540680&#45;&gt;2376162537712 -->\n",
       "<g class=\"edge\" id=\"edge3\"><title>2376162540680-&gt;2376162537712</title>\n",
       "<path d=\"M104.5,-365.313C104.5,-357.289 104.5,-347.547 104.5,-338.569\" fill=\"none\" stroke=\"black\"/>\n",
       "<polygon fill=\"black\" points=\"108,-338.529 104.5,-328.529 101,-338.529 108,-338.529\" stroke=\"black\"/>\n",
       "</g>\n",
       "<!-- 2376162799064 -->\n",
       "<g class=\"node\" id=\"node4\"><title>2376162799064</title>\n",
       "<polygon fill=\"none\" points=\"0,-219.5 0,-255.5 209,-255.5 209,-219.5 0,-219.5\" stroke=\"black\"/>\n",
       "<text font-family=\"Times New Roman,serif\" font-size=\"14.00\" text-anchor=\"middle\" x=\"104.5\" y=\"-233.8\">max_pooling2d_2: MaxPooling2D</text>\n",
       "</g>\n",
       "<!-- 2376162537712&#45;&gt;2376162799064 -->\n",
       "<g class=\"edge\" id=\"edge4\"><title>2376162537712-&gt;2376162799064</title>\n",
       "<path d=\"M104.5,-292.313C104.5,-284.289 104.5,-274.547 104.5,-265.569\" fill=\"none\" stroke=\"black\"/>\n",
       "<polygon fill=\"black\" points=\"108,-265.529 104.5,-255.529 101,-265.529 108,-265.529\" stroke=\"black\"/>\n",
       "</g>\n",
       "<!-- 2376162710472 -->\n",
       "<g class=\"node\" id=\"node5\"><title>2376162710472</title>\n",
       "<polygon fill=\"none\" points=\"50,-146.5 50,-182.5 159,-182.5 159,-146.5 50,-146.5\" stroke=\"black\"/>\n",
       "<text font-family=\"Times New Roman,serif\" font-size=\"14.00\" text-anchor=\"middle\" x=\"104.5\" y=\"-160.8\">flatten_1: Flatten</text>\n",
       "</g>\n",
       "<!-- 2376162799064&#45;&gt;2376162710472 -->\n",
       "<g class=\"edge\" id=\"edge5\"><title>2376162799064-&gt;2376162710472</title>\n",
       "<path d=\"M104.5,-219.313C104.5,-211.289 104.5,-201.547 104.5,-192.569\" fill=\"none\" stroke=\"black\"/>\n",
       "<polygon fill=\"black\" points=\"108,-192.529 104.5,-182.529 101,-192.529 108,-192.529\" stroke=\"black\"/>\n",
       "</g>\n",
       "<!-- 2376162799232 -->\n",
       "<g class=\"node\" id=\"node6\"><title>2376162799232</title>\n",
       "<polygon fill=\"none\" points=\"39.5,-73.5 39.5,-109.5 169.5,-109.5 169.5,-73.5 39.5,-73.5\" stroke=\"black\"/>\n",
       "<text font-family=\"Times New Roman,serif\" font-size=\"14.00\" text-anchor=\"middle\" x=\"104.5\" y=\"-87.8\">dropout_1: Dropout</text>\n",
       "</g>\n",
       "<!-- 2376162710472&#45;&gt;2376162799232 -->\n",
       "<g class=\"edge\" id=\"edge6\"><title>2376162710472-&gt;2376162799232</title>\n",
       "<path d=\"M104.5,-146.313C104.5,-138.289 104.5,-128.547 104.5,-119.569\" fill=\"none\" stroke=\"black\"/>\n",
       "<polygon fill=\"black\" points=\"108,-119.529 104.5,-109.529 101,-119.529 108,-119.529\" stroke=\"black\"/>\n",
       "</g>\n",
       "<!-- 2376162900960 -->\n",
       "<g class=\"node\" id=\"node7\"><title>2376162900960</title>\n",
       "<polygon fill=\"none\" points=\"52.5,-0.5 52.5,-36.5 156.5,-36.5 156.5,-0.5 52.5,-0.5\" stroke=\"black\"/>\n",
       "<text font-family=\"Times New Roman,serif\" font-size=\"14.00\" text-anchor=\"middle\" x=\"104.5\" y=\"-14.8\">dense_1: Dense</text>\n",
       "</g>\n",
       "<!-- 2376162799232&#45;&gt;2376162900960 -->\n",
       "<g class=\"edge\" id=\"edge7\"><title>2376162799232-&gt;2376162900960</title>\n",
       "<path d=\"M104.5,-73.3129C104.5,-65.2895 104.5,-55.5475 104.5,-46.5691\" fill=\"none\" stroke=\"black\"/>\n",
       "<polygon fill=\"black\" points=\"108,-46.5288 104.5,-36.5288 101,-46.5289 108,-46.5288\" stroke=\"black\"/>\n",
       "</g>\n",
       "<!-- 2376162540456 -->\n",
       "<g class=\"node\" id=\"node8\"><title>2376162540456</title>\n",
       "<polygon fill=\"none\" points=\"52.5,-511.5 52.5,-547.5 156.5,-547.5 156.5,-511.5 52.5,-511.5\" stroke=\"black\"/>\n",
       "<text font-family=\"Times New Roman,serif\" font-size=\"14.00\" text-anchor=\"middle\" x=\"104.5\" y=\"-525.8\">2376162540456</text>\n",
       "</g>\n",
       "<!-- 2376162540456&#45;&gt;2376162539672 -->\n",
       "<g class=\"edge\" id=\"edge1\"><title>2376162540456-&gt;2376162539672</title>\n",
       "<path d=\"M104.5,-511.313C104.5,-503.289 104.5,-493.547 104.5,-484.569\" fill=\"none\" stroke=\"black\"/>\n",
       "<polygon fill=\"black\" points=\"108,-484.529 104.5,-474.529 101,-484.529 108,-484.529\" stroke=\"black\"/>\n",
       "</g>\n",
       "</g>\n",
       "</svg>"
      ],
      "text/plain": [
       "<IPython.core.display.SVG object>"
      ]
     },
     "execution_count": 8,
     "metadata": {},
     "output_type": "execute_result"
    }
   ],
   "source": [
    "from IPython.display import SVG\n",
    "from keras.utils.vis_utils import model_to_dot\n",
    "\n",
    "SVG(model_to_dot(model).create(prog='dot', format='svg'))"
   ]
  },
  {
   "cell_type": "markdown",
   "metadata": {
    "colab_type": "text",
    "id": "TfypWUJIlFkz"
   },
   "source": [
    "## Training CNN"
   ]
  },
  {
   "cell_type": "code",
   "execution_count": 9,
   "metadata": {
    "colab": {
     "base_uri": "https://localhost:8080/",
     "height": 931
    },
    "colab_type": "code",
    "id": "zsdmu-ggfvr1",
    "outputId": "77a52558-8ecc-4fc5-e0cb-2b86a75df4c6",
    "scrolled": false
   },
   "outputs": [
    {
     "name": "stdout",
     "output_type": "stream",
     "text": [
      "Train on 120 samples, validate on 48 samples\n",
      "Epoch 1/80\n",
      "120/120 [==============================] - 3s 28ms/step - loss: 8.7131 - acc: 0.3667 - val_loss: 6.7080 - val_acc: 0.4792\n",
      "Epoch 2/80\n",
      "120/120 [==============================] - 2s 20ms/step - loss: 8.4110 - acc: 0.4083 - val_loss: 7.5511 - val_acc: 0.5208\n",
      "Epoch 3/80\n",
      "120/120 [==============================] - 2s 14ms/step - loss: 8.5556 - acc: 0.4250 - val_loss: 8.4159 - val_acc: 0.4583\n",
      "Epoch 4/80\n",
      "120/120 [==============================] - 2s 14ms/step - loss: 8.4125 - acc: 0.4500 - val_loss: 7.8909 - val_acc: 0.4792\n",
      "Epoch 5/80\n",
      "120/120 [==============================] - 2s 17ms/step - loss: 7.4238 - acc: 0.4750 - val_loss: 4.6874 - val_acc: 0.6250\n",
      "Epoch 6/80\n",
      "120/120 [==============================] - 2s 15ms/step - loss: 6.7237 - acc: 0.5333 - val_loss: 7.2313 - val_acc: 0.5417\n",
      "Epoch 7/80\n",
      "120/120 [==============================] - 2s 15ms/step - loss: 6.3933 - acc: 0.5333 - val_loss: 8.1419 - val_acc: 0.4167\n",
      "Epoch 8/80\n",
      "120/120 [==============================] - 2s 16ms/step - loss: 5.5856 - acc: 0.5750 - val_loss: 5.0181 - val_acc: 0.5833\n",
      "Epoch 9/80\n",
      "120/120 [==============================] - 2s 16ms/step - loss: 6.2490 - acc: 0.5250 - val_loss: 6.7677 - val_acc: 0.5208\n",
      "Epoch 10/80\n",
      "120/120 [==============================] - 2s 14ms/step - loss: 5.7190 - acc: 0.5667 - val_loss: 4.4017 - val_acc: 0.5625\n",
      "Epoch 11/80\n",
      "120/120 [==============================] - 2s 15ms/step - loss: 6.0984 - acc: 0.5333 - val_loss: 4.6504 - val_acc: 0.6250\n",
      "Epoch 12/80\n",
      "120/120 [==============================] - 2s 15ms/step - loss: 3.9954 - acc: 0.7000 - val_loss: 4.9225 - val_acc: 0.5417\n",
      "Epoch 13/80\n",
      "120/120 [==============================] - 2s 15ms/step - loss: 4.5060 - acc: 0.6250 - val_loss: 4.5415 - val_acc: 0.5833\n",
      "Epoch 14/80\n",
      "120/120 [==============================] - 2s 15ms/step - loss: 5.0201 - acc: 0.5583 - val_loss: 4.5789 - val_acc: 0.5833\n",
      "Epoch 15/80\n",
      "120/120 [==============================] - 2s 14ms/step - loss: 3.7318 - acc: 0.7083 - val_loss: 4.1986 - val_acc: 0.6042\n",
      "Epoch 16/80\n",
      "120/120 [==============================] - 2s 14ms/step - loss: 4.6626 - acc: 0.6667 - val_loss: 4.3168 - val_acc: 0.5833\n",
      "Epoch 17/80\n",
      "120/120 [==============================] - 2s 15ms/step - loss: 5.0300 - acc: 0.6083 - val_loss: 4.9536 - val_acc: 0.6458\n",
      "Epoch 18/80\n",
      "120/120 [==============================] - 2s 15ms/step - loss: 3.7864 - acc: 0.7000 - val_loss: 7.2277 - val_acc: 0.4792\n",
      "Epoch 19/80\n",
      "120/120 [==============================] - 2s 16ms/step - loss: 4.0537 - acc: 0.6667 - val_loss: 6.3991 - val_acc: 0.5208\n",
      "Epoch 20/80\n",
      "120/120 [==============================] - 2s 15ms/step - loss: 4.0645 - acc: 0.7083 - val_loss: 5.4907 - val_acc: 0.5417\n",
      "Epoch 21/80\n",
      "120/120 [==============================] - 2s 15ms/step - loss: 3.2303 - acc: 0.7083 - val_loss: 4.2425 - val_acc: 0.6667\n",
      "Epoch 22/80\n",
      "120/120 [==============================] - 2s 15ms/step - loss: 4.6362 - acc: 0.6500 - val_loss: 3.6455 - val_acc: 0.6875\n",
      "Epoch 23/80\n",
      "120/120 [==============================] - 2s 14ms/step - loss: 3.5854 - acc: 0.7000 - val_loss: 4.2516 - val_acc: 0.6042\n",
      "Epoch 24/80\n",
      "120/120 [==============================] - 2s 18ms/step - loss: 3.4448 - acc: 0.7167 - val_loss: 3.1605 - val_acc: 0.7083\n",
      "Epoch 25/80\n",
      "120/120 [==============================] - 2s 16ms/step - loss: 2.7554 - acc: 0.7667 - val_loss: 3.7524 - val_acc: 0.6667\n",
      "Epoch 26/80\n",
      "120/120 [==============================] - 2s 17ms/step - loss: 3.8263 - acc: 0.7000 - val_loss: 6.3105 - val_acc: 0.5417\n",
      "Epoch 27/80\n",
      "120/120 [==============================] - 2s 15ms/step - loss: 3.0078 - acc: 0.7333 - val_loss: 3.1021 - val_acc: 0.7083\n",
      "Epoch 28/80\n",
      "120/120 [==============================] - 2s 14ms/step - loss: 3.6797 - acc: 0.7000 - val_loss: 3.4569 - val_acc: 0.6875\n",
      "Epoch 29/80\n",
      "120/120 [==============================] - 2s 16ms/step - loss: 3.4553 - acc: 0.7167 - val_loss: 2.7670 - val_acc: 0.7500\n",
      "Epoch 30/80\n",
      "120/120 [==============================] - 2s 15ms/step - loss: 2.5988 - acc: 0.7083 - val_loss: 4.3425 - val_acc: 0.6042\n",
      "Epoch 31/80\n",
      "120/120 [==============================] - 2s 15ms/step - loss: 2.9470 - acc: 0.7083 - val_loss: 2.9790 - val_acc: 0.7083\n",
      "Epoch 32/80\n",
      "120/120 [==============================] - 2s 13ms/step - loss: 2.8006 - acc: 0.7250 - val_loss: 4.0115 - val_acc: 0.6458\n",
      "Epoch 33/80\n",
      "120/120 [==============================] - 2s 13ms/step - loss: 2.5082 - acc: 0.7583 - val_loss: 2.8124 - val_acc: 0.6875\n",
      "Epoch 34/80\n",
      "120/120 [==============================] - 2s 14ms/step - loss: 1.5746 - acc: 0.8167 - val_loss: 2.9909 - val_acc: 0.6667\n",
      "Epoch 35/80\n",
      "120/120 [==============================] - 2s 17ms/step - loss: 2.5593 - acc: 0.7500 - val_loss: 3.1109 - val_acc: 0.6458\n",
      "Epoch 36/80\n",
      "120/120 [==============================] - 2s 15ms/step - loss: 2.6128 - acc: 0.7500 - val_loss: 3.1187 - val_acc: 0.6875\n",
      "Epoch 37/80\n",
      "120/120 [==============================] - 2s 15ms/step - loss: 1.5939 - acc: 0.8500 - val_loss: 2.8403 - val_acc: 0.7708\n",
      "Epoch 38/80\n",
      "120/120 [==============================] - 2s 15ms/step - loss: 2.2494 - acc: 0.7333 - val_loss: 2.5649 - val_acc: 0.7917\n",
      "Epoch 39/80\n",
      "120/120 [==============================] - 2s 15ms/step - loss: 2.0728 - acc: 0.7917 - val_loss: 2.5267 - val_acc: 0.7708\n",
      "Epoch 40/80\n",
      "120/120 [==============================] - 2s 15ms/step - loss: 1.6678 - acc: 0.8000 - val_loss: 1.9158 - val_acc: 0.7500\n",
      "Epoch 41/80\n",
      "120/120 [==============================] - 2s 15ms/step - loss: 1.1132 - acc: 0.8583 - val_loss: 1.9143 - val_acc: 0.6458\n",
      "Epoch 42/80\n",
      "120/120 [==============================] - 2s 15ms/step - loss: 1.2019 - acc: 0.8250 - val_loss: 3.0731 - val_acc: 0.6042\n",
      "Epoch 43/80\n",
      "120/120 [==============================] - 2s 14ms/step - loss: 1.0548 - acc: 0.8500 - val_loss: 1.6531 - val_acc: 0.7917\n",
      "Epoch 44/80\n",
      "120/120 [==============================] - 2s 15ms/step - loss: 0.7541 - acc: 0.8417 - val_loss: 1.5225 - val_acc: 0.7083\n",
      "Epoch 45/80\n",
      "120/120 [==============================] - 2s 14ms/step - loss: 0.3644 - acc: 0.8917 - val_loss: 1.1886 - val_acc: 0.7708\n",
      "Epoch 46/80\n",
      "120/120 [==============================] - 2s 18ms/step - loss: 0.7953 - acc: 0.8500 - val_loss: 1.7633 - val_acc: 0.7292\n",
      "Epoch 47/80\n",
      "120/120 [==============================] - 2s 14ms/step - loss: 0.7733 - acc: 0.8333 - val_loss: 1.4630 - val_acc: 0.7083\n",
      "Epoch 48/80\n",
      "120/120 [==============================] - 2s 17ms/step - loss: 0.7702 - acc: 0.8000 - val_loss: 0.7701 - val_acc: 0.8125\n",
      "Epoch 49/80\n",
      "120/120 [==============================] - 2s 14ms/step - loss: 0.3044 - acc: 0.9167 - val_loss: 0.9027 - val_acc: 0.7708\n",
      "Epoch 50/80\n",
      "120/120 [==============================] - 2s 14ms/step - loss: 0.4554 - acc: 0.8750 - val_loss: 0.8697 - val_acc: 0.7708\n",
      "Epoch 51/80\n",
      "120/120 [==============================] - 2s 16ms/step - loss: 0.5971 - acc: 0.8583 - val_loss: 0.7534 - val_acc: 0.7917\n",
      "Epoch 52/80\n",
      "120/120 [==============================] - 2s 15ms/step - loss: 0.3769 - acc: 0.8583 - val_loss: 0.7139 - val_acc: 0.6875\n",
      "Epoch 53/80\n",
      "120/120 [==============================] - 2s 15ms/step - loss: 0.3505 - acc: 0.9083 - val_loss: 0.8599 - val_acc: 0.7500\n",
      "Epoch 54/80\n",
      "120/120 [==============================] - 2s 15ms/step - loss: 0.3074 - acc: 0.9167 - val_loss: 0.9751 - val_acc: 0.7292\n",
      "Epoch 55/80\n",
      "120/120 [==============================] - 2s 15ms/step - loss: 0.2207 - acc: 0.9000 - val_loss: 0.8550 - val_acc: 0.7708\n",
      "Epoch 56/80\n",
      "120/120 [==============================] - 2s 16ms/step - loss: 0.2933 - acc: 0.9000 - val_loss: 1.5434 - val_acc: 0.6667\n",
      "Epoch 57/80\n",
      "120/120 [==============================] - 2s 15ms/step - loss: 0.3239 - acc: 0.9000 - val_loss: 0.9418 - val_acc: 0.7083\n",
      "Epoch 58/80\n",
      "120/120 [==============================] - 2s 15ms/step - loss: 0.3363 - acc: 0.9000 - val_loss: 0.8153 - val_acc: 0.8125\n",
      "Epoch 59/80\n",
      "120/120 [==============================] - 2s 17ms/step - loss: 0.1068 - acc: 0.9917 - val_loss: 0.7339 - val_acc: 0.7917\n",
      "Epoch 60/80\n",
      "120/120 [==============================] - 2s 15ms/step - loss: 0.2303 - acc: 0.9167 - val_loss: 1.3956 - val_acc: 0.7708\n",
      "Epoch 61/80\n",
      "120/120 [==============================] - 2s 15ms/step - loss: 0.1778 - acc: 0.9167 - val_loss: 0.7493 - val_acc: 0.7917\n"
     ]
    },
    {
     "name": "stdout",
     "output_type": "stream",
     "text": [
      "Epoch 62/80\n",
      "120/120 [==============================] - 2s 13ms/step - loss: 0.1559 - acc: 0.9583 - val_loss: 0.7365 - val_acc: 0.8125\n",
      "Epoch 63/80\n",
      "120/120 [==============================] - 2s 15ms/step - loss: 0.1872 - acc: 0.9583 - val_loss: 0.9215 - val_acc: 0.8125\n",
      "Epoch 64/80\n",
      "120/120 [==============================] - 2s 13ms/step - loss: 0.1428 - acc: 0.9667 - val_loss: 0.8042 - val_acc: 0.7708\n",
      "Epoch 65/80\n",
      "120/120 [==============================] - 2s 18ms/step - loss: 0.1204 - acc: 0.9417 - val_loss: 0.8506 - val_acc: 0.7500\n",
      "Epoch 66/80\n",
      "120/120 [==============================] - 2s 19ms/step - loss: 0.1638 - acc: 0.9500 - val_loss: 0.7411 - val_acc: 0.8333\n",
      "Epoch 67/80\n",
      "120/120 [==============================] - 2s 20ms/step - loss: 0.1377 - acc: 0.9583 - val_loss: 0.6829 - val_acc: 0.7083\n",
      "Epoch 68/80\n",
      "120/120 [==============================] - 2s 19ms/step - loss: 0.1210 - acc: 0.9500 - val_loss: 0.7152 - val_acc: 0.8333\n",
      "Epoch 69/80\n",
      "120/120 [==============================] - 2s 15ms/step - loss: 0.0854 - acc: 0.9583 - val_loss: 1.0428 - val_acc: 0.8333\n",
      "Epoch 70/80\n",
      "120/120 [==============================] - 2s 16ms/step - loss: 0.1303 - acc: 0.9333 - val_loss: 0.9949 - val_acc: 0.7292\n",
      "Epoch 71/80\n",
      "120/120 [==============================] - 2s 14ms/step - loss: 0.1805 - acc: 0.9500 - val_loss: 1.0596 - val_acc: 0.7292\n",
      "Epoch 72/80\n",
      "120/120 [==============================] - 2s 16ms/step - loss: 0.2324 - acc: 0.9583 - val_loss: 0.9039 - val_acc: 0.8125\n",
      "Epoch 73/80\n",
      "120/120 [==============================] - 2s 17ms/step - loss: 0.1343 - acc: 0.9500 - val_loss: 0.7573 - val_acc: 0.7917\n",
      "Epoch 74/80\n",
      "120/120 [==============================] - 2s 17ms/step - loss: 0.1327 - acc: 0.9417 - val_loss: 0.8391 - val_acc: 0.8333\n",
      "Epoch 75/80\n",
      "120/120 [==============================] - 2s 16ms/step - loss: 0.1385 - acc: 0.9500 - val_loss: 0.8451 - val_acc: 0.6458\n",
      "Epoch 76/80\n",
      "120/120 [==============================] - 2s 15ms/step - loss: 0.0998 - acc: 0.9500 - val_loss: 0.5816 - val_acc: 0.7917\n",
      "Epoch 77/80\n",
      "120/120 [==============================] - 2s 15ms/step - loss: 0.0383 - acc: 0.9833 - val_loss: 0.8635 - val_acc: 0.8333\n",
      "Epoch 78/80\n",
      "120/120 [==============================] - 2s 18ms/step - loss: 0.0731 - acc: 0.9750 - val_loss: 1.7897 - val_acc: 0.7083\n",
      "Epoch 79/80\n",
      "120/120 [==============================] - 2s 15ms/step - loss: 0.4403 - acc: 0.8833 - val_loss: 0.6451 - val_acc: 0.8333\n",
      "Epoch 80/80\n",
      "120/120 [==============================] - 2s 15ms/step - loss: 0.0386 - acc: 0.9833 - val_loss: 0.5576 - val_acc: 0.8333\n"
     ]
    }
   ],
   "source": [
    "EPOCHS = 80\n",
    "history = model.fit(train_data, train_labels, epochs=EPOCHS, validation_data=(test_data, test_labels))"
   ]
  },
  {
   "cell_type": "code",
   "execution_count": 10,
   "metadata": {},
   "outputs": [
    {
     "name": "stdout",
     "output_type": "stream",
     "text": [
      "dict_keys(['val_loss', 'val_acc', 'loss', 'acc'])\n"
     ]
    },
    {
     "data": {
      "image/png": "[encoded data removed]",
      "text/plain": [
       "<matplotlib.figure.Figure at 0x2293e997dd8>"
      ]
     },
     "metadata": {},
     "output_type": "display_data"
    },
    {
     "data": {
      "image/png": "[encoded data removed]",
      "text/plain": [
       "<matplotlib.figure.Figure at 0x2293e67b160>"
      ]
     },
     "metadata": {},
     "output_type": "display_data"
    }
   ],
   "source": [
    "print(history.history.keys())\n",
    "\n",
    "# Plot training & validation accuracy values\n",
    "plt.plot(history.history['acc'])\n",
    "plt.plot(history.history['val_acc'])\n",
    "\n",
    "plt.title('Model accuracy')\n",
    "plt.ylabel('Accuracy')\n",
    "plt.xlabel('Epoch')\n",
    "plt.legend(['Train', 'Test'], loc='upper left')\n",
    "plt.show()\n",
    "\n",
    "# Plot training & validation loss values\n",
    "plt.plot(history.history['loss'])\n",
    "plt.plot(history.history['val_loss'])\n",
    "plt.title('Model loss')\n",
    "plt.ylabel('Loss')\n",
    "plt.xlabel('Epoch')\n",
    "plt.legend(['Train', 'Test'], loc='upper left')\n",
    "plt.show()"
   ]
  },
  {
   "cell_type": "markdown",
   "metadata": {},
   "source": [
    "## Save the model"
   ]
  },
  {
   "cell_type": "code",
   "execution_count": 11,
   "metadata": {},
   "outputs": [],
   "source": [
    "import datetime\n",
    "\n",
    "dt = datetime.datetime.today().strftime('%Y%m%d%H%M%S')\n",
    "filename = 'cnn_for_rock_paper_scissors_{}.h5'.format(dt)\n",
    "model.save(filename)"
   ]
  },
  {
   "cell_type": "markdown",
   "metadata": {},
   "source": [
    "## Load the model"
   ]
  },
  {
   "cell_type": "code",
   "execution_count": 12,
   "metadata": {},
   "outputs": [],
   "source": [
    "del model\n",
    "model = models.load_model(filename)"
   ]
  },
  {
   "cell_type": "markdown",
   "metadata": {
    "colab_type": "text",
    "id": "j6con4C3lKC1"
   },
   "source": [
    "## Confirmation"
   ]
  },
  {
   "cell_type": "code",
   "execution_count": 13,
   "metadata": {
    "colab": {
     "base_uri": "https://localhost:8080/",
     "height": 34
    },
    "colab_type": "code",
    "id": "4oZYLLij69wU",
    "outputId": "b37a4b8a-2c80-411f-d8a9-5df1c6dbfe22"
   },
   "outputs": [
    {
     "data": {
      "text/plain": [
       "(120, 32, 32, 1)"
      ]
     },
     "execution_count": 13,
     "metadata": {},
     "output_type": "execute_result"
    }
   ],
   "source": [
    "import numpy as np\n",
    "import matplotlib.pyplot as plt\n",
    "train_data.shape"
   ]
  },
  {
   "cell_type": "code",
   "execution_count": 14,
   "metadata": {
    "colab": {
     "base_uri": "https://localhost:8080/",
     "height": 193
    },
    "colab_type": "code",
    "id": "zSxXE9FgRBdJ",
    "outputId": "f3a53efe-e99f-4572-f9b4-1bf3c39c77ec"
   },
   "outputs": [],
   "source": [
    "layer_outputs = [layer.output for layer in model.layers]\n",
    "#layer_outputs"
   ]
  },
  {
   "cell_type": "code",
   "execution_count": 15,
   "metadata": {
    "colab": {
     "base_uri": "https://localhost:8080/",
     "height": 34
    },
    "colab_type": "code",
    "id": "dcw7yHKrRkPD",
    "outputId": "a3ed5441-ae48-4635-bf07-ac5060030608"
   },
   "outputs": [],
   "source": [
    "activation_model = models.Model(inputs=model.input, outputs=layer_outputs)\n",
    "activations = activation_model.predict(test_data)\n",
    "#activations[0][0,:,:,0].shape"
   ]
  },
  {
   "cell_type": "code",
   "execution_count": 16,
   "metadata": {},
   "outputs": [
    {
     "data": {
      "text/plain": [
       "['paper', 'rock', 'scissors']"
      ]
     },
     "execution_count": 16,
     "metadata": {},
     "output_type": "execute_result"
    }
   ],
   "source": [
    "class_labels"
   ]
  },
  {
   "cell_type": "code",
   "execution_count": 17,
   "metadata": {
    "colab": {
     "base_uri": "https://localhost:8080/",
     "height": 193
    },
    "colab_type": "code",
    "id": "ccSNAwGKhRn9",
    "outputId": "0ad22e12-713b-4b07-e17b-45d39ff1b80b"
   },
   "outputs": [
    {
     "data": {
      "text/plain": [
       "array([[ 0, 99,  0],\n",
       "       [34, 65,  0],\n",
       "       [99,  0,  0],\n",
       "       [ 0,  0, 99],\n",
       "       [ 0,  0, 99],\n",
       "       [10, 89,  0],\n",
       "       [ 0,  0, 99],\n",
       "       [ 0,  0, 99],\n",
       "       [ 0, 99,  0],\n",
       "       [ 0,  0, 99]])"
      ]
     },
     "execution_count": 17,
     "metadata": {},
     "output_type": "execute_result"
    }
   ],
   "source": [
    "(activations[-1][:10]*100).astype(int)"
   ]
  },
  {
   "cell_type": "code",
   "execution_count": 18,
   "metadata": {
    "colab": {
     "base_uri": "https://localhost:8080/",
     "height": 193
    },
    "colab_type": "code",
    "id": "RoE0nxtuiGIN",
    "outputId": "154437a8-ab72-46f4-f42c-3e6464af47d0"
   },
   "outputs": [
    {
     "data": {
      "text/plain": [
       "array([[0, 1, 0],\n",
       "       [1, 0, 0],\n",
       "       [1, 0, 0],\n",
       "       [0, 0, 1],\n",
       "       [0, 0, 1],\n",
       "       [1, 0, 0],\n",
       "       [1, 0, 0],\n",
       "       [0, 0, 1],\n",
       "       [1, 0, 0],\n",
       "       [0, 0, 1]])"
      ]
     },
     "execution_count": 18,
     "metadata": {},
     "output_type": "execute_result"
    }
   ],
   "source": [
    "test_labels[:10].astype(int)"
   ]
  },
  {
   "cell_type": "code",
   "execution_count": 19,
   "metadata": {},
   "outputs": [],
   "source": [
    "def plot_layer(activations, sample, layer):\n",
    "    a = activations[layer].shape\n",
    "    rows = int(a[3]/4)\n",
    "    fig, axarr = plt.subplots(rows, 4, figsize=[20,15])\n",
    "    for i in range(a[3]):\n",
    "        row = int(i/4)\n",
    "        x, y = row, i-4*row\n",
    "        axarr[x, y].imshow(activations[layer][sample, :, :, i])\n",
    "        axarr[x, y].set_xticks([])\n",
    "        axarr[x, y].set_yticks([])"
   ]
  },
  {
   "cell_type": "code",
   "execution_count": 20,
   "metadata": {},
   "outputs": [
    {
     "data": {
      "text/plain": [
       "'scissors'"
      ]
     },
     "execution_count": 20,
     "metadata": {},
     "output_type": "execute_result"
    },
    {
     "data": {
      "image/png": "[encoded data removed]",
      "text/plain": [
       "<matplotlib.figure.Figure at 0x22940122780>"
      ]
     },
     "metadata": {},
     "output_type": "display_data"
    }
   ],
   "source": [
    "image_number = 10\n",
    "\n",
    "plt.imshow(test_data[image_number,:,:,0])\n",
    "class_labels[np.argmax(test_labels[image_number])]"
   ]
  },
  {
   "cell_type": "code",
   "execution_count": 21,
   "metadata": {},
   "outputs": [
    {
     "data": {
      "image/png": "[encoded data removed]",
      "text/plain": [
       "<matplotlib.figure.Figure at 0x2293e4b7ac8>"
      ]
     },
     "metadata": {},
     "output_type": "display_data"
    }
   ],
   "source": [
    "plot_layer(activations, image_number, 1)"
   ]
  },
  {
   "cell_type": "code",
   "execution_count": 22,
   "metadata": {},
   "outputs": [
    {
     "data": {
      "image/png": "[encoded data removed]",
      "text/plain": [
       "<matplotlib.figure.Figure at 0x229403e0128>"
      ]
     },
     "metadata": {},
     "output_type": "display_data"
    }
   ],
   "source": [
    "plot_layer(activations, image_number, 2)"
   ]
  },
  {
   "cell_type": "code",
   "execution_count": 23,
   "metadata": {},
   "outputs": [
    {
     "data": {
      "image/png": "[encoded data removed]",
      "text/plain": [
       "<matplotlib.figure.Figure at 0x229403d7c50>"
      ]
     },
     "metadata": {},
     "output_type": "display_data"
    }
   ],
   "source": [
    "plot_layer(activations, image_number, 3)"
   ]
  },
  {
   "cell_type": "code",
   "execution_count": null,
   "metadata": {},
   "outputs": [],
   "source": []
  }
 ],
 "metadata": {
  "colab": {
   "collapsed_sections": [],
   "name": "CNN for AED",
   "provenance": [],
   "version": "0.3.2"
  },
  "kernelspec": {
   "display_name": "Python 3",
   "language": "python",
   "name": "python3"
  },
  "language_info": {
   "codemirror_mode": {
    "name": "ipython",
    "version": 3
   },
   "file_extension": ".py",
   "mimetype": "text/x-python",
   "name": "python",
   "nbconvert_exporter": "python",
   "pygments_lexer": "ipython3",
   "version": "3.6.4"
  }
 },
 "nbformat": 4,
 "nbformat_minor": 1
}
