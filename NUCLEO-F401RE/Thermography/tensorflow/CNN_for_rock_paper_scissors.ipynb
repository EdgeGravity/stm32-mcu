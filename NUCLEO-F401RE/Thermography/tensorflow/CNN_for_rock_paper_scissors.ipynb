{
 "cells": [
  {
   "cell_type": "markdown",
   "metadata": {
    "colab_type": "text",
    "id": "0X16cagQE-Y-"
   },
   "source": [
    "# CNN for rock-paper-scissors with Keras/TensorFlow\n",
    "\n",
    "Date: January 4, 2019\n",
    "\n",
    "Classification:\n",
    "- rock\n",
    "- paper\n",
    "- scissors"
   ]
  },
  {
   "cell_type": "markdown",
   "metadata": {
    "colab_type": "text",
    "id": "WwQ-dEltkl5Q"
   },
   "source": [
    "## Preparing data set for CNN"
   ]
  },
  {
   "cell_type": "code",
   "execution_count": 27,
   "metadata": {
    "colab": {
     "base_uri": "https://localhost:8080/",
     "height": 34
    },
    "colab_type": "code",
    "id": "VEJyQsGpV3ug",
    "outputId": "3929aa39-3383-4791-e065-3622e6781181"
   },
   "outputs": [],
   "source": [
    "DATA_FOLDER = '../thermography/data/'\n",
    "\n",
    "FILES = 45\n",
    "TRAINING_FILES = 30 \n",
    "TEST_FILES = FILES - TRAINING_FILES"
   ]
  },
  {
   "cell_type": "code",
   "execution_count": 28,
   "metadata": {
    "colab": {},
    "colab_type": "code",
    "id": "JTNdoPBFWGky"
   },
   "outputs": [],
   "source": [
    "%matplotlib inline\n",
    "\n",
    "import matplotlib.pyplot as plt\n",
    "import numpy as np\n",
    "import time\n",
    "import random\n",
    "import os\n",
    "import sklearn.preprocessing as pp"
   ]
  },
  {
   "cell_type": "code",
   "execution_count": 29,
   "metadata": {},
   "outputs": [
    {
     "name": "stdout",
     "output_type": "stream",
     "text": [
      "0: paper\n",
      "1: rock\n",
      "2: scissors\n"
     ]
    }
   ],
   "source": [
    "import glob\n",
    "\n",
    "data_files = glob.glob(DATA_FOLDER+'*.csv')\n",
    "class_labels = []\n",
    "\n",
    "for file in data_files:\n",
    "    label = file.split('-')[0].replace('\\\\', '/').split('/')[-1]\n",
    "    if label not in class_labels:\n",
    "        class_labels.append(label)\n",
    "\n",
    "data_set = {}\n",
    "\n",
    "class_number = 0\n",
    "\n",
    "for label in class_labels:\n",
    "    files = glob.glob(DATA_FOLDER+'{}-*.csv'.format(label))\n",
    "    random.shuffle(files)\n",
    "    data_set[label] = (files[:TRAINING_FILES], files[TRAINING_FILES:FILES], class_number)\n",
    "    class_number += 1\n",
    "\n",
    "training_set = []\n",
    "test_set = []\n",
    "\n",
    "for k, v in data_set.items():\n",
    "    files = v[0]\n",
    "    class_number = v[2]\n",
    "    for file in files:\n",
    "        with open(file) as f:\n",
    "            data = np.array(f.read().split(',')).astype(float)\n",
    "            training_set.append((pp.scale(data), class_number))\n",
    "    files = v[1]\n",
    "    for file in files:\n",
    "        with open(file) as f:\n",
    "            data = np.array(f.read().split(',')).astype(float)\n",
    "            test_set.append((pp.scale(data), class_number))\n",
    "random.shuffle(training_set)\n",
    "random.shuffle(test_set)\n",
    "\n",
    "class_labels = [None for _ in range(len(data_set))]\n",
    "\n",
    "# Class number and class labels\n",
    "for k,v in data_set.items():\n",
    "    print('{}: {}'.format(v[2],k))\n",
    "    class_labels[v[2]] = k\n",
    "    \n",
    "import yaml\n",
    "with open(DATA_FOLDER+'class_labels.yaml', 'w') as f:\n",
    "    yaml.dump(class_labels, f)"
   ]
  },
  {
   "cell_type": "code",
   "execution_count": 30,
   "metadata": {
    "colab": {},
    "colab_type": "code",
    "id": "28tIKkNyW3cO"
   },
   "outputs": [
    {
     "data": {
      "text/plain": [
       "array([[-0.70735509, -0.48652228,  0.25878845,  1.500973  ,  0.89368278,\n",
       "        -0.56933459, -0.9281879 , -1.03860431],\n",
       "       [-0.65214689, -0.70735509,  0.81087047,  1.500973  ,  1.55618121,\n",
       "         0.45201716, -0.7625633 , -1.12141661],\n",
       "       [-0.70735509, -0.21048127,  1.500973  ,  1.77701402,  1.63899351,\n",
       "         1.4457648 , -0.43131408, -0.9281879 ],\n",
       "       [-0.70735509,  0.17597615,  1.3629525 ,  1.63899351,  1.72180581,\n",
       "         1.55618121,  0.94889098, -0.29329358],\n",
       "       [-0.8453756 ,  0.67284997, -0.29329358,  1.16972379,  1.55618121,\n",
       "         1.28014019,  0.06555974,  0.12076794],\n",
       "       [-1.03860431, -0.7625633 , -0.9281879 ,  0.06555974,  1.08691148,\n",
       "         0.39680895,  0.53482946, -0.70735509],\n",
       "       [-1.31464532, -1.03860431, -1.03860431, -0.8453756 ,  0.53482946,\n",
       "         0.45201716, -0.48652228, -0.70735509],\n",
       "       [-1.25943712, -1.25943712, -1.25943712, -1.12141661, -0.9281879 ,\n",
       "        -0.70735509, -0.8453756 , -1.03860431]])"
      ]
     },
     "execution_count": 30,
     "metadata": {},
     "output_type": "execute_result"
    },
    {
     "data": {
      "image/png": "[encoded data removed]",
      "text/plain": [
       "<matplotlib.figure.Figure at 0x1f7e02c3128>"
      ]
     },
     "metadata": {},
     "output_type": "display_data"
    }
   ],
   "source": [
    "train_data, train_labels = [], []\n",
    "test_data, test_labels = [], []\n",
    "for img, label in training_set:\n",
    "    train_data.append(img)\n",
    "    train_labels.append(label)\n",
    "for img, label in test_set:\n",
    "    test_data.append(img)\n",
    "    test_labels.append(label)\n",
    "train_data = np.array(train_data).reshape((TRAINING_FILES*len(class_labels), 8, 8, 1))\n",
    "train_labels = np.array(train_labels, dtype='uint8')\n",
    "test_data = np.array(test_data).reshape((TEST_FILES*len(class_labels), 8, 8, 1))\n",
    "test_lables = np.array(test_labels, dtype='uint8')\n",
    "#train_data.shape\n",
    "\n",
    "from keras.utils import to_categorical\n",
    "\n",
    "train_labels=to_categorical(train_labels)\n",
    "test_labels=to_categorical(test_labels)\n",
    "\n",
    "plt.imshow(train_data[12,:,:,0])\n",
    "train_data[12,:,:,0]"
   ]
  },
  {
   "cell_type": "markdown",
   "metadata": {
    "colab_type": "text",
    "id": "VfUmgxxVk6uM"
   },
   "source": [
    "### CNN model"
   ]
  },
  {
   "cell_type": "code",
   "execution_count": 31,
   "metadata": {
    "colab": {
     "base_uri": "https://localhost:8080/",
     "height": 509
    },
    "colab_type": "code",
    "id": "B2Xg6tGLdMKP",
    "outputId": "ae3daa32-9dbf-4d8b-9a11-7f596dd2e4a6"
   },
   "outputs": [
    {
     "name": "stdout",
     "output_type": "stream",
     "text": [
      "_________________________________________________________________\n",
      "Layer (type)                 Output Shape              Param #   \n",
      "=================================================================\n",
      "conv2d_7 (Conv2D)            (None, 8, 8, 16)          160       \n",
      "_________________________________________________________________\n",
      "max_pooling2d_7 (MaxPooling2 (None, 4, 4, 16)          0         \n",
      "_________________________________________________________________\n",
      "conv2d_8 (Conv2D)            (None, 4, 4, 32)          4640      \n",
      "_________________________________________________________________\n",
      "max_pooling2d_8 (MaxPooling2 (None, 2, 2, 32)          0         \n",
      "_________________________________________________________________\n",
      "flatten_4 (Flatten)          (None, 128)               0         \n",
      "_________________________________________________________________\n",
      "dropout_5 (Dropout)          (None, 128)               0         \n",
      "_________________________________________________________________\n",
      "dense_6 (Dense)              (None, 256)               33024     \n",
      "_________________________________________________________________\n",
      "dropout_6 (Dropout)          (None, 256)               0         \n",
      "_________________________________________________________________\n",
      "dense_7 (Dense)              (None, 3)                 771       \n",
      "=================================================================\n",
      "Total params: 38,595\n",
      "Trainable params: 38,595\n",
      "Non-trainable params: 0\n",
      "_________________________________________________________________\n"
     ]
    }
   ],
   "source": [
    "from keras import layers\n",
    "from keras import models\n",
    "\n",
    "model = models.Sequential()\n",
    "\n",
    "model.add(layers.Conv2D(16, (3, 3), padding='same', activation='relu', input_shape=(8, 8, 1)))\n",
    "model.add(layers.MaxPooling2D((2,2)))\n",
    "\n",
    "model.add(layers.Conv2D(32, (3, 3), padding='same', activation='relu'))\n",
    "model.add(layers.MaxPooling2D((2,2)))\n",
    "\n",
    "model.add(layers.Flatten())\n",
    "model.add(layers.Dropout(0.5))\n",
    "model.add(layers.Dense(256, activation='relu'))\n",
    "model.add(layers.Dropout(0.5))\n",
    "model.add(layers.Dense(len(class_labels), activation='softmax'))\n",
    "\n",
    "model.summary()"
   ]
  },
  {
   "cell_type": "code",
   "execution_count": 32,
   "metadata": {
    "colab": {},
    "colab_type": "code",
    "id": "nRr1L_4ogL6i"
   },
   "outputs": [],
   "source": [
    "model.compile(optimizer='rmsprop', loss='categorical_crossentropy', metrics=['accuracy'])"
   ]
  },
  {
   "cell_type": "code",
   "execution_count": 33,
   "metadata": {},
   "outputs": [
    {
     "data": {
      "image/svg+xml": [
       "<svg height=\"702pt\" viewBox=\"0.00 0.00 217.00 702.00\" width=\"217pt\" xmlns=\"http://www.w3.org/2000/svg\" xmlns:xlink=\"http://www.w3.org/1999/xlink\">\n",
       "<g class=\"graph\" id=\"graph0\" transform=\"scale(1 1) rotate(0) translate(4 698)\">\n",
       "<title>G</title>\n",
       "<polygon fill=\"white\" points=\"-4,4 -4,-698 213,-698 213,4 -4,4\" stroke=\"none\"/>\n",
       "<!-- 2164147481120 -->\n",
       "<g class=\"node\" id=\"node1\"><title>2164147481120</title>\n",
       "<polygon fill=\"none\" points=\"41,-584.5 41,-620.5 168,-620.5 168,-584.5 41,-584.5\" stroke=\"black\"/>\n",
       "<text font-family=\"Times New Roman,serif\" font-size=\"14.00\" text-anchor=\"middle\" x=\"104.5\" y=\"-598.8\">conv2d_7: Conv2D</text>\n",
       "</g>\n",
       "<!-- 2164129530152 -->\n",
       "<g class=\"node\" id=\"node2\"><title>2164129530152</title>\n",
       "<polygon fill=\"none\" points=\"0,-511.5 0,-547.5 209,-547.5 209,-511.5 0,-511.5\" stroke=\"black\"/>\n",
       "<text font-family=\"Times New Roman,serif\" font-size=\"14.00\" text-anchor=\"middle\" x=\"104.5\" y=\"-525.8\">max_pooling2d_7: MaxPooling2D</text>\n",
       "</g>\n",
       "<!-- 2164147481120&#45;&gt;2164129530152 -->\n",
       "<g class=\"edge\" id=\"edge2\"><title>2164147481120-&gt;2164129530152</title>\n",
       "<path d=\"M104.5,-584.313C104.5,-576.289 104.5,-566.547 104.5,-557.569\" fill=\"none\" stroke=\"black\"/>\n",
       "<polygon fill=\"black\" points=\"108,-557.529 104.5,-547.529 101,-557.529 108,-557.529\" stroke=\"black\"/>\n",
       "</g>\n",
       "<!-- 2164129567968 -->\n",
       "<g class=\"node\" id=\"node3\"><title>2164129567968</title>\n",
       "<polygon fill=\"none\" points=\"41,-438.5 41,-474.5 168,-474.5 168,-438.5 41,-438.5\" stroke=\"black\"/>\n",
       "<text font-family=\"Times New Roman,serif\" font-size=\"14.00\" text-anchor=\"middle\" x=\"104.5\" y=\"-452.8\">conv2d_8: Conv2D</text>\n",
       "</g>\n",
       "<!-- 2164129530152&#45;&gt;2164129567968 -->\n",
       "<g class=\"edge\" id=\"edge3\"><title>2164129530152-&gt;2164129567968</title>\n",
       "<path d=\"M104.5,-511.313C104.5,-503.289 104.5,-493.547 104.5,-484.569\" fill=\"none\" stroke=\"black\"/>\n",
       "<polygon fill=\"black\" points=\"108,-484.529 104.5,-474.529 101,-484.529 108,-484.529\" stroke=\"black\"/>\n",
       "</g>\n",
       "<!-- 2164103765072 -->\n",
       "<g class=\"node\" id=\"node4\"><title>2164103765072</title>\n",
       "<polygon fill=\"none\" points=\"0,-365.5 0,-401.5 209,-401.5 209,-365.5 0,-365.5\" stroke=\"black\"/>\n",
       "<text font-family=\"Times New Roman,serif\" font-size=\"14.00\" text-anchor=\"middle\" x=\"104.5\" y=\"-379.8\">max_pooling2d_8: MaxPooling2D</text>\n",
       "</g>\n",
       "<!-- 2164129567968&#45;&gt;2164103765072 -->\n",
       "<g class=\"edge\" id=\"edge4\"><title>2164129567968-&gt;2164103765072</title>\n",
       "<path d=\"M104.5,-438.313C104.5,-430.289 104.5,-420.547 104.5,-411.569\" fill=\"none\" stroke=\"black\"/>\n",
       "<polygon fill=\"black\" points=\"108,-411.529 104.5,-401.529 101,-411.529 108,-411.529\" stroke=\"black\"/>\n",
       "</g>\n",
       "<!-- 2164129530824 -->\n",
       "<g class=\"node\" id=\"node5\"><title>2164129530824</title>\n",
       "<polygon fill=\"none\" points=\"50,-292.5 50,-328.5 159,-328.5 159,-292.5 50,-292.5\" stroke=\"black\"/>\n",
       "<text font-family=\"Times New Roman,serif\" font-size=\"14.00\" text-anchor=\"middle\" x=\"104.5\" y=\"-306.8\">flatten_4: Flatten</text>\n",
       "</g>\n",
       "<!-- 2164103765072&#45;&gt;2164129530824 -->\n",
       "<g class=\"edge\" id=\"edge5\"><title>2164103765072-&gt;2164129530824</title>\n",
       "<path d=\"M104.5,-365.313C104.5,-357.289 104.5,-347.547 104.5,-338.569\" fill=\"none\" stroke=\"black\"/>\n",
       "<polygon fill=\"black\" points=\"108,-338.529 104.5,-328.529 101,-338.529 108,-338.529\" stroke=\"black\"/>\n",
       "</g>\n",
       "<!-- 2164103762720 -->\n",
       "<g class=\"node\" id=\"node6\"><title>2164103762720</title>\n",
       "<polygon fill=\"none\" points=\"39.5,-219.5 39.5,-255.5 169.5,-255.5 169.5,-219.5 39.5,-219.5\" stroke=\"black\"/>\n",
       "<text font-family=\"Times New Roman,serif\" font-size=\"14.00\" text-anchor=\"middle\" x=\"104.5\" y=\"-233.8\">dropout_5: Dropout</text>\n",
       "</g>\n",
       "<!-- 2164129530824&#45;&gt;2164103762720 -->\n",
       "<g class=\"edge\" id=\"edge6\"><title>2164129530824-&gt;2164103762720</title>\n",
       "<path d=\"M104.5,-292.313C104.5,-284.289 104.5,-274.547 104.5,-265.569\" fill=\"none\" stroke=\"black\"/>\n",
       "<polygon fill=\"black\" points=\"108,-265.529 104.5,-255.529 101,-265.529 108,-265.529\" stroke=\"black\"/>\n",
       "</g>\n",
       "<!-- 2164157562160 -->\n",
       "<g class=\"node\" id=\"node7\"><title>2164157562160</title>\n",
       "<polygon fill=\"none\" points=\"52.5,-146.5 52.5,-182.5 156.5,-182.5 156.5,-146.5 52.5,-146.5\" stroke=\"black\"/>\n",
       "<text font-family=\"Times New Roman,serif\" font-size=\"14.00\" text-anchor=\"middle\" x=\"104.5\" y=\"-160.8\">dense_6: Dense</text>\n",
       "</g>\n",
       "<!-- 2164103762720&#45;&gt;2164157562160 -->\n",
       "<g class=\"edge\" id=\"edge7\"><title>2164103762720-&gt;2164157562160</title>\n",
       "<path d=\"M104.5,-219.313C104.5,-211.289 104.5,-201.547 104.5,-192.569\" fill=\"none\" stroke=\"black\"/>\n",
       "<polygon fill=\"black\" points=\"108,-192.529 104.5,-182.529 101,-192.529 108,-192.529\" stroke=\"black\"/>\n",
       "</g>\n",
       "<!-- 2164157562272 -->\n",
       "<g class=\"node\" id=\"node8\"><title>2164157562272</title>\n",
       "<polygon fill=\"none\" points=\"39.5,-73.5 39.5,-109.5 169.5,-109.5 169.5,-73.5 39.5,-73.5\" stroke=\"black\"/>\n",
       "<text font-family=\"Times New Roman,serif\" font-size=\"14.00\" text-anchor=\"middle\" x=\"104.5\" y=\"-87.8\">dropout_6: Dropout</text>\n",
       "</g>\n",
       "<!-- 2164157562160&#45;&gt;2164157562272 -->\n",
       "<g class=\"edge\" id=\"edge8\"><title>2164157562160-&gt;2164157562272</title>\n",
       "<path d=\"M104.5,-146.313C104.5,-138.289 104.5,-128.547 104.5,-119.569\" fill=\"none\" stroke=\"black\"/>\n",
       "<polygon fill=\"black\" points=\"108,-119.529 104.5,-109.529 101,-119.529 108,-119.529\" stroke=\"black\"/>\n",
       "</g>\n",
       "<!-- 2164157841192 -->\n",
       "<g class=\"node\" id=\"node9\"><title>2164157841192</title>\n",
       "<polygon fill=\"none\" points=\"52.5,-0.5 52.5,-36.5 156.5,-36.5 156.5,-0.5 52.5,-0.5\" stroke=\"black\"/>\n",
       "<text font-family=\"Times New Roman,serif\" font-size=\"14.00\" text-anchor=\"middle\" x=\"104.5\" y=\"-14.8\">dense_7: Dense</text>\n",
       "</g>\n",
       "<!-- 2164157562272&#45;&gt;2164157841192 -->\n",
       "<g class=\"edge\" id=\"edge9\"><title>2164157562272-&gt;2164157841192</title>\n",
       "<path d=\"M104.5,-73.3129C104.5,-65.2895 104.5,-55.5475 104.5,-46.5691\" fill=\"none\" stroke=\"black\"/>\n",
       "<polygon fill=\"black\" points=\"108,-46.5288 104.5,-36.5288 101,-46.5289 108,-46.5288\" stroke=\"black\"/>\n",
       "</g>\n",
       "<!-- 2164129529928 -->\n",
       "<g class=\"node\" id=\"node10\"><title>2164129529928</title>\n",
       "<polygon fill=\"none\" points=\"52.5,-657.5 52.5,-693.5 156.5,-693.5 156.5,-657.5 52.5,-657.5\" stroke=\"black\"/>\n",
       "<text font-family=\"Times New Roman,serif\" font-size=\"14.00\" text-anchor=\"middle\" x=\"104.5\" y=\"-671.8\">2164129529928</text>\n",
       "</g>\n",
       "<!-- 2164129529928&#45;&gt;2164147481120 -->\n",
       "<g class=\"edge\" id=\"edge1\"><title>2164129529928-&gt;2164147481120</title>\n",
       "<path d=\"M104.5,-657.313C104.5,-649.289 104.5,-639.547 104.5,-630.569\" fill=\"none\" stroke=\"black\"/>\n",
       "<polygon fill=\"black\" points=\"108,-630.529 104.5,-620.529 101,-630.529 108,-630.529\" stroke=\"black\"/>\n",
       "</g>\n",
       "</g>\n",
       "</svg>"
      ],
      "text/plain": [
       "<IPython.core.display.SVG object>"
      ]
     },
     "execution_count": 33,
     "metadata": {},
     "output_type": "execute_result"
    }
   ],
   "source": [
    "from IPython.display import SVG\n",
    "from keras.utils.vis_utils import model_to_dot\n",
    "\n",
    "SVG(model_to_dot(model).create(prog='dot', format='svg'))"
   ]
  },
  {
   "cell_type": "markdown",
   "metadata": {
    "colab_type": "text",
    "id": "TfypWUJIlFkz"
   },
   "source": [
    "## Training CNN"
   ]
  },
  {
   "cell_type": "code",
   "execution_count": 34,
   "metadata": {
    "colab": {
     "base_uri": "https://localhost:8080/",
     "height": 931
    },
    "colab_type": "code",
    "id": "zsdmu-ggfvr1",
    "outputId": "77a52558-8ecc-4fc5-e0cb-2b86a75df4c6",
    "scrolled": false
   },
   "outputs": [
    {
     "name": "stdout",
     "output_type": "stream",
     "text": [
      "Train on 90 samples, validate on 45 samples\n",
      "Epoch 1/80\n",
      "90/90 [==============================] - 1s 8ms/step - loss: 1.1701 - acc: 0.3333 - val_loss: 1.0801 - val_acc: 0.4444\n",
      "Epoch 2/80\n",
      "90/90 [==============================] - 0s 261us/step - loss: 1.1078 - acc: 0.3778 - val_loss: 1.0517 - val_acc: 0.5111\n",
      "Epoch 3/80\n",
      "90/90 [==============================] - 0s 312us/step - loss: 1.0790 - acc: 0.4333 - val_loss: 1.0150 - val_acc: 0.5333\n",
      "Epoch 4/80\n",
      "90/90 [==============================] - 0s 292us/step - loss: 1.0647 - acc: 0.4444 - val_loss: 0.9869 - val_acc: 0.7778\n",
      "Epoch 5/80\n",
      "90/90 [==============================] - 0s 321us/step - loss: 1.0349 - acc: 0.4667 - val_loss: 0.9606 - val_acc: 0.8222\n",
      "Epoch 6/80\n",
      "90/90 [==============================] - 0s 333us/step - loss: 0.9976 - acc: 0.5333 - val_loss: 0.9252 - val_acc: 0.7556\n",
      "Epoch 7/80\n",
      "90/90 [==============================] - 0s 249us/step - loss: 0.9536 - acc: 0.5667 - val_loss: 0.8903 - val_acc: 0.8000\n",
      "Epoch 8/80\n",
      "90/90 [==============================] - 0s 289us/step - loss: 0.9500 - acc: 0.6000 - val_loss: 0.8554 - val_acc: 0.7333\n",
      "Epoch 9/80\n",
      "90/90 [==============================] - 0s 356us/step - loss: 0.8250 - acc: 0.7222 - val_loss: 0.8127 - val_acc: 0.8889\n",
      "Epoch 10/80\n",
      "90/90 [==============================] - 0s 315us/step - loss: 0.8458 - acc: 0.6889 - val_loss: 0.7739 - val_acc: 0.9111\n",
      "Epoch 11/80\n",
      "90/90 [==============================] - 0s 248us/step - loss: 0.8567 - acc: 0.5444 - val_loss: 0.7320 - val_acc: 0.9111\n",
      "Epoch 12/80\n",
      "90/90 [==============================] - 0s 316us/step - loss: 0.8710 - acc: 0.5778 - val_loss: 0.6908 - val_acc: 0.9333\n",
      "Epoch 13/80\n",
      "90/90 [==============================] - 0s 246us/step - loss: 0.7578 - acc: 0.7222 - val_loss: 0.6529 - val_acc: 0.9111\n",
      "Epoch 14/80\n",
      "90/90 [==============================] - 0s 261us/step - loss: 0.7312 - acc: 0.7222 - val_loss: 0.6118 - val_acc: 0.8000\n",
      "Epoch 15/80\n",
      "90/90 [==============================] - 0s 278us/step - loss: 0.6819 - acc: 0.7556 - val_loss: 0.5881 - val_acc: 0.8222\n",
      "Epoch 16/80\n",
      "90/90 [==============================] - 0s 327us/step - loss: 0.6006 - acc: 0.8333 - val_loss: 0.5603 - val_acc: 0.8222\n",
      "Epoch 17/80\n",
      "90/90 [==============================] - 0s 293us/step - loss: 0.5870 - acc: 0.7889 - val_loss: 0.4760 - val_acc: 0.9778\n",
      "Epoch 18/80\n",
      "90/90 [==============================] - 0s 275us/step - loss: 0.6485 - acc: 0.7667 - val_loss: 0.4446 - val_acc: 0.9556\n",
      "Epoch 19/80\n",
      "90/90 [==============================] - 0s 294us/step - loss: 0.5290 - acc: 0.8556 - val_loss: 0.4223 - val_acc: 0.9111\n",
      "Epoch 20/80\n",
      "90/90 [==============================] - 0s 245us/step - loss: 0.5579 - acc: 0.7889 - val_loss: 0.3961 - val_acc: 0.9111\n",
      "Epoch 21/80\n",
      "90/90 [==============================] - 0s 306us/step - loss: 0.4878 - acc: 0.8333 - val_loss: 0.3636 - val_acc: 0.9111\n",
      "Epoch 22/80\n",
      "90/90 [==============================] - 0s 286us/step - loss: 0.4592 - acc: 0.8444 - val_loss: 0.3313 - val_acc: 0.9556\n",
      "Epoch 23/80\n",
      "90/90 [==============================] - 0s 275us/step - loss: 0.3815 - acc: 0.9222 - val_loss: 0.3230 - val_acc: 0.9111\n",
      "Epoch 24/80\n",
      "90/90 [==============================] - 0s 312us/step - loss: 0.4416 - acc: 0.8556 - val_loss: 0.2873 - val_acc: 0.9333\n",
      "Epoch 25/80\n",
      "90/90 [==============================] - 0s 211us/step - loss: 0.4294 - acc: 0.9000 - val_loss: 0.2672 - val_acc: 0.9778\n",
      "Epoch 26/80\n",
      "90/90 [==============================] - 0s 234us/step - loss: 0.3508 - acc: 0.8889 - val_loss: 0.2743 - val_acc: 0.9333\n",
      "Epoch 27/80\n",
      "90/90 [==============================] - 0s 212us/step - loss: 0.3909 - acc: 0.8889 - val_loss: 0.2533 - val_acc: 0.9333\n",
      "Epoch 28/80\n",
      "90/90 [==============================] - 0s 211us/step - loss: 0.3369 - acc: 0.9333 - val_loss: 0.2763 - val_acc: 0.9111\n",
      "Epoch 29/80\n",
      "90/90 [==============================] - 0s 191us/step - loss: 0.2912 - acc: 0.9111 - val_loss: 0.1979 - val_acc: 0.9778\n",
      "Epoch 30/80\n",
      "90/90 [==============================] - 0s 206us/step - loss: 0.3525 - acc: 0.9222 - val_loss: 0.2148 - val_acc: 0.9333\n",
      "Epoch 31/80\n",
      "90/90 [==============================] - 0s 189us/step - loss: 0.2640 - acc: 0.9222 - val_loss: 0.1885 - val_acc: 0.9556\n",
      "Epoch 32/80\n",
      "90/90 [==============================] - 0s 210us/step - loss: 0.3078 - acc: 0.9222 - val_loss: 0.1788 - val_acc: 0.9778\n",
      "Epoch 33/80\n",
      "90/90 [==============================] - 0s 221us/step - loss: 0.2607 - acc: 0.9333 - val_loss: 0.1668 - val_acc: 0.9556\n",
      "Epoch 34/80\n",
      "90/90 [==============================] - 0s 197us/step - loss: 0.2864 - acc: 0.9333 - val_loss: 0.1651 - val_acc: 0.9556\n",
      "Epoch 35/80\n",
      "90/90 [==============================] - 0s 199us/step - loss: 0.2375 - acc: 0.9778 - val_loss: 0.1703 - val_acc: 0.9556\n",
      "Epoch 36/80\n",
      "90/90 [==============================] - 0s 201us/step - loss: 0.2929 - acc: 0.9000 - val_loss: 0.2134 - val_acc: 0.9111\n",
      "Epoch 37/80\n",
      "90/90 [==============================] - 0s 214us/step - loss: 0.2092 - acc: 0.9556 - val_loss: 0.1501 - val_acc: 0.9556\n",
      "Epoch 38/80\n",
      "90/90 [==============================] - 0s 214us/step - loss: 0.2075 - acc: 0.9556 - val_loss: 0.1633 - val_acc: 0.9333\n",
      "Epoch 39/80\n",
      "90/90 [==============================] - 0s 190us/step - loss: 0.1960 - acc: 0.9667 - val_loss: 0.1142 - val_acc: 0.9778\n",
      "Epoch 40/80\n",
      "90/90 [==============================] - 0s 232us/step - loss: 0.2778 - acc: 0.9000 - val_loss: 0.1335 - val_acc: 0.9556\n",
      "Epoch 41/80\n",
      "90/90 [==============================] - 0s 202us/step - loss: 0.1433 - acc: 0.9778 - val_loss: 0.1362 - val_acc: 0.9556\n",
      "Epoch 42/80\n",
      "90/90 [==============================] - 0s 205us/step - loss: 0.2234 - acc: 0.9444 - val_loss: 0.1058 - val_acc: 0.9556\n",
      "Epoch 43/80\n",
      "90/90 [==============================] - 0s 195us/step - loss: 0.2095 - acc: 0.9556 - val_loss: 0.1875 - val_acc: 0.9111\n",
      "Epoch 44/80\n",
      "90/90 [==============================] - 0s 214us/step - loss: 0.1472 - acc: 0.9667 - val_loss: 0.1210 - val_acc: 0.9556\n",
      "Epoch 45/80\n",
      "90/90 [==============================] - 0s 275us/step - loss: 0.1505 - acc: 0.9222 - val_loss: 0.1097 - val_acc: 0.9556\n",
      "Epoch 46/80\n",
      "90/90 [==============================] - 0s 218us/step - loss: 0.1472 - acc: 0.9556 - val_loss: 0.1240 - val_acc: 0.9556\n",
      "Epoch 47/80\n",
      "90/90 [==============================] - 0s 197us/step - loss: 0.1358 - acc: 0.9444 - val_loss: 0.0939 - val_acc: 0.9556\n",
      "Epoch 48/80\n",
      "90/90 [==============================] - 0s 186us/step - loss: 0.1278 - acc: 0.9667 - val_loss: 0.1125 - val_acc: 0.9556\n",
      "Epoch 49/80\n",
      "90/90 [==============================] - 0s 235us/step - loss: 0.1426 - acc: 0.9444 - val_loss: 0.1546 - val_acc: 0.9333\n",
      "Epoch 50/80\n",
      "90/90 [==============================] - 0s 267us/step - loss: 0.1008 - acc: 0.9778 - val_loss: 0.0995 - val_acc: 0.9556\n",
      "Epoch 51/80\n",
      "90/90 [==============================] - 0s 281us/step - loss: 0.1428 - acc: 0.9556 - val_loss: 0.0865 - val_acc: 0.9556\n",
      "Epoch 52/80\n",
      "90/90 [==============================] - 0s 259us/step - loss: 0.1152 - acc: 0.9667 - val_loss: 0.1081 - val_acc: 0.9556\n",
      "Epoch 53/80\n",
      "90/90 [==============================] - 0s 216us/step - loss: 0.1263 - acc: 0.9889 - val_loss: 0.1224 - val_acc: 0.9556\n",
      "Epoch 54/80\n",
      "90/90 [==============================] - 0s 237us/step - loss: 0.1436 - acc: 0.9556 - val_loss: 0.0962 - val_acc: 0.9556\n",
      "Epoch 55/80\n",
      "90/90 [==============================] - 0s 282us/step - loss: 0.0899 - acc: 0.9778 - val_loss: 0.0742 - val_acc: 0.9556\n",
      "Epoch 56/80\n",
      "90/90 [==============================] - 0s 229us/step - loss: 0.1078 - acc: 0.9778 - val_loss: 0.0857 - val_acc: 0.9556\n",
      "Epoch 57/80\n",
      "90/90 [==============================] - 0s 261us/step - loss: 0.0804 - acc: 0.9667 - val_loss: 0.0751 - val_acc: 0.9556\n",
      "Epoch 58/80\n",
      "90/90 [==============================] - 0s 297us/step - loss: 0.1281 - acc: 0.9444 - val_loss: 0.1381 - val_acc: 0.9556\n",
      "Epoch 59/80\n",
      "90/90 [==============================] - 0s 235us/step - loss: 0.0807 - acc: 0.9778 - val_loss: 0.0793 - val_acc: 0.9556\n",
      "Epoch 60/80\n",
      "90/90 [==============================] - 0s 312us/step - loss: 0.1856 - acc: 0.9333 - val_loss: 0.0913 - val_acc: 0.9556\n",
      "Epoch 61/80\n",
      "90/90 [==============================] - 0s 335us/step - loss: 0.0941 - acc: 0.9778 - val_loss: 0.1558 - val_acc: 0.9333\n",
      "Epoch 62/80\n"
     ]
    },
    {
     "name": "stdout",
     "output_type": "stream",
     "text": [
      "90/90 [==============================] - 0s 214us/step - loss: 0.0669 - acc: 0.9889 - val_loss: 0.1000 - val_acc: 0.9556\n",
      "Epoch 63/80\n",
      "90/90 [==============================] - 0s 266us/step - loss: 0.0828 - acc: 0.9778 - val_loss: 0.1312 - val_acc: 0.9556\n",
      "Epoch 64/80\n",
      "90/90 [==============================] - 0s 278us/step - loss: 0.0732 - acc: 0.9778 - val_loss: 0.1587 - val_acc: 0.9333\n",
      "Epoch 65/80\n",
      "90/90 [==============================] - 0s 308us/step - loss: 0.0614 - acc: 0.9778 - val_loss: 0.0599 - val_acc: 0.9556\n",
      "Epoch 66/80\n",
      "90/90 [==============================] - 0s 252us/step - loss: 0.0516 - acc: 0.9889 - val_loss: 0.1114 - val_acc: 0.9556\n",
      "Epoch 67/80\n",
      "90/90 [==============================] - 0s 308us/step - loss: 0.0381 - acc: 1.0000 - val_loss: 0.1059 - val_acc: 0.9556\n",
      "Epoch 68/80\n",
      "90/90 [==============================] - 0s 332us/step - loss: 0.0654 - acc: 0.9889 - val_loss: 0.1406 - val_acc: 0.9556\n",
      "Epoch 69/80\n",
      "90/90 [==============================] - 0s 251us/step - loss: 0.0250 - acc: 1.0000 - val_loss: 0.0998 - val_acc: 0.9556\n",
      "Epoch 70/80\n",
      "90/90 [==============================] - 0s 251us/step - loss: 0.0482 - acc: 0.9889 - val_loss: 0.1472 - val_acc: 0.9556\n",
      "Epoch 71/80\n",
      "90/90 [==============================] - 0s 257us/step - loss: 0.0862 - acc: 0.9556 - val_loss: 0.1218 - val_acc: 0.9556\n",
      "Epoch 72/80\n",
      "90/90 [==============================] - 0s 217us/step - loss: 0.0503 - acc: 0.9889 - val_loss: 0.1059 - val_acc: 0.9556\n",
      "Epoch 73/80\n",
      "90/90 [==============================] - 0s 213us/step - loss: 0.0308 - acc: 1.0000 - val_loss: 0.0857 - val_acc: 0.9556\n",
      "Epoch 74/80\n",
      "90/90 [==============================] - 0s 233us/step - loss: 0.0264 - acc: 1.0000 - val_loss: 0.0984 - val_acc: 0.9556\n",
      "Epoch 75/80\n",
      "90/90 [==============================] - 0s 209us/step - loss: 0.0358 - acc: 1.0000 - val_loss: 0.0328 - val_acc: 1.0000\n",
      "Epoch 76/80\n",
      "90/90 [==============================] - 0s 201us/step - loss: 0.0599 - acc: 0.9778 - val_loss: 0.1235 - val_acc: 0.9556\n",
      "Epoch 77/80\n",
      "90/90 [==============================] - 0s 219us/step - loss: 0.0701 - acc: 0.9778 - val_loss: 0.0705 - val_acc: 0.9556\n",
      "Epoch 78/80\n",
      "90/90 [==============================] - 0s 204us/step - loss: 0.0285 - acc: 1.0000 - val_loss: 0.1318 - val_acc: 0.9556\n",
      "Epoch 79/80\n",
      "90/90 [==============================] - 0s 195us/step - loss: 0.0316 - acc: 1.0000 - val_loss: 0.0801 - val_acc: 0.9556\n",
      "Epoch 80/80\n",
      "90/90 [==============================] - 0s 183us/step - loss: 0.0165 - acc: 1.0000 - val_loss: 0.1109 - val_acc: 0.9556\n"
     ]
    }
   ],
   "source": [
    "EPOCHS = 80\n",
    "history = model.fit(train_data, train_labels, epochs=EPOCHS, validation_data=(test_data, test_labels))"
   ]
  },
  {
   "cell_type": "code",
   "execution_count": 35,
   "metadata": {},
   "outputs": [
    {
     "name": "stdout",
     "output_type": "stream",
     "text": [
      "dict_keys(['val_loss', 'val_acc', 'loss', 'acc'])\n"
     ]
    },
    {
     "data": {
      "image/png": "[encoded data removed]",
      "text/plain": [
       "<matplotlib.figure.Figure at 0x1f7ded68a20>"
      ]
     },
     "metadata": {},
     "output_type": "display_data"
    },
    {
     "data": {
      "image/png": "[encoded data removed]",
      "text/plain": [
       "<matplotlib.figure.Figure at 0x1f7e13fd6a0>"
      ]
     },
     "metadata": {},
     "output_type": "display_data"
    }
   ],
   "source": [
    "print(history.history.keys())\n",
    "\n",
    "# Plot training & validation accuracy values\n",
    "plt.plot(history.history['acc'])\n",
    "plt.plot(history.history['val_acc'])\n",
    "\n",
    "plt.title('Model accuracy')\n",
    "plt.ylabel('Accuracy')\n",
    "plt.xlabel('Epoch')\n",
    "plt.legend(['Train', 'Test'], loc='upper left')\n",
    "plt.show()\n",
    "\n",
    "# Plot training & validation loss values\n",
    "plt.plot(history.history['loss'])\n",
    "plt.plot(history.history['val_loss'])\n",
    "plt.title('Model loss')\n",
    "plt.ylabel('Loss')\n",
    "plt.xlabel('Epoch')\n",
    "plt.legend(['Train', 'Test'], loc='upper left')\n",
    "plt.show()"
   ]
  },
  {
   "cell_type": "markdown",
   "metadata": {},
   "source": [
    "## Save the model"
   ]
  },
  {
   "cell_type": "code",
   "execution_count": 36,
   "metadata": {},
   "outputs": [],
   "source": [
    "import datetime\n",
    "\n",
    "dt = datetime.datetime.today().strftime('%Y%m%d%H%M%S')\n",
    "filename = 'cnn_for_rock_paper_scissors{}.h5'.format(dt)\n",
    "model.save(filename)"
   ]
  },
  {
   "cell_type": "markdown",
   "metadata": {},
   "source": [
    "## Load the model"
   ]
  },
  {
   "cell_type": "code",
   "execution_count": 37,
   "metadata": {},
   "outputs": [],
   "source": [
    "del model\n",
    "model = models.load_model(filename)"
   ]
  },
  {
   "cell_type": "markdown",
   "metadata": {
    "colab_type": "text",
    "id": "j6con4C3lKC1"
   },
   "source": [
    "## Confirmation"
   ]
  },
  {
   "cell_type": "code",
   "execution_count": 38,
   "metadata": {
    "colab": {
     "base_uri": "https://localhost:8080/",
     "height": 34
    },
    "colab_type": "code",
    "id": "4oZYLLij69wU",
    "outputId": "b37a4b8a-2c80-411f-d8a9-5df1c6dbfe22"
   },
   "outputs": [
    {
     "data": {
      "text/plain": [
       "(90, 8, 8, 1)"
      ]
     },
     "execution_count": 38,
     "metadata": {},
     "output_type": "execute_result"
    }
   ],
   "source": [
    "import numpy as np\n",
    "import matplotlib.pyplot as plt\n",
    "train_data.shape"
   ]
  },
  {
   "cell_type": "code",
   "execution_count": 39,
   "metadata": {
    "colab": {
     "base_uri": "https://localhost:8080/",
     "height": 193
    },
    "colab_type": "code",
    "id": "zSxXE9FgRBdJ",
    "outputId": "f3a53efe-e99f-4572-f9b4-1bf3c39c77ec"
   },
   "outputs": [],
   "source": [
    "layer_outputs = [layer.output for layer in model.layers]\n",
    "#layer_outputs"
   ]
  },
  {
   "cell_type": "code",
   "execution_count": 40,
   "metadata": {
    "colab": {
     "base_uri": "https://localhost:8080/",
     "height": 34
    },
    "colab_type": "code",
    "id": "dcw7yHKrRkPD",
    "outputId": "a3ed5441-ae48-4635-bf07-ac5060030608"
   },
   "outputs": [],
   "source": [
    "activation_model = models.Model(inputs=model.input, outputs=layer_outputs)\n",
    "activations = activation_model.predict(test_data)\n",
    "#activations[0][0,:,:,0].shape"
   ]
  },
  {
   "cell_type": "code",
   "execution_count": 41,
   "metadata": {},
   "outputs": [
    {
     "data": {
      "text/plain": [
       "['paper', 'rock', 'scissors']"
      ]
     },
     "execution_count": 41,
     "metadata": {},
     "output_type": "execute_result"
    }
   ],
   "source": [
    "class_labels"
   ]
  },
  {
   "cell_type": "code",
   "execution_count": 42,
   "metadata": {
    "colab": {
     "base_uri": "https://localhost:8080/",
     "height": 193
    },
    "colab_type": "code",
    "id": "ccSNAwGKhRn9",
    "outputId": "0ad22e12-713b-4b07-e17b-45d39ff1b80b"
   },
   "outputs": [
    {
     "data": {
      "text/plain": [
       "array([[ 0,  0, 99],\n",
       "       [99,  0,  0],\n",
       "       [95,  0,  3],\n",
       "       [ 0, 99,  0],\n",
       "       [ 0, 99,  0],\n",
       "       [99,  0,  0],\n",
       "       [85,  0, 14],\n",
       "       [ 0,  0, 99],\n",
       "       [ 0,  0, 99],\n",
       "       [ 0, 99,  0]])"
      ]
     },
     "execution_count": 42,
     "metadata": {},
     "output_type": "execute_result"
    }
   ],
   "source": [
    "(activations[-1][:10]*100).astype(int)"
   ]
  },
  {
   "cell_type": "code",
   "execution_count": 43,
   "metadata": {
    "colab": {
     "base_uri": "https://localhost:8080/",
     "height": 193
    },
    "colab_type": "code",
    "id": "RoE0nxtuiGIN",
    "outputId": "154437a8-ab72-46f4-f42c-3e6464af47d0"
   },
   "outputs": [
    {
     "data": {
      "text/plain": [
       "array([[0, 0, 1],\n",
       "       [1, 0, 0],\n",
       "       [1, 0, 0],\n",
       "       [0, 1, 0],\n",
       "       [0, 1, 0],\n",
       "       [1, 0, 0],\n",
       "       [1, 0, 0],\n",
       "       [0, 0, 1],\n",
       "       [0, 0, 1],\n",
       "       [0, 1, 0]])"
      ]
     },
     "execution_count": 43,
     "metadata": {},
     "output_type": "execute_result"
    }
   ],
   "source": [
    "test_labels[:10].astype(int)"
   ]
  },
  {
   "cell_type": "code",
   "execution_count": 44,
   "metadata": {},
   "outputs": [],
   "source": [
    "def plot_layer(activations, sample, layer):\n",
    "    a = activations[layer].shape\n",
    "    rows = int(a[3]/4)\n",
    "    fig, axarr = plt.subplots(rows, 4, figsize=[20,15])\n",
    "    for i in range(a[3]):\n",
    "        row = int(i/4)\n",
    "        x, y = row, i-4*row\n",
    "        axarr[x, y].imshow(activations[layer][sample, :, :, i])\n",
    "        axarr[x, y].set_xticks([])\n",
    "        axarr[x, y].set_yticks([])"
   ]
  },
  {
   "cell_type": "code",
   "execution_count": 45,
   "metadata": {},
   "outputs": [
    {
     "data": {
      "text/plain": [
       "'rock'"
      ]
     },
     "execution_count": 45,
     "metadata": {},
     "output_type": "execute_result"
    },
    {
     "data": {
      "image/png": "[encoded data removed]",
      "text/plain": [
       "<matplotlib.figure.Figure at 0x1f7dfd79550>"
      ]
     },
     "metadata": {},
     "output_type": "display_data"
    }
   ],
   "source": [
    "image_number = 10\n",
    "\n",
    "plt.imshow(test_data[image_number,:,:,0])\n",
    "class_labels[np.argmax(test_labels[image_number])]"
   ]
  },
  {
   "cell_type": "code",
   "execution_count": 46,
   "metadata": {},
   "outputs": [
    {
     "data": {
      "image/png": "[encoded data removed]",
      "text/plain": [
       "<matplotlib.figure.Figure at 0x1f7e17ecc18>"
      ]
     },
     "metadata": {},
     "output_type": "display_data"
    }
   ],
   "source": [
    "plot_layer(activations, image_number, 1)"
   ]
  },
  {
   "cell_type": "code",
   "execution_count": 47,
   "metadata": {},
   "outputs": [
    {
     "data": {
      "image/png": "[encoded data removed]",
      "text/plain": [
       "<matplotlib.figure.Figure at 0x1f7e4349080>"
      ]
     },
     "metadata": {},
     "output_type": "display_data"
    }
   ],
   "source": [
    "plot_layer(activations, image_number, 2)"
   ]
  },
  {
   "cell_type": "code",
   "execution_count": null,
   "metadata": {},
   "outputs": [],
   "source": []
  }
 ],
 "metadata": {
  "colab": {
   "collapsed_sections": [],
   "name": "CNN for AED",
   "provenance": [],
   "version": "0.3.2"
  },
  "kernelspec": {
   "display_name": "Python 3",
   "language": "python",
   "name": "python3"
  },
  "language_info": {
   "codemirror_mode": {
    "name": "ipython",
    "version": 3
   },
   "file_extension": ".py",
   "mimetype": "text/x-python",
   "name": "python",
   "nbconvert_exporter": "python",
   "pygments_lexer": "ipython3",
   "version": "3.6.4"
  }
 },
 "nbformat": 4,
 "nbformat_minor": 1
}
