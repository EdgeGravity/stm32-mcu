{
 "cells": [
  {
   "cell_type": "markdown",
   "metadata": {
    "colab_type": "text",
    "id": "0X16cagQE-Y-"
   },
   "source": [
    "# CNN for rock-paper-scissors with Keras/TensorFlow\n",
    "\n",
    "Date: December 6, 2018\n",
    "\n",
    "Classification:\n",
    "- rock\n",
    "- paper\n",
    "- scissors"
   ]
  },
  {
   "cell_type": "markdown",
   "metadata": {
    "colab_type": "text",
    "id": "WwQ-dEltkl5Q"
   },
   "source": [
    "## Preparing data set for CNN"
   ]
  },
  {
   "cell_type": "code",
   "execution_count": 9,
   "metadata": {
    "colab": {
     "base_uri": "https://localhost:8080/",
     "height": 34
    },
    "colab_type": "code",
    "id": "VEJyQsGpV3ug",
    "outputId": "3929aa39-3383-4791-e065-3622e6781181"
   },
   "outputs": [],
   "source": [
    "DATA_FOLDER = '../thermography/data/'\n",
    "\n",
    "FILES = 40\n",
    "TRAINING_FILES = 35\n",
    "TEST_FILES = FILES - TRAINING_FILES"
   ]
  },
  {
   "cell_type": "code",
   "execution_count": 10,
   "metadata": {
    "colab": {},
    "colab_type": "code",
    "id": "JTNdoPBFWGky"
   },
   "outputs": [],
   "source": [
    "%matplotlib inline\n",
    "\n",
    "import matplotlib.pyplot as plt\n",
    "import numpy as np\n",
    "import time\n",
    "import random\n",
    "import os\n",
    "import sklearn.preprocessing as pp"
   ]
  },
  {
   "cell_type": "code",
   "execution_count": 11,
   "metadata": {},
   "outputs": [
    {
     "name": "stdout",
     "output_type": "stream",
     "text": [
      "0: paper\n",
      "1: rock\n",
      "2: scissors\n"
     ]
    }
   ],
   "source": [
    "import glob\n",
    "\n",
    "data_files = glob.glob(DATA_FOLDER+'*.csv')\n",
    "class_labels = []\n",
    "\n",
    "for file in data_files:\n",
    "    label = file.split('-')[0].replace('\\\\', '/').split('/')[-1]\n",
    "    if label not in class_labels:\n",
    "        class_labels.append(label)\n",
    "\n",
    "data_set = {}\n",
    "\n",
    "class_number = 0\n",
    "\n",
    "for label in class_labels:\n",
    "    files = glob.glob(DATA_FOLDER+'{}-*.csv'.format(label))\n",
    "    random.shuffle(files)\n",
    "    data_set[label] = (files[:TRAINING_FILES], files[TRAINING_FILES:FILES], class_number)\n",
    "    class_number += 1\n",
    "\n",
    "training_set = []\n",
    "test_set = []\n",
    "\n",
    "for k, v in data_set.items():\n",
    "    files = v[0]\n",
    "    class_number = v[2]\n",
    "    for file in files:\n",
    "        with open(file) as f:\n",
    "            data = np.array(f.read().split(',')).astype(float)\n",
    "            training_set.append((pp.scale(data), class_number))\n",
    "    files = v[1]\n",
    "    for file in files:\n",
    "        with open(file) as f:\n",
    "            data = np.array(f.read().split(',')).astype(float)\n",
    "            test_set.append((pp.scale(data), class_number))\n",
    "\n",
    "random.shuffle(training_set)\n",
    "random.shuffle(test_set)\n",
    "\n",
    "class_labels = [None for _ in range(len(data_set))]\n",
    "\n",
    "# Class number and class labels\n",
    "for k,v in data_set.items():\n",
    "    print('{}: {}'.format(v[2],k))\n",
    "    class_labels[v[2]] = k\n",
    "    \n",
    "import yaml\n",
    "with open(DATA_FOLDER+'class_labels.yaml', 'w') as f:\n",
    "    yaml.dump(class_labels, f)"
   ]
  },
  {
   "cell_type": "code",
   "execution_count": 12,
   "metadata": {
    "colab": {},
    "colab_type": "code",
    "id": "28tIKkNyW3cO"
   },
   "outputs": [
    {
     "data": {
      "text/plain": [
       "<matplotlib.image.AxesImage at 0x296d2b58710>"
      ]
     },
     "execution_count": 12,
     "metadata": {},
     "output_type": "execute_result"
    },
    {
     "data": {
      "image/png": "[encoded data removed]",
      "text/plain": [
       "<matplotlib.figure.Figure at 0x296d174f940>"
      ]
     },
     "metadata": {},
     "output_type": "display_data"
    }
   ],
   "source": [
    "train_data, train_labels = [], []\n",
    "test_data, test_labels = [], []\n",
    "for img, label in training_set:\n",
    "    train_data.append(img)\n",
    "    train_labels.append(label)\n",
    "for img, label in test_set:\n",
    "    test_data.append(img)\n",
    "    test_labels.append(label)\n",
    "train_data = np.array(train_data, dtype=np.float32).reshape((TRAINING_FILES*len(class_labels), 32, 32, 1))\n",
    "train_labels = np.array(train_labels, dtype='uint8')\n",
    "test_data = np.array(test_data, dtype=np.float32).reshape((TEST_FILES*len(class_labels), 32, 32, 1))\n",
    "test_lables = np.array(test_labels, dtype='uint8')\n",
    "#train_data.shape\n",
    "\n",
    "from keras.utils import to_categorical\n",
    "\n",
    "train_labels=to_categorical(train_labels)\n",
    "test_labels=to_categorical(test_labels)\n",
    "\n",
    "plt.imshow(train_data[12,:,:,0])"
   ]
  },
  {
   "cell_type": "markdown",
   "metadata": {
    "colab_type": "text",
    "id": "VfUmgxxVk6uM"
   },
   "source": [
    "### CNN model"
   ]
  },
  {
   "cell_type": "code",
   "execution_count": 13,
   "metadata": {
    "colab": {
     "base_uri": "https://localhost:8080/",
     "height": 509
    },
    "colab_type": "code",
    "id": "B2Xg6tGLdMKP",
    "outputId": "ae3daa32-9dbf-4d8b-9a11-7f596dd2e4a6"
   },
   "outputs": [
    {
     "name": "stdout",
     "output_type": "stream",
     "text": [
      "_________________________________________________________________\n",
      "Layer (type)                 Output Shape              Param #   \n",
      "=================================================================\n",
      "conv2d_3 (Conv2D)            (None, 30, 30, 16)        160       \n",
      "_________________________________________________________________\n",
      "max_pooling2d_3 (MaxPooling2 (None, 15, 15, 16)        0         \n",
      "_________________________________________________________________\n",
      "conv2d_4 (Conv2D)            (None, 13, 13, 32)        4640      \n",
      "_________________________________________________________________\n",
      "max_pooling2d_4 (MaxPooling2 (None, 6, 6, 32)          0         \n",
      "_________________________________________________________________\n",
      "flatten_2 (Flatten)          (None, 1152)              0         \n",
      "_________________________________________________________________\n",
      "dropout_2 (Dropout)          (None, 1152)              0         \n",
      "_________________________________________________________________\n",
      "dense_2 (Dense)              (None, 3)                 3459      \n",
      "=================================================================\n",
      "Total params: 8,259\n",
      "Trainable params: 8,259\n",
      "Non-trainable params: 0\n",
      "_________________________________________________________________\n"
     ]
    }
   ],
   "source": [
    "from keras import layers\n",
    "from keras import models\n",
    "\n",
    "model = models.Sequential()\n",
    "\n",
    "model.add(layers.Conv2D(16, (3, 3), activation='relu', input_shape=(32, 32, 1)))\n",
    "model.add(layers.MaxPooling2D((2,2)))\n",
    "\n",
    "model.add(layers.Conv2D(32, (3, 3), activation='relu'))\n",
    "model.add(layers.MaxPooling2D((2,2)))\n",
    "\n",
    "model.add(layers.Flatten())\n",
    "model.add(layers.Dropout(0.5))\n",
    "model.add(layers.Dense(len(class_labels), activation='softmax'))\n",
    "\n",
    "model.summary()"
   ]
  },
  {
   "cell_type": "code",
   "execution_count": 14,
   "metadata": {
    "colab": {},
    "colab_type": "code",
    "id": "nRr1L_4ogL6i"
   },
   "outputs": [],
   "source": [
    "model.compile(optimizer='rmsprop', loss='categorical_crossentropy', metrics=['accuracy'])"
   ]
  },
  {
   "cell_type": "code",
   "execution_count": 15,
   "metadata": {},
   "outputs": [
    {
     "data": {
      "image/svg+xml": [
       "<svg height=\"556pt\" viewBox=\"0.00 0.00 217.00 556.00\" width=\"217pt\" xmlns=\"http://www.w3.org/2000/svg\" xmlns:xlink=\"http://www.w3.org/1999/xlink\">\n",
       "<g class=\"graph\" id=\"graph0\" transform=\"scale(1 1) rotate(0) translate(4 552)\">\n",
       "<title>G</title>\n",
       "<polygon fill=\"white\" points=\"-4,4 -4,-552 213,-552 213,4 -4,4\" stroke=\"none\"/>\n",
       "<!-- 2846782401392 -->\n",
       "<g class=\"node\" id=\"node1\"><title>2846782401392</title>\n",
       "<polygon fill=\"none\" points=\"41,-438.5 41,-474.5 168,-474.5 168,-438.5 41,-438.5\" stroke=\"black\"/>\n",
       "<text font-family=\"Times New Roman,serif\" font-size=\"14.00\" text-anchor=\"middle\" x=\"104.5\" y=\"-452.8\">conv2d_3: Conv2D</text>\n",
       "</g>\n",
       "<!-- 2846782497400 -->\n",
       "<g class=\"node\" id=\"node2\"><title>2846782497400</title>\n",
       "<polygon fill=\"none\" points=\"0,-365.5 0,-401.5 209,-401.5 209,-365.5 0,-365.5\" stroke=\"black\"/>\n",
       "<text font-family=\"Times New Roman,serif\" font-size=\"14.00\" text-anchor=\"middle\" x=\"104.5\" y=\"-379.8\">max_pooling2d_3: MaxPooling2D</text>\n",
       "</g>\n",
       "<!-- 2846782401392&#45;&gt;2846782497400 -->\n",
       "<g class=\"edge\" id=\"edge2\"><title>2846782401392-&gt;2846782497400</title>\n",
       "<path d=\"M104.5,-438.313C104.5,-430.289 104.5,-420.547 104.5,-411.569\" fill=\"none\" stroke=\"black\"/>\n",
       "<polygon fill=\"black\" points=\"108,-411.529 104.5,-401.529 101,-411.529 108,-411.529\" stroke=\"black\"/>\n",
       "</g>\n",
       "<!-- 2846782301464 -->\n",
       "<g class=\"node\" id=\"node3\"><title>2846782301464</title>\n",
       "<polygon fill=\"none\" points=\"41,-292.5 41,-328.5 168,-328.5 168,-292.5 41,-292.5\" stroke=\"black\"/>\n",
       "<text font-family=\"Times New Roman,serif\" font-size=\"14.00\" text-anchor=\"middle\" x=\"104.5\" y=\"-306.8\">conv2d_4: Conv2D</text>\n",
       "</g>\n",
       "<!-- 2846782497400&#45;&gt;2846782301464 -->\n",
       "<g class=\"edge\" id=\"edge3\"><title>2846782497400-&gt;2846782301464</title>\n",
       "<path d=\"M104.5,-365.313C104.5,-357.289 104.5,-347.547 104.5,-338.569\" fill=\"none\" stroke=\"black\"/>\n",
       "<polygon fill=\"black\" points=\"108,-338.529 104.5,-328.529 101,-338.529 108,-338.529\" stroke=\"black\"/>\n",
       "</g>\n",
       "<!-- 2846803618952 -->\n",
       "<g class=\"node\" id=\"node4\"><title>2846803618952</title>\n",
       "<polygon fill=\"none\" points=\"0,-219.5 0,-255.5 209,-255.5 209,-219.5 0,-219.5\" stroke=\"black\"/>\n",
       "<text font-family=\"Times New Roman,serif\" font-size=\"14.00\" text-anchor=\"middle\" x=\"104.5\" y=\"-233.8\">max_pooling2d_4: MaxPooling2D</text>\n",
       "</g>\n",
       "<!-- 2846782301464&#45;&gt;2846803618952 -->\n",
       "<g class=\"edge\" id=\"edge4\"><title>2846782301464-&gt;2846803618952</title>\n",
       "<path d=\"M104.5,-292.313C104.5,-284.289 104.5,-274.547 104.5,-265.569\" fill=\"none\" stroke=\"black\"/>\n",
       "<polygon fill=\"black\" points=\"108,-265.529 104.5,-255.529 101,-265.529 108,-265.529\" stroke=\"black\"/>\n",
       "</g>\n",
       "<!-- 2846780621208 -->\n",
       "<g class=\"node\" id=\"node5\"><title>2846780621208</title>\n",
       "<polygon fill=\"none\" points=\"50,-146.5 50,-182.5 159,-182.5 159,-146.5 50,-146.5\" stroke=\"black\"/>\n",
       "<text font-family=\"Times New Roman,serif\" font-size=\"14.00\" text-anchor=\"middle\" x=\"104.5\" y=\"-160.8\">flatten_2: Flatten</text>\n",
       "</g>\n",
       "<!-- 2846803618952&#45;&gt;2846780621208 -->\n",
       "<g class=\"edge\" id=\"edge5\"><title>2846803618952-&gt;2846780621208</title>\n",
       "<path d=\"M104.5,-219.313C104.5,-211.289 104.5,-201.547 104.5,-192.569\" fill=\"none\" stroke=\"black\"/>\n",
       "<polygon fill=\"black\" points=\"108,-192.529 104.5,-182.529 101,-192.529 108,-192.529\" stroke=\"black\"/>\n",
       "</g>\n",
       "<!-- 2846803501128 -->\n",
       "<g class=\"node\" id=\"node6\"><title>2846803501128</title>\n",
       "<polygon fill=\"none\" points=\"39.5,-73.5 39.5,-109.5 169.5,-109.5 169.5,-73.5 39.5,-73.5\" stroke=\"black\"/>\n",
       "<text font-family=\"Times New Roman,serif\" font-size=\"14.00\" text-anchor=\"middle\" x=\"104.5\" y=\"-87.8\">dropout_2: Dropout</text>\n",
       "</g>\n",
       "<!-- 2846780621208&#45;&gt;2846803501128 -->\n",
       "<g class=\"edge\" id=\"edge6\"><title>2846780621208-&gt;2846803501128</title>\n",
       "<path d=\"M104.5,-146.313C104.5,-138.289 104.5,-128.547 104.5,-119.569\" fill=\"none\" stroke=\"black\"/>\n",
       "<polygon fill=\"black\" points=\"108,-119.529 104.5,-109.529 101,-119.529 108,-119.529\" stroke=\"black\"/>\n",
       "</g>\n",
       "<!-- 2846803838736 -->\n",
       "<g class=\"node\" id=\"node7\"><title>2846803838736</title>\n",
       "<polygon fill=\"none\" points=\"52.5,-0.5 52.5,-36.5 156.5,-36.5 156.5,-0.5 52.5,-0.5\" stroke=\"black\"/>\n",
       "<text font-family=\"Times New Roman,serif\" font-size=\"14.00\" text-anchor=\"middle\" x=\"104.5\" y=\"-14.8\">dense_2: Dense</text>\n",
       "</g>\n",
       "<!-- 2846803501128&#45;&gt;2846803838736 -->\n",
       "<g class=\"edge\" id=\"edge7\"><title>2846803501128-&gt;2846803838736</title>\n",
       "<path d=\"M104.5,-73.3129C104.5,-65.2895 104.5,-55.5475 104.5,-46.5691\" fill=\"none\" stroke=\"black\"/>\n",
       "<polygon fill=\"black\" points=\"108,-46.5288 104.5,-36.5288 101,-46.5289 108,-46.5288\" stroke=\"black\"/>\n",
       "</g>\n",
       "<!-- 2846782438872 -->\n",
       "<g class=\"node\" id=\"node8\"><title>2846782438872</title>\n",
       "<polygon fill=\"none\" points=\"52.5,-511.5 52.5,-547.5 156.5,-547.5 156.5,-511.5 52.5,-511.5\" stroke=\"black\"/>\n",
       "<text font-family=\"Times New Roman,serif\" font-size=\"14.00\" text-anchor=\"middle\" x=\"104.5\" y=\"-525.8\">2846782438872</text>\n",
       "</g>\n",
       "<!-- 2846782438872&#45;&gt;2846782401392 -->\n",
       "<g class=\"edge\" id=\"edge1\"><title>2846782438872-&gt;2846782401392</title>\n",
       "<path d=\"M104.5,-511.313C104.5,-503.289 104.5,-493.547 104.5,-484.569\" fill=\"none\" stroke=\"black\"/>\n",
       "<polygon fill=\"black\" points=\"108,-484.529 104.5,-474.529 101,-484.529 108,-484.529\" stroke=\"black\"/>\n",
       "</g>\n",
       "</g>\n",
       "</svg>"
      ],
      "text/plain": [
       "<IPython.core.display.SVG object>"
      ]
     },
     "execution_count": 15,
     "metadata": {},
     "output_type": "execute_result"
    }
   ],
   "source": [
    "from IPython.display import SVG\n",
    "from keras.utils.vis_utils import model_to_dot\n",
    "\n",
    "SVG(model_to_dot(model).create(prog='dot', format='svg'))"
   ]
  },
  {
   "cell_type": "markdown",
   "metadata": {
    "colab_type": "text",
    "id": "TfypWUJIlFkz"
   },
   "source": [
    "## Training CNN"
   ]
  },
  {
   "cell_type": "code",
   "execution_count": 16,
   "metadata": {
    "colab": {
     "base_uri": "https://localhost:8080/",
     "height": 931
    },
    "colab_type": "code",
    "id": "zsdmu-ggfvr1",
    "outputId": "77a52558-8ecc-4fc5-e0cb-2b86a75df4c6"
   },
   "outputs": [
    {
     "name": "stdout",
     "output_type": "stream",
     "text": [
      "Train on 105 samples, validate on 15 samples\n",
      "Epoch 1/100\n",
      "105/105 [==============================] - 2s 17ms/step - loss: 1.1445 - acc: 0.2952 - val_loss: 1.0658 - val_acc: 0.3333\n",
      "Epoch 2/100\n",
      "105/105 [==============================] - 2s 17ms/step - loss: 1.0829 - acc: 0.3810 - val_loss: 1.0031 - val_acc: 0.6667\n",
      "Epoch 3/100\n",
      "105/105 [==============================] - 2s 15ms/step - loss: 1.0540 - acc: 0.4762 - val_loss: 0.9700 - val_acc: 0.5333\n",
      "Epoch 4/100\n",
      "105/105 [==============================] - 2s 15ms/step - loss: 1.0230 - acc: 0.4667 - val_loss: 0.9291 - val_acc: 0.6000\n",
      "Epoch 5/100\n",
      "105/105 [==============================] - 2s 16ms/step - loss: 1.0134 - acc: 0.4667 - val_loss: 0.8848 - val_acc: 0.7333\n",
      "Epoch 6/100\n",
      "105/105 [==============================] - 2s 17ms/step - loss: 0.9217 - acc: 0.5905 - val_loss: 0.8474 - val_acc: 0.6667\n",
      "Epoch 7/100\n",
      "105/105 [==============================] - 2s 15ms/step - loss: 0.9051 - acc: 0.6381 - val_loss: 0.8069 - val_acc: 0.6667\n",
      "Epoch 8/100\n",
      "105/105 [==============================] - 2s 15ms/step - loss: 0.9203 - acc: 0.6190 - val_loss: 0.7669 - val_acc: 0.7333\n",
      "Epoch 9/100\n",
      "105/105 [==============================] - 2s 14ms/step - loss: 0.8758 - acc: 0.6000 - val_loss: 0.7268 - val_acc: 0.8667\n",
      "Epoch 10/100\n",
      "105/105 [==============================] - 2s 16ms/step - loss: 0.8698 - acc: 0.5714 - val_loss: 0.6474 - val_acc: 0.9333\n",
      "Epoch 11/100\n",
      "105/105 [==============================] - 2s 15ms/step - loss: 0.8123 - acc: 0.6476 - val_loss: 0.6185 - val_acc: 0.9333\n",
      "Epoch 12/100\n",
      "105/105 [==============================] - 1s 13ms/step - loss: 0.8036 - acc: 0.6667 - val_loss: 0.5778 - val_acc: 0.8667\n",
      "Epoch 13/100\n",
      "105/105 [==============================] - 2s 15ms/step - loss: 0.6920 - acc: 0.8000 - val_loss: 0.5227 - val_acc: 0.9333\n",
      "Epoch 14/100\n",
      "105/105 [==============================] - 2s 16ms/step - loss: 0.7209 - acc: 0.7143 - val_loss: 0.5250 - val_acc: 0.9333\n",
      "Epoch 15/100\n",
      "105/105 [==============================] - 2s 16ms/step - loss: 0.7453 - acc: 0.6762 - val_loss: 0.4939 - val_acc: 0.9333\n",
      "Epoch 16/100\n",
      "105/105 [==============================] - 1s 13ms/step - loss: 0.6609 - acc: 0.7429 - val_loss: 0.4437 - val_acc: 0.9333\n",
      "Epoch 17/100\n",
      "105/105 [==============================] - 2s 17ms/step - loss: 0.6647 - acc: 0.7524 - val_loss: 0.4493 - val_acc: 0.9333\n",
      "Epoch 18/100\n",
      "105/105 [==============================] - 2s 17ms/step - loss: 0.6071 - acc: 0.7714 - val_loss: 0.3921 - val_acc: 0.9333\n",
      "Epoch 19/100\n",
      "105/105 [==============================] - 2s 17ms/step - loss: 0.6642 - acc: 0.7524 - val_loss: 0.4418 - val_acc: 0.8667\n",
      "Epoch 20/100\n",
      "105/105 [==============================] - 2s 15ms/step - loss: 0.7083 - acc: 0.7048 - val_loss: 0.3808 - val_acc: 0.9333\n",
      "Epoch 21/100\n",
      "105/105 [==============================] - 1s 14ms/step - loss: 0.6224 - acc: 0.7333 - val_loss: 0.4302 - val_acc: 0.8000\n",
      "Epoch 22/100\n",
      "105/105 [==============================] - 1s 14ms/step - loss: 0.5574 - acc: 0.7714 - val_loss: 0.3629 - val_acc: 0.9333\n",
      "Epoch 23/100\n",
      "105/105 [==============================] - 2s 15ms/step - loss: 0.5476 - acc: 0.8000 - val_loss: 0.3278 - val_acc: 0.9333\n",
      "Epoch 24/100\n",
      "105/105 [==============================] - 2s 15ms/step - loss: 0.5400 - acc: 0.7524 - val_loss: 0.3058 - val_acc: 0.9333\n",
      "Epoch 25/100\n",
      "105/105 [==============================] - 2s 16ms/step - loss: 0.5080 - acc: 0.8286 - val_loss: 0.2885 - val_acc: 0.9333\n",
      "Epoch 26/100\n",
      "105/105 [==============================] - 2s 17ms/step - loss: 0.5373 - acc: 0.8000 - val_loss: 0.2730 - val_acc: 1.0000\n",
      "Epoch 27/100\n",
      "105/105 [==============================] - 2s 15ms/step - loss: 0.5035 - acc: 0.8476 - val_loss: 0.3438 - val_acc: 0.9333\n",
      "Epoch 28/100\n",
      "105/105 [==============================] - 1s 14ms/step - loss: 0.5007 - acc: 0.8190 - val_loss: 0.2595 - val_acc: 0.9333\n",
      "Epoch 29/100\n",
      "105/105 [==============================] - 2s 15ms/step - loss: 0.4569 - acc: 0.8381 - val_loss: 0.2402 - val_acc: 0.9333\n",
      "Epoch 30/100\n",
      "105/105 [==============================] - 2s 15ms/step - loss: 0.4034 - acc: 0.8762 - val_loss: 0.2184 - val_acc: 0.9333\n",
      "Epoch 31/100\n",
      "105/105 [==============================] - 2s 16ms/step - loss: 0.4190 - acc: 0.8286 - val_loss: 0.2946 - val_acc: 0.8667\n",
      "Epoch 32/100\n",
      "105/105 [==============================] - 1s 14ms/step - loss: 0.4509 - acc: 0.8476 - val_loss: 0.1901 - val_acc: 1.0000\n",
      "Epoch 33/100\n",
      "105/105 [==============================] - 2s 15ms/step - loss: 0.4295 - acc: 0.8190 - val_loss: 0.2421 - val_acc: 0.9333\n",
      "Epoch 34/100\n",
      "105/105 [==============================] - 2s 17ms/step - loss: 0.3820 - acc: 0.8952 - val_loss: 0.1792 - val_acc: 1.0000\n",
      "Epoch 35/100\n",
      "105/105 [==============================] - 1s 14ms/step - loss: 0.4204 - acc: 0.8667 - val_loss: 0.2092 - val_acc: 0.9333\n",
      "Epoch 36/100\n",
      "105/105 [==============================] - 2s 16ms/step - loss: 0.3995 - acc: 0.8381 - val_loss: 0.1603 - val_acc: 1.0000\n",
      "Epoch 37/100\n",
      "105/105 [==============================] - 2s 15ms/step - loss: 0.3803 - acc: 0.8571 - val_loss: 0.1532 - val_acc: 1.0000\n",
      "Epoch 38/100\n",
      "105/105 [==============================] - 2s 16ms/step - loss: 0.3852 - acc: 0.8381 - val_loss: 0.1619 - val_acc: 0.9333\n",
      "Epoch 39/100\n",
      "105/105 [==============================] - 2s 16ms/step - loss: 0.3396 - acc: 0.8857 - val_loss: 0.1618 - val_acc: 0.9333\n",
      "Epoch 40/100\n",
      "105/105 [==============================] - 2s 15ms/step - loss: 0.3821 - acc: 0.8762 - val_loss: 0.1451 - val_acc: 1.0000\n",
      "Epoch 41/100\n",
      "105/105 [==============================] - 2s 18ms/step - loss: 0.3525 - acc: 0.8667 - val_loss: 0.1833 - val_acc: 0.9333\n",
      "Epoch 42/100\n",
      "105/105 [==============================] - 2s 16ms/step - loss: 0.4075 - acc: 0.8667 - val_loss: 0.1434 - val_acc: 0.9333\n",
      "Epoch 43/100\n",
      "105/105 [==============================] - 2s 15ms/step - loss: 0.3233 - acc: 0.8762 - val_loss: 0.1274 - val_acc: 1.0000\n",
      "Epoch 44/100\n",
      "105/105 [==============================] - 2s 16ms/step - loss: 0.2863 - acc: 0.8857 - val_loss: 0.1650 - val_acc: 1.0000\n",
      "Epoch 45/100\n",
      "105/105 [==============================] - 2s 15ms/step - loss: 0.2703 - acc: 0.9333 - val_loss: 0.1160 - val_acc: 1.0000\n",
      "Epoch 46/100\n",
      "105/105 [==============================] - 2s 17ms/step - loss: 0.2607 - acc: 0.9048 - val_loss: 0.1132 - val_acc: 1.0000\n",
      "Epoch 47/100\n",
      "105/105 [==============================] - 2s 16ms/step - loss: 0.2789 - acc: 0.8952 - val_loss: 0.1140 - val_acc: 1.0000\n",
      "Epoch 48/100\n",
      "105/105 [==============================] - 2s 16ms/step - loss: 0.2843 - acc: 0.8952 - val_loss: 0.1091 - val_acc: 1.0000\n",
      "Epoch 49/100\n",
      "105/105 [==============================] - 2s 17ms/step - loss: 0.2995 - acc: 0.9333 - val_loss: 0.1596 - val_acc: 1.0000\n",
      "Epoch 50/100\n",
      "105/105 [==============================] - 2s 15ms/step - loss: 0.2740 - acc: 0.9333 - val_loss: 0.1409 - val_acc: 0.9333\n",
      "Epoch 51/100\n",
      "105/105 [==============================] - 2s 16ms/step - loss: 0.2576 - acc: 0.8952 - val_loss: 0.1038 - val_acc: 1.0000\n",
      "Epoch 52/100\n",
      "105/105 [==============================] - 1s 14ms/step - loss: 0.2339 - acc: 0.9333 - val_loss: 0.1039 - val_acc: 1.0000\n",
      "Epoch 53/100\n",
      "105/105 [==============================] - 1s 14ms/step - loss: 0.2729 - acc: 0.8857 - val_loss: 0.0995 - val_acc: 1.0000\n",
      "Epoch 54/100\n",
      "105/105 [==============================] - 2s 15ms/step - loss: 0.2150 - acc: 0.9333 - val_loss: 0.1153 - val_acc: 1.0000\n",
      "Epoch 55/100\n",
      "105/105 [==============================] - 2s 15ms/step - loss: 0.2413 - acc: 0.9238 - val_loss: 0.0839 - val_acc: 1.0000\n",
      "Epoch 56/100\n",
      "105/105 [==============================] - 2s 15ms/step - loss: 0.2311 - acc: 0.9143 - val_loss: 0.1437 - val_acc: 0.9333\n",
      "Epoch 57/100\n",
      "105/105 [==============================] - 2s 14ms/step - loss: 0.2259 - acc: 0.9238 - val_loss: 0.1265 - val_acc: 0.9333\n",
      "Epoch 58/100\n",
      "105/105 [==============================] - 2s 15ms/step - loss: 0.1995 - acc: 0.9238 - val_loss: 0.0907 - val_acc: 1.0000\n",
      "Epoch 59/100\n",
      "105/105 [==============================] - 2s 15ms/step - loss: 0.2276 - acc: 0.9333 - val_loss: 0.1066 - val_acc: 0.9333\n",
      "Epoch 60/100\n",
      "105/105 [==============================] - 2s 16ms/step - loss: 0.2125 - acc: 0.9143 - val_loss: 0.1063 - val_acc: 1.0000\n",
      "Epoch 61/100\n"
     ]
    },
    {
     "name": "stdout",
     "output_type": "stream",
     "text": [
      "105/105 [==============================] - 2s 15ms/step - loss: 0.2008 - acc: 0.9238 - val_loss: 0.0831 - val_acc: 1.0000\n",
      "Epoch 62/100\n",
      "105/105 [==============================] - 2s 16ms/step - loss: 0.2313 - acc: 0.9238 - val_loss: 0.0835 - val_acc: 1.0000\n",
      "Epoch 63/100\n",
      "105/105 [==============================] - 2s 16ms/step - loss: 0.1522 - acc: 0.9619 - val_loss: 0.1062 - val_acc: 1.0000\n",
      "Epoch 64/100\n",
      "105/105 [==============================] - 2s 16ms/step - loss: 0.1787 - acc: 0.9429 - val_loss: 0.1222 - val_acc: 1.0000\n",
      "Epoch 65/100\n",
      "105/105 [==============================] - 2s 17ms/step - loss: 0.2559 - acc: 0.8571 - val_loss: 0.0654 - val_acc: 1.0000\n",
      "Epoch 66/100\n",
      "105/105 [==============================] - 2s 16ms/step - loss: 0.2164 - acc: 0.9333 - val_loss: 0.0653 - val_acc: 1.0000\n",
      "Epoch 67/100\n",
      "105/105 [==============================] - 2s 15ms/step - loss: 0.2246 - acc: 0.9143 - val_loss: 0.0654 - val_acc: 1.0000\n",
      "Epoch 68/100\n",
      "105/105 [==============================] - 2s 17ms/step - loss: 0.1837 - acc: 0.9143 - val_loss: 0.0901 - val_acc: 1.0000\n",
      "Epoch 69/100\n",
      "105/105 [==============================] - 2s 16ms/step - loss: 0.1386 - acc: 0.9429 - val_loss: 0.0686 - val_acc: 1.0000\n",
      "Epoch 70/100\n",
      "105/105 [==============================] - 2s 16ms/step - loss: 0.1696 - acc: 0.9333 - val_loss: 0.0683 - val_acc: 1.0000\n",
      "Epoch 71/100\n",
      "105/105 [==============================] - 2s 15ms/step - loss: 0.1958 - acc: 0.9333 - val_loss: 0.0655 - val_acc: 1.0000\n",
      "Epoch 72/100\n",
      "105/105 [==============================] - 2s 15ms/step - loss: 0.1489 - acc: 0.9524 - val_loss: 0.0685 - val_acc: 1.0000\n",
      "Epoch 73/100\n",
      "105/105 [==============================] - 2s 17ms/step - loss: 0.1801 - acc: 0.9333 - val_loss: 0.1402 - val_acc: 1.0000\n",
      "Epoch 74/100\n",
      "105/105 [==============================] - 1s 13ms/step - loss: 0.1911 - acc: 0.9333 - val_loss: 0.0740 - val_acc: 1.0000\n",
      "Epoch 75/100\n",
      "105/105 [==============================] - 2s 16ms/step - loss: 0.1622 - acc: 0.9524 - val_loss: 0.0546 - val_acc: 1.0000\n",
      "Epoch 76/100\n",
      "105/105 [==============================] - 2s 17ms/step - loss: 0.1147 - acc: 0.9810 - val_loss: 0.0774 - val_acc: 1.0000\n",
      "Epoch 77/100\n",
      "105/105 [==============================] - 2s 16ms/step - loss: 0.1831 - acc: 0.9143 - val_loss: 0.0516 - val_acc: 1.0000\n",
      "Epoch 78/100\n",
      "105/105 [==============================] - 2s 16ms/step - loss: 0.1303 - acc: 0.9619 - val_loss: 0.0864 - val_acc: 1.0000\n",
      "Epoch 79/100\n",
      "105/105 [==============================] - 2s 15ms/step - loss: 0.1248 - acc: 0.9429 - val_loss: 0.0470 - val_acc: 1.0000\n",
      "Epoch 80/100\n",
      "105/105 [==============================] - 2s 16ms/step - loss: 0.1385 - acc: 0.9524 - val_loss: 0.0427 - val_acc: 1.0000\n",
      "Epoch 81/100\n",
      "105/105 [==============================] - 2s 16ms/step - loss: 0.1454 - acc: 0.9619 - val_loss: 0.0371 - val_acc: 1.0000\n",
      "Epoch 82/100\n",
      "105/105 [==============================] - 2s 17ms/step - loss: 0.1035 - acc: 0.9429 - val_loss: 0.0496 - val_acc: 1.0000\n",
      "Epoch 83/100\n",
      "105/105 [==============================] - 2s 17ms/step - loss: 0.1370 - acc: 0.9619 - val_loss: 0.0517 - val_acc: 1.0000\n",
      "Epoch 84/100\n",
      "105/105 [==============================] - 2s 15ms/step - loss: 0.1530 - acc: 0.9429 - val_loss: 0.0400 - val_acc: 1.0000\n",
      "Epoch 85/100\n",
      "105/105 [==============================] - 2s 16ms/step - loss: 0.1310 - acc: 0.9429 - val_loss: 0.0403 - val_acc: 1.0000\n",
      "Epoch 86/100\n",
      "105/105 [==============================] - 2s 16ms/step - loss: 0.1353 - acc: 0.9524 - val_loss: 0.1893 - val_acc: 0.8667\n",
      "Epoch 87/100\n",
      "105/105 [==============================] - 2s 17ms/step - loss: 0.2010 - acc: 0.9238 - val_loss: 0.0448 - val_acc: 1.0000\n",
      "Epoch 88/100\n",
      "105/105 [==============================] - 2s 16ms/step - loss: 0.1282 - acc: 0.9619 - val_loss: 0.0460 - val_acc: 1.0000\n",
      "Epoch 89/100\n",
      "105/105 [==============================] - 2s 16ms/step - loss: 0.1433 - acc: 0.9524 - val_loss: 0.0549 - val_acc: 1.0000\n",
      "Epoch 90/100\n",
      "105/105 [==============================] - 2s 15ms/step - loss: 0.1169 - acc: 0.9714 - val_loss: 0.0381 - val_acc: 1.0000\n",
      "Epoch 91/100\n",
      "105/105 [==============================] - 2s 16ms/step - loss: 0.1049 - acc: 0.9619 - val_loss: 0.0381 - val_acc: 1.0000\n",
      "Epoch 92/100\n",
      "105/105 [==============================] - 2s 17ms/step - loss: 0.1091 - acc: 0.9619 - val_loss: 0.0488 - val_acc: 1.0000\n",
      "Epoch 93/100\n",
      "105/105 [==============================] - 1s 14ms/step - loss: 0.0966 - acc: 0.9714 - val_loss: 0.0324 - val_acc: 1.0000\n",
      "Epoch 94/100\n",
      "105/105 [==============================] - 2s 17ms/step - loss: 0.0680 - acc: 0.9714 - val_loss: 0.0289 - val_acc: 1.0000\n",
      "Epoch 95/100\n",
      "105/105 [==============================] - 2s 15ms/step - loss: 0.1307 - acc: 0.9619 - val_loss: 0.0264 - val_acc: 1.0000\n",
      "Epoch 96/100\n",
      "105/105 [==============================] - 2s 17ms/step - loss: 0.0900 - acc: 0.9810 - val_loss: 0.0522 - val_acc: 1.0000\n",
      "Epoch 97/100\n",
      "105/105 [==============================] - 2s 17ms/step - loss: 0.1466 - acc: 0.9429 - val_loss: 0.0464 - val_acc: 1.0000\n",
      "Epoch 98/100\n",
      "105/105 [==============================] - 2s 17ms/step - loss: 0.1129 - acc: 0.9714 - val_loss: 0.0407 - val_acc: 1.0000\n",
      "Epoch 99/100\n",
      "105/105 [==============================] - 2s 15ms/step - loss: 0.0901 - acc: 0.9810 - val_loss: 0.0350 - val_acc: 1.0000\n",
      "Epoch 100/100\n",
      "105/105 [==============================] - 2s 17ms/step - loss: 0.0677 - acc: 0.9905 - val_loss: 0.0280 - val_acc: 1.0000\n"
     ]
    }
   ],
   "source": [
    "EPOCHS = 100\n",
    "history = model.fit(train_data, train_labels, epochs=EPOCHS, validation_data=(test_data, test_labels))"
   ]
  },
  {
   "cell_type": "code",
   "execution_count": 17,
   "metadata": {},
   "outputs": [
    {
     "name": "stdout",
     "output_type": "stream",
     "text": [
      "dict_keys(['val_loss', 'val_acc', 'loss', 'acc'])\n"
     ]
    },
    {
     "data": {
      "image/png": "[encoded data removed]",
      "text/plain": [
       "<matplotlib.figure.Figure at 0x296d2cebf98>"
      ]
     },
     "metadata": {},
     "output_type": "display_data"
    },
    {
     "data": {
      "image/png": "[encoded data removed]",
      "text/plain": [
       "<matplotlib.figure.Figure at 0x296d33cbac8>"
      ]
     },
     "metadata": {},
     "output_type": "display_data"
    }
   ],
   "source": [
    "print(history.history.keys())\n",
    "\n",
    "# Plot training & validation accuracy values\n",
    "plt.plot(history.history['acc'])\n",
    "plt.plot(history.history['val_acc'])\n",
    "\n",
    "plt.title('Model accuracy')\n",
    "plt.ylabel('Accuracy')\n",
    "plt.xlabel('Epoch')\n",
    "plt.legend(['Train', 'Test'], loc='upper left')\n",
    "plt.show()\n",
    "\n",
    "# Plot training & validation loss values\n",
    "plt.plot(history.history['loss'])\n",
    "plt.plot(history.history['val_loss'])\n",
    "plt.title('Model loss')\n",
    "plt.ylabel('Loss')\n",
    "plt.xlabel('Epoch')\n",
    "plt.legend(['Train', 'Test'], loc='upper left')\n",
    "plt.show()"
   ]
  },
  {
   "cell_type": "markdown",
   "metadata": {},
   "source": [
    "## Save the model"
   ]
  },
  {
   "cell_type": "code",
   "execution_count": 18,
   "metadata": {},
   "outputs": [],
   "source": [
    "import datetime\n",
    "\n",
    "dt = datetime.datetime.today().strftime('%Y%m%d%H%M%S')\n",
    "filename = 'cnn_for_rock_paper_scissors_{}.h5'.format(dt)\n",
    "model.save(filename)"
   ]
  },
  {
   "cell_type": "markdown",
   "metadata": {},
   "source": [
    "## Load the model"
   ]
  },
  {
   "cell_type": "code",
   "execution_count": 19,
   "metadata": {},
   "outputs": [],
   "source": [
    "del model\n",
    "model = models.load_model(filename)"
   ]
  },
  {
   "cell_type": "markdown",
   "metadata": {
    "colab_type": "text",
    "id": "j6con4C3lKC1"
   },
   "source": [
    "## Confirmation"
   ]
  },
  {
   "cell_type": "code",
   "execution_count": 20,
   "metadata": {
    "colab": {
     "base_uri": "https://localhost:8080/",
     "height": 34
    },
    "colab_type": "code",
    "id": "4oZYLLij69wU",
    "outputId": "b37a4b8a-2c80-411f-d8a9-5df1c6dbfe22"
   },
   "outputs": [
    {
     "data": {
      "text/plain": [
       "(105, 32, 32, 1)"
      ]
     },
     "execution_count": 20,
     "metadata": {},
     "output_type": "execute_result"
    }
   ],
   "source": [
    "import numpy as np\n",
    "import matplotlib.pyplot as plt\n",
    "train_data.shape"
   ]
  },
  {
   "cell_type": "code",
   "execution_count": 21,
   "metadata": {
    "colab": {
     "base_uri": "https://localhost:8080/",
     "height": 193
    },
    "colab_type": "code",
    "id": "zSxXE9FgRBdJ",
    "outputId": "f3a53efe-e99f-4572-f9b4-1bf3c39c77ec"
   },
   "outputs": [],
   "source": [
    "layer_outputs = [layer.output for layer in model.layers]\n",
    "#layer_outputs"
   ]
  },
  {
   "cell_type": "code",
   "execution_count": 22,
   "metadata": {
    "colab": {
     "base_uri": "https://localhost:8080/",
     "height": 34
    },
    "colab_type": "code",
    "id": "dcw7yHKrRkPD",
    "outputId": "a3ed5441-ae48-4635-bf07-ac5060030608"
   },
   "outputs": [],
   "source": [
    "activation_model = models.Model(inputs=model.input, outputs=layer_outputs)\n",
    "activations = activation_model.predict(test_data)\n",
    "#activations[0][0,:,:,0].shape"
   ]
  },
  {
   "cell_type": "code",
   "execution_count": 23,
   "metadata": {},
   "outputs": [
    {
     "data": {
      "text/plain": [
       "['paper', 'rock', 'scissors']"
      ]
     },
     "execution_count": 23,
     "metadata": {},
     "output_type": "execute_result"
    }
   ],
   "source": [
    "class_labels"
   ]
  },
  {
   "cell_type": "code",
   "execution_count": 24,
   "metadata": {
    "colab": {
     "base_uri": "https://localhost:8080/",
     "height": 193
    },
    "colab_type": "code",
    "id": "ccSNAwGKhRn9",
    "outputId": "0ad22e12-713b-4b07-e17b-45d39ff1b80b"
   },
   "outputs": [
    {
     "data": {
      "text/plain": [
       "array([[ 0, 99,  0],\n",
       "       [ 3,  4, 91],\n",
       "       [ 5, 94,  0],\n",
       "       [80, 19,  0],\n",
       "       [ 0, 99,  0],\n",
       "       [99,  0,  0],\n",
       "       [ 0, 99,  0],\n",
       "       [ 2,  0, 97],\n",
       "       [98,  0,  1],\n",
       "       [ 0,  0, 99]])"
      ]
     },
     "execution_count": 24,
     "metadata": {},
     "output_type": "execute_result"
    }
   ],
   "source": [
    "(activations[-1][:10]*100).astype(int)"
   ]
  },
  {
   "cell_type": "code",
   "execution_count": 25,
   "metadata": {
    "colab": {
     "base_uri": "https://localhost:8080/",
     "height": 193
    },
    "colab_type": "code",
    "id": "RoE0nxtuiGIN",
    "outputId": "154437a8-ab72-46f4-f42c-3e6464af47d0"
   },
   "outputs": [
    {
     "data": {
      "text/plain": [
       "array([[0, 1, 0],\n",
       "       [0, 0, 1],\n",
       "       [0, 1, 0],\n",
       "       [1, 0, 0],\n",
       "       [0, 1, 0],\n",
       "       [1, 0, 0],\n",
       "       [0, 1, 0],\n",
       "       [0, 0, 1],\n",
       "       [1, 0, 0],\n",
       "       [0, 0, 1]])"
      ]
     },
     "execution_count": 25,
     "metadata": {},
     "output_type": "execute_result"
    }
   ],
   "source": [
    "test_labels[:10].astype(int)"
   ]
  },
  {
   "cell_type": "code",
   "execution_count": 26,
   "metadata": {},
   "outputs": [],
   "source": [
    "def plot_layer(activations, sample, layer):\n",
    "    a = activations[layer].shape\n",
    "    rows = int(a[3]/4)\n",
    "    fig, axarr = plt.subplots(rows, 4, figsize=[20,15])\n",
    "    for i in range(a[3]):\n",
    "        row = int(i/4)\n",
    "        x, y = row, i-4*row\n",
    "        axarr[x, y].imshow(activations[layer][sample, :, :, i])\n",
    "        axarr[x, y].set_xticks([])\n",
    "        axarr[x, y].set_yticks([])"
   ]
  },
  {
   "cell_type": "code",
   "execution_count": 27,
   "metadata": {},
   "outputs": [
    {
     "data": {
      "text/plain": [
       "'scissors'"
      ]
     },
     "execution_count": 27,
     "metadata": {},
     "output_type": "execute_result"
    },
    {
     "data": {
      "image/png": "[encoded data removed]",
      "text/plain": [
       "<matplotlib.figure.Figure at 0x296d47752e8>"
      ]
     },
     "metadata": {},
     "output_type": "display_data"
    }
   ],
   "source": [
    "image_number = 10\n",
    "\n",
    "plt.imshow(test_data[image_number,:,:,0])\n",
    "class_labels[np.argmax(test_labels[image_number])]"
   ]
  },
  {
   "cell_type": "code",
   "execution_count": 28,
   "metadata": {},
   "outputs": [
    {
     "data": {
      "image/png": "[encoded data removed]",
      "text/plain": [
       "<matplotlib.figure.Figure at 0x296d4777fd0>"
      ]
     },
     "metadata": {},
     "output_type": "display_data"
    }
   ],
   "source": [
    "plot_layer(activations, image_number, 1)"
   ]
  },
  {
   "cell_type": "code",
   "execution_count": 29,
   "metadata": {},
   "outputs": [
    {
     "data": {
      "image/png": "[encoded data removed]",
      "text/plain": [
       "<matplotlib.figure.Figure at 0x296d4ac8320>"
      ]
     },
     "metadata": {},
     "output_type": "display_data"
    }
   ],
   "source": [
    "plot_layer(activations, image_number, 2)"
   ]
  },
  {
   "cell_type": "code",
   "execution_count": 30,
   "metadata": {},
   "outputs": [
    {
     "data": {
      "image/png": "[encoded data removed]",
      "text/plain": [
       "<matplotlib.figure.Figure at 0x296d4d4bf98>"
      ]
     },
     "metadata": {},
     "output_type": "display_data"
    }
   ],
   "source": [
    "plot_layer(activations, image_number, 3)"
   ]
  },
  {
   "cell_type": "code",
   "execution_count": null,
   "metadata": {},
   "outputs": [],
   "source": []
  }
 ],
 "metadata": {
  "colab": {
   "collapsed_sections": [],
   "name": "CNN for AED",
   "provenance": [],
   "version": "0.3.2"
  },
  "kernelspec": {
   "display_name": "Python 3",
   "language": "python",
   "name": "python3"
  },
  "language_info": {
   "codemirror_mode": {
    "name": "ipython",
    "version": 3
   },
   "file_extension": ".py",
   "mimetype": "text/x-python",
   "name": "python",
   "nbconvert_exporter": "python",
   "pygments_lexer": "ipython3",
   "version": "3.6.4"
  }
 },
 "nbformat": 4,
 "nbformat_minor": 1
}
