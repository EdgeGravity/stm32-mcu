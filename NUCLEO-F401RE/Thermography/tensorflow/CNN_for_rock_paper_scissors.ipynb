{
 "cells": [
  {
   "cell_type": "markdown",
   "metadata": {
    "colab_type": "text",
    "id": "0X16cagQE-Y-"
   },
   "source": [
    "# CNN for rock-paper-scissors with Keras/TensorFlow\n",
    "\n",
    "Date: January 4, 2019\n",
    "\n",
    "Classification:\n",
    "- rock\n",
    "- paper\n",
    "- scissors"
   ]
  },
  {
   "cell_type": "markdown",
   "metadata": {
    "colab_type": "text",
    "id": "WwQ-dEltkl5Q"
   },
   "source": [
    "## Preparing data set for CNN"
   ]
  },
  {
   "cell_type": "code",
   "execution_count": 214,
   "metadata": {
    "colab": {
     "base_uri": "https://localhost:8080/",
     "height": 34
    },
    "colab_type": "code",
    "id": "VEJyQsGpV3ug",
    "outputId": "3929aa39-3383-4791-e065-3622e6781181"
   },
   "outputs": [],
   "source": [
    "DATA_FOLDER = '../thermography/data/'\n",
    "\n",
    "FILES = 24\n",
    "TRAINING_FILES = 16\n",
    "TEST_FILES = FILES - TRAINING_FILES"
   ]
  },
  {
   "cell_type": "code",
   "execution_count": 215,
   "metadata": {
    "colab": {},
    "colab_type": "code",
    "id": "JTNdoPBFWGky"
   },
   "outputs": [],
   "source": [
    "%matplotlib inline\n",
    "\n",
    "import matplotlib.pyplot as plt\n",
    "import numpy as np\n",
    "import time\n",
    "import random\n",
    "import os\n",
    "import sklearn.preprocessing as pp"
   ]
  },
  {
   "cell_type": "code",
   "execution_count": 216,
   "metadata": {},
   "outputs": [],
   "source": [
    "# Normalization\n",
    "def scale(data):\n",
    "    min_ = np.min(data)\n",
    "    max_ = np.max(data)\n",
    "    mean = np.sum(data) / 64.0\n",
    "    range_ = (max_ - min_) / 2.0\n",
    "    data = (data - mean)/range_\n",
    "    return data"
   ]
  },
  {
   "cell_type": "code",
   "execution_count": 217,
   "metadata": {},
   "outputs": [
    {
     "name": "stdout",
     "output_type": "stream",
     "text": [
      "0: paper\n",
      "1: rock\n",
      "2: scissors\n"
     ]
    }
   ],
   "source": [
    "import glob\n",
    "\n",
    "data_files = glob.glob(DATA_FOLDER+'*.csv')\n",
    "class_labels = []\n",
    "\n",
    "for file in data_files:\n",
    "    label = file.split('-')[0].replace('\\\\', '/').split('/')[-1]\n",
    "    if label not in class_labels:\n",
    "        class_labels.append(label)\n",
    "\n",
    "data_set = {}\n",
    "\n",
    "class_number = 0\n",
    "\n",
    "for label in class_labels:\n",
    "    files = glob.glob(DATA_FOLDER+'{}-*.csv'.format(label))\n",
    "    random.shuffle(files)\n",
    "    data_set[label] = (files[:TRAINING_FILES], files[TRAINING_FILES:FILES], class_number)\n",
    "    class_number += 1\n",
    "\n",
    "training_set = []\n",
    "test_set = []\n",
    "\n",
    "for k, v in data_set.items():\n",
    "    files = v[0]\n",
    "    class_number = v[2]\n",
    "    for file in files:\n",
    "        with open(file) as f:\n",
    "            data = np.array(f.read().split(',')).astype(float)\n",
    "            #training_set.append((pp.scale(data), class_number))\n",
    "            training_set.append((scale(data), class_number))\n",
    "    files = v[1]\n",
    "    for file in files:\n",
    "        with open(file) as f:\n",
    "            data = np.array(f.read().split(',')).astype(float)\n",
    "            #test_set.append((pp.scale(data), class_number))\n",
    "            test_set.append((scale(data), class_number))\n",
    "random.shuffle(training_set)\n",
    "random.shuffle(test_set)\n",
    "\n",
    "class_labels = [None for _ in range(len(data_set))]\n",
    "\n",
    "# Class number and class labels\n",
    "for k,v in data_set.items():\n",
    "    print('{}: {}'.format(v[2],k))\n",
    "    class_labels[v[2]] = k\n",
    "    \n",
    "import yaml\n",
    "with open(DATA_FOLDER+'class_labels.yaml', 'w') as f:\n",
    "    yaml.dump(class_labels, f)"
   ]
  },
  {
   "cell_type": "code",
   "execution_count": 218,
   "metadata": {
    "colab": {},
    "colab_type": "code",
    "id": "28tIKkNyW3cO"
   },
   "outputs": [
    {
     "data": {
      "text/plain": [
       "array([[-0.36034292, -0.27184735,  0.75470133,  0.87859513, -0.27184735,\n",
       "        -0.62582965, -0.71432522, -0.8028208 ],\n",
       "       [-0.27184735, -0.13025442,  0.93169248,  0.87859513,  0.25912611,\n",
       "        -0.59043142, -0.66122788, -0.89131637],\n",
       "       [-0.27184735,  0.64850664,  1.10868363,  1.00248894,  0.79009956,\n",
       "        -0.48423673, -0.76742257, -0.76742257],\n",
       "       [ 0.11753319,  0.96709071,  1.05558628,  1.05558628,  0.93169248,\n",
       "         0.04673673, -0.66122788, -0.71432522],\n",
       "       [ 0.47151549,  0.08213496,  0.93169248,  0.96709071,  0.96709071,\n",
       "         0.52461283, -0.30724558, -0.71432522],\n",
       "       [-0.4488385 , -0.4488385 ,  0.61310841,  0.70160398,  0.61310841,\n",
       "        -0.05945796,  0.22372788, -0.62582965],\n",
       "       [-0.76742257, -0.53733407,  0.08213496,  0.52461283,  0.04673673,\n",
       "         0.08213496, -0.53733407, -0.66122788],\n",
       "       [-0.76742257, -0.66122788, -0.62582965, -0.09485619, -0.18335177,\n",
       "        -0.27184735, -0.62582965, -0.66122788]])"
      ]
     },
     "execution_count": 218,
     "metadata": {},
     "output_type": "execute_result"
    },
    {
     "data": {
      "image/png": "[encoded data removed]",
      "text/plain": [
       "<matplotlib.figure.Figure at 0x2166cde0780>"
      ]
     },
     "metadata": {},
     "output_type": "display_data"
    }
   ],
   "source": [
    "train_data, train_labels = [], []\n",
    "test_data, test_labels = [], []\n",
    "for img, label in training_set:\n",
    "    train_data.append(img)\n",
    "    train_labels.append(label)\n",
    "for img, label in test_set:\n",
    "    test_data.append(img)\n",
    "    test_labels.append(label)\n",
    "train_data = np.array(train_data).reshape((TRAINING_FILES*len(class_labels), 8, 8, 1))\n",
    "train_labels = np.array(train_labels, dtype='uint8')\n",
    "test_data = np.array(test_data).reshape((TEST_FILES*len(class_labels), 8, 8, 1))\n",
    "test_lables = np.array(test_labels, dtype='uint8')\n",
    "#train_data.shape\n",
    "\n",
    "from keras.utils import to_categorical\n",
    "\n",
    "train_labels=to_categorical(train_labels)\n",
    "test_labels=to_categorical(test_labels)\n",
    "\n",
    "plt.imshow(train_data[12,:,:,0])\n",
    "train_data[12,:,:,0]"
   ]
  },
  {
   "cell_type": "markdown",
   "metadata": {
    "colab_type": "text",
    "id": "VfUmgxxVk6uM"
   },
   "source": [
    "### CNN model"
   ]
  },
  {
   "cell_type": "code",
   "execution_count": 219,
   "metadata": {
    "colab": {
     "base_uri": "https://localhost:8080/",
     "height": 509
    },
    "colab_type": "code",
    "id": "B2Xg6tGLdMKP",
    "outputId": "ae3daa32-9dbf-4d8b-9a11-7f596dd2e4a6"
   },
   "outputs": [
    {
     "name": "stdout",
     "output_type": "stream",
     "text": [
      "_________________________________________________________________\n",
      "Layer (type)                 Output Shape              Param #   \n",
      "=================================================================\n",
      "conv2d_73 (Conv2D)           (None, 8, 8, 16)          160       \n",
      "_________________________________________________________________\n",
      "max_pooling2d_37 (MaxPooling (None, 4, 4, 16)          0         \n",
      "_________________________________________________________________\n",
      "conv2d_74 (Conv2D)           (None, 4, 4, 32)          4640      \n",
      "_________________________________________________________________\n",
      "max_pooling2d_38 (MaxPooling (None, 2, 2, 32)          0         \n",
      "_________________________________________________________________\n",
      "flatten_28 (Flatten)         (None, 128)               0         \n",
      "_________________________________________________________________\n",
      "dropout_28 (Dropout)         (None, 128)               0         \n",
      "_________________________________________________________________\n",
      "dense_28 (Dense)             (None, 3)                 387       \n",
      "=================================================================\n",
      "Total params: 5,187\n",
      "Trainable params: 5,187\n",
      "Non-trainable params: 0\n",
      "_________________________________________________________________\n"
     ]
    }
   ],
   "source": [
    "from keras import layers\n",
    "from keras import models\n",
    "\n",
    "model = models.Sequential()\n",
    "\n",
    "model.add(layers.Conv2D(16, (3, 3), padding='same', activation='relu', input_shape=(8, 8, 1)))\n",
    "model.add(layers.MaxPooling2D((2,2)))\n",
    "\n",
    "model.add(layers.Conv2D(32, (3, 3), padding='same', activation='relu'))\n",
    "model.add(layers.MaxPooling2D((2,2)))\n",
    "\n",
    "model.add(layers.Flatten())\n",
    "model.add(layers.Dropout(0.5))\n",
    "model.add(layers.Dense(len(class_labels), activation='softmax'))\n",
    "\n",
    "model.summary()"
   ]
  },
  {
   "cell_type": "code",
   "execution_count": 220,
   "metadata": {
    "colab": {},
    "colab_type": "code",
    "id": "nRr1L_4ogL6i"
   },
   "outputs": [],
   "source": [
    "model.compile(optimizer='rmsprop', loss='categorical_crossentropy', metrics=['accuracy'])"
   ]
  },
  {
   "cell_type": "code",
   "execution_count": 221,
   "metadata": {},
   "outputs": [
    {
     "data": {
      "image/svg+xml": [
       "<svg height=\"556pt\" viewBox=\"0.00 0.00 223.00 556.00\" width=\"223pt\" xmlns=\"http://www.w3.org/2000/svg\" xmlns:xlink=\"http://www.w3.org/1999/xlink\">\n",
       "<g class=\"graph\" id=\"graph0\" transform=\"scale(1 1) rotate(0) translate(4 552)\">\n",
       "<title>G</title>\n",
       "<polygon fill=\"white\" points=\"-4,4 -4,-552 219,-552 219,4 -4,4\" stroke=\"none\"/>\n",
       "<!-- 2295338524400 -->\n",
       "<g class=\"node\" id=\"node1\"><title>2295338524400</title>\n",
       "<polygon fill=\"none\" points=\"40.5,-438.5 40.5,-474.5 174.5,-474.5 174.5,-438.5 40.5,-438.5\" stroke=\"black\"/>\n",
       "<text font-family=\"Times New Roman,serif\" font-size=\"14.00\" text-anchor=\"middle\" x=\"107.5\" y=\"-452.8\">conv2d_73: Conv2D</text>\n",
       "</g>\n",
       "<!-- 2295339258264 -->\n",
       "<g class=\"node\" id=\"node2\"><title>2295339258264</title>\n",
       "<polygon fill=\"none\" points=\"0,-365.5 0,-401.5 215,-401.5 215,-365.5 0,-365.5\" stroke=\"black\"/>\n",
       "<text font-family=\"Times New Roman,serif\" font-size=\"14.00\" text-anchor=\"middle\" x=\"107.5\" y=\"-379.8\">max_pooling2d_37: MaxPooling2D</text>\n",
       "</g>\n",
       "<!-- 2295338524400&#45;&gt;2295339258264 -->\n",
       "<g class=\"edge\" id=\"edge2\"><title>2295338524400-&gt;2295339258264</title>\n",
       "<path d=\"M107.5,-438.313C107.5,-430.289 107.5,-420.547 107.5,-411.569\" fill=\"none\" stroke=\"black\"/>\n",
       "<polygon fill=\"black\" points=\"111,-411.529 107.5,-401.529 104,-411.529 111,-411.529\" stroke=\"black\"/>\n",
       "</g>\n",
       "<!-- 2295338523896 -->\n",
       "<g class=\"node\" id=\"node3\"><title>2295338523896</title>\n",
       "<polygon fill=\"none\" points=\"40.5,-292.5 40.5,-328.5 174.5,-328.5 174.5,-292.5 40.5,-292.5\" stroke=\"black\"/>\n",
       "<text font-family=\"Times New Roman,serif\" font-size=\"14.00\" text-anchor=\"middle\" x=\"107.5\" y=\"-306.8\">conv2d_74: Conv2D</text>\n",
       "</g>\n",
       "<!-- 2295339258264&#45;&gt;2295338523896 -->\n",
       "<g class=\"edge\" id=\"edge3\"><title>2295339258264-&gt;2295338523896</title>\n",
       "<path d=\"M107.5,-365.313C107.5,-357.289 107.5,-347.547 107.5,-338.569\" fill=\"none\" stroke=\"black\"/>\n",
       "<polygon fill=\"black\" points=\"111,-338.529 107.5,-328.529 104,-338.529 111,-338.529\" stroke=\"black\"/>\n",
       "</g>\n",
       "<!-- 2295339296416 -->\n",
       "<g class=\"node\" id=\"node4\"><title>2295339296416</title>\n",
       "<polygon fill=\"none\" points=\"0,-219.5 0,-255.5 215,-255.5 215,-219.5 0,-219.5\" stroke=\"black\"/>\n",
       "<text font-family=\"Times New Roman,serif\" font-size=\"14.00\" text-anchor=\"middle\" x=\"107.5\" y=\"-233.8\">max_pooling2d_38: MaxPooling2D</text>\n",
       "</g>\n",
       "<!-- 2295338523896&#45;&gt;2295339296416 -->\n",
       "<g class=\"edge\" id=\"edge4\"><title>2295338523896-&gt;2295339296416</title>\n",
       "<path d=\"M107.5,-292.313C107.5,-284.289 107.5,-274.547 107.5,-265.569\" fill=\"none\" stroke=\"black\"/>\n",
       "<polygon fill=\"black\" points=\"111,-265.529 107.5,-255.529 104,-265.529 111,-265.529\" stroke=\"black\"/>\n",
       "</g>\n",
       "<!-- 2295339398312 -->\n",
       "<g class=\"node\" id=\"node5\"><title>2295339398312</title>\n",
       "<polygon fill=\"none\" points=\"49.5,-146.5 49.5,-182.5 165.5,-182.5 165.5,-146.5 49.5,-146.5\" stroke=\"black\"/>\n",
       "<text font-family=\"Times New Roman,serif\" font-size=\"14.00\" text-anchor=\"middle\" x=\"107.5\" y=\"-160.8\">flatten_28: Flatten</text>\n",
       "</g>\n",
       "<!-- 2295339296416&#45;&gt;2295339398312 -->\n",
       "<g class=\"edge\" id=\"edge5\"><title>2295339296416-&gt;2295339398312</title>\n",
       "<path d=\"M107.5,-219.313C107.5,-211.289 107.5,-201.547 107.5,-192.569\" fill=\"none\" stroke=\"black\"/>\n",
       "<polygon fill=\"black\" points=\"111,-192.529 107.5,-182.529 104,-192.529 111,-192.529\" stroke=\"black\"/>\n",
       "</g>\n",
       "<!-- 2295339421480 -->\n",
       "<g class=\"node\" id=\"node6\"><title>2295339421480</title>\n",
       "<polygon fill=\"none\" points=\"39,-73.5 39,-109.5 176,-109.5 176,-73.5 39,-73.5\" stroke=\"black\"/>\n",
       "<text font-family=\"Times New Roman,serif\" font-size=\"14.00\" text-anchor=\"middle\" x=\"107.5\" y=\"-87.8\">dropout_28: Dropout</text>\n",
       "</g>\n",
       "<!-- 2295339398312&#45;&gt;2295339421480 -->\n",
       "<g class=\"edge\" id=\"edge6\"><title>2295339398312-&gt;2295339421480</title>\n",
       "<path d=\"M107.5,-146.313C107.5,-138.289 107.5,-128.547 107.5,-119.569\" fill=\"none\" stroke=\"black\"/>\n",
       "<polygon fill=\"black\" points=\"111,-119.529 107.5,-109.529 104,-119.529 111,-119.529\" stroke=\"black\"/>\n",
       "</g>\n",
       "<!-- 2295339418120 -->\n",
       "<g class=\"node\" id=\"node7\"><title>2295339418120</title>\n",
       "<polygon fill=\"none\" points=\"52,-0.5 52,-36.5 163,-36.5 163,-0.5 52,-0.5\" stroke=\"black\"/>\n",
       "<text font-family=\"Times New Roman,serif\" font-size=\"14.00\" text-anchor=\"middle\" x=\"107.5\" y=\"-14.8\">dense_28: Dense</text>\n",
       "</g>\n",
       "<!-- 2295339421480&#45;&gt;2295339418120 -->\n",
       "<g class=\"edge\" id=\"edge7\"><title>2295339421480-&gt;2295339418120</title>\n",
       "<path d=\"M107.5,-73.3129C107.5,-65.2895 107.5,-55.5475 107.5,-46.5691\" fill=\"none\" stroke=\"black\"/>\n",
       "<polygon fill=\"black\" points=\"111,-46.5288 107.5,-36.5288 104,-46.5289 111,-46.5288\" stroke=\"black\"/>\n",
       "</g>\n",
       "<!-- 2295339261568 -->\n",
       "<g class=\"node\" id=\"node8\"><title>2295339261568</title>\n",
       "<polygon fill=\"none\" points=\"55.5,-511.5 55.5,-547.5 159.5,-547.5 159.5,-511.5 55.5,-511.5\" stroke=\"black\"/>\n",
       "<text font-family=\"Times New Roman,serif\" font-size=\"14.00\" text-anchor=\"middle\" x=\"107.5\" y=\"-525.8\">2295339261568</text>\n",
       "</g>\n",
       "<!-- 2295339261568&#45;&gt;2295338524400 -->\n",
       "<g class=\"edge\" id=\"edge1\"><title>2295339261568-&gt;2295338524400</title>\n",
       "<path d=\"M107.5,-511.313C107.5,-503.289 107.5,-493.547 107.5,-484.569\" fill=\"none\" stroke=\"black\"/>\n",
       "<polygon fill=\"black\" points=\"111,-484.529 107.5,-474.529 104,-484.529 111,-484.529\" stroke=\"black\"/>\n",
       "</g>\n",
       "</g>\n",
       "</svg>"
      ],
      "text/plain": [
       "<IPython.core.display.SVG object>"
      ]
     },
     "execution_count": 221,
     "metadata": {},
     "output_type": "execute_result"
    }
   ],
   "source": [
    "from IPython.display import SVG\n",
    "from keras.utils.vis_utils import model_to_dot\n",
    "\n",
    "SVG(model_to_dot(model).create(prog='dot', format='svg'))"
   ]
  },
  {
   "cell_type": "markdown",
   "metadata": {
    "colab_type": "text",
    "id": "TfypWUJIlFkz"
   },
   "source": [
    "## Training CNN"
   ]
  },
  {
   "cell_type": "code",
   "execution_count": 222,
   "metadata": {
    "colab": {
     "base_uri": "https://localhost:8080/",
     "height": 931
    },
    "colab_type": "code",
    "id": "zsdmu-ggfvr1",
    "outputId": "77a52558-8ecc-4fc5-e0cb-2b86a75df4c6",
    "scrolled": false
   },
   "outputs": [
    {
     "name": "stdout",
     "output_type": "stream",
     "text": [
      "Train on 48 samples, validate on 24 samples\n",
      "Epoch 1/80\n",
      "48/48 [==============================] - 2s 38ms/step - loss: 1.1127 - acc: 0.3542 - val_loss: 1.0075 - val_acc: 0.5417\n",
      "Epoch 2/80\n",
      "48/48 [==============================] - 0s 403us/step - loss: 0.9915 - acc: 0.5208 - val_loss: 0.9742 - val_acc: 0.7500\n",
      "Epoch 3/80\n",
      "48/48 [==============================] - 0s 365us/step - loss: 0.9828 - acc: 0.5208 - val_loss: 0.9440 - val_acc: 0.7500\n",
      "Epoch 4/80\n",
      "48/48 [==============================] - 0s 274us/step - loss: 0.9398 - acc: 0.5833 - val_loss: 0.9290 - val_acc: 0.7500\n",
      "Epoch 5/80\n",
      "48/48 [==============================] - 0s 238us/step - loss: 0.8509 - acc: 0.8125 - val_loss: 0.9029 - val_acc: 0.7500\n",
      "Epoch 6/80\n",
      "48/48 [==============================] - 0s 415us/step - loss: 0.8445 - acc: 0.7083 - val_loss: 0.8736 - val_acc: 0.7500\n",
      "Epoch 7/80\n",
      "48/48 [==============================] - 0s 300us/step - loss: 0.9177 - acc: 0.6250 - val_loss: 0.8552 - val_acc: 0.8333\n",
      "Epoch 8/80\n",
      "48/48 [==============================] - 0s 465us/step - loss: 0.8365 - acc: 0.7917 - val_loss: 0.8330 - val_acc: 0.9167\n",
      "Epoch 9/80\n",
      "48/48 [==============================] - 0s 413us/step - loss: 0.8111 - acc: 0.7708 - val_loss: 0.8163 - val_acc: 0.8750\n",
      "Epoch 10/80\n",
      "48/48 [==============================] - 0s 310us/step - loss: 0.7870 - acc: 0.7083 - val_loss: 0.8051 - val_acc: 0.8750\n",
      "Epoch 11/80\n",
      "48/48 [==============================] - 0s 351us/step - loss: 0.7691 - acc: 0.7917 - val_loss: 0.7858 - val_acc: 0.8750\n",
      "Epoch 12/80\n",
      "48/48 [==============================] - 0s 279us/step - loss: 0.7239 - acc: 0.8125 - val_loss: 0.7663 - val_acc: 0.8333\n",
      "Epoch 13/80\n",
      "48/48 [==============================] - 0s 507us/step - loss: 0.6778 - acc: 0.8542 - val_loss: 0.7433 - val_acc: 0.8750\n",
      "Epoch 14/80\n",
      "48/48 [==============================] - 0s 362us/step - loss: 0.6638 - acc: 0.9167 - val_loss: 0.7244 - val_acc: 0.8750\n",
      "Epoch 15/80\n",
      "48/48 [==============================] - 0s 363us/step - loss: 0.6842 - acc: 0.8333 - val_loss: 0.7138 - val_acc: 0.8333\n",
      "Epoch 16/80\n",
      "48/48 [==============================] - 0s 372us/step - loss: 0.6806 - acc: 0.7083 - val_loss: 0.6989 - val_acc: 0.8750\n",
      "Epoch 17/80\n",
      "48/48 [==============================] - 0s 527us/step - loss: 0.5869 - acc: 0.9583 - val_loss: 0.6774 - val_acc: 0.8750\n",
      "Epoch 18/80\n",
      "48/48 [==============================] - 0s 310us/step - loss: 0.6191 - acc: 0.8958 - val_loss: 0.6666 - val_acc: 0.8750\n",
      "Epoch 19/80\n",
      "48/48 [==============================] - 0s 511us/step - loss: 0.5929 - acc: 0.8750 - val_loss: 0.6513 - val_acc: 0.8750\n",
      "Epoch 20/80\n",
      "48/48 [==============================] - 0s 331us/step - loss: 0.5684 - acc: 0.8750 - val_loss: 0.6343 - val_acc: 0.8750\n",
      "Epoch 21/80\n",
      "48/48 [==============================] - 0s 403us/step - loss: 0.5148 - acc: 0.9792 - val_loss: 0.6175 - val_acc: 0.8750\n",
      "Epoch 22/80\n",
      "48/48 [==============================] - 0s 455us/step - loss: 0.5281 - acc: 0.8333 - val_loss: 0.6031 - val_acc: 0.8750\n",
      "Epoch 23/80\n",
      "48/48 [==============================] - 0s 300us/step - loss: 0.5402 - acc: 0.8333 - val_loss: 0.5936 - val_acc: 0.8750\n",
      "Epoch 24/80\n",
      "48/48 [==============================] - 0s 300us/step - loss: 0.5115 - acc: 0.9167 - val_loss: 0.5779 - val_acc: 0.8750\n",
      "Epoch 25/80\n",
      "48/48 [==============================] - 0s 393us/step - loss: 0.4714 - acc: 0.8542 - val_loss: 0.5675 - val_acc: 0.8750\n",
      "Epoch 26/80\n",
      "48/48 [==============================] - 0s 265us/step - loss: 0.4733 - acc: 0.9167 - val_loss: 0.5610 - val_acc: 0.8750\n",
      "Epoch 27/80\n",
      "48/48 [==============================] - 0s 310us/step - loss: 0.4182 - acc: 0.9167 - val_loss: 0.5425 - val_acc: 0.8750\n",
      "Epoch 28/80\n",
      "48/48 [==============================] - 0s 371us/step - loss: 0.4862 - acc: 0.8542 - val_loss: 0.5378 - val_acc: 0.8750\n",
      "Epoch 29/80\n",
      "48/48 [==============================] - 0s 320us/step - loss: 0.4446 - acc: 0.9167 - val_loss: 0.5264 - val_acc: 0.8750\n",
      "Epoch 30/80\n",
      "48/48 [==============================] - 0s 437us/step - loss: 0.4155 - acc: 0.9167 - val_loss: 0.5255 - val_acc: 0.8333\n",
      "Epoch 31/80\n",
      "48/48 [==============================] - 0s 300us/step - loss: 0.3751 - acc: 0.8958 - val_loss: 0.5241 - val_acc: 0.8333\n",
      "Epoch 32/80\n",
      "48/48 [==============================] - 0s 455us/step - loss: 0.3971 - acc: 0.9375 - val_loss: 0.5137 - val_acc: 0.8333\n",
      "Epoch 33/80\n",
      "48/48 [==============================] - 0s 382us/step - loss: 0.3619 - acc: 0.8958 - val_loss: 0.4919 - val_acc: 0.8750\n",
      "Epoch 34/80\n",
      "48/48 [==============================] - 0s 433us/step - loss: 0.4447 - acc: 0.9167 - val_loss: 0.4819 - val_acc: 0.8750\n",
      "Epoch 35/80\n",
      "48/48 [==============================] - 0s 527us/step - loss: 0.3568 - acc: 0.8958 - val_loss: 0.4691 - val_acc: 0.8750\n",
      "Epoch 36/80\n",
      "48/48 [==============================] - 0s 279us/step - loss: 0.3175 - acc: 0.9583 - val_loss: 0.4608 - val_acc: 0.8750\n",
      "Epoch 37/80\n",
      "48/48 [==============================] - 0s 444us/step - loss: 0.3824 - acc: 0.9167 - val_loss: 0.4550 - val_acc: 0.8750\n",
      "Epoch 38/80\n",
      "48/48 [==============================] - 0s 434us/step - loss: 0.3717 - acc: 0.8958 - val_loss: 0.4478 - val_acc: 0.8750\n",
      "Epoch 39/80\n",
      "48/48 [==============================] - 0s 279us/step - loss: 0.3607 - acc: 0.9167 - val_loss: 0.4423 - val_acc: 0.8750\n",
      "Epoch 40/80\n",
      "48/48 [==============================] - 0s 279us/step - loss: 0.3682 - acc: 0.8750 - val_loss: 0.4433 - val_acc: 0.8750\n",
      "Epoch 41/80\n",
      "48/48 [==============================] - 0s 393us/step - loss: 0.2979 - acc: 0.9375 - val_loss: 0.4303 - val_acc: 0.8750\n",
      "Epoch 42/80\n",
      "48/48 [==============================] - 0s 351us/step - loss: 0.2767 - acc: 0.9792 - val_loss: 0.4352 - val_acc: 0.8333\n",
      "Epoch 43/80\n",
      "48/48 [==============================] - 0s 261us/step - loss: 0.2895 - acc: 0.9792 - val_loss: 0.4300 - val_acc: 0.8750\n",
      "Epoch 44/80\n",
      "48/48 [==============================] - 0s 300us/step - loss: 0.2281 - acc: 0.9583 - val_loss: 0.4166 - val_acc: 0.8750\n",
      "Epoch 45/80\n",
      "48/48 [==============================] - 0s 362us/step - loss: 0.2672 - acc: 0.8750 - val_loss: 0.4166 - val_acc: 0.8750\n",
      "Epoch 46/80\n",
      "48/48 [==============================] - 0s 362us/step - loss: 0.3211 - acc: 0.9167 - val_loss: 0.4090 - val_acc: 0.8750\n",
      "Epoch 47/80\n",
      "48/48 [==============================] - 0s 283us/step - loss: 0.2136 - acc: 0.9792 - val_loss: 0.4162 - val_acc: 0.8333\n",
      "Epoch 48/80\n",
      "48/48 [==============================] - 0s 331us/step - loss: 0.2270 - acc: 0.9375 - val_loss: 0.4317 - val_acc: 0.8333\n",
      "Epoch 49/80\n",
      "48/48 [==============================] - 0s 320us/step - loss: 0.1991 - acc: 1.0000 - val_loss: 0.4050 - val_acc: 0.8750\n",
      "Epoch 50/80\n",
      "48/48 [==============================] - 0s 279us/step - loss: 0.1901 - acc: 0.9792 - val_loss: 0.3966 - val_acc: 0.8750\n",
      "Epoch 51/80\n",
      "48/48 [==============================] - 0s 277us/step - loss: 0.1481 - acc: 1.0000 - val_loss: 0.4216 - val_acc: 0.8333\n",
      "Epoch 52/80\n",
      "48/48 [==============================] - 0s 310us/step - loss: 0.1882 - acc: 0.9792 - val_loss: 0.4059 - val_acc: 0.8333\n",
      "Epoch 53/80\n",
      "48/48 [==============================] - 0s 300us/step - loss: 0.1974 - acc: 0.9375 - val_loss: 0.3884 - val_acc: 0.8750\n",
      "Epoch 54/80\n",
      "48/48 [==============================] - 0s 310us/step - loss: 0.2537 - acc: 0.9375 - val_loss: 0.3648 - val_acc: 0.8750\n",
      "Epoch 55/80\n",
      "48/48 [==============================] - 0s 248us/step - loss: 0.2470 - acc: 0.9375 - val_loss: 0.3752 - val_acc: 0.8750\n",
      "Epoch 56/80\n",
      "48/48 [==============================] - 0s 254us/step - loss: 0.2005 - acc: 0.9792 - val_loss: 0.3932 - val_acc: 0.8750\n",
      "Epoch 57/80\n",
      "48/48 [==============================] - 0s 269us/step - loss: 0.1510 - acc: 1.0000 - val_loss: 0.3905 - val_acc: 0.8750\n",
      "Epoch 58/80\n",
      "48/48 [==============================] - 0s 254us/step - loss: 0.2630 - acc: 0.9375 - val_loss: 0.4058 - val_acc: 0.8333\n",
      "Epoch 59/80\n",
      "48/48 [==============================] - 0s 279us/step - loss: 0.1931 - acc: 0.9375 - val_loss: 0.3879 - val_acc: 0.8333\n",
      "Epoch 60/80\n",
      "48/48 [==============================] - 0s 279us/step - loss: 0.1559 - acc: 1.0000 - val_loss: 0.3612 - val_acc: 0.8750\n",
      "Epoch 61/80\n",
      "48/48 [==============================] - 0s 269us/step - loss: 0.1416 - acc: 0.9792 - val_loss: 0.3910 - val_acc: 0.8333\n",
      "Epoch 62/80\n"
     ]
    },
    {
     "name": "stdout",
     "output_type": "stream",
     "text": [
      "48/48 [==============================] - 0s 279us/step - loss: 0.1302 - acc: 1.0000 - val_loss: 0.3632 - val_acc: 0.8750\n",
      "Epoch 63/80\n",
      "48/48 [==============================] - 0s 311us/step - loss: 0.1767 - acc: 0.9792 - val_loss: 0.3507 - val_acc: 0.8750\n",
      "Epoch 64/80\n",
      "48/48 [==============================] - 0s 331us/step - loss: 0.1467 - acc: 1.0000 - val_loss: 0.3557 - val_acc: 0.8750\n",
      "Epoch 65/80\n",
      "48/48 [==============================] - 0s 269us/step - loss: 0.1841 - acc: 0.9792 - val_loss: 0.3393 - val_acc: 0.8750\n",
      "Epoch 66/80\n",
      "48/48 [==============================] - 0s 289us/step - loss: 0.1411 - acc: 0.9792 - val_loss: 0.3503 - val_acc: 0.9167\n",
      "Epoch 67/80\n",
      "48/48 [==============================] - 0s 258us/step - loss: 0.1459 - acc: 1.0000 - val_loss: 0.3601 - val_acc: 0.8750\n",
      "Epoch 68/80\n",
      "48/48 [==============================] - 0s 281us/step - loss: 0.1013 - acc: 1.0000 - val_loss: 0.3603 - val_acc: 0.8750\n",
      "Epoch 69/80\n",
      "48/48 [==============================] - 0s 310us/step - loss: 0.1137 - acc: 0.9792 - val_loss: 0.3492 - val_acc: 0.8750\n",
      "Epoch 70/80\n",
      "48/48 [==============================] - 0s 279us/step - loss: 0.0875 - acc: 1.0000 - val_loss: 0.3590 - val_acc: 0.8333\n",
      "Epoch 71/80\n",
      "48/48 [==============================] - 0s 320us/step - loss: 0.1062 - acc: 1.0000 - val_loss: 0.3786 - val_acc: 0.8333\n",
      "Epoch 72/80\n",
      "48/48 [==============================] - 0s 259us/step - loss: 0.1989 - acc: 0.9167 - val_loss: 0.3726 - val_acc: 0.8333\n",
      "Epoch 73/80\n",
      "48/48 [==============================] - 0s 300us/step - loss: 0.1432 - acc: 0.9583 - val_loss: 0.3587 - val_acc: 0.8750\n",
      "Epoch 74/80\n",
      "48/48 [==============================] - 0s 310us/step - loss: 0.0887 - acc: 1.0000 - val_loss: 0.3720 - val_acc: 0.8333\n",
      "Epoch 75/80\n",
      "48/48 [==============================] - 0s 280us/step - loss: 0.1000 - acc: 1.0000 - val_loss: 0.3699 - val_acc: 0.9167\n",
      "Epoch 76/80\n",
      "48/48 [==============================] - 0s 269us/step - loss: 0.0962 - acc: 1.0000 - val_loss: 0.3765 - val_acc: 0.9167\n",
      "Epoch 77/80\n",
      "48/48 [==============================] - 0s 279us/step - loss: 0.1062 - acc: 0.9792 - val_loss: 0.3292 - val_acc: 0.8750\n",
      "Epoch 78/80\n",
      "48/48 [==============================] - 0s 300us/step - loss: 0.1103 - acc: 0.9792 - val_loss: 0.3654 - val_acc: 0.9167\n",
      "Epoch 79/80\n",
      "48/48 [==============================] - 0s 258us/step - loss: 0.0890 - acc: 0.9792 - val_loss: 0.3460 - val_acc: 0.8750\n",
      "Epoch 80/80\n",
      "48/48 [==============================] - 0s 317us/step - loss: 0.0931 - acc: 1.0000 - val_loss: 0.3556 - val_acc: 0.8750\n"
     ]
    }
   ],
   "source": [
    "EPOCHS = 80\n",
    "history = model.fit(train_data, train_labels, epochs=EPOCHS, validation_data=(test_data, test_labels))"
   ]
  },
  {
   "cell_type": "code",
   "execution_count": 223,
   "metadata": {},
   "outputs": [
    {
     "name": "stdout",
     "output_type": "stream",
     "text": [
      "dict_keys(['val_loss', 'val_acc', 'loss', 'acc'])\n"
     ]
    },
    {
     "data": {
      "image/png": "[encoded data removed]",
      "text/plain": [
       "<matplotlib.figure.Figure at 0x216705e0e10>"
      ]
     },
     "metadata": {},
     "output_type": "display_data"
    },
    {
     "data": {
      "image/png": "[encoded data removed]",
      "text/plain": [
       "<matplotlib.figure.Figure at 0x216705ec3c8>"
      ]
     },
     "metadata": {},
     "output_type": "display_data"
    }
   ],
   "source": [
    "print(history.history.keys())\n",
    "\n",
    "# Plot training & validation accuracy values\n",
    "plt.plot(history.history['acc'])\n",
    "plt.plot(history.history['val_acc'])\n",
    "\n",
    "plt.title('Model accuracy')\n",
    "plt.ylabel('Accuracy')\n",
    "plt.xlabel('Epoch')\n",
    "plt.legend(['Train', 'Test'], loc='upper left')\n",
    "plt.show()\n",
    "\n",
    "# Plot training & validation loss values\n",
    "plt.plot(history.history['loss'])\n",
    "plt.plot(history.history['val_loss'])\n",
    "plt.title('Model loss')\n",
    "plt.ylabel('Loss')\n",
    "plt.xlabel('Epoch')\n",
    "plt.legend(['Train', 'Test'], loc='upper left')\n",
    "plt.show()"
   ]
  },
  {
   "cell_type": "markdown",
   "metadata": {},
   "source": [
    "## Save the model"
   ]
  },
  {
   "cell_type": "code",
   "execution_count": 224,
   "metadata": {},
   "outputs": [],
   "source": [
    "import datetime\n",
    "\n",
    "dt = datetime.datetime.today().strftime('%Y%m%d%H%M%S')\n",
    "filename = 'cnn_for_rock_paper_scissors{}.h5'.format(dt)\n",
    "model.save(filename)"
   ]
  },
  {
   "cell_type": "markdown",
   "metadata": {},
   "source": [
    "## Load the model"
   ]
  },
  {
   "cell_type": "code",
   "execution_count": 225,
   "metadata": {},
   "outputs": [],
   "source": [
    "del model\n",
    "model = models.load_model(filename)"
   ]
  },
  {
   "cell_type": "markdown",
   "metadata": {
    "colab_type": "text",
    "id": "j6con4C3lKC1"
   },
   "source": [
    "## Confirmation"
   ]
  },
  {
   "cell_type": "code",
   "execution_count": 226,
   "metadata": {
    "colab": {
     "base_uri": "https://localhost:8080/",
     "height": 34
    },
    "colab_type": "code",
    "id": "4oZYLLij69wU",
    "outputId": "b37a4b8a-2c80-411f-d8a9-5df1c6dbfe22"
   },
   "outputs": [
    {
     "data": {
      "text/plain": [
       "(48, 8, 8, 1)"
      ]
     },
     "execution_count": 226,
     "metadata": {},
     "output_type": "execute_result"
    }
   ],
   "source": [
    "import numpy as np\n",
    "import matplotlib.pyplot as plt\n",
    "train_data.shape"
   ]
  },
  {
   "cell_type": "code",
   "execution_count": 227,
   "metadata": {
    "colab": {
     "base_uri": "https://localhost:8080/",
     "height": 193
    },
    "colab_type": "code",
    "id": "zSxXE9FgRBdJ",
    "outputId": "f3a53efe-e99f-4572-f9b4-1bf3c39c77ec"
   },
   "outputs": [],
   "source": [
    "layer_outputs = [layer.output for layer in model.layers]\n",
    "#layer_outputs"
   ]
  },
  {
   "cell_type": "code",
   "execution_count": 228,
   "metadata": {
    "colab": {
     "base_uri": "https://localhost:8080/",
     "height": 34
    },
    "colab_type": "code",
    "id": "dcw7yHKrRkPD",
    "outputId": "a3ed5441-ae48-4635-bf07-ac5060030608"
   },
   "outputs": [],
   "source": [
    "activation_model = models.Model(inputs=model.input, outputs=layer_outputs)\n",
    "activations = activation_model.predict(test_data)\n",
    "#activations[0][0,:,:,0].shape"
   ]
  },
  {
   "cell_type": "code",
   "execution_count": 229,
   "metadata": {},
   "outputs": [
    {
     "data": {
      "text/plain": [
       "['paper', 'rock', 'scissors']"
      ]
     },
     "execution_count": 229,
     "metadata": {},
     "output_type": "execute_result"
    }
   ],
   "source": [
    "class_labels"
   ]
  },
  {
   "cell_type": "code",
   "execution_count": 230,
   "metadata": {
    "colab": {
     "base_uri": "https://localhost:8080/",
     "height": 193
    },
    "colab_type": "code",
    "id": "ccSNAwGKhRn9",
    "outputId": "0ad22e12-713b-4b07-e17b-45d39ff1b80b"
   },
   "outputs": [
    {
     "data": {
      "text/plain": [
       "array([[97,  2,  0],\n",
       "       [41, 52,  5],\n",
       "       [ 1,  0, 98],\n",
       "       [42, 22, 34],\n",
       "       [98,  1,  0],\n",
       "       [ 0,  0, 98],\n",
       "       [98,  1,  0],\n",
       "       [88,  1, 10],\n",
       "       [ 7,  3, 89],\n",
       "       [ 1, 97,  0]])"
      ]
     },
     "execution_count": 230,
     "metadata": {},
     "output_type": "execute_result"
    }
   ],
   "source": [
    "(activations[-1][:10]*100).astype(int)"
   ]
  },
  {
   "cell_type": "code",
   "execution_count": 231,
   "metadata": {
    "colab": {
     "base_uri": "https://localhost:8080/",
     "height": 193
    },
    "colab_type": "code",
    "id": "RoE0nxtuiGIN",
    "outputId": "154437a8-ab72-46f4-f42c-3e6464af47d0"
   },
   "outputs": [
    {
     "data": {
      "text/plain": [
       "array([[1, 0, 0],\n",
       "       [0, 1, 0],\n",
       "       [0, 0, 1],\n",
       "       [0, 1, 0],\n",
       "       [1, 0, 0],\n",
       "       [0, 0, 1],\n",
       "       [1, 0, 0],\n",
       "       [1, 0, 0],\n",
       "       [0, 0, 1],\n",
       "       [0, 1, 0]])"
      ]
     },
     "execution_count": 231,
     "metadata": {},
     "output_type": "execute_result"
    }
   ],
   "source": [
    "test_labels[:10].astype(int)"
   ]
  },
  {
   "cell_type": "code",
   "execution_count": 232,
   "metadata": {},
   "outputs": [],
   "source": [
    "def plot_layer(activations, sample, layer):\n",
    "    a = activations[layer].shape\n",
    "    rows = int(a[3]/4)\n",
    "    fig, axarr = plt.subplots(rows, 4, figsize=[20,15])\n",
    "    for i in range(a[3]):\n",
    "        row = int(i/4)\n",
    "        x, y = row, i-4*row\n",
    "        axarr[x, y].imshow(activations[layer][sample, :, :, i])\n",
    "        axarr[x, y].set_xticks([])\n",
    "        axarr[x, y].set_yticks([])"
   ]
  },
  {
   "cell_type": "code",
   "execution_count": 233,
   "metadata": {},
   "outputs": [
    {
     "data": {
      "text/plain": [
       "'paper'"
      ]
     },
     "execution_count": 233,
     "metadata": {},
     "output_type": "execute_result"
    },
    {
     "data": {
      "image/png": "[encoded data removed]",
      "text/plain": [
       "<matplotlib.figure.Figure at 0x216716e6f60>"
      ]
     },
     "metadata": {},
     "output_type": "display_data"
    }
   ],
   "source": [
    "image_number = 10\n",
    "\n",
    "plt.imshow(test_data[image_number,:,:,0])\n",
    "class_labels[np.argmax(test_labels[image_number])]"
   ]
  },
  {
   "cell_type": "code",
   "execution_count": 234,
   "metadata": {},
   "outputs": [
    {
     "data": {
      "image/png": "[encoded data removed]",
      "text/plain": [
       "<matplotlib.figure.Figure at 0x216729db6d8>"
      ]
     },
     "metadata": {},
     "output_type": "display_data"
    }
   ],
   "source": [
    "plot_layer(activations, image_number, 1)"
   ]
  },
  {
   "cell_type": "code",
   "execution_count": null,
   "metadata": {},
   "outputs": [],
   "source": []
  }
 ],
 "metadata": {
  "colab": {
   "collapsed_sections": [],
   "name": "CNN for AED",
   "provenance": [],
   "version": "0.3.2"
  },
  "kernelspec": {
   "display_name": "Python 3",
   "language": "python",
   "name": "python3"
  },
  "language_info": {
   "codemirror_mode": {
    "name": "ipython",
    "version": 3
   },
   "file_extension": ".py",
   "mimetype": "text/x-python",
   "name": "python",
   "nbconvert_exporter": "python",
   "pygments_lexer": "ipython3",
   "version": "3.6.4"
  }
 },
 "nbformat": 4,
 "nbformat_minor": 1
}
