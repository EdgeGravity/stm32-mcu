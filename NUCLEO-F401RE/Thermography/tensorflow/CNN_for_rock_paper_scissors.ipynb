{
 "cells": [
  {
   "cell_type": "markdown",
   "metadata": {
    "colab_type": "text",
    "id": "0X16cagQE-Y-"
   },
   "source": [
    "# CNN for rock-paper-scissors with Keras/TensorFlow\n",
    "\n",
    "Date: January 4, 2019\n",
    "\n",
    "Classification:\n",
    "- rock\n",
    "- paper\n",
    "- scissors"
   ]
  },
  {
   "cell_type": "markdown",
   "metadata": {
    "colab_type": "text",
    "id": "WwQ-dEltkl5Q"
   },
   "source": [
    "## Preparing data set for CNN"
   ]
  },
  {
   "cell_type": "code",
   "execution_count": 40,
   "metadata": {
    "colab": {
     "base_uri": "https://localhost:8080/",
     "height": 34
    },
    "colab_type": "code",
    "id": "VEJyQsGpV3ug",
    "outputId": "3929aa39-3383-4791-e065-3622e6781181"
   },
   "outputs": [],
   "source": [
    "DATA_FOLDER = '../thermography/data/'\n",
    "\n",
    "FILES = 45\n",
    "TRAINING_FILES = 30 \n",
    "TEST_FILES = FILES - TRAINING_FILES"
   ]
  },
  {
   "cell_type": "code",
   "execution_count": 41,
   "metadata": {
    "colab": {},
    "colab_type": "code",
    "id": "JTNdoPBFWGky"
   },
   "outputs": [],
   "source": [
    "%matplotlib inline\n",
    "\n",
    "import matplotlib.pyplot as plt\n",
    "import numpy as np\n",
    "import time\n",
    "import random\n",
    "import os\n",
    "import sklearn.preprocessing as pp"
   ]
  },
  {
   "cell_type": "code",
   "execution_count": 42,
   "metadata": {},
   "outputs": [
    {
     "name": "stdout",
     "output_type": "stream",
     "text": [
      "0: paper\n",
      "1: rock\n",
      "2: scissors\n"
     ]
    }
   ],
   "source": [
    "import glob\n",
    "\n",
    "data_files = glob.glob(DATA_FOLDER+'*.csv')\n",
    "class_labels = []\n",
    "\n",
    "for file in data_files:\n",
    "    label = file.split('-')[0].replace('\\\\', '/').split('/')[-1]\n",
    "    if label not in class_labels:\n",
    "        class_labels.append(label)\n",
    "\n",
    "data_set = {}\n",
    "\n",
    "class_number = 0\n",
    "\n",
    "for label in class_labels:\n",
    "    files = glob.glob(DATA_FOLDER+'{}-*.csv'.format(label))\n",
    "    random.shuffle(files)\n",
    "    data_set[label] = (files[:TRAINING_FILES], files[TRAINING_FILES:FILES], class_number)\n",
    "    class_number += 1\n",
    "\n",
    "training_set = []\n",
    "test_set = []\n",
    "\n",
    "for k, v in data_set.items():\n",
    "    files = v[0]\n",
    "    class_number = v[2]\n",
    "    for file in files:\n",
    "        with open(file) as f:\n",
    "            data = np.array(f.read().split(',')).astype(float)\n",
    "            training_set.append((pp.scale(data), class_number))\n",
    "    files = v[1]\n",
    "    for file in files:\n",
    "        with open(file) as f:\n",
    "            data = np.array(f.read().split(',')).astype(float)\n",
    "            test_set.append((pp.scale(data), class_number))\n",
    "random.shuffle(training_set)\n",
    "random.shuffle(test_set)\n",
    "\n",
    "class_labels = [None for _ in range(len(data_set))]\n",
    "\n",
    "# Class number and class labels\n",
    "for k,v in data_set.items():\n",
    "    print('{}: {}'.format(v[2],k))\n",
    "    class_labels[v[2]] = k\n",
    "    \n",
    "import yaml\n",
    "with open(DATA_FOLDER+'class_labels.yaml', 'w') as f:\n",
    "    yaml.dump(class_labels, f)"
   ]
  },
  {
   "cell_type": "code",
   "execution_count": 43,
   "metadata": {
    "colab": {},
    "colab_type": "code",
    "id": "28tIKkNyW3cO"
   },
   "outputs": [
    {
     "data": {
      "text/plain": [
       "array([[-0.52399373, -0.24882984,  0.50787085,  2.50280905,  2.43401807,\n",
       "         2.33083161,  1.1269896 , -0.31762082],\n",
       "       [-0.24882984, -0.52399373, -0.07685241,  2.15885418,  2.50280905,\n",
       "         1.47094446,  0.09512502, -0.76476214],\n",
       "       [-0.52399373, -0.66157568, -0.07685241,  1.81489932,  0.85182571,\n",
       "         1.29896703, -0.52399373, -0.52399373],\n",
       "       [-0.52399373, -0.52399373,  0.16391599,  1.40215349,  0.16391599,\n",
       "         1.74610835, -0.42080728, -0.52399373],\n",
       "       [-0.8679486 , -0.52399373,  0.09512502,  0.95501217, -0.31762082,\n",
       "         1.40215349, -0.24882984, -0.52399373],\n",
       "       [-0.8679486 , -0.76476214, -0.52399373,  0.02633404, -0.52399373,\n",
       "         0.50787085, -0.07685241, -0.66157568],\n",
       "       [-1.00553054, -0.76476214, -0.76476214, -0.76476214, -0.42080728,\n",
       "        -0.52399373, -0.66157568, -0.76476214],\n",
       "       [-0.93673957, -0.93673957, -0.93673957, -0.93673957, -0.66157568,\n",
       "        -0.76476214, -0.8679486 , -0.93673957]])"
      ]
     },
     "execution_count": 43,
     "metadata": {},
     "output_type": "execute_result"
    },
    {
     "data": {
      "image/png": "[encoded data removed]",
      "text/plain": [
       "<matplotlib.figure.Figure at 0x24467b38dd8>"
      ]
     },
     "metadata": {},
     "output_type": "display_data"
    }
   ],
   "source": [
    "train_data, train_labels = [], []\n",
    "test_data, test_labels = [], []\n",
    "for img, label in training_set:\n",
    "    train_data.append(img)\n",
    "    train_labels.append(label)\n",
    "for img, label in test_set:\n",
    "    test_data.append(img)\n",
    "    test_labels.append(label)\n",
    "train_data = np.array(train_data).reshape((TRAINING_FILES*len(class_labels), 8, 8, 1))\n",
    "train_labels = np.array(train_labels, dtype='uint8')\n",
    "test_data = np.array(test_data).reshape((TEST_FILES*len(class_labels), 8, 8, 1))\n",
    "test_lables = np.array(test_labels, dtype='uint8')\n",
    "#train_data.shape\n",
    "\n",
    "from keras.utils import to_categorical\n",
    "\n",
    "train_labels=to_categorical(train_labels)\n",
    "test_labels=to_categorical(test_labels)\n",
    "\n",
    "plt.imshow(train_data[12,:,:,0])\n",
    "train_data[12,:,:,0]"
   ]
  },
  {
   "cell_type": "markdown",
   "metadata": {
    "colab_type": "text",
    "id": "VfUmgxxVk6uM"
   },
   "source": [
    "### CNN model"
   ]
  },
  {
   "cell_type": "code",
   "execution_count": 44,
   "metadata": {
    "colab": {
     "base_uri": "https://localhost:8080/",
     "height": 509
    },
    "colab_type": "code",
    "id": "B2Xg6tGLdMKP",
    "outputId": "ae3daa32-9dbf-4d8b-9a11-7f596dd2e4a6"
   },
   "outputs": [
    {
     "name": "stdout",
     "output_type": "stream",
     "text": [
      "_________________________________________________________________\n",
      "Layer (type)                 Output Shape              Param #   \n",
      "=================================================================\n",
      "conv2d_5 (Conv2D)            (None, 8, 8, 16)          160       \n",
      "_________________________________________________________________\n",
      "max_pooling2d_5 (MaxPooling2 (None, 4, 4, 16)          0         \n",
      "_________________________________________________________________\n",
      "conv2d_6 (Conv2D)            (None, 4, 4, 32)          4640      \n",
      "_________________________________________________________________\n",
      "max_pooling2d_6 (MaxPooling2 (None, 2, 2, 32)          0         \n",
      "_________________________________________________________________\n",
      "flatten_3 (Flatten)          (None, 128)               0         \n",
      "_________________________________________________________________\n",
      "dropout_3 (Dropout)          (None, 128)               0         \n",
      "_________________________________________________________________\n",
      "dense_3 (Dense)              (None, 3)                 387       \n",
      "=================================================================\n",
      "Total params: 5,187\n",
      "Trainable params: 5,187\n",
      "Non-trainable params: 0\n",
      "_________________________________________________________________\n"
     ]
    }
   ],
   "source": [
    "from keras import layers\n",
    "from keras import models\n",
    "\n",
    "model = models.Sequential()\n",
    "\n",
    "model.add(layers.Conv2D(16, (3, 3), padding='same', activation='relu', input_shape=(8, 8, 1)))\n",
    "model.add(layers.MaxPooling2D((2,2)))\n",
    "\n",
    "model.add(layers.Conv2D(32, (3, 3), padding='same', activation='relu'))\n",
    "model.add(layers.MaxPooling2D((2,2)))\n",
    "\n",
    "model.add(layers.Flatten())\n",
    "model.add(layers.Dropout(0.5))\n",
    "model.add(layers.Dense(len(class_labels), activation='softmax'))\n",
    "\n",
    "model.summary()"
   ]
  },
  {
   "cell_type": "code",
   "execution_count": 45,
   "metadata": {
    "colab": {},
    "colab_type": "code",
    "id": "nRr1L_4ogL6i"
   },
   "outputs": [],
   "source": [
    "model.compile(optimizer='rmsprop', loss='categorical_crossentropy', metrics=['accuracy'])"
   ]
  },
  {
   "cell_type": "code",
   "execution_count": 46,
   "metadata": {},
   "outputs": [
    {
     "data": {
      "image/svg+xml": [
       "<svg height=\"556pt\" viewBox=\"0.00 0.00 217.00 556.00\" width=\"217pt\" xmlns=\"http://www.w3.org/2000/svg\" xmlns:xlink=\"http://www.w3.org/1999/xlink\">\n",
       "<g class=\"graph\" id=\"graph0\" transform=\"scale(1 1) rotate(0) translate(4 552)\">\n",
       "<title>G</title>\n",
       "<polygon fill=\"white\" points=\"-4,4 -4,-552 213,-552 213,4 -4,4\" stroke=\"none\"/>\n",
       "<!-- 2492834197688 -->\n",
       "<g class=\"node\" id=\"node1\"><title>2492834197688</title>\n",
       "<polygon fill=\"none\" points=\"41,-438.5 41,-474.5 168,-474.5 168,-438.5 41,-438.5\" stroke=\"black\"/>\n",
       "<text font-family=\"Times New Roman,serif\" font-size=\"14.00\" text-anchor=\"middle\" x=\"104.5\" y=\"-452.8\">conv2d_5: Conv2D</text>\n",
       "</g>\n",
       "<!-- 2492793678648 -->\n",
       "<g class=\"node\" id=\"node2\"><title>2492793678648</title>\n",
       "<polygon fill=\"none\" points=\"0,-365.5 0,-401.5 209,-401.5 209,-365.5 0,-365.5\" stroke=\"black\"/>\n",
       "<text font-family=\"Times New Roman,serif\" font-size=\"14.00\" text-anchor=\"middle\" x=\"104.5\" y=\"-379.8\">max_pooling2d_5: MaxPooling2D</text>\n",
       "</g>\n",
       "<!-- 2492834197688&#45;&gt;2492793678648 -->\n",
       "<g class=\"edge\" id=\"edge2\"><title>2492834197688-&gt;2492793678648</title>\n",
       "<path d=\"M104.5,-438.313C104.5,-430.289 104.5,-420.547 104.5,-411.569\" fill=\"none\" stroke=\"black\"/>\n",
       "<polygon fill=\"black\" points=\"108,-411.529 104.5,-401.529 101,-411.529 108,-411.529\" stroke=\"black\"/>\n",
       "</g>\n",
       "<!-- 2492793677920 -->\n",
       "<g class=\"node\" id=\"node3\"><title>2492793677920</title>\n",
       "<polygon fill=\"none\" points=\"41,-292.5 41,-328.5 168,-328.5 168,-292.5 41,-292.5\" stroke=\"black\"/>\n",
       "<text font-family=\"Times New Roman,serif\" font-size=\"14.00\" text-anchor=\"middle\" x=\"104.5\" y=\"-306.8\">conv2d_6: Conv2D</text>\n",
       "</g>\n",
       "<!-- 2492793678648&#45;&gt;2492793677920 -->\n",
       "<g class=\"edge\" id=\"edge3\"><title>2492793678648-&gt;2492793677920</title>\n",
       "<path d=\"M104.5,-365.313C104.5,-357.289 104.5,-347.547 104.5,-338.569\" fill=\"none\" stroke=\"black\"/>\n",
       "<polygon fill=\"black\" points=\"108,-338.529 104.5,-328.529 101,-338.529 108,-338.529\" stroke=\"black\"/>\n",
       "</g>\n",
       "<!-- 2492793122712 -->\n",
       "<g class=\"node\" id=\"node4\"><title>2492793122712</title>\n",
       "<polygon fill=\"none\" points=\"0,-219.5 0,-255.5 209,-255.5 209,-219.5 0,-219.5\" stroke=\"black\"/>\n",
       "<text font-family=\"Times New Roman,serif\" font-size=\"14.00\" text-anchor=\"middle\" x=\"104.5\" y=\"-233.8\">max_pooling2d_6: MaxPooling2D</text>\n",
       "</g>\n",
       "<!-- 2492793677920&#45;&gt;2492793122712 -->\n",
       "<g class=\"edge\" id=\"edge4\"><title>2492793677920-&gt;2492793122712</title>\n",
       "<path d=\"M104.5,-292.313C104.5,-284.289 104.5,-274.547 104.5,-265.569\" fill=\"none\" stroke=\"black\"/>\n",
       "<polygon fill=\"black\" points=\"108,-265.529 104.5,-255.529 101,-265.529 108,-265.529\" stroke=\"black\"/>\n",
       "</g>\n",
       "<!-- 2492860376120 -->\n",
       "<g class=\"node\" id=\"node5\"><title>2492860376120</title>\n",
       "<polygon fill=\"none\" points=\"50,-146.5 50,-182.5 159,-182.5 159,-146.5 50,-146.5\" stroke=\"black\"/>\n",
       "<text font-family=\"Times New Roman,serif\" font-size=\"14.00\" text-anchor=\"middle\" x=\"104.5\" y=\"-160.8\">flatten_3: Flatten</text>\n",
       "</g>\n",
       "<!-- 2492793122712&#45;&gt;2492860376120 -->\n",
       "<g class=\"edge\" id=\"edge5\"><title>2492793122712-&gt;2492860376120</title>\n",
       "<path d=\"M104.5,-219.313C104.5,-211.289 104.5,-201.547 104.5,-192.569\" fill=\"none\" stroke=\"black\"/>\n",
       "<polygon fill=\"black\" points=\"108,-192.529 104.5,-182.529 101,-192.529 108,-192.529\" stroke=\"black\"/>\n",
       "</g>\n",
       "<!-- 2492822088672 -->\n",
       "<g class=\"node\" id=\"node6\"><title>2492822088672</title>\n",
       "<polygon fill=\"none\" points=\"39.5,-73.5 39.5,-109.5 169.5,-109.5 169.5,-73.5 39.5,-73.5\" stroke=\"black\"/>\n",
       "<text font-family=\"Times New Roman,serif\" font-size=\"14.00\" text-anchor=\"middle\" x=\"104.5\" y=\"-87.8\">dropout_3: Dropout</text>\n",
       "</g>\n",
       "<!-- 2492860376120&#45;&gt;2492822088672 -->\n",
       "<g class=\"edge\" id=\"edge6\"><title>2492860376120-&gt;2492822088672</title>\n",
       "<path d=\"M104.5,-146.313C104.5,-138.289 104.5,-128.547 104.5,-119.569\" fill=\"none\" stroke=\"black\"/>\n",
       "<polygon fill=\"black\" points=\"108,-119.529 104.5,-109.529 101,-119.529 108,-119.529\" stroke=\"black\"/>\n",
       "</g>\n",
       "<!-- 2492822085704 -->\n",
       "<g class=\"node\" id=\"node7\"><title>2492822085704</title>\n",
       "<polygon fill=\"none\" points=\"52.5,-0.5 52.5,-36.5 156.5,-36.5 156.5,-0.5 52.5,-0.5\" stroke=\"black\"/>\n",
       "<text font-family=\"Times New Roman,serif\" font-size=\"14.00\" text-anchor=\"middle\" x=\"104.5\" y=\"-14.8\">dense_3: Dense</text>\n",
       "</g>\n",
       "<!-- 2492822088672&#45;&gt;2492822085704 -->\n",
       "<g class=\"edge\" id=\"edge7\"><title>2492822088672-&gt;2492822085704</title>\n",
       "<path d=\"M104.5,-73.3129C104.5,-65.2895 104.5,-55.5475 104.5,-46.5691\" fill=\"none\" stroke=\"black\"/>\n",
       "<polygon fill=\"black\" points=\"108,-46.5288 104.5,-36.5288 101,-46.5289 108,-46.5288\" stroke=\"black\"/>\n",
       "</g>\n",
       "<!-- 2492790594808 -->\n",
       "<g class=\"node\" id=\"node8\"><title>2492790594808</title>\n",
       "<polygon fill=\"none\" points=\"52.5,-511.5 52.5,-547.5 156.5,-547.5 156.5,-511.5 52.5,-511.5\" stroke=\"black\"/>\n",
       "<text font-family=\"Times New Roman,serif\" font-size=\"14.00\" text-anchor=\"middle\" x=\"104.5\" y=\"-525.8\">2492790594808</text>\n",
       "</g>\n",
       "<!-- 2492790594808&#45;&gt;2492834197688 -->\n",
       "<g class=\"edge\" id=\"edge1\"><title>2492790594808-&gt;2492834197688</title>\n",
       "<path d=\"M104.5,-511.313C104.5,-503.289 104.5,-493.547 104.5,-484.569\" fill=\"none\" stroke=\"black\"/>\n",
       "<polygon fill=\"black\" points=\"108,-484.529 104.5,-474.529 101,-484.529 108,-484.529\" stroke=\"black\"/>\n",
       "</g>\n",
       "</g>\n",
       "</svg>"
      ],
      "text/plain": [
       "<IPython.core.display.SVG object>"
      ]
     },
     "execution_count": 46,
     "metadata": {},
     "output_type": "execute_result"
    }
   ],
   "source": [
    "from IPython.display import SVG\n",
    "from keras.utils.vis_utils import model_to_dot\n",
    "\n",
    "SVG(model_to_dot(model).create(prog='dot', format='svg'))"
   ]
  },
  {
   "cell_type": "markdown",
   "metadata": {
    "colab_type": "text",
    "id": "TfypWUJIlFkz"
   },
   "source": [
    "## Training CNN"
   ]
  },
  {
   "cell_type": "code",
   "execution_count": 47,
   "metadata": {
    "colab": {
     "base_uri": "https://localhost:8080/",
     "height": 931
    },
    "colab_type": "code",
    "id": "zsdmu-ggfvr1",
    "outputId": "77a52558-8ecc-4fc5-e0cb-2b86a75df4c6",
    "scrolled": false
   },
   "outputs": [
    {
     "name": "stdout",
     "output_type": "stream",
     "text": [
      "Train on 90 samples, validate on 45 samples\n",
      "Epoch 1/80\n",
      "90/90 [==============================] - 1s 7ms/step - loss: 1.0449 - acc: 0.4444 - val_loss: 1.0174 - val_acc: 0.5111\n",
      "Epoch 2/80\n",
      "90/90 [==============================] - 0s 364us/step - loss: 1.0780 - acc: 0.3778 - val_loss: 0.9935 - val_acc: 0.5333\n",
      "Epoch 3/80\n",
      "90/90 [==============================] - 0s 382us/step - loss: 0.9191 - acc: 0.6333 - val_loss: 0.9608 - val_acc: 0.6444\n",
      "Epoch 4/80\n",
      "90/90 [==============================] - 0s 325us/step - loss: 0.9337 - acc: 0.5222 - val_loss: 0.9408 - val_acc: 0.6000\n",
      "Epoch 5/80\n",
      "90/90 [==============================] - 0s 353us/step - loss: 0.8899 - acc: 0.6667 - val_loss: 0.9193 - val_acc: 0.6667\n",
      "Epoch 6/80\n",
      "90/90 [==============================] - 0s 292us/step - loss: 0.8697 - acc: 0.6556 - val_loss: 0.9048 - val_acc: 0.6222\n",
      "Epoch 7/80\n",
      "90/90 [==============================] - 0s 270us/step - loss: 0.8363 - acc: 0.7222 - val_loss: 0.8886 - val_acc: 0.6444\n",
      "Epoch 8/80\n",
      "90/90 [==============================] - 0s 435us/step - loss: 0.7587 - acc: 0.7889 - val_loss: 0.8708 - val_acc: 0.6222\n",
      "Epoch 9/80\n",
      "90/90 [==============================] - 0s 347us/step - loss: 0.8017 - acc: 0.6667 - val_loss: 0.8572 - val_acc: 0.6222\n",
      "Epoch 10/80\n",
      "90/90 [==============================] - 0s 391us/step - loss: 0.7667 - acc: 0.7000 - val_loss: 0.8427 - val_acc: 0.6222\n",
      "Epoch 11/80\n",
      "90/90 [==============================] - 0s 281us/step - loss: 0.7308 - acc: 0.7111 - val_loss: 0.8279 - val_acc: 0.6000\n",
      "Epoch 12/80\n",
      "90/90 [==============================] - 0s 313us/step - loss: 0.6837 - acc: 0.7111 - val_loss: 0.8054 - val_acc: 0.6667\n",
      "Epoch 13/80\n",
      "90/90 [==============================] - 0s 364us/step - loss: 0.6582 - acc: 0.7556 - val_loss: 0.7898 - val_acc: 0.6889\n",
      "Epoch 14/80\n",
      "90/90 [==============================] - 0s 325us/step - loss: 0.6778 - acc: 0.7333 - val_loss: 0.7747 - val_acc: 0.6667\n",
      "Epoch 15/80\n",
      "90/90 [==============================] - 0s 331us/step - loss: 0.6713 - acc: 0.8000 - val_loss: 0.7693 - val_acc: 0.6667\n",
      "Epoch 16/80\n",
      "90/90 [==============================] - 0s 364us/step - loss: 0.6728 - acc: 0.7222 - val_loss: 0.7517 - val_acc: 0.6889\n",
      "Epoch 17/80\n",
      "90/90 [==============================] - 0s 353us/step - loss: 0.5518 - acc: 0.8667 - val_loss: 0.7400 - val_acc: 0.6889\n",
      "Epoch 18/80\n",
      "90/90 [==============================] - 0s 339us/step - loss: 0.6399 - acc: 0.7778 - val_loss: 0.7252 - val_acc: 0.6889\n",
      "Epoch 19/80\n",
      "90/90 [==============================] - 0s 353us/step - loss: 0.5743 - acc: 0.8000 - val_loss: 0.7058 - val_acc: 0.7333\n",
      "Epoch 20/80\n",
      "90/90 [==============================] - 0s 347us/step - loss: 0.6912 - acc: 0.7444 - val_loss: 0.6996 - val_acc: 0.7111\n",
      "Epoch 21/80\n",
      "90/90 [==============================] - 0s 342us/step - loss: 0.5293 - acc: 0.8667 - val_loss: 0.6822 - val_acc: 0.7556\n",
      "Epoch 22/80\n",
      "90/90 [==============================] - 0s 358us/step - loss: 0.5652 - acc: 0.7667 - val_loss: 0.6657 - val_acc: 0.6889\n",
      "Epoch 23/80\n",
      "90/90 [==============================] - 0s 347us/step - loss: 0.5300 - acc: 0.8667 - val_loss: 0.6537 - val_acc: 0.7556\n",
      "Epoch 24/80\n",
      "90/90 [==============================] - 0s 264us/step - loss: 0.4934 - acc: 0.8778 - val_loss: 0.6436 - val_acc: 0.7556\n",
      "Epoch 25/80\n",
      "90/90 [==============================] - 0s 342us/step - loss: 0.5939 - acc: 0.7667 - val_loss: 0.6317 - val_acc: 0.6889\n",
      "Epoch 26/80\n",
      "90/90 [==============================] - 0s 391us/step - loss: 0.5049 - acc: 0.8111 - val_loss: 0.6321 - val_acc: 0.6889\n",
      "Epoch 27/80\n",
      "90/90 [==============================] - 0s 248us/step - loss: 0.4202 - acc: 0.9222 - val_loss: 0.6204 - val_acc: 0.7778\n",
      "Epoch 28/80\n",
      "90/90 [==============================] - 0s 198us/step - loss: 0.4841 - acc: 0.8333 - val_loss: 0.6076 - val_acc: 0.7556\n",
      "Epoch 29/80\n",
      "90/90 [==============================] - 0s 182us/step - loss: 0.4314 - acc: 0.8778 - val_loss: 0.5961 - val_acc: 0.7556\n",
      "Epoch 30/80\n",
      "90/90 [==============================] - 0s 176us/step - loss: 0.4320 - acc: 0.8778 - val_loss: 0.5840 - val_acc: 0.7556\n",
      "Epoch 31/80\n",
      "90/90 [==============================] - 0s 193us/step - loss: 0.4225 - acc: 0.9000 - val_loss: 0.5727 - val_acc: 0.7556\n",
      "Epoch 32/80\n",
      "90/90 [==============================] - 0s 182us/step - loss: 0.3865 - acc: 0.8889 - val_loss: 0.5794 - val_acc: 0.7556\n",
      "Epoch 33/80\n",
      "90/90 [==============================] - 0s 171us/step - loss: 0.4525 - acc: 0.8667 - val_loss: 0.5524 - val_acc: 0.7333\n",
      "Epoch 34/80\n",
      "90/90 [==============================] - 0s 182us/step - loss: 0.4632 - acc: 0.8222 - val_loss: 0.5406 - val_acc: 0.8000\n",
      "Epoch 35/80\n",
      "90/90 [==============================] - 0s 176us/step - loss: 0.4433 - acc: 0.8889 - val_loss: 0.5451 - val_acc: 0.7778\n",
      "Epoch 36/80\n",
      "90/90 [==============================] - 0s 187us/step - loss: 0.3775 - acc: 0.8889 - val_loss: 0.5333 - val_acc: 0.7778\n",
      "Epoch 37/80\n",
      "90/90 [==============================] - 0s 204us/step - loss: 0.4204 - acc: 0.8667 - val_loss: 0.5246 - val_acc: 0.7778\n",
      "Epoch 38/80\n",
      "90/90 [==============================] - 0s 176us/step - loss: 0.3649 - acc: 0.8778 - val_loss: 0.5077 - val_acc: 0.8000\n",
      "Epoch 39/80\n",
      "90/90 [==============================] - 0s 176us/step - loss: 0.3437 - acc: 0.9000 - val_loss: 0.4920 - val_acc: 0.8222\n",
      "Epoch 40/80\n",
      "90/90 [==============================] - 0s 178us/step - loss: 0.2815 - acc: 0.9444 - val_loss: 0.4843 - val_acc: 0.8222\n",
      "Epoch 41/80\n",
      "90/90 [==============================] - 0s 179us/step - loss: 0.3271 - acc: 0.9222 - val_loss: 0.4773 - val_acc: 0.8222\n",
      "Epoch 42/80\n",
      "90/90 [==============================] - 0s 172us/step - loss: 0.3468 - acc: 0.9222 - val_loss: 0.4718 - val_acc: 0.8222\n",
      "Epoch 43/80\n",
      "90/90 [==============================] - 0s 165us/step - loss: 0.2980 - acc: 0.9222 - val_loss: 0.4712 - val_acc: 0.8222\n",
      "Epoch 44/80\n",
      "90/90 [==============================] - 0s 187us/step - loss: 0.3052 - acc: 0.9000 - val_loss: 0.4499 - val_acc: 0.8889\n",
      "Epoch 45/80\n",
      "90/90 [==============================] - 0s 198us/step - loss: 0.3241 - acc: 0.9000 - val_loss: 0.4411 - val_acc: 0.8889\n",
      "Epoch 46/80\n",
      "90/90 [==============================] - 0s 198us/step - loss: 0.2860 - acc: 0.9556 - val_loss: 0.4524 - val_acc: 0.8667\n",
      "Epoch 47/80\n",
      "90/90 [==============================] - 0s 193us/step - loss: 0.2675 - acc: 0.9222 - val_loss: 0.4350 - val_acc: 0.8444\n",
      "Epoch 48/80\n",
      "90/90 [==============================] - 0s 187us/step - loss: 0.3083 - acc: 0.9333 - val_loss: 0.4346 - val_acc: 0.8444\n",
      "Epoch 49/80\n",
      "90/90 [==============================] - 0s 182us/step - loss: 0.3035 - acc: 0.9333 - val_loss: 0.4467 - val_acc: 0.8000\n",
      "Epoch 50/80\n",
      "90/90 [==============================] - 0s 182us/step - loss: 0.2331 - acc: 0.9778 - val_loss: 0.4170 - val_acc: 0.8444\n",
      "Epoch 51/80\n",
      "90/90 [==============================] - 0s 198us/step - loss: 0.2387 - acc: 0.9333 - val_loss: 0.4315 - val_acc: 0.8667\n",
      "Epoch 52/80\n",
      "90/90 [==============================] - 0s 182us/step - loss: 0.2649 - acc: 0.9667 - val_loss: 0.4194 - val_acc: 0.8000\n",
      "Epoch 53/80\n",
      "90/90 [==============================] - 0s 182us/step - loss: 0.2248 - acc: 0.9556 - val_loss: 0.4062 - val_acc: 0.8444\n",
      "Epoch 54/80\n",
      "90/90 [==============================] - 0s 165us/step - loss: 0.2287 - acc: 0.9333 - val_loss: 0.3877 - val_acc: 0.8889\n",
      "Epoch 55/80\n",
      "90/90 [==============================] - 0s 176us/step - loss: 0.2176 - acc: 0.9333 - val_loss: 0.3779 - val_acc: 0.8889\n",
      "Epoch 56/80\n",
      "90/90 [==============================] - 0s 187us/step - loss: 0.2550 - acc: 0.9222 - val_loss: 0.4329 - val_acc: 0.8000\n",
      "Epoch 57/80\n",
      "90/90 [==============================] - 0s 186us/step - loss: 0.2174 - acc: 0.9556 - val_loss: 0.3700 - val_acc: 0.8889\n",
      "Epoch 58/80\n",
      "90/90 [==============================] - 0s 187us/step - loss: 0.2790 - acc: 0.9222 - val_loss: 0.3611 - val_acc: 0.8889\n",
      "Epoch 59/80\n",
      "90/90 [==============================] - 0s 182us/step - loss: 0.2214 - acc: 0.9333 - val_loss: 0.3607 - val_acc: 0.9111\n",
      "Epoch 60/80\n",
      "90/90 [==============================] - 0s 187us/step - loss: 0.1609 - acc: 0.9778 - val_loss: 0.3479 - val_acc: 0.8889\n",
      "Epoch 61/80\n",
      "90/90 [==============================] - 0s 187us/step - loss: 0.1715 - acc: 0.9889 - val_loss: 0.3580 - val_acc: 0.8889\n",
      "Epoch 62/80\n"
     ]
    },
    {
     "name": "stdout",
     "output_type": "stream",
     "text": [
      "90/90 [==============================] - 0s 198us/step - loss: 0.2026 - acc: 0.9333 - val_loss: 0.3483 - val_acc: 0.8889\n",
      "Epoch 63/80\n",
      "90/90 [==============================] - 0s 176us/step - loss: 0.1865 - acc: 0.9778 - val_loss: 0.3319 - val_acc: 0.9556\n",
      "Epoch 64/80\n",
      "90/90 [==============================] - 0s 182us/step - loss: 0.1763 - acc: 0.9556 - val_loss: 0.3303 - val_acc: 0.9333\n",
      "Epoch 65/80\n",
      "90/90 [==============================] - 0s 187us/step - loss: 0.1580 - acc: 1.0000 - val_loss: 0.3235 - val_acc: 0.9333\n",
      "Epoch 66/80\n",
      "90/90 [==============================] - 0s 176us/step - loss: 0.1840 - acc: 0.9667 - val_loss: 0.3228 - val_acc: 0.9333\n",
      "Epoch 67/80\n",
      "90/90 [==============================] - 0s 176us/step - loss: 0.1813 - acc: 0.9444 - val_loss: 0.3377 - val_acc: 0.9111\n",
      "Epoch 68/80\n",
      "90/90 [==============================] - 0s 226us/step - loss: 0.1543 - acc: 0.9667 - val_loss: 0.3293 - val_acc: 0.8889\n",
      "Epoch 69/80\n",
      "90/90 [==============================] - 0s 292us/step - loss: 0.1522 - acc: 0.9667 - val_loss: 0.3156 - val_acc: 0.9333\n",
      "Epoch 70/80\n",
      "90/90 [==============================] - 0s 314us/step - loss: 0.1482 - acc: 0.9444 - val_loss: 0.3188 - val_acc: 0.9333\n",
      "Epoch 71/80\n",
      "90/90 [==============================] - 0s 176us/step - loss: 0.1365 - acc: 0.9667 - val_loss: 0.3136 - val_acc: 0.9556\n",
      "Epoch 72/80\n",
      "90/90 [==============================] - 0s 215us/step - loss: 0.1222 - acc: 0.9778 - val_loss: 0.3297 - val_acc: 0.8889\n",
      "Epoch 73/80\n",
      "90/90 [==============================] - 0s 182us/step - loss: 0.1460 - acc: 0.9667 - val_loss: 0.3326 - val_acc: 0.8889\n",
      "Epoch 74/80\n",
      "90/90 [==============================] - 0s 176us/step - loss: 0.1428 - acc: 0.9667 - val_loss: 0.3017 - val_acc: 0.9333\n",
      "Epoch 75/80\n",
      "90/90 [==============================] - 0s 243us/step - loss: 0.0941 - acc: 0.9889 - val_loss: 0.3112 - val_acc: 0.9111\n",
      "Epoch 76/80\n",
      "90/90 [==============================] - 0s 176us/step - loss: 0.1247 - acc: 0.9889 - val_loss: 0.2973 - val_acc: 0.9333\n",
      "Epoch 77/80\n",
      "90/90 [==============================] - 0s 176us/step - loss: 0.1285 - acc: 0.9889 - val_loss: 0.2837 - val_acc: 0.9333\n",
      "Epoch 78/80\n",
      "90/90 [==============================] - 0s 160us/step - loss: 0.0738 - acc: 1.0000 - val_loss: 0.2852 - val_acc: 0.9333\n",
      "Epoch 79/80\n",
      "90/90 [==============================] - 0s 193us/step - loss: 0.0951 - acc: 0.9889 - val_loss: 0.3078 - val_acc: 0.9111\n",
      "Epoch 80/80\n",
      "90/90 [==============================] - 0s 171us/step - loss: 0.1250 - acc: 0.9556 - val_loss: 0.2990 - val_acc: 0.9333\n"
     ]
    }
   ],
   "source": [
    "EPOCHS = 80\n",
    "history = model.fit(train_data, train_labels, epochs=EPOCHS, validation_data=(test_data, test_labels))"
   ]
  },
  {
   "cell_type": "code",
   "execution_count": 48,
   "metadata": {},
   "outputs": [
    {
     "name": "stdout",
     "output_type": "stream",
     "text": [
      "dict_keys(['val_loss', 'val_acc', 'loss', 'acc'])\n"
     ]
    },
    {
     "data": {
      "image/png": "[encoded data removed]",
      "text/plain": [
       "<matplotlib.figure.Figure at 0x24469952e80>"
      ]
     },
     "metadata": {},
     "output_type": "display_data"
    },
    {
     "data": {
      "image/png": "[encoded data removed]",
      "text/plain": [
       "<matplotlib.figure.Figure at 0x24467ace278>"
      ]
     },
     "metadata": {},
     "output_type": "display_data"
    }
   ],
   "source": [
    "print(history.history.keys())\n",
    "\n",
    "# Plot training & validation accuracy values\n",
    "plt.plot(history.history['acc'])\n",
    "plt.plot(history.history['val_acc'])\n",
    "\n",
    "plt.title('Model accuracy')\n",
    "plt.ylabel('Accuracy')\n",
    "plt.xlabel('Epoch')\n",
    "plt.legend(['Train', 'Test'], loc='upper left')\n",
    "plt.show()\n",
    "\n",
    "# Plot training & validation loss values\n",
    "plt.plot(history.history['loss'])\n",
    "plt.plot(history.history['val_loss'])\n",
    "plt.title('Model loss')\n",
    "plt.ylabel('Loss')\n",
    "plt.xlabel('Epoch')\n",
    "plt.legend(['Train', 'Test'], loc='upper left')\n",
    "plt.show()"
   ]
  },
  {
   "cell_type": "markdown",
   "metadata": {},
   "source": [
    "## Save the model"
   ]
  },
  {
   "cell_type": "code",
   "execution_count": 49,
   "metadata": {},
   "outputs": [],
   "source": [
    "import datetime\n",
    "\n",
    "dt = datetime.datetime.today().strftime('%Y%m%d%H%M%S')\n",
    "filename = 'cnn_for_rock_paper_scissors{}.h5'.format(dt)\n",
    "model.save(filename)"
   ]
  },
  {
   "cell_type": "markdown",
   "metadata": {},
   "source": [
    "## Load the model"
   ]
  },
  {
   "cell_type": "code",
   "execution_count": 50,
   "metadata": {},
   "outputs": [],
   "source": [
    "del model\n",
    "model = models.load_model(filename)"
   ]
  },
  {
   "cell_type": "markdown",
   "metadata": {
    "colab_type": "text",
    "id": "j6con4C3lKC1"
   },
   "source": [
    "## Confirmation"
   ]
  },
  {
   "cell_type": "code",
   "execution_count": 51,
   "metadata": {
    "colab": {
     "base_uri": "https://localhost:8080/",
     "height": 34
    },
    "colab_type": "code",
    "id": "4oZYLLij69wU",
    "outputId": "b37a4b8a-2c80-411f-d8a9-5df1c6dbfe22"
   },
   "outputs": [
    {
     "data": {
      "text/plain": [
       "(90, 8, 8, 1)"
      ]
     },
     "execution_count": 51,
     "metadata": {},
     "output_type": "execute_result"
    }
   ],
   "source": [
    "import numpy as np\n",
    "import matplotlib.pyplot as plt\n",
    "train_data.shape"
   ]
  },
  {
   "cell_type": "code",
   "execution_count": 52,
   "metadata": {
    "colab": {
     "base_uri": "https://localhost:8080/",
     "height": 193
    },
    "colab_type": "code",
    "id": "zSxXE9FgRBdJ",
    "outputId": "f3a53efe-e99f-4572-f9b4-1bf3c39c77ec"
   },
   "outputs": [],
   "source": [
    "layer_outputs = [layer.output for layer in model.layers]\n",
    "#layer_outputs"
   ]
  },
  {
   "cell_type": "code",
   "execution_count": 53,
   "metadata": {
    "colab": {
     "base_uri": "https://localhost:8080/",
     "height": 34
    },
    "colab_type": "code",
    "id": "dcw7yHKrRkPD",
    "outputId": "a3ed5441-ae48-4635-bf07-ac5060030608"
   },
   "outputs": [],
   "source": [
    "activation_model = models.Model(inputs=model.input, outputs=layer_outputs)\n",
    "activations = activation_model.predict(test_data)\n",
    "#activations[0][0,:,:,0].shape"
   ]
  },
  {
   "cell_type": "code",
   "execution_count": 54,
   "metadata": {},
   "outputs": [
    {
     "data": {
      "text/plain": [
       "['paper', 'rock', 'scissors']"
      ]
     },
     "execution_count": 54,
     "metadata": {},
     "output_type": "execute_result"
    }
   ],
   "source": [
    "class_labels"
   ]
  },
  {
   "cell_type": "code",
   "execution_count": 55,
   "metadata": {
    "colab": {
     "base_uri": "https://localhost:8080/",
     "height": 193
    },
    "colab_type": "code",
    "id": "ccSNAwGKhRn9",
    "outputId": "0ad22e12-713b-4b07-e17b-45d39ff1b80b"
   },
   "outputs": [
    {
     "data": {
      "text/plain": [
       "array([[17,  0, 81],\n",
       "       [ 0,  2, 97],\n",
       "       [ 0,  2, 97],\n",
       "       [99,  0,  0],\n",
       "       [82, 12,  4],\n",
       "       [96,  1,  1],\n",
       "       [96,  3,  0],\n",
       "       [70, 26,  3],\n",
       "       [97,  0,  1],\n",
       "       [ 3, 31, 65]])"
      ]
     },
     "execution_count": 55,
     "metadata": {},
     "output_type": "execute_result"
    }
   ],
   "source": [
    "(activations[-1][:10]*100).astype(int)"
   ]
  },
  {
   "cell_type": "code",
   "execution_count": 56,
   "metadata": {
    "colab": {
     "base_uri": "https://localhost:8080/",
     "height": 193
    },
    "colab_type": "code",
    "id": "RoE0nxtuiGIN",
    "outputId": "154437a8-ab72-46f4-f42c-3e6464af47d0"
   },
   "outputs": [
    {
     "data": {
      "text/plain": [
       "array([[0, 0, 1],\n",
       "       [0, 0, 1],\n",
       "       [0, 1, 0],\n",
       "       [1, 0, 0],\n",
       "       [1, 0, 0],\n",
       "       [1, 0, 0],\n",
       "       [1, 0, 0],\n",
       "       [1, 0, 0],\n",
       "       [1, 0, 0],\n",
       "       [0, 0, 1]])"
      ]
     },
     "execution_count": 56,
     "metadata": {},
     "output_type": "execute_result"
    }
   ],
   "source": [
    "test_labels[:10].astype(int)"
   ]
  },
  {
   "cell_type": "code",
   "execution_count": 57,
   "metadata": {},
   "outputs": [],
   "source": [
    "def plot_layer(activations, sample, layer):\n",
    "    a = activations[layer].shape\n",
    "    rows = int(a[3]/4)\n",
    "    fig, axarr = plt.subplots(rows, 4, figsize=[20,15])\n",
    "    for i in range(a[3]):\n",
    "        row = int(i/4)\n",
    "        x, y = row, i-4*row\n",
    "        axarr[x, y].imshow(activations[layer][sample, :, :, i])\n",
    "        axarr[x, y].set_xticks([])\n",
    "        axarr[x, y].set_yticks([])"
   ]
  },
  {
   "cell_type": "code",
   "execution_count": 58,
   "metadata": {},
   "outputs": [
    {
     "data": {
      "text/plain": [
       "'paper'"
      ]
     },
     "execution_count": 58,
     "metadata": {},
     "output_type": "execute_result"
    },
    {
     "data": {
      "image/png": "[encoded data removed]",
      "text/plain": [
       "<matplotlib.figure.Figure at 0x244699523c8>"
      ]
     },
     "metadata": {},
     "output_type": "display_data"
    }
   ],
   "source": [
    "image_number = 10\n",
    "\n",
    "plt.imshow(test_data[image_number,:,:,0])\n",
    "class_labels[np.argmax(test_labels[image_number])]"
   ]
  },
  {
   "cell_type": "code",
   "execution_count": 59,
   "metadata": {},
   "outputs": [
    {
     "data": {
      "image/png": "[encoded data removed]",
      "text/plain": [
       "<matplotlib.figure.Figure at 0x24467d8f048>"
      ]
     },
     "metadata": {},
     "output_type": "display_data"
    }
   ],
   "source": [
    "plot_layer(activations, image_number, 1)"
   ]
  },
  {
   "cell_type": "code",
   "execution_count": 60,
   "metadata": {},
   "outputs": [
    {
     "data": {
      "image/png": "[encoded data removed]",
      "text/plain": [
       "<matplotlib.figure.Figure at 0x24468466f60>"
      ]
     },
     "metadata": {},
     "output_type": "display_data"
    }
   ],
   "source": [
    "plot_layer(activations, image_number, 2)"
   ]
  },
  {
   "cell_type": "code",
   "execution_count": null,
   "metadata": {},
   "outputs": [],
   "source": []
  }
 ],
 "metadata": {
  "colab": {
   "collapsed_sections": [],
   "name": "CNN for AED",
   "provenance": [],
   "version": "0.3.2"
  },
  "kernelspec": {
   "display_name": "Python 3",
   "language": "python",
   "name": "python3"
  },
  "language_info": {
   "codemirror_mode": {
    "name": "ipython",
    "version": 3
   },
   "file_extension": ".py",
   "mimetype": "text/x-python",
   "name": "python",
   "nbconvert_exporter": "python",
   "pygments_lexer": "ipython3",
   "version": "3.6.4"
  }
 },
 "nbformat": 4,
 "nbformat_minor": 1
}
