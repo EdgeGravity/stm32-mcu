{
 "cells": [
  {
   "cell_type": "markdown",
   "metadata": {
    "colab_type": "text",
    "id": "0X16cagQE-Y-"
   },
   "source": [
    "# Rock-paper-scissors with Keras/TensorFlow (DCT Type-II / DNN)\n",
    "\n",
    "Date: January 9, 2019\n",
    "\n",
    "Classification:\n",
    "- rock\n",
    "- paper\n",
    "- scissors"
   ]
  },
  {
   "cell_type": "markdown",
   "metadata": {
    "colab_type": "text",
    "id": "WwQ-dEltkl5Q"
   },
   "source": [
    "## Preparing data set for DNN"
   ]
  },
  {
   "cell_type": "code",
   "execution_count": 52,
   "metadata": {
    "colab": {
     "base_uri": "https://localhost:8080/",
     "height": 34
    },
    "colab_type": "code",
    "id": "VEJyQsGpV3ug",
    "outputId": "3929aa39-3383-4791-e065-3622e6781181"
   },
   "outputs": [],
   "source": [
    "DATA_FOLDER = '../thermography/data/'\n",
    "\n",
    "FILES = 45\n",
    "TRAINING_FILES = 30 \n",
    "TEST_FILES = FILES - TRAINING_FILES"
   ]
  },
  {
   "cell_type": "code",
   "execution_count": 53,
   "metadata": {
    "colab": {},
    "colab_type": "code",
    "id": "JTNdoPBFWGky"
   },
   "outputs": [],
   "source": [
    "%matplotlib inline\n",
    "\n",
    "import matplotlib.pyplot as plt\n",
    "import numpy as np\n",
    "import time\n",
    "import random\n",
    "import os\n",
    "import sklearn.preprocessing as pp\n",
    "from scipy.fftpack import dct, idct"
   ]
  },
  {
   "cell_type": "code",
   "execution_count": 54,
   "metadata": {},
   "outputs": [
    {
     "name": "stdout",
     "output_type": "stream",
     "text": [
      "0: paper\n",
      "1: rock\n",
      "2: scissors\n"
     ]
    }
   ],
   "source": [
    "import glob\n",
    "\n",
    "data_files = glob.glob(DATA_FOLDER+'*.csv')\n",
    "class_labels = []\n",
    "\n",
    "for file in data_files:\n",
    "    label = file.split('-')[0].replace('\\\\', '/').split('/')[-1]\n",
    "    if label not in class_labels:\n",
    "        class_labels.append(label)\n",
    "\n",
    "data_set = {}\n",
    "\n",
    "class_number = 0\n",
    "\n",
    "for label in class_labels:\n",
    "    files = glob.glob(DATA_FOLDER+'{}-*.csv'.format(label))\n",
    "    random.shuffle(files)\n",
    "    data_set[label] = (files[:TRAINING_FILES], files[TRAINING_FILES:FILES], class_number)\n",
    "    class_number += 1\n",
    "\n",
    "training_set = []\n",
    "test_set = []\n",
    "\n",
    "for k, v in data_set.items():\n",
    "    files = v[0]\n",
    "    class_number = v[2]\n",
    "    for file in files:\n",
    "        with open(file) as f:\n",
    "            data = np.array(f.read().split(',')).astype(float)\n",
    "            training_set.append((data, class_number))\n",
    "    files = v[1]\n",
    "    for file in files:\n",
    "        with open(file) as f:\n",
    "            data = np.array(f.read().split(',')).astype(float)\n",
    "            test_set.append((data, class_number))\n",
    "random.shuffle(training_set)\n",
    "random.shuffle(test_set)\n",
    "\n",
    "class_labels = [None for _ in range(len(data_set))]\n",
    "\n",
    "# Class number and class labels\n",
    "for k,v in data_set.items():\n",
    "    print('{}: {}'.format(v[2],k))\n",
    "    class_labels[v[2]] = k\n",
    "    \n",
    "import yaml\n",
    "with open(DATA_FOLDER+'class_labels.yaml', 'w') as f:\n",
    "    yaml.dump(class_labels, f)"
   ]
  },
  {
   "cell_type": "code",
   "execution_count": 55,
   "metadata": {
    "colab": {},
    "colab_type": "code",
    "id": "28tIKkNyW3cO"
   },
   "outputs": [
    {
     "data": {
      "text/plain": [
       "(array([ 3.35890638e-02,  5.42458535e-01, -3.81855543e+00, -4.33574610e-01,\n",
       "         5.63543965e-01, -4.08725259e-02,  3.66250799e+00, -4.74748809e-01,\n",
       "        -1.74139046e+00,  3.43014454e-01,  1.51101483e-01,  2.08296271e-01,\n",
       "        -1.20096494e+00, -7.11784301e-01,  4.23983556e-01,  9.46336610e-01,\n",
       "         1.73671333e-01, -1.20755766e-01,  4.05306124e-02,  4.84261299e-01,\n",
       "         2.32335603e-01,  1.46947676e-01, -1.77545726e-02, -2.09835300e-01,\n",
       "        -7.00334028e-02,  1.65713527e-01,  1.92415674e-01, -4.45207036e-02,\n",
       "         1.02200287e-03,  1.73319536e-01,  1.43241928e-01, -2.48754885e-02,\n",
       "        -2.09709409e-01, -2.16677095e-02,  3.92018686e-01,  1.20733622e-01]),\n",
       " array([0., 0., 1.], dtype=float32))"
      ]
     },
     "execution_count": 55,
     "metadata": {},
     "output_type": "execute_result"
    },
    {
     "data": {
      "image/png": "[encoded data removed]",
      "text/plain": [
       "<matplotlib.figure.Figure at 0x207659cdfd0>"
      ]
     },
     "metadata": {},
     "output_type": "display_data"
    }
   ],
   "source": [
    "CUTOFF=6\n",
    "train_data, train_labels = [], []\n",
    "test_data, test_labels = [], []\n",
    "for img, label in training_set:\n",
    "    img = img.reshape(8,8)\n",
    "    img = dct(dct(img, norm='ortho').T, norm='ortho').T\n",
    "    img[0,0] = 0\n",
    "    img = img[:CUTOFF,:CUTOFF].flatten()\n",
    "    img = pp.scale(img)    \n",
    "    train_data.append(img)\n",
    "    train_labels.append(label)\n",
    "for img, label in test_set:\n",
    "    img = img.reshape(8,8)\n",
    "    img = dct(dct(img, norm='ortho').T, norm='ortho').T\n",
    "    img[0,0] = 0\n",
    "    img = img[:CUTOFF,:CUTOFF].flatten()\n",
    "    img = pp.scale(img)\n",
    "    test_data.append(img)\n",
    "    test_labels.append(label)\n",
    "train_data = np.array(train_data)\n",
    "train_labels = np.array(train_labels, dtype='uint8')\n",
    "test_data = np.array(test_data)\n",
    "test_lables = np.array(test_labels, dtype='uint8')\n",
    "\n",
    "from keras.utils import to_categorical\n",
    "\n",
    "train_labels=to_categorical(train_labels)\n",
    "test_labels=to_categorical(test_labels)\n",
    "\n",
    "plt.imshow(train_data[12].reshape((CUTOFF,CUTOFF)), cmap='seismic')\n",
    "train_data[12], train_labels[12]"
   ]
  },
  {
   "cell_type": "markdown",
   "metadata": {
    "colab_type": "text",
    "id": "VfUmgxxVk6uM"
   },
   "source": [
    "### DNN model"
   ]
  },
  {
   "cell_type": "code",
   "execution_count": 56,
   "metadata": {
    "colab": {
     "base_uri": "https://localhost:8080/",
     "height": 509
    },
    "colab_type": "code",
    "id": "B2Xg6tGLdMKP",
    "outputId": "ae3daa32-9dbf-4d8b-9a11-7f596dd2e4a6"
   },
   "outputs": [
    {
     "name": "stdout",
     "output_type": "stream",
     "text": [
      "_________________________________________________________________\n",
      "Layer (type)                 Output Shape              Param #   \n",
      "=================================================================\n",
      "dense_10 (Dense)             (None, 54)                1998      \n",
      "_________________________________________________________________\n",
      "dropout_7 (Dropout)          (None, 54)                0         \n",
      "_________________________________________________________________\n",
      "dense_11 (Dense)             (None, 54)                2970      \n",
      "_________________________________________________________________\n",
      "dropout_8 (Dropout)          (None, 54)                0         \n",
      "_________________________________________________________________\n",
      "dense_12 (Dense)             (None, 3)                 165       \n",
      "=================================================================\n",
      "Total params: 5,133\n",
      "Trainable params: 5,133\n",
      "Non-trainable params: 0\n",
      "_________________________________________________________________\n"
     ]
    }
   ],
   "source": [
    "from keras import layers\n",
    "from keras import models\n",
    "\n",
    "model = models.Sequential()\n",
    "\n",
    "model.add(layers.Dense(int(CUTOFF**2*1.5), activation='relu', input_shape=(CUTOFF**2,)))\n",
    "model.add(layers.Dropout(0.5))\n",
    "model.add(layers.Dense(int(CUTOFF**2*1.5), activation='relu'))\n",
    "model.add(layers.Dropout(0.5))\n",
    "model.add(layers.Dense(len(class_labels), activation='softmax'))\n",
    "\n",
    "model.summary()"
   ]
  },
  {
   "cell_type": "code",
   "execution_count": 57,
   "metadata": {
    "colab": {},
    "colab_type": "code",
    "id": "nRr1L_4ogL6i"
   },
   "outputs": [],
   "source": [
    "model.compile(optimizer='rmsprop', loss='categorical_crossentropy', metrics=['accuracy'])"
   ]
  },
  {
   "cell_type": "code",
   "execution_count": 58,
   "metadata": {},
   "outputs": [
    {
     "data": {
      "image/svg+xml": [
       "<svg height=\"410pt\" viewBox=\"0.00 0.00 138.00 410.00\" width=\"138pt\" xmlns=\"http://www.w3.org/2000/svg\" xmlns:xlink=\"http://www.w3.org/1999/xlink\">\n",
       "<g class=\"graph\" id=\"graph0\" transform=\"scale(1 1) rotate(0) translate(4 406)\">\n",
       "<title>G</title>\n",
       "<polygon fill=\"white\" points=\"-4,4 -4,-406 134,-406 134,4 -4,4\" stroke=\"none\"/>\n",
       "<!-- 2230868463344 -->\n",
       "<g class=\"node\" id=\"node1\"><title>2230868463344</title>\n",
       "<polygon fill=\"none\" points=\"9.5,-292.5 9.5,-328.5 120.5,-328.5 120.5,-292.5 9.5,-292.5\" stroke=\"black\"/>\n",
       "<text font-family=\"Times New Roman,serif\" font-size=\"14.00\" text-anchor=\"middle\" x=\"65\" y=\"-306.8\">dense_10: Dense</text>\n",
       "</g>\n",
       "<!-- 2230868463456 -->\n",
       "<g class=\"node\" id=\"node2\"><title>2230868463456</title>\n",
       "<polygon fill=\"none\" points=\"0,-219.5 0,-255.5 130,-255.5 130,-219.5 0,-219.5\" stroke=\"black\"/>\n",
       "<text font-family=\"Times New Roman,serif\" font-size=\"14.00\" text-anchor=\"middle\" x=\"65\" y=\"-233.8\">dropout_7: Dropout</text>\n",
       "</g>\n",
       "<!-- 2230868463344&#45;&gt;2230868463456 -->\n",
       "<g class=\"edge\" id=\"edge2\"><title>2230868463344-&gt;2230868463456</title>\n",
       "<path d=\"M65,-292.313C65,-284.289 65,-274.547 65,-265.569\" fill=\"none\" stroke=\"black\"/>\n",
       "<polygon fill=\"black\" points=\"68.5001,-265.529 65,-255.529 61.5001,-265.529 68.5001,-265.529\" stroke=\"black\"/>\n",
       "</g>\n",
       "<!-- 2230860558856 -->\n",
       "<g class=\"node\" id=\"node3\"><title>2230860558856</title>\n",
       "<polygon fill=\"none\" points=\"9.5,-146.5 9.5,-182.5 120.5,-182.5 120.5,-146.5 9.5,-146.5\" stroke=\"black\"/>\n",
       "<text font-family=\"Times New Roman,serif\" font-size=\"14.00\" text-anchor=\"middle\" x=\"65\" y=\"-160.8\">dense_11: Dense</text>\n",
       "</g>\n",
       "<!-- 2230868463456&#45;&gt;2230860558856 -->\n",
       "<g class=\"edge\" id=\"edge3\"><title>2230868463456-&gt;2230860558856</title>\n",
       "<path d=\"M65,-219.313C65,-211.289 65,-201.547 65,-192.569\" fill=\"none\" stroke=\"black\"/>\n",
       "<polygon fill=\"black\" points=\"68.5001,-192.529 65,-182.529 61.5001,-192.529 68.5001,-192.529\" stroke=\"black\"/>\n",
       "</g>\n",
       "<!-- 2230860558632 -->\n",
       "<g class=\"node\" id=\"node4\"><title>2230860558632</title>\n",
       "<polygon fill=\"none\" points=\"0,-73.5 0,-109.5 130,-109.5 130,-73.5 0,-73.5\" stroke=\"black\"/>\n",
       "<text font-family=\"Times New Roman,serif\" font-size=\"14.00\" text-anchor=\"middle\" x=\"65\" y=\"-87.8\">dropout_8: Dropout</text>\n",
       "</g>\n",
       "<!-- 2230860558856&#45;&gt;2230860558632 -->\n",
       "<g class=\"edge\" id=\"edge4\"><title>2230860558856-&gt;2230860558632</title>\n",
       "<path d=\"M65,-146.313C65,-138.289 65,-128.547 65,-119.569\" fill=\"none\" stroke=\"black\"/>\n",
       "<polygon fill=\"black\" points=\"68.5001,-119.529 65,-109.529 61.5001,-119.529 68.5001,-119.529\" stroke=\"black\"/>\n",
       "</g>\n",
       "<!-- 2230860559304 -->\n",
       "<g class=\"node\" id=\"node5\"><title>2230860559304</title>\n",
       "<polygon fill=\"none\" points=\"9.5,-0.5 9.5,-36.5 120.5,-36.5 120.5,-0.5 9.5,-0.5\" stroke=\"black\"/>\n",
       "<text font-family=\"Times New Roman,serif\" font-size=\"14.00\" text-anchor=\"middle\" x=\"65\" y=\"-14.8\">dense_12: Dense</text>\n",
       "</g>\n",
       "<!-- 2230860558632&#45;&gt;2230860559304 -->\n",
       "<g class=\"edge\" id=\"edge5\"><title>2230860558632-&gt;2230860559304</title>\n",
       "<path d=\"M65,-73.3129C65,-65.2895 65,-55.5475 65,-46.5691\" fill=\"none\" stroke=\"black\"/>\n",
       "<polygon fill=\"black\" points=\"68.5001,-46.5288 65,-36.5288 61.5001,-46.5289 68.5001,-46.5288\" stroke=\"black\"/>\n",
       "</g>\n",
       "<!-- 2230860562160 -->\n",
       "<g class=\"node\" id=\"node6\"><title>2230860562160</title>\n",
       "<polygon fill=\"none\" points=\"13,-365.5 13,-401.5 117,-401.5 117,-365.5 13,-365.5\" stroke=\"black\"/>\n",
       "<text font-family=\"Times New Roman,serif\" font-size=\"14.00\" text-anchor=\"middle\" x=\"65\" y=\"-379.8\">2230860562160</text>\n",
       "</g>\n",
       "<!-- 2230860562160&#45;&gt;2230868463344 -->\n",
       "<g class=\"edge\" id=\"edge1\"><title>2230860562160-&gt;2230868463344</title>\n",
       "<path d=\"M65,-365.313C65,-357.289 65,-347.547 65,-338.569\" fill=\"none\" stroke=\"black\"/>\n",
       "<polygon fill=\"black\" points=\"68.5001,-338.529 65,-328.529 61.5001,-338.529 68.5001,-338.529\" stroke=\"black\"/>\n",
       "</g>\n",
       "</g>\n",
       "</svg>"
      ],
      "text/plain": [
       "<IPython.core.display.SVG object>"
      ]
     },
     "execution_count": 58,
     "metadata": {},
     "output_type": "execute_result"
    }
   ],
   "source": [
    "from IPython.display import SVG\n",
    "from keras.utils.vis_utils import model_to_dot\n",
    "\n",
    "SVG(model_to_dot(model).create(prog='dot', format='svg'))"
   ]
  },
  {
   "cell_type": "markdown",
   "metadata": {
    "colab_type": "text",
    "id": "TfypWUJIlFkz"
   },
   "source": [
    "## Training DNN"
   ]
  },
  {
   "cell_type": "code",
   "execution_count": 59,
   "metadata": {
    "colab": {
     "base_uri": "https://localhost:8080/",
     "height": 931
    },
    "colab_type": "code",
    "id": "zsdmu-ggfvr1",
    "outputId": "77a52558-8ecc-4fc5-e0cb-2b86a75df4c6",
    "scrolled": false
   },
   "outputs": [
    {
     "name": "stdout",
     "output_type": "stream",
     "text": [
      "Train on 90 samples, validate on 45 samples\n",
      "Epoch 1/130\n",
      "90/90 [==============================] - 0s 5ms/step - loss: 1.5561 - acc: 0.2778 - val_loss: 1.1469 - val_acc: 0.2889\n",
      "Epoch 2/130\n",
      "90/90 [==============================] - 0s 89us/step - loss: 1.3673 - acc: 0.2222 - val_loss: 1.1112 - val_acc: 0.3556\n",
      "Epoch 3/130\n",
      "90/90 [==============================] - 0s 78us/step - loss: 1.2558 - acc: 0.4000 - val_loss: 1.0733 - val_acc: 0.4000\n",
      "Epoch 4/130\n",
      "90/90 [==============================] - 0s 89us/step - loss: 1.2819 - acc: 0.3444 - val_loss: 1.0429 - val_acc: 0.4667\n",
      "Epoch 5/130\n",
      "90/90 [==============================] - 0s 78us/step - loss: 1.3030 - acc: 0.3000 - val_loss: 1.0152 - val_acc: 0.5111\n",
      "Epoch 6/130\n",
      "90/90 [==============================] - 0s 89us/step - loss: 1.1337 - acc: 0.3778 - val_loss: 0.9952 - val_acc: 0.5111\n",
      "Epoch 7/130\n",
      "90/90 [==============================] - 0s 78us/step - loss: 1.1584 - acc: 0.4222 - val_loss: 0.9661 - val_acc: 0.6000\n",
      "Epoch 8/130\n",
      "90/90 [==============================] - 0s 89us/step - loss: 1.1569 - acc: 0.4222 - val_loss: 0.9387 - val_acc: 0.6222\n",
      "Epoch 9/130\n",
      "90/90 [==============================] - 0s 89us/step - loss: 1.1281 - acc: 0.4556 - val_loss: 0.9154 - val_acc: 0.6889\n",
      "Epoch 10/130\n",
      "90/90 [==============================] - 0s 78us/step - loss: 1.0508 - acc: 0.4556 - val_loss: 0.8975 - val_acc: 0.6889\n",
      "Epoch 11/130\n",
      "90/90 [==============================] - 0s 89us/step - loss: 0.9886 - acc: 0.4889 - val_loss: 0.8714 - val_acc: 0.7333\n",
      "Epoch 12/130\n",
      "90/90 [==============================] - 0s 78us/step - loss: 1.0233 - acc: 0.4667 - val_loss: 0.8507 - val_acc: 0.7778\n",
      "Epoch 13/130\n",
      "90/90 [==============================] - 0s 89us/step - loss: 1.0373 - acc: 0.5333 - val_loss: 0.8340 - val_acc: 0.7556\n",
      "Epoch 14/130\n",
      "90/90 [==============================] - 0s 78us/step - loss: 1.0073 - acc: 0.4889 - val_loss: 0.8109 - val_acc: 0.8000\n",
      "Epoch 15/130\n",
      "90/90 [==============================] - 0s 89us/step - loss: 0.9476 - acc: 0.5333 - val_loss: 0.7866 - val_acc: 0.8000\n",
      "Epoch 16/130\n",
      "90/90 [==============================] - 0s 89us/step - loss: 1.0371 - acc: 0.5222 - val_loss: 0.7634 - val_acc: 0.8000\n",
      "Epoch 17/130\n",
      "90/90 [==============================] - 0s 89us/step - loss: 0.9576 - acc: 0.5222 - val_loss: 0.7588 - val_acc: 0.8222\n",
      "Epoch 18/130\n",
      "90/90 [==============================] - 0s 78us/step - loss: 1.0301 - acc: 0.4667 - val_loss: 0.7375 - val_acc: 0.8222\n",
      "Epoch 19/130\n",
      "90/90 [==============================] - 0s 89us/step - loss: 0.8630 - acc: 0.6222 - val_loss: 0.7171 - val_acc: 0.8444\n",
      "Epoch 20/130\n",
      "90/90 [==============================] - 0s 89us/step - loss: 0.8559 - acc: 0.6111 - val_loss: 0.6977 - val_acc: 0.8667\n",
      "Epoch 21/130\n",
      "90/90 [==============================] - 0s 89us/step - loss: 0.8154 - acc: 0.6111 - val_loss: 0.6788 - val_acc: 0.8444\n",
      "Epoch 22/130\n",
      "90/90 [==============================] - 0s 100us/step - loss: 0.8292 - acc: 0.6444 - val_loss: 0.6586 - val_acc: 0.8444\n",
      "Epoch 23/130\n",
      "90/90 [==============================] - 0s 89us/step - loss: 0.8763 - acc: 0.6333 - val_loss: 0.6457 - val_acc: 0.8444\n",
      "Epoch 24/130\n",
      "90/90 [==============================] - 0s 89us/step - loss: 0.8630 - acc: 0.6222 - val_loss: 0.6348 - val_acc: 0.8889\n",
      "Epoch 25/130\n",
      "90/90 [==============================] - 0s 100us/step - loss: 0.8422 - acc: 0.6333 - val_loss: 0.6238 - val_acc: 0.8889\n",
      "Epoch 26/130\n",
      "90/90 [==============================] - 0s 122us/step - loss: 0.6762 - acc: 0.7667 - val_loss: 0.6064 - val_acc: 0.8444\n",
      "Epoch 27/130\n",
      "90/90 [==============================] - 0s 100us/step - loss: 0.8097 - acc: 0.6111 - val_loss: 0.6004 - val_acc: 0.8444\n",
      "Epoch 28/130\n",
      "90/90 [==============================] - 0s 100us/step - loss: 0.7082 - acc: 0.7444 - val_loss: 0.5877 - val_acc: 0.8667\n",
      "Epoch 29/130\n",
      "90/90 [==============================] - 0s 100us/step - loss: 0.8270 - acc: 0.6444 - val_loss: 0.5780 - val_acc: 0.8889\n",
      "Epoch 30/130\n",
      "90/90 [==============================] - 0s 89us/step - loss: 0.7684 - acc: 0.6333 - val_loss: 0.5698 - val_acc: 0.8889\n",
      "Epoch 31/130\n",
      "90/90 [==============================] - 0s 89us/step - loss: 0.7607 - acc: 0.6778 - val_loss: 0.5439 - val_acc: 0.9333\n",
      "Epoch 32/130\n",
      "90/90 [==============================] - 0s 78us/step - loss: 0.7698 - acc: 0.6111 - val_loss: 0.5259 - val_acc: 0.9333\n",
      "Epoch 33/130\n",
      "90/90 [==============================] - 0s 89us/step - loss: 0.6587 - acc: 0.7222 - val_loss: 0.5129 - val_acc: 0.9333\n",
      "Epoch 34/130\n",
      "90/90 [==============================] - 0s 100us/step - loss: 0.6559 - acc: 0.7889 - val_loss: 0.4980 - val_acc: 0.9333\n",
      "Epoch 35/130\n",
      "90/90 [==============================] - 0s 89us/step - loss: 0.6884 - acc: 0.7000 - val_loss: 0.4818 - val_acc: 0.9333\n",
      "Epoch 36/130\n",
      "90/90 [==============================] - 0s 89us/step - loss: 0.6320 - acc: 0.7556 - val_loss: 0.4660 - val_acc: 0.9333\n",
      "Epoch 37/130\n",
      "90/90 [==============================] - 0s 89us/step - loss: 0.6274 - acc: 0.7222 - val_loss: 0.4500 - val_acc: 0.9333\n",
      "Epoch 38/130\n",
      "90/90 [==============================] - 0s 89us/step - loss: 0.5430 - acc: 0.8000 - val_loss: 0.4343 - val_acc: 0.9333\n",
      "Epoch 39/130\n",
      "90/90 [==============================] - 0s 89us/step - loss: 0.5641 - acc: 0.7333 - val_loss: 0.4194 - val_acc: 0.9333\n",
      "Epoch 40/130\n",
      "90/90 [==============================] - 0s 89us/step - loss: 0.5084 - acc: 0.8000 - val_loss: 0.4040 - val_acc: 0.9556\n",
      "Epoch 41/130\n",
      "90/90 [==============================] - 0s 100us/step - loss: 0.6659 - acc: 0.7111 - val_loss: 0.4034 - val_acc: 0.9556\n",
      "Epoch 42/130\n",
      "90/90 [==============================] - 0s 122us/step - loss: 0.5821 - acc: 0.7889 - val_loss: 0.3940 - val_acc: 0.9556\n",
      "Epoch 43/130\n",
      "90/90 [==============================] - 0s 155us/step - loss: 0.5854 - acc: 0.7889 - val_loss: 0.3835 - val_acc: 0.9556\n",
      "Epoch 44/130\n",
      "90/90 [==============================] - 0s 122us/step - loss: 0.5515 - acc: 0.8667 - val_loss: 0.3723 - val_acc: 0.9556\n",
      "Epoch 45/130\n",
      "90/90 [==============================] - 0s 89us/step - loss: 0.5199 - acc: 0.8000 - val_loss: 0.3605 - val_acc: 0.9333\n",
      "Epoch 46/130\n",
      "90/90 [==============================] - 0s 89us/step - loss: 0.7892 - acc: 0.6556 - val_loss: 0.3554 - val_acc: 0.9333\n",
      "Epoch 47/130\n",
      "90/90 [==============================] - 0s 100us/step - loss: 0.5278 - acc: 0.8111 - val_loss: 0.3439 - val_acc: 0.9556\n",
      "Epoch 48/130\n",
      "90/90 [==============================] - 0s 78us/step - loss: 0.5351 - acc: 0.7889 - val_loss: 0.3311 - val_acc: 0.9556\n",
      "Epoch 49/130\n",
      "90/90 [==============================] - 0s 89us/step - loss: 0.4936 - acc: 0.8000 - val_loss: 0.3204 - val_acc: 0.9556\n",
      "Epoch 50/130\n",
      "90/90 [==============================] - 0s 89us/step - loss: 0.4927 - acc: 0.8333 - val_loss: 0.3143 - val_acc: 0.9556\n",
      "Epoch 51/130\n",
      "90/90 [==============================] - 0s 100us/step - loss: 0.4952 - acc: 0.7889 - val_loss: 0.3101 - val_acc: 0.9556\n",
      "Epoch 52/130\n",
      "90/90 [==============================] - 0s 122us/step - loss: 0.4442 - acc: 0.8444 - val_loss: 0.3052 - val_acc: 0.9556\n",
      "Epoch 53/130\n",
      "90/90 [==============================] - 0s 89us/step - loss: 0.4377 - acc: 0.8556 - val_loss: 0.2986 - val_acc: 0.9556\n",
      "Epoch 54/130\n",
      "90/90 [==============================] - 0s 111us/step - loss: 0.4423 - acc: 0.8444 - val_loss: 0.2879 - val_acc: 0.9556\n",
      "Epoch 55/130\n",
      "90/90 [==============================] - 0s 188us/step - loss: 0.4271 - acc: 0.8333 - val_loss: 0.2827 - val_acc: 0.9556\n",
      "Epoch 56/130\n",
      "90/90 [==============================] - 0s 100us/step - loss: 0.5423 - acc: 0.7778 - val_loss: 0.2811 - val_acc: 0.9556\n",
      "Epoch 57/130\n",
      "90/90 [==============================] - 0s 111us/step - loss: 0.4607 - acc: 0.8000 - val_loss: 0.2746 - val_acc: 0.9556\n",
      "Epoch 58/130\n",
      "90/90 [==============================] - 0s 111us/step - loss: 0.4676 - acc: 0.8222 - val_loss: 0.2663 - val_acc: 0.9556\n",
      "Epoch 59/130\n",
      "90/90 [==============================] - 0s 100us/step - loss: 0.5040 - acc: 0.8222 - val_loss: 0.2579 - val_acc: 0.9556\n",
      "Epoch 60/130\n",
      "90/90 [==============================] - 0s 89us/step - loss: 0.4684 - acc: 0.8556 - val_loss: 0.2525 - val_acc: 0.9556\n",
      "Epoch 61/130\n",
      "90/90 [==============================] - 0s 89us/step - loss: 0.4009 - acc: 0.8667 - val_loss: 0.2432 - val_acc: 0.9556\n",
      "Epoch 62/130\n"
     ]
    },
    {
     "name": "stdout",
     "output_type": "stream",
     "text": [
      "90/90 [==============================] - 0s 111us/step - loss: 0.4823 - acc: 0.8333 - val_loss: 0.2482 - val_acc: 0.9556\n",
      "Epoch 63/130\n",
      "90/90 [==============================] - 0s 100us/step - loss: 0.3427 - acc: 0.8333 - val_loss: 0.2425 - val_acc: 0.9556\n",
      "Epoch 64/130\n",
      "90/90 [==============================] - 0s 100us/step - loss: 0.4110 - acc: 0.8444 - val_loss: 0.2371 - val_acc: 0.9556\n",
      "Epoch 65/130\n",
      "90/90 [==============================] - 0s 111us/step - loss: 0.3624 - acc: 0.8889 - val_loss: 0.2301 - val_acc: 0.9556\n",
      "Epoch 66/130\n",
      "90/90 [==============================] - 0s 89us/step - loss: 0.3963 - acc: 0.8444 - val_loss: 0.2275 - val_acc: 0.9556\n",
      "Epoch 67/130\n",
      "90/90 [==============================] - 0s 100us/step - loss: 0.3249 - acc: 0.9333 - val_loss: 0.2227 - val_acc: 0.9556\n",
      "Epoch 68/130\n",
      "90/90 [==============================] - 0s 100us/step - loss: 0.4061 - acc: 0.8556 - val_loss: 0.2229 - val_acc: 0.9556\n",
      "Epoch 69/130\n",
      "90/90 [==============================] - 0s 89us/step - loss: 0.3417 - acc: 0.9000 - val_loss: 0.2172 - val_acc: 0.9556\n",
      "Epoch 70/130\n",
      "90/90 [==============================] - 0s 89us/step - loss: 0.3249 - acc: 0.8778 - val_loss: 0.2098 - val_acc: 0.9556\n",
      "Epoch 71/130\n",
      "90/90 [==============================] - 0s 177us/step - loss: 0.3131 - acc: 0.9000 - val_loss: 0.2044 - val_acc: 0.9556\n",
      "Epoch 72/130\n",
      "90/90 [==============================] - 0s 211us/step - loss: 0.4570 - acc: 0.8000 - val_loss: 0.2067 - val_acc: 0.9556\n",
      "Epoch 73/130\n",
      "90/90 [==============================] - 0s 100us/step - loss: 0.3730 - acc: 0.8667 - val_loss: 0.2018 - val_acc: 0.9556\n",
      "Epoch 74/130\n",
      "90/90 [==============================] - 0s 144us/step - loss: 0.3667 - acc: 0.8556 - val_loss: 0.2022 - val_acc: 0.9556\n",
      "Epoch 75/130\n",
      "90/90 [==============================] - 0s 100us/step - loss: 0.3513 - acc: 0.9000 - val_loss: 0.2035 - val_acc: 0.9556\n",
      "Epoch 76/130\n",
      "90/90 [==============================] - 0s 100us/step - loss: 0.3536 - acc: 0.8889 - val_loss: 0.1917 - val_acc: 0.9556\n",
      "Epoch 77/130\n",
      "90/90 [==============================] - 0s 89us/step - loss: 0.4184 - acc: 0.8333 - val_loss: 0.1872 - val_acc: 0.9556\n",
      "Epoch 78/130\n",
      "90/90 [==============================] - 0s 100us/step - loss: 0.3302 - acc: 0.9222 - val_loss: 0.1856 - val_acc: 0.9556\n",
      "Epoch 79/130\n",
      "90/90 [==============================] - 0s 100us/step - loss: 0.3222 - acc: 0.9000 - val_loss: 0.1832 - val_acc: 0.9556\n",
      "Epoch 80/130\n",
      "90/90 [==============================] - 0s 89us/step - loss: 0.2846 - acc: 0.9000 - val_loss: 0.1821 - val_acc: 0.9556\n",
      "Epoch 81/130\n",
      "90/90 [==============================] - 0s 111us/step - loss: 0.2133 - acc: 0.9444 - val_loss: 0.1804 - val_acc: 0.9556\n",
      "Epoch 82/130\n",
      "90/90 [==============================] - 0s 133us/step - loss: 0.3771 - acc: 0.8667 - val_loss: 0.1731 - val_acc: 0.9556\n",
      "Epoch 83/130\n",
      "90/90 [==============================] - 0s 122us/step - loss: 0.3941 - acc: 0.8889 - val_loss: 0.1664 - val_acc: 0.9556\n",
      "Epoch 84/130\n",
      "90/90 [==============================] - 0s 122us/step - loss: 0.3398 - acc: 0.8778 - val_loss: 0.1666 - val_acc: 0.9556\n",
      "Epoch 85/130\n",
      "90/90 [==============================] - 0s 133us/step - loss: 0.2924 - acc: 0.9111 - val_loss: 0.1674 - val_acc: 0.9556\n",
      "Epoch 86/130\n",
      "90/90 [==============================] - 0s 122us/step - loss: 0.2807 - acc: 0.9111 - val_loss: 0.1689 - val_acc: 0.9556\n",
      "Epoch 87/130\n",
      "90/90 [==============================] - 0s 89us/step - loss: 0.3247 - acc: 0.8778 - val_loss: 0.1676 - val_acc: 0.9556\n",
      "Epoch 88/130\n",
      "90/90 [==============================] - 0s 78us/step - loss: 0.2691 - acc: 0.9444 - val_loss: 0.1668 - val_acc: 0.9556\n",
      "Epoch 89/130\n",
      "90/90 [==============================] - 0s 89us/step - loss: 0.3098 - acc: 0.9111 - val_loss: 0.1661 - val_acc: 0.9556\n",
      "Epoch 90/130\n",
      "90/90 [==============================] - 0s 89us/step - loss: 0.2591 - acc: 0.9333 - val_loss: 0.1642 - val_acc: 0.9556\n",
      "Epoch 91/130\n",
      "90/90 [==============================] - 0s 89us/step - loss: 0.2739 - acc: 0.8889 - val_loss: 0.1660 - val_acc: 0.9556\n",
      "Epoch 92/130\n",
      "90/90 [==============================] - 0s 111us/step - loss: 0.2253 - acc: 0.9333 - val_loss: 0.1641 - val_acc: 0.9556\n",
      "Epoch 93/130\n",
      "90/90 [==============================] - 0s 89us/step - loss: 0.2395 - acc: 0.9333 - val_loss: 0.1542 - val_acc: 0.9556\n",
      "Epoch 94/130\n",
      "90/90 [==============================] - 0s 89us/step - loss: 0.2678 - acc: 0.8889 - val_loss: 0.1584 - val_acc: 0.9778\n",
      "Epoch 95/130\n",
      "90/90 [==============================] - 0s 177us/step - loss: 0.2819 - acc: 0.8444 - val_loss: 0.1591 - val_acc: 0.9556\n",
      "Epoch 96/130\n",
      "90/90 [==============================] - 0s 144us/step - loss: 0.2081 - acc: 0.9222 - val_loss: 0.1550 - val_acc: 0.9556\n",
      "Epoch 97/130\n",
      "90/90 [==============================] - 0s 111us/step - loss: 0.2436 - acc: 0.9222 - val_loss: 0.1523 - val_acc: 0.9556\n",
      "Epoch 98/130\n",
      "90/90 [==============================] - 0s 89us/step - loss: 0.2689 - acc: 0.9222 - val_loss: 0.1531 - val_acc: 0.9778\n",
      "Epoch 99/130\n",
      "90/90 [==============================] - 0s 100us/step - loss: 0.2092 - acc: 0.9444 - val_loss: 0.1497 - val_acc: 0.9556\n",
      "Epoch 100/130\n",
      "90/90 [==============================] - 0s 100us/step - loss: 0.3385 - acc: 0.9000 - val_loss: 0.1512 - val_acc: 0.9556\n",
      "Epoch 101/130\n",
      "90/90 [==============================] - 0s 111us/step - loss: 0.2157 - acc: 0.9111 - val_loss: 0.1487 - val_acc: 0.9778\n",
      "Epoch 102/130\n",
      "90/90 [==============================] - 0s 89us/step - loss: 0.2130 - acc: 0.9444 - val_loss: 0.1481 - val_acc: 0.9778\n",
      "Epoch 103/130\n",
      "90/90 [==============================] - 0s 89us/step - loss: 0.2404 - acc: 0.9000 - val_loss: 0.1434 - val_acc: 0.9556\n",
      "Epoch 104/130\n",
      "90/90 [==============================] - 0s 100us/step - loss: 0.2598 - acc: 0.9444 - val_loss: 0.1418 - val_acc: 0.9556\n",
      "Epoch 105/130\n",
      "90/90 [==============================] - 0s 89us/step - loss: 0.1682 - acc: 0.9444 - val_loss: 0.1398 - val_acc: 0.9556\n",
      "Epoch 106/130\n",
      "90/90 [==============================] - 0s 89us/step - loss: 0.2126 - acc: 0.9556 - val_loss: 0.1396 - val_acc: 0.9556\n",
      "Epoch 107/130\n",
      "90/90 [==============================] - 0s 89us/step - loss: 0.3136 - acc: 0.9333 - val_loss: 0.1417 - val_acc: 0.9778\n",
      "Epoch 108/130\n",
      "90/90 [==============================] - 0s 100us/step - loss: 0.1943 - acc: 0.9333 - val_loss: 0.1393 - val_acc: 0.9778\n",
      "Epoch 109/130\n",
      "90/90 [==============================] - 0s 89us/step - loss: 0.2350 - acc: 0.9444 - val_loss: 0.1416 - val_acc: 0.9778\n",
      "Epoch 110/130\n",
      "90/90 [==============================] - 0s 89us/step - loss: 0.2008 - acc: 0.9444 - val_loss: 0.1431 - val_acc: 0.9778\n",
      "Epoch 111/130\n",
      "90/90 [==============================] - 0s 89us/step - loss: 0.1878 - acc: 0.9556 - val_loss: 0.1421 - val_acc: 0.9778\n",
      "Epoch 112/130\n",
      "90/90 [==============================] - 0s 100us/step - loss: 0.2422 - acc: 0.9222 - val_loss: 0.1412 - val_acc: 0.9778\n",
      "Epoch 113/130\n",
      "90/90 [==============================] - 0s 89us/step - loss: 0.2882 - acc: 0.8889 - val_loss: 0.1385 - val_acc: 0.9778\n",
      "Epoch 114/130\n",
      "90/90 [==============================] - 0s 89us/step - loss: 0.1868 - acc: 0.9444 - val_loss: 0.1397 - val_acc: 0.9778\n",
      "Epoch 115/130\n",
      "90/90 [==============================] - 0s 89us/step - loss: 0.1420 - acc: 0.9667 - val_loss: 0.1401 - val_acc: 0.9778\n",
      "Epoch 116/130\n",
      "90/90 [==============================] - 0s 89us/step - loss: 0.1655 - acc: 0.9444 - val_loss: 0.1380 - val_acc: 0.9778\n",
      "Epoch 117/130\n",
      "90/90 [==============================] - 0s 89us/step - loss: 0.1944 - acc: 0.9556 - val_loss: 0.1339 - val_acc: 0.9778\n",
      "Epoch 118/130\n",
      "90/90 [==============================] - 0s 89us/step - loss: 0.1889 - acc: 0.9444 - val_loss: 0.1348 - val_acc: 0.9778\n",
      "Epoch 119/130\n",
      "90/90 [==============================] - 0s 89us/step - loss: 0.2023 - acc: 0.9556 - val_loss: 0.1384 - val_acc: 0.9778\n",
      "Epoch 120/130\n",
      "90/90 [==============================] - 0s 89us/step - loss: 0.1809 - acc: 0.9556 - val_loss: 0.1384 - val_acc: 0.9778\n",
      "Epoch 121/130\n",
      "90/90 [==============================] - 0s 89us/step - loss: 0.2452 - acc: 0.9111 - val_loss: 0.1394 - val_acc: 0.9778\n",
      "Epoch 122/130\n",
      "90/90 [==============================] - 0s 111us/step - loss: 0.1960 - acc: 0.9556 - val_loss: 0.1345 - val_acc: 0.9778\n",
      "Epoch 123/130\n"
     ]
    },
    {
     "name": "stdout",
     "output_type": "stream",
     "text": [
      "90/90 [==============================] - 0s 89us/step - loss: 0.1937 - acc: 0.9333 - val_loss: 0.1324 - val_acc: 0.9778\n",
      "Epoch 124/130\n",
      "90/90 [==============================] - 0s 177us/step - loss: 0.1980 - acc: 0.9444 - val_loss: 0.1347 - val_acc: 0.9778\n",
      "Epoch 125/130\n",
      "90/90 [==============================] - 0s 144us/step - loss: 0.1609 - acc: 0.9444 - val_loss: 0.1386 - val_acc: 0.9778\n",
      "Epoch 126/130\n",
      "90/90 [==============================] - 0s 133us/step - loss: 0.2288 - acc: 0.9444 - val_loss: 0.1322 - val_acc: 0.9778\n",
      "Epoch 127/130\n",
      "90/90 [==============================] - 0s 144us/step - loss: 0.1327 - acc: 0.9778 - val_loss: 0.1330 - val_acc: 0.9778\n",
      "Epoch 128/130\n",
      "90/90 [==============================] - 0s 155us/step - loss: 0.1731 - acc: 0.9444 - val_loss: 0.1351 - val_acc: 0.9778\n",
      "Epoch 129/130\n",
      "90/90 [==============================] - 0s 210us/step - loss: 0.2221 - acc: 0.9222 - val_loss: 0.1347 - val_acc: 0.9778\n",
      "Epoch 130/130\n",
      "90/90 [==============================] - 0s 166us/step - loss: 0.1244 - acc: 0.9444 - val_loss: 0.1351 - val_acc: 0.9778\n"
     ]
    }
   ],
   "source": [
    "EPOCHS = 130\n",
    "history = model.fit(train_data, train_labels, epochs=EPOCHS, validation_data=(test_data, test_labels))"
   ]
  },
  {
   "cell_type": "code",
   "execution_count": 60,
   "metadata": {
    "scrolled": false
   },
   "outputs": [
    {
     "name": "stdout",
     "output_type": "stream",
     "text": [
      "dict_keys(['val_loss', 'val_acc', 'loss', 'acc'])\n"
     ]
    },
    {
     "data": {
      "image/png": "[encoded data removed]",
      "text/plain": [
       "<matplotlib.figure.Figure at 0x2076b543208>"
      ]
     },
     "metadata": {},
     "output_type": "display_data"
    },
    {
     "data": {
      "image/png": "[encoded data removed]",
      "text/plain": [
       "<matplotlib.figure.Figure at 0x2076b5556a0>"
      ]
     },
     "metadata": {},
     "output_type": "display_data"
    }
   ],
   "source": [
    "print(history.history.keys())\n",
    "\n",
    "# Plot training & validation accuracy values\n",
    "plt.plot(history.history['acc'])\n",
    "plt.plot(history.history['val_acc'])\n",
    "\n",
    "plt.title('Model accuracy')\n",
    "plt.ylabel('Accuracy')\n",
    "plt.xlabel('Epoch')\n",
    "plt.legend(['Train', 'Test'], loc='upper left')\n",
    "plt.show()\n",
    "\n",
    "# Plot training & validation loss values\n",
    "plt.plot(history.history['loss'])\n",
    "plt.plot(history.history['val_loss'])\n",
    "plt.title('Model loss')\n",
    "plt.ylabel('Loss')\n",
    "plt.xlabel('Epoch')\n",
    "plt.legend(['Train', 'Test'], loc='upper left')\n",
    "plt.show()"
   ]
  },
  {
   "cell_type": "markdown",
   "metadata": {},
   "source": [
    "## Save the model"
   ]
  },
  {
   "cell_type": "code",
   "execution_count": 61,
   "metadata": {},
   "outputs": [],
   "source": [
    "import datetime\n",
    "\n",
    "dt = datetime.datetime.today().strftime('%Y%m%d%H%M%S')\n",
    "filename = 'rock_paper_scissors_dct_{}.h5'.format(dt)\n",
    "model.save(filename)"
   ]
  },
  {
   "cell_type": "markdown",
   "metadata": {},
   "source": [
    "## Load the model"
   ]
  },
  {
   "cell_type": "code",
   "execution_count": 62,
   "metadata": {},
   "outputs": [],
   "source": [
    "del model\n",
    "model = models.load_model(filename)"
   ]
  },
  {
   "cell_type": "markdown",
   "metadata": {
    "colab_type": "text",
    "id": "j6con4C3lKC1"
   },
   "source": [
    "## Confirmation"
   ]
  },
  {
   "cell_type": "code",
   "execution_count": 63,
   "metadata": {
    "colab": {
     "base_uri": "https://localhost:8080/",
     "height": 34
    },
    "colab_type": "code",
    "id": "4oZYLLij69wU",
    "outputId": "b37a4b8a-2c80-411f-d8a9-5df1c6dbfe22"
   },
   "outputs": [
    {
     "data": {
      "text/plain": [
       "(90, 36)"
      ]
     },
     "execution_count": 63,
     "metadata": {},
     "output_type": "execute_result"
    }
   ],
   "source": [
    "import numpy as np\n",
    "import matplotlib.pyplot as plt\n",
    "train_data.shape"
   ]
  },
  {
   "cell_type": "code",
   "execution_count": 64,
   "metadata": {
    "colab": {
     "base_uri": "https://localhost:8080/",
     "height": 193
    },
    "colab_type": "code",
    "id": "zSxXE9FgRBdJ",
    "outputId": "f3a53efe-e99f-4572-f9b4-1bf3c39c77ec"
   },
   "outputs": [],
   "source": [
    "layer_outputs = [layer.output for layer in model.layers]"
   ]
  },
  {
   "cell_type": "code",
   "execution_count": 65,
   "metadata": {
    "colab": {
     "base_uri": "https://localhost:8080/",
     "height": 34
    },
    "colab_type": "code",
    "id": "dcw7yHKrRkPD",
    "outputId": "a3ed5441-ae48-4635-bf07-ac5060030608"
   },
   "outputs": [],
   "source": [
    "activation_model = models.Model(inputs=model.input, outputs=layer_outputs)\n",
    "activations = activation_model.predict(test_data)"
   ]
  },
  {
   "cell_type": "code",
   "execution_count": 66,
   "metadata": {},
   "outputs": [
    {
     "data": {
      "text/plain": [
       "['paper', 'rock', 'scissors']"
      ]
     },
     "execution_count": 66,
     "metadata": {},
     "output_type": "execute_result"
    }
   ],
   "source": [
    "class_labels"
   ]
  },
  {
   "cell_type": "code",
   "execution_count": 67,
   "metadata": {
    "colab": {
     "base_uri": "https://localhost:8080/",
     "height": 193
    },
    "colab_type": "code",
    "id": "ccSNAwGKhRn9",
    "outputId": "0ad22e12-713b-4b07-e17b-45d39ff1b80b"
   },
   "outputs": [
    {
     "data": {
      "text/plain": [
       "array([[ 0, 99,  0],\n",
       "       [ 2,  0, 96],\n",
       "       [ 0, 99,  0],\n",
       "       [96,  2,  1],\n",
       "       [54,  5, 40],\n",
       "       [97,  0,  1],\n",
       "       [ 0,  0, 99],\n",
       "       [99,  0,  0],\n",
       "       [ 2,  0, 97],\n",
       "       [99,  0,  0]])"
      ]
     },
     "execution_count": 67,
     "metadata": {},
     "output_type": "execute_result"
    }
   ],
   "source": [
    "(activations[-1][:10]*100).astype(int)"
   ]
  },
  {
   "cell_type": "code",
   "execution_count": 68,
   "metadata": {
    "colab": {
     "base_uri": "https://localhost:8080/",
     "height": 193
    },
    "colab_type": "code",
    "id": "RoE0nxtuiGIN",
    "outputId": "154437a8-ab72-46f4-f42c-3e6464af47d0"
   },
   "outputs": [
    {
     "data": {
      "text/plain": [
       "array([[0, 1, 0],\n",
       "       [0, 0, 1],\n",
       "       [0, 1, 0],\n",
       "       [1, 0, 0],\n",
       "       [1, 0, 0],\n",
       "       [0, 0, 1],\n",
       "       [0, 0, 1],\n",
       "       [1, 0, 0],\n",
       "       [0, 0, 1],\n",
       "       [1, 0, 0]])"
      ]
     },
     "execution_count": 68,
     "metadata": {},
     "output_type": "execute_result"
    }
   ],
   "source": [
    "test_labels[:10].astype(int)"
   ]
  },
  {
   "cell_type": "code",
   "execution_count": null,
   "metadata": {},
   "outputs": [],
   "source": []
  }
 ],
 "metadata": {
  "colab": {
   "collapsed_sections": [],
   "name": "CNN for AED",
   "provenance": [],
   "version": "0.3.2"
  },
  "kernelspec": {
   "display_name": "Python 3",
   "language": "python",
   "name": "python3"
  },
  "language_info": {
   "codemirror_mode": {
    "name": "ipython",
    "version": 3
   },
   "file_extension": ".py",
   "mimetype": "text/x-python",
   "name": "python",
   "nbconvert_exporter": "python",
   "pygments_lexer": "ipython3",
   "version": "3.6.4"
  }
 },
 "nbformat": 4,
 "nbformat_minor": 1
}
