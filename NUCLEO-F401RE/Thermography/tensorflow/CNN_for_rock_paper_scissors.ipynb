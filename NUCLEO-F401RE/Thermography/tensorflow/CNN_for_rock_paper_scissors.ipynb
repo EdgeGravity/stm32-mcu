{
 "cells": [
  {
   "cell_type": "markdown",
   "metadata": {
    "colab_type": "text",
    "id": "0X16cagQE-Y-"
   },
   "source": [
    "# CNN for rock-paper-scissors with Keras/TensorFlow\n",
    "\n",
    "Date: December 6 and December 31, 2018\n",
    "\n",
    "Classification:\n",
    "- rock\n",
    "- paper\n",
    "- scissors"
   ]
  },
  {
   "cell_type": "markdown",
   "metadata": {
    "colab_type": "text",
    "id": "WwQ-dEltkl5Q"
   },
   "source": [
    "## Preparing data set for CNN"
   ]
  },
  {
   "cell_type": "code",
   "execution_count": 57,
   "metadata": {
    "colab": {
     "base_uri": "https://localhost:8080/",
     "height": 34
    },
    "colab_type": "code",
    "id": "VEJyQsGpV3ug",
    "outputId": "3929aa39-3383-4791-e065-3622e6781181"
   },
   "outputs": [],
   "source": [
    "DATA_FOLDER = '../thermography/data/'\n",
    "\n",
    "FILES = 56\n",
    "TRAINING_FILES = 40\n",
    "TEST_FILES = FILES - TRAINING_FILES"
   ]
  },
  {
   "cell_type": "code",
   "execution_count": 58,
   "metadata": {
    "colab": {},
    "colab_type": "code",
    "id": "JTNdoPBFWGky"
   },
   "outputs": [],
   "source": [
    "%matplotlib inline\n",
    "\n",
    "import matplotlib.pyplot as plt\n",
    "import numpy as np\n",
    "import time\n",
    "import random\n",
    "import os\n",
    "import sklearn.preprocessing as pp"
   ]
  },
  {
   "cell_type": "code",
   "execution_count": 59,
   "metadata": {},
   "outputs": [],
   "source": [
    "# Normalization\n",
    "def scale(data):\n",
    "    min_ = np.min(data)\n",
    "    max_ = np.max(data)\n",
    "    mean = (max_ + min_) / 2.0\n",
    "    range_ = (max_ - min_) / 2.0\n",
    "    data = (data - mean)/range_\n",
    "    return data"
   ]
  },
  {
   "cell_type": "code",
   "execution_count": 60,
   "metadata": {},
   "outputs": [
    {
     "name": "stdout",
     "output_type": "stream",
     "text": [
      "0: paper\n",
      "1: rock\n",
      "2: scissors\n"
     ]
    }
   ],
   "source": [
    "import glob\n",
    "\n",
    "data_files = glob.glob(DATA_FOLDER+'*.csv')\n",
    "class_labels = []\n",
    "\n",
    "for file in data_files:\n",
    "    label = file.split('-')[0].replace('\\\\', '/').split('/')[-1]\n",
    "    if label not in class_labels:\n",
    "        class_labels.append(label)\n",
    "\n",
    "data_set = {}\n",
    "\n",
    "class_number = 0\n",
    "\n",
    "for label in class_labels:\n",
    "    files = glob.glob(DATA_FOLDER+'{}-*.csv'.format(label))\n",
    "    random.shuffle(files)\n",
    "    data_set[label] = (files[:TRAINING_FILES], files[TRAINING_FILES:FILES], class_number)\n",
    "    class_number += 1\n",
    "\n",
    "training_set = []\n",
    "test_set = []\n",
    "\n",
    "for k, v in data_set.items():\n",
    "    files = v[0]\n",
    "    class_number = v[2]\n",
    "    for file in files:\n",
    "        with open(file) as f:\n",
    "            data = np.array(f.read().split(',')).astype(float)\n",
    "            #training_set.append((pp.scale(data), class_number))\n",
    "            training_set.append((scale(data), class_number))\n",
    "    files = v[1]\n",
    "    for file in files:\n",
    "        with open(file) as f:\n",
    "            data = np.array(f.read().split(',')).astype(float)\n",
    "            #test_set.append((pp.scale(data), class_number))\n",
    "            test_set.append((scale(data), class_number))\n",
    "random.shuffle(training_set)\n",
    "random.shuffle(test_set)\n",
    "\n",
    "class_labels = [None for _ in range(len(data_set))]\n",
    "\n",
    "# Class number and class labels\n",
    "for k,v in data_set.items():\n",
    "    print('{}: {}'.format(v[2],k))\n",
    "    class_labels[v[2]] = k\n",
    "    \n",
    "import yaml\n",
    "with open(DATA_FOLDER+'class_labels.yaml', 'w') as f:\n",
    "    yaml.dump(class_labels, f)"
   ]
  },
  {
   "cell_type": "code",
   "execution_count": 61,
   "metadata": {
    "colab": {},
    "colab_type": "code",
    "id": "28tIKkNyW3cO"
   },
   "outputs": [
    {
     "data": {
      "text/plain": [
       "array([[-0.86013986, -0.87412587, -0.87412587, ..., -0.93006993,\n",
       "        -0.91608392, -0.9020979 ],\n",
       "       [-0.87412587, -0.87412587, -0.88811189, ..., -0.91608392,\n",
       "        -0.9020979 , -0.9020979 ],\n",
       "       [-0.87412587, -0.88811189, -0.88811189, ..., -0.91608392,\n",
       "        -0.91608392, -0.91608392],\n",
       "       ...,\n",
       "       [-0.52447552, -0.44055944, -0.32867133, ..., -0.60839161,\n",
       "        -0.62237762, -0.60839161],\n",
       "       [-0.53846154, -0.45454545, -0.37062937, ..., -0.59440559,\n",
       "        -0.62237762, -0.60839161],\n",
       "       [-0.53846154, -0.48251748, -0.42657343, ..., -0.60839161,\n",
       "        -0.62237762, -0.62237762]])"
      ]
     },
     "execution_count": 61,
     "metadata": {},
     "output_type": "execute_result"
    },
    {
     "data": {
      "image/png": "[encoded data removed]",
      "text/plain": [
       "<matplotlib.figure.Figure at 0x22941b572e8>"
      ]
     },
     "metadata": {},
     "output_type": "display_data"
    }
   ],
   "source": [
    "train_data, train_labels = [], []\n",
    "test_data, test_labels = [], []\n",
    "for img, label in training_set:\n",
    "    train_data.append(img)\n",
    "    train_labels.append(label)\n",
    "for img, label in test_set:\n",
    "    test_data.append(img)\n",
    "    test_labels.append(label)\n",
    "train_data = np.array(train_data).reshape((TRAINING_FILES*len(class_labels), 32, 32, 1))\n",
    "train_labels = np.array(train_labels, dtype='uint8')\n",
    "test_data = np.array(test_data).reshape((TEST_FILES*len(class_labels), 32, 32, 1))\n",
    "test_lables = np.array(test_labels, dtype='uint8')\n",
    "#train_data.shape\n",
    "\n",
    "from keras.utils import to_categorical\n",
    "\n",
    "train_labels=to_categorical(train_labels)\n",
    "test_labels=to_categorical(test_labels)\n",
    "\n",
    "plt.imshow(train_data[12,:,:,0])\n",
    "train_data[12,:,:,0]"
   ]
  },
  {
   "cell_type": "markdown",
   "metadata": {
    "colab_type": "text",
    "id": "VfUmgxxVk6uM"
   },
   "source": [
    "### CNN model"
   ]
  },
  {
   "cell_type": "code",
   "execution_count": 62,
   "metadata": {
    "colab": {
     "base_uri": "https://localhost:8080/",
     "height": 509
    },
    "colab_type": "code",
    "id": "B2Xg6tGLdMKP",
    "outputId": "ae3daa32-9dbf-4d8b-9a11-7f596dd2e4a6"
   },
   "outputs": [
    {
     "name": "stdout",
     "output_type": "stream",
     "text": [
      "_________________________________________________________________\n",
      "Layer (type)                 Output Shape              Param #   \n",
      "=================================================================\n",
      "conv2d_7 (Conv2D)            (None, 30, 30, 16)        160       \n",
      "_________________________________________________________________\n",
      "max_pooling2d_7 (MaxPooling2 (None, 15, 15, 16)        0         \n",
      "_________________________________________________________________\n",
      "conv2d_8 (Conv2D)            (None, 13, 13, 32)        4640      \n",
      "_________________________________________________________________\n",
      "max_pooling2d_8 (MaxPooling2 (None, 6, 6, 32)          0         \n",
      "_________________________________________________________________\n",
      "flatten_4 (Flatten)          (None, 1152)              0         \n",
      "_________________________________________________________________\n",
      "dropout_4 (Dropout)          (None, 1152)              0         \n",
      "_________________________________________________________________\n",
      "dense_4 (Dense)              (None, 3)                 3459      \n",
      "=================================================================\n",
      "Total params: 8,259\n",
      "Trainable params: 8,259\n",
      "Non-trainable params: 0\n",
      "_________________________________________________________________\n"
     ]
    }
   ],
   "source": [
    "from keras import layers\n",
    "from keras import models\n",
    "\n",
    "model = models.Sequential()\n",
    "\n",
    "model.add(layers.Conv2D(16, (3, 3), activation='relu', input_shape=(32, 32, 1)))\n",
    "model.add(layers.MaxPooling2D((2,2)))\n",
    "\n",
    "model.add(layers.Conv2D(32, (3, 3), activation='relu'))\n",
    "model.add(layers.MaxPooling2D((2,2)))\n",
    "\n",
    "model.add(layers.Flatten())\n",
    "model.add(layers.Dropout(0.5))\n",
    "model.add(layers.Dense(len(class_labels), activation='softmax'))\n",
    "\n",
    "model.summary()"
   ]
  },
  {
   "cell_type": "code",
   "execution_count": 63,
   "metadata": {
    "colab": {},
    "colab_type": "code",
    "id": "nRr1L_4ogL6i"
   },
   "outputs": [],
   "source": [
    "model.compile(optimizer='rmsprop', loss='categorical_crossentropy', metrics=['accuracy'])"
   ]
  },
  {
   "cell_type": "code",
   "execution_count": 64,
   "metadata": {},
   "outputs": [
    {
     "data": {
      "image/svg+xml": [
       "<svg height=\"556pt\" viewBox=\"0.00 0.00 217.00 556.00\" width=\"217pt\" xmlns=\"http://www.w3.org/2000/svg\" xmlns:xlink=\"http://www.w3.org/1999/xlink\">\n",
       "<g class=\"graph\" id=\"graph0\" transform=\"scale(1 1) rotate(0) translate(4 552)\">\n",
       "<title>G</title>\n",
       "<polygon fill=\"white\" points=\"-4,4 -4,-552 213,-552 213,4 -4,4\" stroke=\"none\"/>\n",
       "<!-- 2376195715648 -->\n",
       "<g class=\"node\" id=\"node1\"><title>2376195715648</title>\n",
       "<polygon fill=\"none\" points=\"41,-438.5 41,-474.5 168,-474.5 168,-438.5 41,-438.5\" stroke=\"black\"/>\n",
       "<text font-family=\"Times New Roman,serif\" font-size=\"14.00\" text-anchor=\"middle\" x=\"104.5\" y=\"-452.8\">conv2d_7: Conv2D</text>\n",
       "</g>\n",
       "<!-- 2376193318080 -->\n",
       "<g class=\"node\" id=\"node2\"><title>2376193318080</title>\n",
       "<polygon fill=\"none\" points=\"0,-365.5 0,-401.5 209,-401.5 209,-365.5 0,-365.5\" stroke=\"black\"/>\n",
       "<text font-family=\"Times New Roman,serif\" font-size=\"14.00\" text-anchor=\"middle\" x=\"104.5\" y=\"-379.8\">max_pooling2d_7: MaxPooling2D</text>\n",
       "</g>\n",
       "<!-- 2376195715648&#45;&gt;2376193318080 -->\n",
       "<g class=\"edge\" id=\"edge2\"><title>2376195715648-&gt;2376193318080</title>\n",
       "<path d=\"M104.5,-438.313C104.5,-430.289 104.5,-420.547 104.5,-411.569\" fill=\"none\" stroke=\"black\"/>\n",
       "<polygon fill=\"black\" points=\"108,-411.529 104.5,-401.529 101,-411.529 108,-411.529\" stroke=\"black\"/>\n",
       "</g>\n",
       "<!-- 2376219634488 -->\n",
       "<g class=\"node\" id=\"node3\"><title>2376219634488</title>\n",
       "<polygon fill=\"none\" points=\"41,-292.5 41,-328.5 168,-328.5 168,-292.5 41,-292.5\" stroke=\"black\"/>\n",
       "<text font-family=\"Times New Roman,serif\" font-size=\"14.00\" text-anchor=\"middle\" x=\"104.5\" y=\"-306.8\">conv2d_8: Conv2D</text>\n",
       "</g>\n",
       "<!-- 2376193318080&#45;&gt;2376219634488 -->\n",
       "<g class=\"edge\" id=\"edge3\"><title>2376193318080-&gt;2376219634488</title>\n",
       "<path d=\"M104.5,-365.313C104.5,-357.289 104.5,-347.547 104.5,-338.569\" fill=\"none\" stroke=\"black\"/>\n",
       "<polygon fill=\"black\" points=\"108,-338.529 104.5,-328.529 101,-338.529 108,-338.529\" stroke=\"black\"/>\n",
       "</g>\n",
       "<!-- 2376195821864 -->\n",
       "<g class=\"node\" id=\"node4\"><title>2376195821864</title>\n",
       "<polygon fill=\"none\" points=\"0,-219.5 0,-255.5 209,-255.5 209,-219.5 0,-219.5\" stroke=\"black\"/>\n",
       "<text font-family=\"Times New Roman,serif\" font-size=\"14.00\" text-anchor=\"middle\" x=\"104.5\" y=\"-233.8\">max_pooling2d_8: MaxPooling2D</text>\n",
       "</g>\n",
       "<!-- 2376219634488&#45;&gt;2376195821864 -->\n",
       "<g class=\"edge\" id=\"edge4\"><title>2376219634488-&gt;2376195821864</title>\n",
       "<path d=\"M104.5,-292.313C104.5,-284.289 104.5,-274.547 104.5,-265.569\" fill=\"none\" stroke=\"black\"/>\n",
       "<polygon fill=\"black\" points=\"108,-265.529 104.5,-255.529 101,-265.529 108,-265.529\" stroke=\"black\"/>\n",
       "</g>\n",
       "<!-- 2376195751496 -->\n",
       "<g class=\"node\" id=\"node5\"><title>2376195751496</title>\n",
       "<polygon fill=\"none\" points=\"50,-146.5 50,-182.5 159,-182.5 159,-146.5 50,-146.5\" stroke=\"black\"/>\n",
       "<text font-family=\"Times New Roman,serif\" font-size=\"14.00\" text-anchor=\"middle\" x=\"104.5\" y=\"-160.8\">flatten_4: Flatten</text>\n",
       "</g>\n",
       "<!-- 2376195821864&#45;&gt;2376195751496 -->\n",
       "<g class=\"edge\" id=\"edge5\"><title>2376195821864-&gt;2376195751496</title>\n",
       "<path d=\"M104.5,-219.313C104.5,-211.289 104.5,-201.547 104.5,-192.569\" fill=\"none\" stroke=\"black\"/>\n",
       "<polygon fill=\"black\" points=\"108,-192.529 104.5,-182.529 101,-192.529 108,-192.529\" stroke=\"black\"/>\n",
       "</g>\n",
       "<!-- 2376224671280 -->\n",
       "<g class=\"node\" id=\"node6\"><title>2376224671280</title>\n",
       "<polygon fill=\"none\" points=\"39.5,-73.5 39.5,-109.5 169.5,-109.5 169.5,-73.5 39.5,-73.5\" stroke=\"black\"/>\n",
       "<text font-family=\"Times New Roman,serif\" font-size=\"14.00\" text-anchor=\"middle\" x=\"104.5\" y=\"-87.8\">dropout_4: Dropout</text>\n",
       "</g>\n",
       "<!-- 2376195751496&#45;&gt;2376224671280 -->\n",
       "<g class=\"edge\" id=\"edge6\"><title>2376195751496-&gt;2376224671280</title>\n",
       "<path d=\"M104.5,-146.313C104.5,-138.289 104.5,-128.547 104.5,-119.569\" fill=\"none\" stroke=\"black\"/>\n",
       "<polygon fill=\"black\" points=\"108,-119.529 104.5,-109.529 101,-119.529 108,-119.529\" stroke=\"black\"/>\n",
       "</g>\n",
       "<!-- 2376219851632 -->\n",
       "<g class=\"node\" id=\"node7\"><title>2376219851632</title>\n",
       "<polygon fill=\"none\" points=\"52.5,-0.5 52.5,-36.5 156.5,-36.5 156.5,-0.5 52.5,-0.5\" stroke=\"black\"/>\n",
       "<text font-family=\"Times New Roman,serif\" font-size=\"14.00\" text-anchor=\"middle\" x=\"104.5\" y=\"-14.8\">dense_4: Dense</text>\n",
       "</g>\n",
       "<!-- 2376224671280&#45;&gt;2376219851632 -->\n",
       "<g class=\"edge\" id=\"edge7\"><title>2376224671280-&gt;2376219851632</title>\n",
       "<path d=\"M104.5,-73.3129C104.5,-65.2895 104.5,-55.5475 104.5,-46.5691\" fill=\"none\" stroke=\"black\"/>\n",
       "<polygon fill=\"black\" points=\"108,-46.5288 104.5,-36.5288 101,-46.5289 108,-46.5288\" stroke=\"black\"/>\n",
       "</g>\n",
       "<!-- 2376193317184 -->\n",
       "<g class=\"node\" id=\"node8\"><title>2376193317184</title>\n",
       "<polygon fill=\"none\" points=\"52.5,-511.5 52.5,-547.5 156.5,-547.5 156.5,-511.5 52.5,-511.5\" stroke=\"black\"/>\n",
       "<text font-family=\"Times New Roman,serif\" font-size=\"14.00\" text-anchor=\"middle\" x=\"104.5\" y=\"-525.8\">2376193317184</text>\n",
       "</g>\n",
       "<!-- 2376193317184&#45;&gt;2376195715648 -->\n",
       "<g class=\"edge\" id=\"edge1\"><title>2376193317184-&gt;2376195715648</title>\n",
       "<path d=\"M104.5,-511.313C104.5,-503.289 104.5,-493.547 104.5,-484.569\" fill=\"none\" stroke=\"black\"/>\n",
       "<polygon fill=\"black\" points=\"108,-484.529 104.5,-474.529 101,-484.529 108,-484.529\" stroke=\"black\"/>\n",
       "</g>\n",
       "</g>\n",
       "</svg>"
      ],
      "text/plain": [
       "<IPython.core.display.SVG object>"
      ]
     },
     "execution_count": 64,
     "metadata": {},
     "output_type": "execute_result"
    }
   ],
   "source": [
    "from IPython.display import SVG\n",
    "from keras.utils.vis_utils import model_to_dot\n",
    "\n",
    "SVG(model_to_dot(model).create(prog='dot', format='svg'))"
   ]
  },
  {
   "cell_type": "markdown",
   "metadata": {
    "colab_type": "text",
    "id": "TfypWUJIlFkz"
   },
   "source": [
    "## Training CNN"
   ]
  },
  {
   "cell_type": "code",
   "execution_count": 65,
   "metadata": {
    "colab": {
     "base_uri": "https://localhost:8080/",
     "height": 931
    },
    "colab_type": "code",
    "id": "zsdmu-ggfvr1",
    "outputId": "77a52558-8ecc-4fc5-e0cb-2b86a75df4c6",
    "scrolled": false
   },
   "outputs": [
    {
     "name": "stdout",
     "output_type": "stream",
     "text": [
      "Train on 120 samples, validate on 48 samples\n",
      "Epoch 1/50\n",
      "120/120 [==============================] - 3s 25ms/step - loss: 1.0687 - acc: 0.4417 - val_loss: 1.0186 - val_acc: 0.6042\n",
      "Epoch 2/50\n",
      "120/120 [==============================] - 2s 15ms/step - loss: 1.0410 - acc: 0.5083 - val_loss: 0.9700 - val_acc: 0.6458\n",
      "Epoch 3/50\n",
      "120/120 [==============================] - 2s 18ms/step - loss: 0.9955 - acc: 0.5417 - val_loss: 0.9225 - val_acc: 0.6042\n",
      "Epoch 4/50\n",
      "120/120 [==============================] - 2s 20ms/step - loss: 0.9177 - acc: 0.6250 - val_loss: 0.8824 - val_acc: 0.7292\n",
      "Epoch 5/50\n",
      "120/120 [==============================] - 2s 17ms/step - loss: 0.8640 - acc: 0.6667 - val_loss: 0.8284 - val_acc: 0.5833\n",
      "Epoch 6/50\n",
      "120/120 [==============================] - 2s 19ms/step - loss: 0.8797 - acc: 0.6333 - val_loss: 0.8327 - val_acc: 0.5833\n",
      "Epoch 7/50\n",
      "120/120 [==============================] - 2s 18ms/step - loss: 0.8377 - acc: 0.6833 - val_loss: 0.7856 - val_acc: 0.6458\n",
      "Epoch 8/50\n",
      "120/120 [==============================] - 2s 19ms/step - loss: 0.8218 - acc: 0.6583 - val_loss: 0.7564 - val_acc: 0.6250\n",
      "Epoch 9/50\n",
      "120/120 [==============================] - 2s 17ms/step - loss: 0.7846 - acc: 0.6333 - val_loss: 0.7546 - val_acc: 0.6458\n",
      "Epoch 10/50\n",
      "120/120 [==============================] - 2s 19ms/step - loss: 0.7557 - acc: 0.6833 - val_loss: 0.7470 - val_acc: 0.5833\n",
      "Epoch 11/50\n",
      "120/120 [==============================] - 2s 15ms/step - loss: 0.7772 - acc: 0.6667 - val_loss: 0.7286 - val_acc: 0.6042\n",
      "Epoch 12/50\n",
      "120/120 [==============================] - 2s 16ms/step - loss: 0.6916 - acc: 0.7167 - val_loss: 0.6976 - val_acc: 0.7083\n",
      "Epoch 13/50\n",
      "120/120 [==============================] - 2s 18ms/step - loss: 0.7186 - acc: 0.6917 - val_loss: 0.6876 - val_acc: 0.6875\n",
      "Epoch 14/50\n",
      "120/120 [==============================] - 2s 18ms/step - loss: 0.7186 - acc: 0.7167 - val_loss: 0.6836 - val_acc: 0.6667\n",
      "Epoch 15/50\n",
      "120/120 [==============================] - 2s 15ms/step - loss: 0.6800 - acc: 0.7167 - val_loss: 0.6764 - val_acc: 0.6875\n",
      "Epoch 16/50\n",
      "120/120 [==============================] - 2s 17ms/step - loss: 0.6671 - acc: 0.7417 - val_loss: 0.6605 - val_acc: 0.6875\n",
      "Epoch 17/50\n",
      "120/120 [==============================] - 2s 17ms/step - loss: 0.6718 - acc: 0.7333 - val_loss: 0.6819 - val_acc: 0.6250\n",
      "Epoch 18/50\n",
      "120/120 [==============================] - 2s 17ms/step - loss: 0.6416 - acc: 0.7000 - val_loss: 0.6542 - val_acc: 0.6667\n",
      "Epoch 19/50\n",
      "120/120 [==============================] - 2s 19ms/step - loss: 0.6879 - acc: 0.7000 - val_loss: 0.6545 - val_acc: 0.6667\n",
      "Epoch 20/50\n",
      "120/120 [==============================] - 2s 17ms/step - loss: 0.5897 - acc: 0.7750 - val_loss: 0.6235 - val_acc: 0.7083\n",
      "Epoch 21/50\n",
      "120/120 [==============================] - 2s 17ms/step - loss: 0.6297 - acc: 0.7583 - val_loss: 0.6644 - val_acc: 0.6458\n",
      "Epoch 22/50\n",
      "120/120 [==============================] - 2s 17ms/step - loss: 0.5994 - acc: 0.7583 - val_loss: 0.6215 - val_acc: 0.7083\n",
      "Epoch 23/50\n",
      "120/120 [==============================] - 2s 16ms/step - loss: 0.5593 - acc: 0.7917 - val_loss: 0.6011 - val_acc: 0.7083\n",
      "Epoch 24/50\n",
      "120/120 [==============================] - 2s 18ms/step - loss: 0.5882 - acc: 0.7583 - val_loss: 0.6000 - val_acc: 0.6875\n",
      "Epoch 25/50\n",
      "120/120 [==============================] - 2s 17ms/step - loss: 0.5468 - acc: 0.7667 - val_loss: 0.5933 - val_acc: 0.7083\n",
      "Epoch 26/50\n",
      "120/120 [==============================] - 2s 16ms/step - loss: 0.5853 - acc: 0.7333 - val_loss: 0.5804 - val_acc: 0.7083\n",
      "Epoch 27/50\n",
      "120/120 [==============================] - 2s 16ms/step - loss: 0.5245 - acc: 0.8167 - val_loss: 0.5666 - val_acc: 0.7500\n",
      "Epoch 28/50\n",
      "120/120 [==============================] - 2s 17ms/step - loss: 0.5458 - acc: 0.8000 - val_loss: 0.5571 - val_acc: 0.7292\n",
      "Epoch 29/50\n",
      "120/120 [==============================] - 2s 18ms/step - loss: 0.5332 - acc: 0.7917 - val_loss: 0.5463 - val_acc: 0.7083\n",
      "Epoch 30/50\n",
      "120/120 [==============================] - 2s 16ms/step - loss: 0.5495 - acc: 0.8000 - val_loss: 0.5428 - val_acc: 0.7083\n",
      "Epoch 31/50\n",
      "120/120 [==============================] - 2s 16ms/step - loss: 0.4683 - acc: 0.8167 - val_loss: 0.5556 - val_acc: 0.7292\n",
      "Epoch 32/50\n",
      "120/120 [==============================] - 2s 17ms/step - loss: 0.5115 - acc: 0.8250 - val_loss: 0.5312 - val_acc: 0.8125\n",
      "Epoch 33/50\n",
      "120/120 [==============================] - 2s 16ms/step - loss: 0.4549 - acc: 0.8333 - val_loss: 0.5158 - val_acc: 0.7917\n",
      "Epoch 34/50\n",
      "120/120 [==============================] - 2s 18ms/step - loss: 0.4738 - acc: 0.8333 - val_loss: 0.5323 - val_acc: 0.7292\n",
      "Epoch 35/50\n",
      "120/120 [==============================] - 2s 17ms/step - loss: 0.5210 - acc: 0.7667 - val_loss: 0.5791 - val_acc: 0.7083\n",
      "Epoch 36/50\n",
      "120/120 [==============================] - 2s 18ms/step - loss: 0.5135 - acc: 0.8333 - val_loss: 0.5000 - val_acc: 0.7917\n",
      "Epoch 37/50\n",
      "120/120 [==============================] - 2s 17ms/step - loss: 0.3947 - acc: 0.8750 - val_loss: 0.4993 - val_acc: 0.7917\n",
      "Epoch 38/50\n",
      "120/120 [==============================] - 2s 18ms/step - loss: 0.4322 - acc: 0.8167 - val_loss: 0.4906 - val_acc: 0.7500\n",
      "Epoch 39/50\n",
      "120/120 [==============================] - 2s 16ms/step - loss: 0.4193 - acc: 0.8000 - val_loss: 0.4892 - val_acc: 0.8542\n",
      "Epoch 40/50\n",
      "120/120 [==============================] - 2s 19ms/step - loss: 0.3722 - acc: 0.8667 - val_loss: 0.4872 - val_acc: 0.7708\n",
      "Epoch 41/50\n",
      "120/120 [==============================] - 2s 17ms/step - loss: 0.4362 - acc: 0.8000 - val_loss: 0.5104 - val_acc: 0.8333\n",
      "Epoch 42/50\n",
      "120/120 [==============================] - 2s 18ms/step - loss: 0.3924 - acc: 0.8333 - val_loss: 0.4745 - val_acc: 0.7917\n",
      "Epoch 43/50\n",
      "120/120 [==============================] - 2s 17ms/step - loss: 0.3802 - acc: 0.8167 - val_loss: 0.5039 - val_acc: 0.8333\n",
      "Epoch 44/50\n",
      "120/120 [==============================] - 2s 17ms/step - loss: 0.4036 - acc: 0.8667 - val_loss: 0.4362 - val_acc: 0.8125\n",
      "Epoch 45/50\n",
      "120/120 [==============================] - 2s 16ms/step - loss: 0.3543 - acc: 0.8750 - val_loss: 0.4842 - val_acc: 0.7708\n",
      "Epoch 46/50\n",
      "120/120 [==============================] - 2s 17ms/step - loss: 0.3386 - acc: 0.8667 - val_loss: 0.4199 - val_acc: 0.8333\n",
      "Epoch 47/50\n",
      "120/120 [==============================] - 2s 17ms/step - loss: 0.3518 - acc: 0.8917 - val_loss: 0.4569 - val_acc: 0.7708\n",
      "Epoch 48/50\n",
      "120/120 [==============================] - 2s 18ms/step - loss: 0.3727 - acc: 0.8667 - val_loss: 0.4220 - val_acc: 0.8750\n",
      "Epoch 49/50\n",
      "120/120 [==============================] - 2s 16ms/step - loss: 0.3162 - acc: 0.8917 - val_loss: 0.4090 - val_acc: 0.8750\n",
      "Epoch 50/50\n",
      "120/120 [==============================] - 2s 17ms/step - loss: 0.2927 - acc: 0.9250 - val_loss: 0.4223 - val_acc: 0.7917\n"
     ]
    }
   ],
   "source": [
    "EPOCHS = 50\n",
    "history = model.fit(train_data, train_labels, epochs=EPOCHS, validation_data=(test_data, test_labels))"
   ]
  },
  {
   "cell_type": "code",
   "execution_count": 66,
   "metadata": {},
   "outputs": [
    {
     "name": "stdout",
     "output_type": "stream",
     "text": [
      "dict_keys(['val_loss', 'val_acc', 'loss', 'acc'])\n"
     ]
    },
    {
     "data": {
      "image/png": "[encoded data removed]",
      "text/plain": [
       "<matplotlib.figure.Figure at 0x22941a94390>"
      ]
     },
     "metadata": {},
     "output_type": "display_data"
    },
    {
     "data": {
      "image/png": "[encoded data removed]",
      "text/plain": [
       "<matplotlib.figure.Figure at 0x22941b45438>"
      ]
     },
     "metadata": {},
     "output_type": "display_data"
    }
   ],
   "source": [
    "print(history.history.keys())\n",
    "\n",
    "# Plot training & validation accuracy values\n",
    "plt.plot(history.history['acc'])\n",
    "plt.plot(history.history['val_acc'])\n",
    "\n",
    "plt.title('Model accuracy')\n",
    "plt.ylabel('Accuracy')\n",
    "plt.xlabel('Epoch')\n",
    "plt.legend(['Train', 'Test'], loc='upper left')\n",
    "plt.show()\n",
    "\n",
    "# Plot training & validation loss values\n",
    "plt.plot(history.history['loss'])\n",
    "plt.plot(history.history['val_loss'])\n",
    "plt.title('Model loss')\n",
    "plt.ylabel('Loss')\n",
    "plt.xlabel('Epoch')\n",
    "plt.legend(['Train', 'Test'], loc='upper left')\n",
    "plt.show()"
   ]
  },
  {
   "cell_type": "markdown",
   "metadata": {},
   "source": [
    "## Save the model"
   ]
  },
  {
   "cell_type": "code",
   "execution_count": 67,
   "metadata": {},
   "outputs": [],
   "source": [
    "import datetime\n",
    "\n",
    "dt = datetime.datetime.today().strftime('%Y%m%d%H%M%S')\n",
    "filename = 'cnn_for_rock_paper_scissors_{}.h5'.format(dt)\n",
    "model.save(filename)"
   ]
  },
  {
   "cell_type": "markdown",
   "metadata": {},
   "source": [
    "## Load the model"
   ]
  },
  {
   "cell_type": "code",
   "execution_count": 68,
   "metadata": {},
   "outputs": [],
   "source": [
    "del model\n",
    "model = models.load_model(filename)"
   ]
  },
  {
   "cell_type": "markdown",
   "metadata": {
    "colab_type": "text",
    "id": "j6con4C3lKC1"
   },
   "source": [
    "## Confirmation"
   ]
  },
  {
   "cell_type": "code",
   "execution_count": 69,
   "metadata": {
    "colab": {
     "base_uri": "https://localhost:8080/",
     "height": 34
    },
    "colab_type": "code",
    "id": "4oZYLLij69wU",
    "outputId": "b37a4b8a-2c80-411f-d8a9-5df1c6dbfe22"
   },
   "outputs": [
    {
     "data": {
      "text/plain": [
       "(120, 32, 32, 1)"
      ]
     },
     "execution_count": 69,
     "metadata": {},
     "output_type": "execute_result"
    }
   ],
   "source": [
    "import numpy as np\n",
    "import matplotlib.pyplot as plt\n",
    "train_data.shape"
   ]
  },
  {
   "cell_type": "code",
   "execution_count": 70,
   "metadata": {
    "colab": {
     "base_uri": "https://localhost:8080/",
     "height": 193
    },
    "colab_type": "code",
    "id": "zSxXE9FgRBdJ",
    "outputId": "f3a53efe-e99f-4572-f9b4-1bf3c39c77ec"
   },
   "outputs": [],
   "source": [
    "layer_outputs = [layer.output for layer in model.layers]\n",
    "#layer_outputs"
   ]
  },
  {
   "cell_type": "code",
   "execution_count": 71,
   "metadata": {
    "colab": {
     "base_uri": "https://localhost:8080/",
     "height": 34
    },
    "colab_type": "code",
    "id": "dcw7yHKrRkPD",
    "outputId": "a3ed5441-ae48-4635-bf07-ac5060030608"
   },
   "outputs": [],
   "source": [
    "activation_model = models.Model(inputs=model.input, outputs=layer_outputs)\n",
    "activations = activation_model.predict(test_data)\n",
    "#activations[0][0,:,:,0].shape"
   ]
  },
  {
   "cell_type": "code",
   "execution_count": 72,
   "metadata": {},
   "outputs": [
    {
     "data": {
      "text/plain": [
       "['paper', 'rock', 'scissors']"
      ]
     },
     "execution_count": 72,
     "metadata": {},
     "output_type": "execute_result"
    }
   ],
   "source": [
    "class_labels"
   ]
  },
  {
   "cell_type": "code",
   "execution_count": 73,
   "metadata": {
    "colab": {
     "base_uri": "https://localhost:8080/",
     "height": 193
    },
    "colab_type": "code",
    "id": "ccSNAwGKhRn9",
    "outputId": "0ad22e12-713b-4b07-e17b-45d39ff1b80b"
   },
   "outputs": [
    {
     "data": {
      "text/plain": [
       "array([[30, 22, 46],\n",
       "       [ 2,  5, 92],\n",
       "       [ 1,  5, 93],\n",
       "       [94,  4,  0],\n",
       "       [ 0,  0, 98],\n",
       "       [ 3, 95,  1],\n",
       "       [ 1, 98,  0],\n",
       "       [26, 39, 33],\n",
       "       [73, 24,  2],\n",
       "       [23, 76,  0]])"
      ]
     },
     "execution_count": 73,
     "metadata": {},
     "output_type": "execute_result"
    }
   ],
   "source": [
    "(activations[-1][:10]*100).astype(int)"
   ]
  },
  {
   "cell_type": "code",
   "execution_count": 74,
   "metadata": {
    "colab": {
     "base_uri": "https://localhost:8080/",
     "height": 193
    },
    "colab_type": "code",
    "id": "RoE0nxtuiGIN",
    "outputId": "154437a8-ab72-46f4-f42c-3e6464af47d0"
   },
   "outputs": [
    {
     "data": {
      "text/plain": [
       "array([[0, 0, 1],\n",
       "       [0, 0, 1],\n",
       "       [0, 0, 1],\n",
       "       [1, 0, 0],\n",
       "       [0, 0, 1],\n",
       "       [0, 1, 0],\n",
       "       [0, 1, 0],\n",
       "       [1, 0, 0],\n",
       "       [0, 1, 0],\n",
       "       [0, 1, 0]])"
      ]
     },
     "execution_count": 74,
     "metadata": {},
     "output_type": "execute_result"
    }
   ],
   "source": [
    "test_labels[:10].astype(int)"
   ]
  },
  {
   "cell_type": "code",
   "execution_count": 75,
   "metadata": {},
   "outputs": [],
   "source": [
    "def plot_layer(activations, sample, layer):\n",
    "    a = activations[layer].shape\n",
    "    rows = int(a[3]/4)\n",
    "    fig, axarr = plt.subplots(rows, 4, figsize=[20,15])\n",
    "    for i in range(a[3]):\n",
    "        row = int(i/4)\n",
    "        x, y = row, i-4*row\n",
    "        axarr[x, y].imshow(activations[layer][sample, :, :, i])\n",
    "        axarr[x, y].set_xticks([])\n",
    "        axarr[x, y].set_yticks([])"
   ]
  },
  {
   "cell_type": "code",
   "execution_count": 76,
   "metadata": {},
   "outputs": [
    {
     "data": {
      "text/plain": [
       "'paper'"
      ]
     },
     "execution_count": 76,
     "metadata": {},
     "output_type": "execute_result"
    },
    {
     "data": {
      "image/png": "[encoded data removed]",
      "text/plain": [
       "<matplotlib.figure.Figure at 0x22942330438>"
      ]
     },
     "metadata": {},
     "output_type": "display_data"
    }
   ],
   "source": [
    "image_number = 10\n",
    "\n",
    "plt.imshow(test_data[image_number,:,:,0])\n",
    "class_labels[np.argmax(test_labels[image_number])]"
   ]
  },
  {
   "cell_type": "code",
   "execution_count": 77,
   "metadata": {},
   "outputs": [
    {
     "data": {
      "image/png": "[encoded data removed]",
      "text/plain": [
       "<matplotlib.figure.Figure at 0x2293e688940>"
      ]
     },
     "metadata": {},
     "output_type": "display_data"
    }
   ],
   "source": [
    "plot_layer(activations, image_number, 1)"
   ]
  },
  {
   "cell_type": "code",
   "execution_count": 78,
   "metadata": {},
   "outputs": [
    {
     "data": {
      "image/png": "[encoded data removed]",
      "text/plain": [
       "<matplotlib.figure.Figure at 0x229424af128>"
      ]
     },
     "metadata": {},
     "output_type": "display_data"
    }
   ],
   "source": [
    "plot_layer(activations, image_number, 2)"
   ]
  },
  {
   "cell_type": "code",
   "execution_count": 79,
   "metadata": {},
   "outputs": [
    {
     "data": {
      "image/png": "[encoded data removed]",
      "text/plain": [
       "<matplotlib.figure.Figure at 0x22942106048>"
      ]
     },
     "metadata": {},
     "output_type": "display_data"
    }
   ],
   "source": [
    "plot_layer(activations, image_number, 3)"
   ]
  },
  {
   "cell_type": "code",
   "execution_count": null,
   "metadata": {},
   "outputs": [],
   "source": []
  }
 ],
 "metadata": {
  "colab": {
   "collapsed_sections": [],
   "name": "CNN for AED",
   "provenance": [],
   "version": "0.3.2"
  },
  "kernelspec": {
   "display_name": "Python 3",
   "language": "python",
   "name": "python3"
  },
  "language_info": {
   "codemirror_mode": {
    "name": "ipython",
    "version": 3
   },
   "file_extension": ".py",
   "mimetype": "text/x-python",
   "name": "python",
   "nbconvert_exporter": "python",
   "pygments_lexer": "ipython3",
   "version": "3.6.4"
  }
 },
 "nbformat": 4,
 "nbformat_minor": 1
}
