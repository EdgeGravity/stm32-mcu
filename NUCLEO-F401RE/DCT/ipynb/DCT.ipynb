{
 "cells": [
  {
   "cell_type": "code",
   "execution_count": 30,
   "metadata": {},
   "outputs": [],
   "source": [
    "from scipy.fftpack import dct, idct\n",
    "import numpy as np\n",
    "import matplotlib.pyplot as plt"
   ]
  },
  {
   "cell_type": "markdown",
   "metadata": {},
   "source": [
    "## DCT Type-II"
   ]
  },
  {
   "cell_type": "code",
   "execution_count": 31,
   "metadata": {},
   "outputs": [
    {
     "data": {
      "text/plain": [
       "array([1., 0., 1., 2., 3., 4., 3., 2.])"
      ]
     },
     "execution_count": 31,
     "metadata": {},
     "output_type": "execute_result"
    }
   ],
   "source": [
    "input_data = np.array([-1.0, -2.0, -1.0, 0.0, 1.0, 2.0, 1.0, 0.0], dtype=float)\n",
    "input_data = input_data + 2.0\n",
    "input_data"
   ]
  },
  {
   "cell_type": "markdown",
   "metadata": {},
   "source": [
    "## norm = None"
   ]
  },
  {
   "cell_type": "code",
   "execution_count": 32,
   "metadata": {},
   "outputs": [
    {
     "data": {
      "text/plain": [
       "array([ 32.        , -10.67399028,  -5.22625186,   6.50345486,\n",
       "         0.        ,   1.94009006,   2.1647844 ,  -0.08400636])"
      ]
     },
     "execution_count": 32,
     "metadata": {},
     "output_type": "execute_result"
    }
   ],
   "source": [
    "dcted = dct(input_data)\n",
    "dcted"
   ]
  },
  {
   "cell_type": "code",
   "execution_count": 33,
   "metadata": {},
   "outputs": [
    {
     "data": {
      "text/plain": [
       "array([ 1.60000000e+01, -7.10542736e-15,  1.60000000e+01,  3.20000000e+01,\n",
       "        4.80000000e+01,  6.40000000e+01,  4.80000000e+01,  3.20000000e+01])"
      ]
     },
     "execution_count": 33,
     "metadata": {},
     "output_type": "execute_result"
    }
   ],
   "source": [
    "idct(dcted)"
   ]
  },
  {
   "cell_type": "markdown",
   "metadata": {},
   "source": [
    "## norm = 'ortho'"
   ]
  },
  {
   "cell_type": "code",
   "execution_count": 34,
   "metadata": {},
   "outputs": [
    {
     "data": {
      "text/plain": [
       "array([ 5.65685425, -2.66849757, -1.30656296,  1.62586371,  0.        ,\n",
       "        0.48502251,  0.5411961 , -0.02100159])"
      ]
     },
     "execution_count": 34,
     "metadata": {},
     "output_type": "execute_result"
    }
   ],
   "source": [
    "dcted = dct(input_data, norm='ortho')\n",
    "dcted"
   ]
  },
  {
   "cell_type": "code",
   "execution_count": 35,
   "metadata": {},
   "outputs": [
    {
     "data": {
      "text/plain": [
       "array([1., 0., 1., 2., 3., 4., 3., 2.])"
      ]
     },
     "execution_count": 35,
     "metadata": {},
     "output_type": "execute_result"
    }
   ],
   "source": [
    "idct(dcted, norm='ortho')"
   ]
  },
  {
   "cell_type": "markdown",
   "metadata": {},
   "source": [
    "## DCT Type-II 2D"
   ]
  },
  {
   "cell_type": "code",
   "execution_count": 40,
   "metadata": {
    "scrolled": true
   },
   "outputs": [
    {
     "data": {
      "text/plain": [
       "array([[ 1.,  0.,  1.,  2.,  3.,  4.,  3.,  2.],\n",
       "       [ 2.,  0.,  0.,  2.,  3.,  4.,  4.,  2.],\n",
       "       [ 3.,  0., -1.,  2.,  3.,  4.,  3.,  2.],\n",
       "       [ 4.,  0., -2.,  2.,  3.,  4.,  2.,  2.],\n",
       "       [ 5.,  4.,  3.,  2.,  1.,  0., -1., -2.],\n",
       "       [ 6.,  0., -4.,  2.,  3.,  4.,  0.,  2.],\n",
       "       [ 7.,  6.,  5.,  4.,  3.,  2.,  1.,  0.],\n",
       "       [ 8.,  0., -6.,  2.,  3.,  4., -2.,  2.]])"
      ]
     },
     "execution_count": 40,
     "metadata": {},
     "output_type": "execute_result"
    },
    {
     "data": {
      "image/png": "[encoded data removed]",
      "text/plain": [
       "<matplotlib.figure.Figure at 0x1f89f806240>"
      ]
     },
     "metadata": {},
     "output_type": "display_data"
    }
   ],
   "source": [
    "input_data = np.array([1.0, 0.0, 1.0, 2.0, 3.0, 4.0, 3.0, 2.0,\n",
    "      2.0, 0.0, 0.0, 2.0, 3.0, 4.0, 4.0, 2.0,\n",
    "      3.0, 0.0, -1.0, 2.0, 3.0, 4.0, 3.0, 2.0,\n",
    "      4.0, 0.0, -2.0, 2.0, 3.0, 4.0, 2.0, 2.0,\n",
    "      5.0, 4.0, 3.0, 2.0, 1.0, 0.0, -1.0, -2.0,\n",
    "      6.0, 0.0, -4.0, 2.0, 3.0, 4.0, 0.0, 2.0,\n",
    "      7.0, 6.0, 5.0, 4.0, 3.0, 2.0, 1.0, 0.0,\n",
    "      8.0, 0.0, -6.0, 2.0, 3.0, 4.0, -2.0, 2.0], dtype=float)\n",
    "input_data = input_data.reshape((8,8))\n",
    "plt.imshow(input_data)\n",
    "input_data"
   ]
  },
  {
   "cell_type": "code",
   "execution_count": 37,
   "metadata": {},
   "outputs": [
    {
     "data": {
      "text/plain": [
       "array([[ 1.60000000e+01,  1.42357371e+00,  8.44623199e-01,\n",
       "         9.41584261e+00,  5.50000000e+00,  9.30948141e-01,\n",
       "         7.32537816e-01, -2.81934060e+00],\n",
       "       [-3.51831173e-01, -6.93090639e+00, -2.30533260e+00,\n",
       "        -2.38340281e+00, -3.78973005e+00,  1.27172107e+00,\n",
       "        -4.24102858e-01,  2.09623074e+00],\n",
       "       [ 1.08239220e+00, -1.86661883e+00, -1.03553391e-01,\n",
       "         7.86163192e-01,  8.77452247e-01, -3.27799479e-01,\n",
       "         4.57106781e-01, -5.42715467e-01],\n",
       "       [ 2.99508347e-01,  2.58822613e+00, -9.07070315e-01,\n",
       "        -2.42802890e+00, -1.95425524e+00, -1.47483308e-01,\n",
       "         7.42672851e-02,  9.99800900e-01],\n",
       "       [-2.50000000e+00,  7.38274023e-01,  1.91341716e-01,\n",
       "         5.02779172e-01,  1.00000000e+00, -5.66071028e-01,\n",
       "         4.61939766e-01, -6.17841535e-01],\n",
       "       [ 2.94265475e+00,  4.30923190e-02, -7.21147370e-01,\n",
       "        -1.33682314e+00, -1.32090116e+00,  9.22424606e-02,\n",
       "         1.96342225e-03,  6.91779520e-01],\n",
       "       [-2.61312593e+00, -4.11356901e+00,  9.57106781e-01,\n",
       "         3.57227104e+00,  3.42492008e+00, -4.58337936e-01,\n",
       "         6.03553391e-01, -1.89816884e+00],\n",
       "       [ 1.17358109e+00,  5.40689091e+00, -1.02709403e+00,\n",
       "        -3.87527446e+00, -3.28999281e+00,  7.37039750e-02,\n",
       "        -3.19854154e-01,  1.76669283e+00]])"
      ]
     },
     "execution_count": 37,
     "metadata": {},
     "output_type": "execute_result"
    }
   ],
   "source": [
    "dcted = dct(dct(input_data, norm='ortho').T, norm='ortho').T\n",
    "dcted"
   ]
  },
  {
   "cell_type": "code",
   "execution_count": 38,
   "metadata": {},
   "outputs": [
    {
     "data": {
      "text/plain": [
       "<matplotlib.image.AxesImage at 0x1f89f7ea198>"
      ]
     },
     "execution_count": 38,
     "metadata": {},
     "output_type": "execute_result"
    },
    {
     "data": {
      "image/png": "[encoded data removed]",
      "text/plain": [
       "<matplotlib.figure.Figure at 0x1f89f72c5f8>"
      ]
     },
     "metadata": {},
     "output_type": "display_data"
    }
   ],
   "source": [
    "plt.imshow(dcted)"
   ]
  },
  {
   "cell_type": "code",
   "execution_count": 29,
   "metadata": {},
   "outputs": [
    {
     "data": {
      "text/plain": [
       "<matplotlib.image.AxesImage at 0x1f89f72c160>"
      ]
     },
     "execution_count": 29,
     "metadata": {},
     "output_type": "execute_result"
    },
    {
     "data": {
      "image/png": "[encoded data removed]",
      "text/plain": [
       "<matplotlib.figure.Figure at 0x1f89e6b8c50>"
      ]
     },
     "metadata": {},
     "output_type": "display_data"
    }
   ],
   "source": [
    "input_data2 = idct(idct(dcted, norm='ortho').T, norm='ortho').T\n",
    "input_data2\n",
    "plt.imshow(input_data2)"
   ]
  },
  {
   "cell_type": "code",
   "execution_count": null,
   "metadata": {},
   "outputs": [],
   "source": []
  }
 ],
 "metadata": {
  "kernelspec": {
   "display_name": "Python 3",
   "language": "python",
   "name": "python3"
  },
  "language_info": {
   "codemirror_mode": {
    "name": "ipython",
    "version": 3
   },
   "file_extension": ".py",
   "mimetype": "text/x-python",
   "name": "python",
   "nbconvert_exporter": "python",
   "pygments_lexer": "ipython3",
   "version": "3.6.4"
  }
 },
 "nbformat": 4,
 "nbformat_minor": 2
}
