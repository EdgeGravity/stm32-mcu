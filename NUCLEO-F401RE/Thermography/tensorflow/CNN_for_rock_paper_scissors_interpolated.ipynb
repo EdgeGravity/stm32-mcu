{
 "cells": [
  {
   "cell_type": "markdown",
   "metadata": {
    "colab_type": "text",
    "id": "0X16cagQE-Y-"
   },
   "source": [
    "# CNN for rock-paper-scissors with Keras/TensorFlow (interploated)\n",
    "\n",
    "Date: December 6 and December 31, 2018\n",
    "\n",
    "Classification:\n",
    "- rock\n",
    "- paper\n",
    "- scissors"
   ]
  },
  {
   "cell_type": "markdown",
   "metadata": {
    "colab_type": "text",
    "id": "WwQ-dEltkl5Q"
   },
   "source": [
    "## Preparing data set for CNN"
   ]
  },
  {
   "cell_type": "code",
   "execution_count": 51,
   "metadata": {
    "colab": {
     "base_uri": "https://localhost:8080/",
     "height": 34
    },
    "colab_type": "code",
    "id": "VEJyQsGpV3ug",
    "outputId": "3929aa39-3383-4791-e065-3622e6781181"
   },
   "outputs": [],
   "source": [
    "DATA_FOLDER = '../thermography/data_interpolated/'\n",
    "\n",
    "FILES = 56\n",
    "TRAINING_FILES = 40\n",
    "TEST_FILES = FILES - TRAINING_FILES"
   ]
  },
  {
   "cell_type": "code",
   "execution_count": 52,
   "metadata": {
    "colab": {},
    "colab_type": "code",
    "id": "JTNdoPBFWGky"
   },
   "outputs": [],
   "source": [
    "%matplotlib inline\n",
    "\n",
    "import matplotlib.pyplot as plt\n",
    "import numpy as np\n",
    "import time\n",
    "import random\n",
    "import os\n",
    "import sklearn.preprocessing as pp"
   ]
  },
  {
   "cell_type": "code",
   "execution_count": 53,
   "metadata": {},
   "outputs": [],
   "source": [
    "# Normalization\n",
    "def scale(data):\n",
    "    min_ = np.min(data)\n",
    "    max_ = np.max(data)\n",
    "    mean = (max_ + min_) / 2.0\n",
    "    range_ = (max_ - min_) / 2.0\n",
    "    data = (data - mean)/range_\n",
    "    return data"
   ]
  },
  {
   "cell_type": "code",
   "execution_count": 54,
   "metadata": {},
   "outputs": [
    {
     "name": "stdout",
     "output_type": "stream",
     "text": [
      "0: paper\n",
      "1: rock\n",
      "2: scissors\n"
     ]
    }
   ],
   "source": [
    "import glob\n",
    "\n",
    "data_files = glob.glob(DATA_FOLDER+'*.csv')\n",
    "class_labels = []\n",
    "\n",
    "for file in data_files:\n",
    "    label = file.split('-')[0].replace('\\\\', '/').split('/')[-1]\n",
    "    if label not in class_labels:\n",
    "        class_labels.append(label)\n",
    "\n",
    "data_set = {}\n",
    "\n",
    "class_number = 0\n",
    "\n",
    "for label in class_labels:\n",
    "    files = glob.glob(DATA_FOLDER+'{}-*.csv'.format(label))\n",
    "    random.shuffle(files)\n",
    "    data_set[label] = (files[:TRAINING_FILES], files[TRAINING_FILES:FILES], class_number)\n",
    "    class_number += 1\n",
    "\n",
    "training_set = []\n",
    "test_set = []\n",
    "\n",
    "for k, v in data_set.items():\n",
    "    files = v[0]\n",
    "    class_number = v[2]\n",
    "    for file in files:\n",
    "        with open(file) as f:\n",
    "            data = np.array(f.read().split(',')).astype(float)\n",
    "            #training_set.append((pp.scale(data), class_number))\n",
    "            training_set.append((scale(data), class_number))\n",
    "    files = v[1]\n",
    "    for file in files:\n",
    "        with open(file) as f:\n",
    "            data = np.array(f.read().split(',')).astype(float)\n",
    "            #test_set.append((pp.scale(data), class_number))\n",
    "            test_set.append((scale(data), class_number))\n",
    "random.shuffle(training_set)\n",
    "random.shuffle(test_set)\n",
    "\n",
    "class_labels = [None for _ in range(len(data_set))]\n",
    "\n",
    "# Class number and class labels\n",
    "for k,v in data_set.items():\n",
    "    print('{}: {}'.format(v[2],k))\n",
    "    class_labels[v[2]] = k\n",
    "    \n",
    "import yaml\n",
    "with open(DATA_FOLDER+'class_labels.yaml', 'w') as f:\n",
    "    yaml.dump(class_labels, f)"
   ]
  },
  {
   "cell_type": "code",
   "execution_count": 55,
   "metadata": {
    "colab": {},
    "colab_type": "code",
    "id": "28tIKkNyW3cO"
   },
   "outputs": [
    {
     "data": {
      "text/plain": [
       "array([[-0.90977444, -0.90977444, -0.90977444, ..., -0.92481203,\n",
       "        -0.95488722, -1.        ],\n",
       "       [-0.89473684, -0.89473684, -0.87969925, ..., -0.90977444,\n",
       "        -0.93984962, -0.96992481],\n",
       "       [-0.89473684, -0.87969925, -0.86466165, ..., -0.87969925,\n",
       "        -0.90977444, -0.93984962],\n",
       "       ...,\n",
       "       [-0.35338346, -0.05263158,  0.20300752, ..., -0.62406015,\n",
       "        -0.62406015, -0.60902256],\n",
       "       [-0.36842105, -0.09774436,  0.12781955, ..., -0.60902256,\n",
       "        -0.60902256, -0.59398496],\n",
       "       [-0.39849624, -0.15789474,  0.05263158, ..., -0.57894737,\n",
       "        -0.57894737, -0.57894737]])"
      ]
     },
     "execution_count": 55,
     "metadata": {},
     "output_type": "execute_result"
    },
    {
     "data": {
      "image/png": "[encoded data removed]",
      "text/plain": [
       "<matplotlib.figure.Figure at 0x1c4e8007fd0>"
      ]
     },
     "metadata": {},
     "output_type": "display_data"
    }
   ],
   "source": [
    "train_data, train_labels = [], []\n",
    "test_data, test_labels = [], []\n",
    "for img, label in training_set:\n",
    "    train_data.append(img)\n",
    "    train_labels.append(label)\n",
    "for img, label in test_set:\n",
    "    test_data.append(img)\n",
    "    test_labels.append(label)\n",
    "train_data = np.array(train_data).reshape((TRAINING_FILES*len(class_labels), 32, 32, 1))\n",
    "train_labels = np.array(train_labels, dtype='uint8')\n",
    "test_data = np.array(test_data).reshape((TEST_FILES*len(class_labels), 32, 32, 1))\n",
    "test_lables = np.array(test_labels, dtype='uint8')\n",
    "#train_data.shape\n",
    "\n",
    "from keras.utils import to_categorical\n",
    "\n",
    "train_labels=to_categorical(train_labels)\n",
    "test_labels=to_categorical(test_labels)\n",
    "\n",
    "plt.imshow(train_data[12,:,:,0])\n",
    "train_data[12,:,:,0]"
   ]
  },
  {
   "cell_type": "markdown",
   "metadata": {
    "colab_type": "text",
    "id": "VfUmgxxVk6uM"
   },
   "source": [
    "### CNN model"
   ]
  },
  {
   "cell_type": "code",
   "execution_count": 56,
   "metadata": {
    "colab": {
     "base_uri": "https://localhost:8080/",
     "height": 509
    },
    "colab_type": "code",
    "id": "B2Xg6tGLdMKP",
    "outputId": "ae3daa32-9dbf-4d8b-9a11-7f596dd2e4a6"
   },
   "outputs": [
    {
     "name": "stdout",
     "output_type": "stream",
     "text": [
      "_________________________________________________________________\n",
      "Layer (type)                 Output Shape              Param #   \n",
      "=================================================================\n",
      "conv2d_9 (Conv2D)            (None, 30, 30, 16)        160       \n",
      "_________________________________________________________________\n",
      "max_pooling2d_9 (MaxPooling2 (None, 15, 15, 16)        0         \n",
      "_________________________________________________________________\n",
      "conv2d_10 (Conv2D)           (None, 13, 13, 32)        4640      \n",
      "_________________________________________________________________\n",
      "max_pooling2d_10 (MaxPooling (None, 6, 6, 32)          0         \n",
      "_________________________________________________________________\n",
      "flatten_5 (Flatten)          (None, 1152)              0         \n",
      "_________________________________________________________________\n",
      "dropout_5 (Dropout)          (None, 1152)              0         \n",
      "_________________________________________________________________\n",
      "dense_5 (Dense)              (None, 3)                 3459      \n",
      "=================================================================\n",
      "Total params: 8,259\n",
      "Trainable params: 8,259\n",
      "Non-trainable params: 0\n",
      "_________________________________________________________________\n"
     ]
    }
   ],
   "source": [
    "from keras import layers\n",
    "from keras import models\n",
    "\n",
    "model = models.Sequential()\n",
    "\n",
    "model.add(layers.Conv2D(16, (3, 3), activation='relu', input_shape=(32, 32, 1)))\n",
    "model.add(layers.MaxPooling2D((2,2)))\n",
    "\n",
    "model.add(layers.Conv2D(32, (3, 3), activation='relu'))\n",
    "model.add(layers.MaxPooling2D((2,2)))\n",
    "\n",
    "model.add(layers.Flatten())\n",
    "model.add(layers.Dropout(0.5))\n",
    "model.add(layers.Dense(len(class_labels), activation='softmax'))\n",
    "\n",
    "model.summary()"
   ]
  },
  {
   "cell_type": "code",
   "execution_count": 57,
   "metadata": {
    "colab": {},
    "colab_type": "code",
    "id": "nRr1L_4ogL6i"
   },
   "outputs": [],
   "source": [
    "model.compile(optimizer='rmsprop', loss='categorical_crossentropy', metrics=['accuracy'])"
   ]
  },
  {
   "cell_type": "code",
   "execution_count": 58,
   "metadata": {},
   "outputs": [
    {
     "data": {
      "image/svg+xml": [
       "<svg height=\"556pt\" viewBox=\"0.00 0.00 223.00 556.00\" width=\"223pt\" xmlns=\"http://www.w3.org/2000/svg\" xmlns:xlink=\"http://www.w3.org/1999/xlink\">\n",
       "<g class=\"graph\" id=\"graph0\" transform=\"scale(1 1) rotate(0) translate(4 552)\">\n",
       "<title>G</title>\n",
       "<polygon fill=\"white\" points=\"-4,4 -4,-552 219,-552 219,4 -4,4\" stroke=\"none\"/>\n",
       "<!-- 1945203222792 -->\n",
       "<g class=\"node\" id=\"node1\"><title>1945203222792</title>\n",
       "<polygon fill=\"none\" points=\"44,-438.5 44,-474.5 171,-474.5 171,-438.5 44,-438.5\" stroke=\"black\"/>\n",
       "<text font-family=\"Times New Roman,serif\" font-size=\"14.00\" text-anchor=\"middle\" x=\"107.5\" y=\"-452.8\">conv2d_9: Conv2D</text>\n",
       "</g>\n",
       "<!-- 1945203222680 -->\n",
       "<g class=\"node\" id=\"node2\"><title>1945203222680</title>\n",
       "<polygon fill=\"none\" points=\"3,-365.5 3,-401.5 212,-401.5 212,-365.5 3,-365.5\" stroke=\"black\"/>\n",
       "<text font-family=\"Times New Roman,serif\" font-size=\"14.00\" text-anchor=\"middle\" x=\"107.5\" y=\"-379.8\">max_pooling2d_9: MaxPooling2D</text>\n",
       "</g>\n",
       "<!-- 1945203222792&#45;&gt;1945203222680 -->\n",
       "<g class=\"edge\" id=\"edge2\"><title>1945203222792-&gt;1945203222680</title>\n",
       "<path d=\"M107.5,-438.313C107.5,-430.289 107.5,-420.547 107.5,-411.569\" fill=\"none\" stroke=\"black\"/>\n",
       "<polygon fill=\"black\" points=\"111,-411.529 107.5,-401.529 104,-411.529 111,-411.529\" stroke=\"black\"/>\n",
       "</g>\n",
       "<!-- 1945203221056 -->\n",
       "<g class=\"node\" id=\"node3\"><title>1945203221056</title>\n",
       "<polygon fill=\"none\" points=\"40.5,-292.5 40.5,-328.5 174.5,-328.5 174.5,-292.5 40.5,-292.5\" stroke=\"black\"/>\n",
       "<text font-family=\"Times New Roman,serif\" font-size=\"14.00\" text-anchor=\"middle\" x=\"107.5\" y=\"-306.8\">conv2d_10: Conv2D</text>\n",
       "</g>\n",
       "<!-- 1945203222680&#45;&gt;1945203221056 -->\n",
       "<g class=\"edge\" id=\"edge3\"><title>1945203222680-&gt;1945203221056</title>\n",
       "<path d=\"M107.5,-365.313C107.5,-357.289 107.5,-347.547 107.5,-338.569\" fill=\"none\" stroke=\"black\"/>\n",
       "<polygon fill=\"black\" points=\"111,-338.529 107.5,-328.529 104,-338.529 111,-338.529\" stroke=\"black\"/>\n",
       "</g>\n",
       "<!-- 1945207150688 -->\n",
       "<g class=\"node\" id=\"node4\"><title>1945207150688</title>\n",
       "<polygon fill=\"none\" points=\"0,-219.5 0,-255.5 215,-255.5 215,-219.5 0,-219.5\" stroke=\"black\"/>\n",
       "<text font-family=\"Times New Roman,serif\" font-size=\"14.00\" text-anchor=\"middle\" x=\"107.5\" y=\"-233.8\">max_pooling2d_10: MaxPooling2D</text>\n",
       "</g>\n",
       "<!-- 1945203221056&#45;&gt;1945207150688 -->\n",
       "<g class=\"edge\" id=\"edge4\"><title>1945203221056-&gt;1945207150688</title>\n",
       "<path d=\"M107.5,-292.313C107.5,-284.289 107.5,-274.547 107.5,-265.569\" fill=\"none\" stroke=\"black\"/>\n",
       "<polygon fill=\"black\" points=\"111,-265.529 107.5,-255.529 104,-265.529 111,-265.529\" stroke=\"black\"/>\n",
       "</g>\n",
       "<!-- 1945207149680 -->\n",
       "<g class=\"node\" id=\"node5\"><title>1945207149680</title>\n",
       "<polygon fill=\"none\" points=\"53,-146.5 53,-182.5 162,-182.5 162,-146.5 53,-146.5\" stroke=\"black\"/>\n",
       "<text font-family=\"Times New Roman,serif\" font-size=\"14.00\" text-anchor=\"middle\" x=\"107.5\" y=\"-160.8\">flatten_5: Flatten</text>\n",
       "</g>\n",
       "<!-- 1945207150688&#45;&gt;1945207149680 -->\n",
       "<g class=\"edge\" id=\"edge5\"><title>1945207150688-&gt;1945207149680</title>\n",
       "<path d=\"M107.5,-219.313C107.5,-211.289 107.5,-201.547 107.5,-192.569\" fill=\"none\" stroke=\"black\"/>\n",
       "<polygon fill=\"black\" points=\"111,-192.529 107.5,-182.529 104,-192.529 111,-192.529\" stroke=\"black\"/>\n",
       "</g>\n",
       "<!-- 1945212846544 -->\n",
       "<g class=\"node\" id=\"node6\"><title>1945212846544</title>\n",
       "<polygon fill=\"none\" points=\"42.5,-73.5 42.5,-109.5 172.5,-109.5 172.5,-73.5 42.5,-73.5\" stroke=\"black\"/>\n",
       "<text font-family=\"Times New Roman,serif\" font-size=\"14.00\" text-anchor=\"middle\" x=\"107.5\" y=\"-87.8\">dropout_5: Dropout</text>\n",
       "</g>\n",
       "<!-- 1945207149680&#45;&gt;1945212846544 -->\n",
       "<g class=\"edge\" id=\"edge6\"><title>1945207149680-&gt;1945212846544</title>\n",
       "<path d=\"M107.5,-146.313C107.5,-138.289 107.5,-128.547 107.5,-119.569\" fill=\"none\" stroke=\"black\"/>\n",
       "<polygon fill=\"black\" points=\"111,-119.529 107.5,-109.529 104,-119.529 111,-119.529\" stroke=\"black\"/>\n",
       "</g>\n",
       "<!-- 1945212846880 -->\n",
       "<g class=\"node\" id=\"node7\"><title>1945212846880</title>\n",
       "<polygon fill=\"none\" points=\"55.5,-0.5 55.5,-36.5 159.5,-36.5 159.5,-0.5 55.5,-0.5\" stroke=\"black\"/>\n",
       "<text font-family=\"Times New Roman,serif\" font-size=\"14.00\" text-anchor=\"middle\" x=\"107.5\" y=\"-14.8\">dense_5: Dense</text>\n",
       "</g>\n",
       "<!-- 1945212846544&#45;&gt;1945212846880 -->\n",
       "<g class=\"edge\" id=\"edge7\"><title>1945212846544-&gt;1945212846880</title>\n",
       "<path d=\"M107.5,-73.3129C107.5,-65.2895 107.5,-55.5475 107.5,-46.5691\" fill=\"none\" stroke=\"black\"/>\n",
       "<polygon fill=\"black\" points=\"111,-46.5288 107.5,-36.5288 104,-46.5289 111,-46.5288\" stroke=\"black\"/>\n",
       "</g>\n",
       "<!-- 1945203220664 -->\n",
       "<g class=\"node\" id=\"node8\"><title>1945203220664</title>\n",
       "<polygon fill=\"none\" points=\"55.5,-511.5 55.5,-547.5 159.5,-547.5 159.5,-511.5 55.5,-511.5\" stroke=\"black\"/>\n",
       "<text font-family=\"Times New Roman,serif\" font-size=\"14.00\" text-anchor=\"middle\" x=\"107.5\" y=\"-525.8\">1945203220664</text>\n",
       "</g>\n",
       "<!-- 1945203220664&#45;&gt;1945203222792 -->\n",
       "<g class=\"edge\" id=\"edge1\"><title>1945203220664-&gt;1945203222792</title>\n",
       "<path d=\"M107.5,-511.313C107.5,-503.289 107.5,-493.547 107.5,-484.569\" fill=\"none\" stroke=\"black\"/>\n",
       "<polygon fill=\"black\" points=\"111,-484.529 107.5,-474.529 104,-484.529 111,-484.529\" stroke=\"black\"/>\n",
       "</g>\n",
       "</g>\n",
       "</svg>"
      ],
      "text/plain": [
       "<IPython.core.display.SVG object>"
      ]
     },
     "execution_count": 58,
     "metadata": {},
     "output_type": "execute_result"
    }
   ],
   "source": [
    "from IPython.display import SVG\n",
    "from keras.utils.vis_utils import model_to_dot\n",
    "\n",
    "SVG(model_to_dot(model).create(prog='dot', format='svg'))"
   ]
  },
  {
   "cell_type": "markdown",
   "metadata": {
    "colab_type": "text",
    "id": "TfypWUJIlFkz"
   },
   "source": [
    "## Training CNN"
   ]
  },
  {
   "cell_type": "code",
   "execution_count": 59,
   "metadata": {
    "colab": {
     "base_uri": "https://localhost:8080/",
     "height": 931
    },
    "colab_type": "code",
    "id": "zsdmu-ggfvr1",
    "outputId": "77a52558-8ecc-4fc5-e0cb-2b86a75df4c6",
    "scrolled": false
   },
   "outputs": [
    {
     "name": "stdout",
     "output_type": "stream",
     "text": [
      "Train on 120 samples, validate on 48 samples\n",
      "Epoch 1/50\n",
      "120/120 [==============================] - 3s 24ms/step - loss: 1.1029 - acc: 0.3167 - val_loss: 1.0507 - val_acc: 0.5000\n",
      "Epoch 2/50\n",
      "120/120 [==============================] - 2s 16ms/step - loss: 1.0208 - acc: 0.5333 - val_loss: 1.0010 - val_acc: 0.5208\n",
      "Epoch 3/50\n",
      "120/120 [==============================] - 2s 14ms/step - loss: 0.9581 - acc: 0.6000 - val_loss: 0.9317 - val_acc: 0.6250\n",
      "Epoch 4/50\n",
      "120/120 [==============================] - 2s 13ms/step - loss: 0.8778 - acc: 0.6667 - val_loss: 0.8706 - val_acc: 0.6875\n",
      "Epoch 5/50\n",
      "120/120 [==============================] - 2s 13ms/step - loss: 0.8858 - acc: 0.5833 - val_loss: 0.8415 - val_acc: 0.7500\n",
      "Epoch 6/50\n",
      "120/120 [==============================] - 2s 14ms/step - loss: 0.7898 - acc: 0.6750 - val_loss: 0.8131 - val_acc: 0.7292\n",
      "Epoch 7/50\n",
      "120/120 [==============================] - 2s 17ms/step - loss: 0.7960 - acc: 0.6750 - val_loss: 0.8232 - val_acc: 0.6667\n",
      "Epoch 8/50\n",
      "120/120 [==============================] - 2s 17ms/step - loss: 0.7315 - acc: 0.7250 - val_loss: 0.7892 - val_acc: 0.6875\n",
      "Epoch 9/50\n",
      "120/120 [==============================] - 2s 15ms/step - loss: 0.7559 - acc: 0.6833 - val_loss: 0.7799 - val_acc: 0.7083\n",
      "Epoch 10/50\n",
      "120/120 [==============================] - 2s 16ms/step - loss: 0.7995 - acc: 0.6583 - val_loss: 0.7725 - val_acc: 0.7500\n",
      "Epoch 11/50\n",
      "120/120 [==============================] - 2s 17ms/step - loss: 0.6825 - acc: 0.7333 - val_loss: 0.7679 - val_acc: 0.6875\n",
      "Epoch 12/50\n",
      "120/120 [==============================] - 2s 13ms/step - loss: 0.7390 - acc: 0.6333 - val_loss: 0.7402 - val_acc: 0.7500\n",
      "Epoch 13/50\n",
      "120/120 [==============================] - 2s 14ms/step - loss: 0.7154 - acc: 0.7167 - val_loss: 0.7047 - val_acc: 0.7500\n",
      "Epoch 14/50\n",
      "120/120 [==============================] - 2s 14ms/step - loss: 0.7537 - acc: 0.6667 - val_loss: 0.7086 - val_acc: 0.7708\n",
      "Epoch 15/50\n",
      "120/120 [==============================] - 2s 16ms/step - loss: 0.6469 - acc: 0.7667 - val_loss: 0.6918 - val_acc: 0.7708\n",
      "Epoch 16/50\n",
      "120/120 [==============================] - 2s 14ms/step - loss: 0.6494 - acc: 0.7250 - val_loss: 0.7222 - val_acc: 0.7292\n",
      "Epoch 17/50\n",
      "120/120 [==============================] - 2s 15ms/step - loss: 0.6802 - acc: 0.7500 - val_loss: 0.7133 - val_acc: 0.7500\n",
      "Epoch 18/50\n",
      "120/120 [==============================] - 2s 13ms/step - loss: 0.6511 - acc: 0.7417 - val_loss: 0.6759 - val_acc: 0.7500\n",
      "Epoch 19/50\n",
      "120/120 [==============================] - 2s 15ms/step - loss: 0.6924 - acc: 0.7250 - val_loss: 0.6469 - val_acc: 0.7917\n",
      "Epoch 20/50\n",
      "120/120 [==============================] - 2s 15ms/step - loss: 0.6889 - acc: 0.6667 - val_loss: 0.7075 - val_acc: 0.6875\n",
      "Epoch 21/50\n",
      "120/120 [==============================] - 2s 15ms/step - loss: 0.6775 - acc: 0.7000 - val_loss: 0.7017 - val_acc: 0.7500\n",
      "Epoch 22/50\n",
      "120/120 [==============================] - 2s 15ms/step - loss: 0.6713 - acc: 0.7417 - val_loss: 0.7960 - val_acc: 0.6042\n",
      "Epoch 23/50\n",
      "120/120 [==============================] - 2s 14ms/step - loss: 0.6485 - acc: 0.7583 - val_loss: 0.6590 - val_acc: 0.7500\n",
      "Epoch 24/50\n",
      "120/120 [==============================] - 2s 14ms/step - loss: 0.6749 - acc: 0.7250 - val_loss: 0.6143 - val_acc: 0.8333\n",
      "Epoch 25/50\n",
      "120/120 [==============================] - 2s 15ms/step - loss: 0.5878 - acc: 0.7750 - val_loss: 0.6304 - val_acc: 0.7500\n",
      "Epoch 26/50\n",
      "120/120 [==============================] - 2s 17ms/step - loss: 0.6404 - acc: 0.7250 - val_loss: 0.6063 - val_acc: 0.8125\n",
      "Epoch 27/50\n",
      "120/120 [==============================] - 2s 18ms/step - loss: 0.6620 - acc: 0.7500 - val_loss: 0.5986 - val_acc: 0.8125\n",
      "Epoch 28/50\n",
      "120/120 [==============================] - 2s 16ms/step - loss: 0.5595 - acc: 0.7667 - val_loss: 0.6263 - val_acc: 0.7708\n",
      "Epoch 29/50\n",
      "120/120 [==============================] - 2s 14ms/step - loss: 0.6011 - acc: 0.7667 - val_loss: 0.5948 - val_acc: 0.8125\n",
      "Epoch 30/50\n",
      "120/120 [==============================] - 2s 14ms/step - loss: 0.5813 - acc: 0.7750 - val_loss: 0.5926 - val_acc: 0.8333\n",
      "Epoch 31/50\n",
      "120/120 [==============================] - 2s 15ms/step - loss: 0.6011 - acc: 0.7500 - val_loss: 0.5815 - val_acc: 0.8333\n",
      "Epoch 32/50\n",
      "120/120 [==============================] - 2s 15ms/step - loss: 0.6006 - acc: 0.7583 - val_loss: 0.5663 - val_acc: 0.8333\n",
      "Epoch 33/50\n",
      "120/120 [==============================] - 2s 15ms/step - loss: 0.5829 - acc: 0.7417 - val_loss: 0.5653 - val_acc: 0.8125\n",
      "Epoch 34/50\n",
      "120/120 [==============================] - 2s 14ms/step - loss: 0.5665 - acc: 0.8167 - val_loss: 0.5717 - val_acc: 0.7917\n",
      "Epoch 35/50\n",
      "120/120 [==============================] - 2s 15ms/step - loss: 0.5505 - acc: 0.8083 - val_loss: 0.5583 - val_acc: 0.8333\n",
      "Epoch 36/50\n",
      "120/120 [==============================] - 2s 14ms/step - loss: 0.5395 - acc: 0.7667 - val_loss: 0.5789 - val_acc: 0.7917\n",
      "Epoch 37/50\n",
      "120/120 [==============================] - 2s 15ms/step - loss: 0.4891 - acc: 0.8167 - val_loss: 0.5401 - val_acc: 0.8125\n",
      "Epoch 38/50\n",
      "120/120 [==============================] - 2s 16ms/step - loss: 0.5840 - acc: 0.7667 - val_loss: 0.5169 - val_acc: 0.8542\n",
      "Epoch 39/50\n",
      "120/120 [==============================] - 2s 14ms/step - loss: 0.5145 - acc: 0.7833 - val_loss: 0.5139 - val_acc: 0.8542\n",
      "Epoch 40/50\n",
      "120/120 [==============================] - 2s 16ms/step - loss: 0.5130 - acc: 0.7833 - val_loss: 0.5597 - val_acc: 0.8125\n",
      "Epoch 41/50\n",
      "120/120 [==============================] - 2s 16ms/step - loss: 0.5335 - acc: 0.8000 - val_loss: 0.5245 - val_acc: 0.8333\n",
      "Epoch 42/50\n",
      "120/120 [==============================] - 2s 13ms/step - loss: 0.4733 - acc: 0.8083 - val_loss: 0.5158 - val_acc: 0.8333\n",
      "Epoch 43/50\n",
      "120/120 [==============================] - 2s 16ms/step - loss: 0.4770 - acc: 0.8167 - val_loss: 0.5128 - val_acc: 0.8125\n",
      "Epoch 44/50\n",
      "120/120 [==============================] - 2s 17ms/step - loss: 0.4724 - acc: 0.8417 - val_loss: 0.4903 - val_acc: 0.8333\n",
      "Epoch 45/50\n",
      "120/120 [==============================] - 2s 16ms/step - loss: 0.4532 - acc: 0.8333 - val_loss: 0.5295 - val_acc: 0.8125\n",
      "Epoch 46/50\n",
      "120/120 [==============================] - 2s 14ms/step - loss: 0.4689 - acc: 0.8250 - val_loss: 0.4998 - val_acc: 0.8542\n",
      "Epoch 47/50\n",
      "120/120 [==============================] - 2s 14ms/step - loss: 0.4072 - acc: 0.8667 - val_loss: 0.5199 - val_acc: 0.8333\n",
      "Epoch 48/50\n",
      "120/120 [==============================] - 2s 15ms/step - loss: 0.4377 - acc: 0.8417 - val_loss: 0.4631 - val_acc: 0.8542\n",
      "Epoch 49/50\n",
      "120/120 [==============================] - 2s 15ms/step - loss: 0.4317 - acc: 0.8417 - val_loss: 0.4566 - val_acc: 0.8333\n",
      "Epoch 50/50\n",
      "120/120 [==============================] - 2s 15ms/step - loss: 0.3941 - acc: 0.8750 - val_loss: 0.5128 - val_acc: 0.8333\n"
     ]
    }
   ],
   "source": [
    "EPOCHS = 50\n",
    "history = model.fit(train_data, train_labels, epochs=EPOCHS, validation_data=(test_data, test_labels))"
   ]
  },
  {
   "cell_type": "code",
   "execution_count": 60,
   "metadata": {},
   "outputs": [
    {
     "name": "stdout",
     "output_type": "stream",
     "text": [
      "dict_keys(['val_loss', 'val_acc', 'loss', 'acc'])\n"
     ]
    },
    {
     "data": {
      "image/png": "[encoded data removed]",
      "text/plain": [
       "<matplotlib.figure.Figure at 0x1c4e74b4fd0>"
      ]
     },
     "metadata": {},
     "output_type": "display_data"
    },
    {
     "data": {
      "image/png": "[encoded data removed]",
      "text/plain": [
       "<matplotlib.figure.Figure at 0x1c4e74dbe80>"
      ]
     },
     "metadata": {},
     "output_type": "display_data"
    }
   ],
   "source": [
    "print(history.history.keys())\n",
    "\n",
    "# Plot training & validation accuracy values\n",
    "plt.plot(history.history['acc'])\n",
    "plt.plot(history.history['val_acc'])\n",
    "\n",
    "plt.title('Model accuracy')\n",
    "plt.ylabel('Accuracy')\n",
    "plt.xlabel('Epoch')\n",
    "plt.legend(['Train', 'Test'], loc='upper left')\n",
    "plt.show()\n",
    "\n",
    "# Plot training & validation loss values\n",
    "plt.plot(history.history['loss'])\n",
    "plt.plot(history.history['val_loss'])\n",
    "plt.title('Model loss')\n",
    "plt.ylabel('Loss')\n",
    "plt.xlabel('Epoch')\n",
    "plt.legend(['Train', 'Test'], loc='upper left')\n",
    "plt.show()"
   ]
  },
  {
   "cell_type": "markdown",
   "metadata": {},
   "source": [
    "## Save the model"
   ]
  },
  {
   "cell_type": "code",
   "execution_count": 61,
   "metadata": {},
   "outputs": [],
   "source": [
    "import datetime\n",
    "\n",
    "dt = datetime.datetime.today().strftime('%Y%m%d%H%M%S')\n",
    "filename = 'cnn_for_rock_paper_scissors_interpolated{}.h5'.format(dt)\n",
    "model.save(filename)"
   ]
  },
  {
   "cell_type": "markdown",
   "metadata": {},
   "source": [
    "## Load the model"
   ]
  },
  {
   "cell_type": "code",
   "execution_count": 62,
   "metadata": {},
   "outputs": [],
   "source": [
    "del model\n",
    "model = models.load_model(filename)"
   ]
  },
  {
   "cell_type": "markdown",
   "metadata": {
    "colab_type": "text",
    "id": "j6con4C3lKC1"
   },
   "source": [
    "## Confirmation"
   ]
  },
  {
   "cell_type": "code",
   "execution_count": 63,
   "metadata": {
    "colab": {
     "base_uri": "https://localhost:8080/",
     "height": 34
    },
    "colab_type": "code",
    "id": "4oZYLLij69wU",
    "outputId": "b37a4b8a-2c80-411f-d8a9-5df1c6dbfe22"
   },
   "outputs": [
    {
     "data": {
      "text/plain": [
       "(120, 32, 32, 1)"
      ]
     },
     "execution_count": 63,
     "metadata": {},
     "output_type": "execute_result"
    }
   ],
   "source": [
    "import numpy as np\n",
    "import matplotlib.pyplot as plt\n",
    "train_data.shape"
   ]
  },
  {
   "cell_type": "code",
   "execution_count": 64,
   "metadata": {
    "colab": {
     "base_uri": "https://localhost:8080/",
     "height": 193
    },
    "colab_type": "code",
    "id": "zSxXE9FgRBdJ",
    "outputId": "f3a53efe-e99f-4572-f9b4-1bf3c39c77ec"
   },
   "outputs": [],
   "source": [
    "layer_outputs = [layer.output for layer in model.layers]\n",
    "#layer_outputs"
   ]
  },
  {
   "cell_type": "code",
   "execution_count": 65,
   "metadata": {
    "colab": {
     "base_uri": "https://localhost:8080/",
     "height": 34
    },
    "colab_type": "code",
    "id": "dcw7yHKrRkPD",
    "outputId": "a3ed5441-ae48-4635-bf07-ac5060030608"
   },
   "outputs": [],
   "source": [
    "activation_model = models.Model(inputs=model.input, outputs=layer_outputs)\n",
    "activations = activation_model.predict(test_data)\n",
    "#activations[0][0,:,:,0].shape"
   ]
  },
  {
   "cell_type": "code",
   "execution_count": 66,
   "metadata": {},
   "outputs": [
    {
     "data": {
      "text/plain": [
       "['paper', 'rock', 'scissors']"
      ]
     },
     "execution_count": 66,
     "metadata": {},
     "output_type": "execute_result"
    }
   ],
   "source": [
    "class_labels"
   ]
  },
  {
   "cell_type": "code",
   "execution_count": 67,
   "metadata": {
    "colab": {
     "base_uri": "https://localhost:8080/",
     "height": 193
    },
    "colab_type": "code",
    "id": "ccSNAwGKhRn9",
    "outputId": "0ad22e12-713b-4b07-e17b-45d39ff1b80b"
   },
   "outputs": [
    {
     "data": {
      "text/plain": [
       "array([[ 0,  2, 97],\n",
       "       [97,  2,  0],\n",
       "       [89, 10,  0],\n",
       "       [10, 89,  0],\n",
       "       [ 5, 94,  0],\n",
       "       [31,  6, 61],\n",
       "       [36,  4, 59],\n",
       "       [36, 55,  7],\n",
       "       [18,  1, 79],\n",
       "       [ 0,  3, 95]])"
      ]
     },
     "execution_count": 67,
     "metadata": {},
     "output_type": "execute_result"
    }
   ],
   "source": [
    "(activations[-1][:10]*100).astype(int)"
   ]
  },
  {
   "cell_type": "code",
   "execution_count": 68,
   "metadata": {
    "colab": {
     "base_uri": "https://localhost:8080/",
     "height": 193
    },
    "colab_type": "code",
    "id": "RoE0nxtuiGIN",
    "outputId": "154437a8-ab72-46f4-f42c-3e6464af47d0"
   },
   "outputs": [
    {
     "data": {
      "text/plain": [
       "array([[0, 0, 1],\n",
       "       [1, 0, 0],\n",
       "       [1, 0, 0],\n",
       "       [0, 1, 0],\n",
       "       [1, 0, 0],\n",
       "       [0, 0, 1],\n",
       "       [1, 0, 0],\n",
       "       [0, 1, 0],\n",
       "       [0, 0, 1],\n",
       "       [0, 0, 1]])"
      ]
     },
     "execution_count": 68,
     "metadata": {},
     "output_type": "execute_result"
    }
   ],
   "source": [
    "test_labels[:10].astype(int)"
   ]
  },
  {
   "cell_type": "code",
   "execution_count": 69,
   "metadata": {},
   "outputs": [],
   "source": [
    "def plot_layer(activations, sample, layer):\n",
    "    a = activations[layer].shape\n",
    "    rows = int(a[3]/4)\n",
    "    fig, axarr = plt.subplots(rows, 4, figsize=[20,15])\n",
    "    for i in range(a[3]):\n",
    "        row = int(i/4)\n",
    "        x, y = row, i-4*row\n",
    "        axarr[x, y].imshow(activations[layer][sample, :, :, i])\n",
    "        axarr[x, y].set_xticks([])\n",
    "        axarr[x, y].set_yticks([])"
   ]
  },
  {
   "cell_type": "code",
   "execution_count": 70,
   "metadata": {},
   "outputs": [
    {
     "data": {
      "text/plain": [
       "'scissors'"
      ]
     },
     "execution_count": 70,
     "metadata": {},
     "output_type": "execute_result"
    },
    {
     "data": {
      "image/png": "[encoded data removed]",
      "text/plain": [
       "<matplotlib.figure.Figure at 0x1c4e74ea828>"
      ]
     },
     "metadata": {},
     "output_type": "display_data"
    }
   ],
   "source": [
    "image_number = 10\n",
    "\n",
    "plt.imshow(test_data[image_number,:,:,0])\n",
    "class_labels[np.argmax(test_labels[image_number])]"
   ]
  },
  {
   "cell_type": "code",
   "execution_count": 71,
   "metadata": {},
   "outputs": [
    {
     "data": {
      "image/png": "[encoded data removed]",
      "text/plain": [
       "<matplotlib.figure.Figure at 0x1c4e74ef438>"
      ]
     },
     "metadata": {},
     "output_type": "display_data"
    }
   ],
   "source": [
    "plot_layer(activations, image_number, 1)"
   ]
  },
  {
   "cell_type": "code",
   "execution_count": 72,
   "metadata": {},
   "outputs": [
    {
     "data": {
      "image/png": "[encoded data removed]",
      "text/plain": [
       "<matplotlib.figure.Figure at 0x1c4e79afa20>"
      ]
     },
     "metadata": {},
     "output_type": "display_data"
    }
   ],
   "source": [
    "plot_layer(activations, image_number, 2)"
   ]
  },
  {
   "cell_type": "code",
   "execution_count": 73,
   "metadata": {},
   "outputs": [
    {
     "data": {
      "image/png": "[encoded data removed]",
      "text/plain": [
       "<matplotlib.figure.Figure at 0x1c4ebf6a908>"
      ]
     },
     "metadata": {},
     "output_type": "display_data"
    }
   ],
   "source": [
    "plot_layer(activations, image_number, 3)"
   ]
  },
  {
   "cell_type": "code",
   "execution_count": null,
   "metadata": {},
   "outputs": [],
   "source": []
  }
 ],
 "metadata": {
  "colab": {
   "collapsed_sections": [],
   "name": "CNN for AED",
   "provenance": [],
   "version": "0.3.2"
  },
  "kernelspec": {
   "display_name": "Python 3",
   "language": "python",
   "name": "python3"
  },
  "language_info": {
   "codemirror_mode": {
    "name": "ipython",
    "version": 3
   },
   "file_extension": ".py",
   "mimetype": "text/x-python",
   "name": "python",
   "nbconvert_exporter": "python",
   "pygments_lexer": "ipython3",
   "version": "3.6.4"
  }
 },
 "nbformat": 4,
 "nbformat_minor": 1
}
