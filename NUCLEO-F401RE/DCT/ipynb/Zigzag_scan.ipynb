{
 "cells": [
  {
   "cell_type": "markdown",
   "metadata": {},
   "source": [
    "# Zigzag scan"
   ]
  },
  {
   "cell_type": "code",
   "execution_count": 28,
   "metadata": {},
   "outputs": [],
   "source": [
    "import math\n",
    "import numpy as np\n",
    "import matplotlib.pyplot as plt\n",
    "%matplotlib inline\n",
    "\n",
    "ONE, TWO, THREE, FOUR, FIVE, SIX, SEVEN, EIGHT = (1, 2, 3, 4, 5, 6, 7, 8)\n",
    "\n",
    "in_data_zigzag_even = np.array([1.0,  2.0,  6.0,  7.0, 15.0, 16.0, 28.0, 29.0,\n",
    "       3.0,  5.0,  8.0, 14.0, 17.0, 27.0, 30.0, 43.0,\n",
    "       4.0,  9.0, 13.0, 18.0, 26.0, 31.0, 42.0, 44.0,\n",
    "      10.0, 12.0, 19.0, 25.0, 32.0, 41.0, 45.0, 54.0,\n",
    "      11.0, 20.0, 24.0, 33.0, 40.0, 46.0, 53.0, 55.0,\n",
    "      21.0, 23.0, 34.0, 39.0, 47.0, 52.0, 56.0, 61.0,\n",
    "      22.0, 35.0, 38.0, 48.0, 51.0, 57.0, 60.0, 62.0,\n",
    "      36.0, 37.0, 49.0, 50.0, 58.0, 59.0, 63.0, 64.0])\n",
    "\n",
    "in_data_zigzag_odd = np.array([1.0,  2.0,  6.0,  7.0, 15.0, 16.0, 28.0,\n",
    "       3.0,  5.0,  8.0, 14.0, 17.0, 27.0, 29.0,\n",
    "       4.0,  9.0, 13.0, 18.0, 26.0, 30.0, 39.0,\n",
    "      10.0, 12.0, 19.0, 25.0, 31.0, 38.0, 40.0,\n",
    "      11.0, 20.0, 24.0, 32.0, 37.0, 41.0, 46.0,\n",
    "      21.0, 23.0, 33.0, 36.0, 42.0, 45.0, 47.0,\n",
    "      22.0, 34.0, 35.0, 43.0, 44.0, 48.0, 49.0])"
   ]
  },
  {
   "cell_type": "code",
   "execution_count": 29,
   "metadata": {},
   "outputs": [],
   "source": [
    "def zigzag_scan(src):\n",
    "\n",
    "    path = ONE\n",
    "    i, j = 0, 0\n",
    "    len_ = len(src)\n",
    "    dst = np.zeros(len_)\n",
    "    width = int(math.sqrt(len_))\n",
    "    n = 0\n",
    "    \n",
    "    for _ in range(len_):\n",
    "    \n",
    "        dst[n] = src[j * width + i]\n",
    "        n += 1\n",
    "        \n",
    "        if path == ONE:\n",
    "            if i == width - 1:\n",
    "                j += 1\n",
    "                path = EIGHT\n",
    "            else:\n",
    "                i += 1\n",
    "                path = TWO\n",
    "\n",
    "        elif path == TWO:\n",
    "            i -= 1\n",
    "            j += 1\n",
    "            if i == 0:\n",
    "                if j == width - 1:\n",
    "                    path = SEVEN\n",
    "                else:\n",
    "                    path = THREE\n",
    "\n",
    "        elif path == THREE:\n",
    "            if j == width - 1:\n",
    "                i += 1\n",
    "                path = EIGHT\n",
    "            else:\n",
    "                j += 1\n",
    "                path = FOUR\n",
    "\n",
    "        elif path == FOUR:\n",
    "            i += 1\n",
    "            j -= 1\n",
    "            if j == 0:\n",
    "                if i == width - 1:\n",
    "                    path = FIVE\n",
    "                else:\n",
    "                    path = ONE\n",
    "\n",
    "        elif path == FIVE:\n",
    "            j += 1\n",
    "            path = SIX\n",
    "\n",
    "        elif path == SIX:\n",
    "            i -= 1\n",
    "            j += 1\n",
    "            if j == width - 1:\n",
    "                path = SEVEN\n",
    "\n",
    "        elif path == SEVEN:\n",
    "            i += 1\n",
    "            path = EIGHT\n",
    "\n",
    "        elif path == EIGHT:\n",
    "            i += 1\n",
    "            j -= 1\n",
    "            if i == width - 1:\n",
    "                path = FIVE\n",
    "    return dst"
   ]
  },
  {
   "cell_type": "code",
   "execution_count": 31,
   "metadata": {},
   "outputs": [
    {
     "data": {
      "text/plain": [
       "<matplotlib.image.AxesImage at 0x1e5da3474e0>"
      ]
     },
     "execution_count": 31,
     "metadata": {},
     "output_type": "execute_result"
    },
    {
     "data": {
      "image/png": "[encoded data removed]",
      "text/plain": [
       "<matplotlib.figure.Figure at 0x1e5da347da0>"
      ]
     },
     "metadata": {},
     "output_type": "display_data"
    }
   ],
   "source": [
    "plt.imshow(in_data_zigzag_even.reshape((8,8)))"
   ]
  },
  {
   "cell_type": "code",
   "execution_count": 30,
   "metadata": {
    "scrolled": false
   },
   "outputs": [
    {
     "data": {
      "text/plain": [
       "array([ 1.,  2.,  3.,  4.,  5.,  6.,  7.,  8.,  9., 10., 11., 12., 13.,\n",
       "       14., 15., 16., 17., 18., 19., 20., 21., 22., 23., 24., 25., 26.,\n",
       "       27., 28., 29., 30., 31., 32., 33., 34., 35., 36., 37., 38., 39.,\n",
       "       40., 41., 42., 43., 44., 45., 46., 47., 48., 49., 50., 51., 52.,\n",
       "       53., 54., 55., 56., 57., 58., 59., 60., 61., 62., 63., 64.])"
      ]
     },
     "execution_count": 30,
     "metadata": {},
     "output_type": "execute_result"
    },
    {
     "data": {
      "image/png": "[encoded data removed]",
      "text/plain": [
       "<matplotlib.figure.Figure at 0x1e5da361ef0>"
      ]
     },
     "metadata": {},
     "output_type": "display_data"
    }
   ],
   "source": [
    "out_data_zigzag_even = zigzag_scan(in_data_zigzag_even)\n",
    "plt.imshow(out_data_zigzag_even.reshape((8,8)))\n",
    "out_data_zigzag_even"
   ]
  },
  {
   "cell_type": "code",
   "execution_count": 33,
   "metadata": {},
   "outputs": [
    {
     "data": {
      "text/plain": [
       "<matplotlib.image.AxesImage at 0x1e5d9f399e8>"
      ]
     },
     "execution_count": 33,
     "metadata": {},
     "output_type": "execute_result"
    },
    {
     "data": {
      "image/png": "[encoded data removed]",
      "text/plain": [
       "<matplotlib.figure.Figure at 0x1e5da347358>"
      ]
     },
     "metadata": {},
     "output_type": "display_data"
    }
   ],
   "source": [
    "plt.imshow(in_data_zigzag_odd.reshape((7,7)))"
   ]
  },
  {
   "cell_type": "code",
   "execution_count": 36,
   "metadata": {},
   "outputs": [
    {
     "data": {
      "text/plain": [
       "array([ 1.,  2.,  3.,  4.,  5.,  6.,  7.,  8.,  9., 10., 11., 12., 13.,\n",
       "       14., 15., 16., 17., 18., 19., 20., 21., 22., 23., 24., 25., 26.,\n",
       "       27., 28., 29., 30., 31., 32., 33., 34., 35., 36., 37., 38., 39.,\n",
       "       40., 41., 42., 43., 44., 45., 46., 47., 48., 49.])"
      ]
     },
     "execution_count": 36,
     "metadata": {},
     "output_type": "execute_result"
    },
    {
     "data": {
      "image/png": "[encoded data removed]",
      "text/plain": [
       "<matplotlib.figure.Figure at 0x1e5da3f62b0>"
      ]
     },
     "metadata": {},
     "output_type": "display_data"
    }
   ],
   "source": [
    "out_data_zigzag_odd = zigzag_scan(in_data_zigzag_odd)\n",
    "plt.imshow(out_data_zigzag_odd.reshape((7,7)))\n",
    "out_data_zigzag_odd"
   ]
  },
  {
   "cell_type": "code",
   "execution_count": null,
   "metadata": {},
   "outputs": [],
   "source": []
  }
 ],
 "metadata": {
  "kernelspec": {
   "display_name": "Python 3",
   "language": "python",
   "name": "python3"
  },
  "language_info": {
   "codemirror_mode": {
    "name": "ipython",
    "version": 3
   },
   "file_extension": ".py",
   "mimetype": "text/x-python",
   "name": "python",
   "nbconvert_exporter": "python",
   "pygments_lexer": "ipython3",
   "version": "3.6.4"
  }
 },
 "nbformat": 4,
 "nbformat_minor": 2
}
