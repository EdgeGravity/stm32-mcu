{
 "cells": [
  {
   "cell_type": "markdown",
   "metadata": {
    "colab_type": "text",
    "id": "0X16cagQE-Y-"
   },
   "source": [
    "# Rock-paper-scissors with Keras/TensorFlow (raw data)\n",
    "\n",
    "Date: January 9, 2019\n",
    "\n",
    "Classification:\n",
    "- rock\n",
    "- paper\n",
    "- scissors"
   ]
  },
  {
   "cell_type": "markdown",
   "metadata": {
    "colab_type": "text",
    "id": "WwQ-dEltkl5Q"
   },
   "source": [
    "## Preparing data set for DNN"
   ]
  },
  {
   "cell_type": "code",
   "execution_count": 126,
   "metadata": {
    "colab": {
     "base_uri": "https://localhost:8080/",
     "height": 34
    },
    "colab_type": "code",
    "id": "VEJyQsGpV3ug",
    "outputId": "3929aa39-3383-4791-e065-3622e6781181"
   },
   "outputs": [],
   "source": [
    "DATA_FOLDER = '../thermography/data/'\n",
    "\n",
    "FILES = 45\n",
    "TRAINING_FILES = 30 \n",
    "TEST_FILES = FILES - TRAINING_FILES"
   ]
  },
  {
   "cell_type": "code",
   "execution_count": 127,
   "metadata": {
    "colab": {},
    "colab_type": "code",
    "id": "JTNdoPBFWGky"
   },
   "outputs": [],
   "source": [
    "%matplotlib inline\n",
    "\n",
    "import matplotlib.pyplot as plt\n",
    "import numpy as np\n",
    "import time\n",
    "import random\n",
    "import os\n",
    "import sklearn.preprocessing as pp\n",
    "from scipy.fftpack import dct, idct"
   ]
  },
  {
   "cell_type": "code",
   "execution_count": 128,
   "metadata": {},
   "outputs": [
    {
     "name": "stdout",
     "output_type": "stream",
     "text": [
      "0: paper\n",
      "1: rock\n",
      "2: scissors\n"
     ]
    }
   ],
   "source": [
    "import glob\n",
    "\n",
    "data_files = glob.glob(DATA_FOLDER+'*.csv')\n",
    "class_labels = []\n",
    "\n",
    "for file in data_files:\n",
    "    label = file.split('-')[0].replace('\\\\', '/').split('/')[-1]\n",
    "    if label not in class_labels:\n",
    "        class_labels.append(label)\n",
    "\n",
    "data_set = {}\n",
    "\n",
    "class_number = 0\n",
    "\n",
    "for label in class_labels:\n",
    "    files = glob.glob(DATA_FOLDER+'{}-*.csv'.format(label))\n",
    "    random.shuffle(files)\n",
    "    data_set[label] = (files[:TRAINING_FILES], files[TRAINING_FILES:FILES], class_number)\n",
    "    class_number += 1\n",
    "\n",
    "training_set = []\n",
    "test_set = []\n",
    "\n",
    "for k, v in data_set.items():\n",
    "    files = v[0]\n",
    "    class_number = v[2]\n",
    "    for file in files:\n",
    "        with open(file) as f:\n",
    "            data = np.array(f.read().split(',')).astype(float)\n",
    "            training_set.append((data, class_number))\n",
    "    files = v[1]\n",
    "    for file in files:\n",
    "        with open(file) as f:\n",
    "            data = np.array(f.read().split(',')).astype(float)\n",
    "            test_set.append((data, class_number))\n",
    "random.shuffle(training_set)\n",
    "random.shuffle(test_set)\n",
    "\n",
    "class_labels = [None for _ in range(len(data_set))]\n",
    "\n",
    "# Class number and class labels\n",
    "for k,v in data_set.items():\n",
    "    print('{}: {}'.format(v[2],k))\n",
    "    class_labels[v[2]] = k\n",
    "    \n",
    "import yaml\n",
    "with open(DATA_FOLDER+'class_labels.yaml', 'w') as f:\n",
    "    yaml.dump(class_labels, f)"
   ]
  },
  {
   "cell_type": "code",
   "execution_count": 129,
   "metadata": {
    "colab": {},
    "colab_type": "code",
    "id": "28tIKkNyW3cO"
   },
   "outputs": [
    {
     "data": {
      "text/plain": [
       "(array([ 0.49493876,  2.01887391,  2.67198897,  3.37953029,  0.65821753,\n",
       "        -0.1581763 , -0.26702882, -0.70243886,  0.65821753,  2.29100518,\n",
       "         0.82149629,  2.83526774,  0.82149629, -0.26702882, -0.43030758,\n",
       "        -0.97457013,  0.38608625,  2.29100518,  0.27723374,  2.01887391,\n",
       "         1.36575884, -0.59358635, -0.70243886, -0.59358635, -0.04932379,\n",
       "        -0.04932379, -0.1581763 ,  0.11395497,  0.38608625, -0.43030758,\n",
       "        -0.70243886, -0.43030758, -0.59358635, -0.26702882, -0.43030758,\n",
       "        -0.59358635, -0.59358635, -0.43030758, -0.70243886, -0.59358635,\n",
       "        -0.26702882, -0.59358635, -0.43030758, -0.59358635, -0.43030758,\n",
       "        -0.26702882, -0.26702882, -0.59358635, -0.97457013, -0.26702882,\n",
       "        -0.70243886, -0.59358635, -0.26702882, -0.43030758, -0.43030758,\n",
       "        -0.43030758, -0.70243886, -0.81129137, -0.70243886, -0.59358635,\n",
       "        -0.43030758, -0.59358635, -0.43030758, -0.97457013]),\n",
       " array([0., 0., 1.], dtype=float32))"
      ]
     },
     "execution_count": 129,
     "metadata": {},
     "output_type": "execute_result"
    },
    {
     "data": {
      "image/png": "[encoded data removed]",
      "text/plain": [
       "<matplotlib.figure.Figure at 0x15e7f262080>"
      ]
     },
     "metadata": {},
     "output_type": "display_data"
    }
   ],
   "source": [
    "CUTOFF=8\n",
    "train_data, train_labels = [], []\n",
    "test_data, test_labels = [], []\n",
    "for img, label in training_set:\n",
    "    img = img.reshape(8,8)\n",
    "    #img = dct(dct(img, norm='ortho').T, norm='ortho').T\n",
    "    #img[0,0] = 0\n",
    "    img = img[:CUTOFF,:CUTOFF].flatten()\n",
    "    img = pp.scale(img)    \n",
    "    train_data.append(img)\n",
    "    train_labels.append(label)\n",
    "for img, label in test_set:\n",
    "    img = img.reshape(8,8)\n",
    "    #img = dct(dct(img, norm='ortho').T, norm='ortho').T\n",
    "    #img[0,0] = 0\n",
    "    img = img[:CUTOFF,:CUTOFF].flatten()\n",
    "    img = pp.scale(img)\n",
    "    test_data.append(img)\n",
    "    test_labels.append(label)\n",
    "train_data = np.array(train_data)\n",
    "train_labels = np.array(train_labels, dtype='uint8')\n",
    "test_data = np.array(test_data)\n",
    "test_lables = np.array(test_labels, dtype='uint8')\n",
    "\n",
    "from keras.utils import to_categorical\n",
    "\n",
    "train_labels=to_categorical(train_labels)\n",
    "test_labels=to_categorical(test_labels)\n",
    "\n",
    "plt.imshow(train_data[12].reshape((CUTOFF,CUTOFF)))\n",
    "train_data[12], train_labels[12]"
   ]
  },
  {
   "cell_type": "markdown",
   "metadata": {
    "colab_type": "text",
    "id": "VfUmgxxVk6uM"
   },
   "source": [
    "### DNN model"
   ]
  },
  {
   "cell_type": "code",
   "execution_count": 130,
   "metadata": {
    "colab": {
     "base_uri": "https://localhost:8080/",
     "height": 509
    },
    "colab_type": "code",
    "id": "B2Xg6tGLdMKP",
    "outputId": "ae3daa32-9dbf-4d8b-9a11-7f596dd2e4a6"
   },
   "outputs": [
    {
     "name": "stdout",
     "output_type": "stream",
     "text": [
      "_________________________________________________________________\n",
      "Layer (type)                 Output Shape              Param #   \n",
      "=================================================================\n",
      "dense_50 (Dense)             (None, 96)                6240      \n",
      "_________________________________________________________________\n",
      "dropout_32 (Dropout)         (None, 96)                0         \n",
      "_________________________________________________________________\n",
      "dense_51 (Dense)             (None, 32)                3104      \n",
      "_________________________________________________________________\n",
      "dropout_33 (Dropout)         (None, 32)                0         \n",
      "_________________________________________________________________\n",
      "dense_52 (Dense)             (None, 3)                 99        \n",
      "=================================================================\n",
      "Total params: 9,443\n",
      "Trainable params: 9,443\n",
      "Non-trainable params: 0\n",
      "_________________________________________________________________\n"
     ]
    }
   ],
   "source": [
    "from keras import layers\n",
    "from keras import models\n",
    "\n",
    "model = models.Sequential()\n",
    "\n",
    "model.add(layers.Dense(int(CUTOFF**2*1.5), activation='relu', input_shape=(CUTOFF**2,)))\n",
    "model.add(layers.Dropout(0.5))\n",
    "model.add(layers.Dense(int(CUTOFF**2*0.5), activation='relu', input_shape=(CUTOFF**2,)))\n",
    "model.add(layers.Dropout(0.5))\n",
    "model.add(layers.Dense(len(class_labels), activation='softmax'))\n",
    "\n",
    "model.summary()"
   ]
  },
  {
   "cell_type": "code",
   "execution_count": 131,
   "metadata": {
    "colab": {},
    "colab_type": "code",
    "id": "nRr1L_4ogL6i"
   },
   "outputs": [],
   "source": [
    "model.compile(optimizer='rmsprop', loss='categorical_crossentropy', metrics=['accuracy'])"
   ]
  },
  {
   "cell_type": "code",
   "execution_count": 132,
   "metadata": {},
   "outputs": [
    {
     "data": {
      "image/svg+xml": [
       "<svg height=\"410pt\" viewBox=\"0.00 0.00 145.00 410.00\" width=\"145pt\" xmlns=\"http://www.w3.org/2000/svg\" xmlns:xlink=\"http://www.w3.org/1999/xlink\">\n",
       "<g class=\"graph\" id=\"graph0\" transform=\"scale(1 1) rotate(0) translate(4 406)\">\n",
       "<title>G</title>\n",
       "<polygon fill=\"white\" points=\"-4,4 -4,-406 141,-406 141,4 -4,4\" stroke=\"none\"/>\n",
       "<!-- 1505382179952 -->\n",
       "<g class=\"node\" id=\"node1\"><title>1505382179952</title>\n",
       "<polygon fill=\"none\" points=\"13,-292.5 13,-328.5 124,-328.5 124,-292.5 13,-292.5\" stroke=\"black\"/>\n",
       "<text font-family=\"Times New Roman,serif\" font-size=\"14.00\" text-anchor=\"middle\" x=\"68.5\" y=\"-306.8\">dense_50: Dense</text>\n",
       "</g>\n",
       "<!-- 1505382179616 -->\n",
       "<g class=\"node\" id=\"node2\"><title>1505382179616</title>\n",
       "<polygon fill=\"none\" points=\"0,-219.5 0,-255.5 137,-255.5 137,-219.5 0,-219.5\" stroke=\"black\"/>\n",
       "<text font-family=\"Times New Roman,serif\" font-size=\"14.00\" text-anchor=\"middle\" x=\"68.5\" y=\"-233.8\">dropout_32: Dropout</text>\n",
       "</g>\n",
       "<!-- 1505382179952&#45;&gt;1505382179616 -->\n",
       "<g class=\"edge\" id=\"edge2\"><title>1505382179952-&gt;1505382179616</title>\n",
       "<path d=\"M68.5,-292.313C68.5,-284.289 68.5,-274.547 68.5,-265.569\" fill=\"none\" stroke=\"black\"/>\n",
       "<polygon fill=\"black\" points=\"72.0001,-265.529 68.5,-255.529 65.0001,-265.529 72.0001,-265.529\" stroke=\"black\"/>\n",
       "</g>\n",
       "<!-- 1505382180736 -->\n",
       "<g class=\"node\" id=\"node3\"><title>1505382180736</title>\n",
       "<polygon fill=\"none\" points=\"13,-146.5 13,-182.5 124,-182.5 124,-146.5 13,-146.5\" stroke=\"black\"/>\n",
       "<text font-family=\"Times New Roman,serif\" font-size=\"14.00\" text-anchor=\"middle\" x=\"68.5\" y=\"-160.8\">dense_51: Dense</text>\n",
       "</g>\n",
       "<!-- 1505382179616&#45;&gt;1505382180736 -->\n",
       "<g class=\"edge\" id=\"edge3\"><title>1505382179616-&gt;1505382180736</title>\n",
       "<path d=\"M68.5,-219.313C68.5,-211.289 68.5,-201.547 68.5,-192.569\" fill=\"none\" stroke=\"black\"/>\n",
       "<polygon fill=\"black\" points=\"72.0001,-192.529 68.5,-182.529 65.0001,-192.529 72.0001,-192.529\" stroke=\"black\"/>\n",
       "</g>\n",
       "<!-- 1505382181016 -->\n",
       "<g class=\"node\" id=\"node4\"><title>1505382181016</title>\n",
       "<polygon fill=\"none\" points=\"0,-73.5 0,-109.5 137,-109.5 137,-73.5 0,-73.5\" stroke=\"black\"/>\n",
       "<text font-family=\"Times New Roman,serif\" font-size=\"14.00\" text-anchor=\"middle\" x=\"68.5\" y=\"-87.8\">dropout_33: Dropout</text>\n",
       "</g>\n",
       "<!-- 1505382180736&#45;&gt;1505382181016 -->\n",
       "<g class=\"edge\" id=\"edge4\"><title>1505382180736-&gt;1505382181016</title>\n",
       "<path d=\"M68.5,-146.313C68.5,-138.289 68.5,-128.547 68.5,-119.569\" fill=\"none\" stroke=\"black\"/>\n",
       "<polygon fill=\"black\" points=\"72.0001,-119.529 68.5,-109.529 65.0001,-119.529 72.0001,-119.529\" stroke=\"black\"/>\n",
       "</g>\n",
       "<!-- 1505382181408 -->\n",
       "<g class=\"node\" id=\"node5\"><title>1505382181408</title>\n",
       "<polygon fill=\"none\" points=\"13,-0.5 13,-36.5 124,-36.5 124,-0.5 13,-0.5\" stroke=\"black\"/>\n",
       "<text font-family=\"Times New Roman,serif\" font-size=\"14.00\" text-anchor=\"middle\" x=\"68.5\" y=\"-14.8\">dense_52: Dense</text>\n",
       "</g>\n",
       "<!-- 1505382181016&#45;&gt;1505382181408 -->\n",
       "<g class=\"edge\" id=\"edge5\"><title>1505382181016-&gt;1505382181408</title>\n",
       "<path d=\"M68.5,-73.3129C68.5,-65.2895 68.5,-55.5475 68.5,-46.5691\" fill=\"none\" stroke=\"black\"/>\n",
       "<polygon fill=\"black\" points=\"72.0001,-46.5288 68.5,-36.5288 65.0001,-46.5289 72.0001,-46.5288\" stroke=\"black\"/>\n",
       "</g>\n",
       "<!-- 1505382181128 -->\n",
       "<g class=\"node\" id=\"node6\"><title>1505382181128</title>\n",
       "<polygon fill=\"none\" points=\"16.5,-365.5 16.5,-401.5 120.5,-401.5 120.5,-365.5 16.5,-365.5\" stroke=\"black\"/>\n",
       "<text font-family=\"Times New Roman,serif\" font-size=\"14.00\" text-anchor=\"middle\" x=\"68.5\" y=\"-379.8\">1505382181128</text>\n",
       "</g>\n",
       "<!-- 1505382181128&#45;&gt;1505382179952 -->\n",
       "<g class=\"edge\" id=\"edge1\"><title>1505382181128-&gt;1505382179952</title>\n",
       "<path d=\"M68.5,-365.313C68.5,-357.289 68.5,-347.547 68.5,-338.569\" fill=\"none\" stroke=\"black\"/>\n",
       "<polygon fill=\"black\" points=\"72.0001,-338.529 68.5,-328.529 65.0001,-338.529 72.0001,-338.529\" stroke=\"black\"/>\n",
       "</g>\n",
       "</g>\n",
       "</svg>"
      ],
      "text/plain": [
       "<IPython.core.display.SVG object>"
      ]
     },
     "execution_count": 132,
     "metadata": {},
     "output_type": "execute_result"
    }
   ],
   "source": [
    "from IPython.display import SVG\n",
    "from keras.utils.vis_utils import model_to_dot\n",
    "\n",
    "SVG(model_to_dot(model).create(prog='dot', format='svg'))"
   ]
  },
  {
   "cell_type": "markdown",
   "metadata": {
    "colab_type": "text",
    "id": "TfypWUJIlFkz"
   },
   "source": [
    "## Training DNN"
   ]
  },
  {
   "cell_type": "code",
   "execution_count": 133,
   "metadata": {
    "colab": {
     "base_uri": "https://localhost:8080/",
     "height": 931
    },
    "colab_type": "code",
    "id": "zsdmu-ggfvr1",
    "outputId": "77a52558-8ecc-4fc5-e0cb-2b86a75df4c6",
    "scrolled": false
   },
   "outputs": [
    {
     "name": "stdout",
     "output_type": "stream",
     "text": [
      "Train on 90 samples, validate on 45 samples\n",
      "Epoch 1/100\n",
      "90/90 [==============================] - 1s 12ms/step - loss: 1.4602 - acc: 0.2889 - val_loss: 1.2024 - val_acc: 0.3333\n",
      "Epoch 2/100\n",
      "90/90 [==============================] - 0s 100us/step - loss: 1.2510 - acc: 0.3778 - val_loss: 1.1298 - val_acc: 0.3111\n",
      "Epoch 3/100\n",
      "90/90 [==============================] - 0s 155us/step - loss: 1.2224 - acc: 0.3667 - val_loss: 1.0435 - val_acc: 0.3556\n",
      "Epoch 4/100\n",
      "90/90 [==============================] - 0s 111us/step - loss: 1.2604 - acc: 0.4111 - val_loss: 0.9963 - val_acc: 0.4222\n",
      "Epoch 5/100\n",
      "90/90 [==============================] - 0s 199us/step - loss: 1.0824 - acc: 0.4556 - val_loss: 0.9640 - val_acc: 0.4444\n",
      "Epoch 6/100\n",
      "90/90 [==============================] - 0s 155us/step - loss: 1.1033 - acc: 0.3778 - val_loss: 0.9355 - val_acc: 0.6222\n",
      "Epoch 7/100\n",
      "90/90 [==============================] - 0s 133us/step - loss: 1.0497 - acc: 0.5222 - val_loss: 0.9023 - val_acc: 0.7111\n",
      "Epoch 8/100\n",
      "90/90 [==============================] - 0s 200us/step - loss: 0.9266 - acc: 0.5222 - val_loss: 0.8752 - val_acc: 0.7556\n",
      "Epoch 9/100\n",
      "90/90 [==============================] - 0s 100us/step - loss: 1.0035 - acc: 0.5333 - val_loss: 0.8623 - val_acc: 0.7556\n",
      "Epoch 10/100\n",
      "90/90 [==============================] - 0s 166us/step - loss: 0.8729 - acc: 0.6000 - val_loss: 0.8438 - val_acc: 0.7778\n",
      "Epoch 11/100\n",
      "90/90 [==============================] - 0s 133us/step - loss: 1.0099 - acc: 0.4778 - val_loss: 0.8354 - val_acc: 0.8222\n",
      "Epoch 12/100\n",
      "90/90 [==============================] - 0s 177us/step - loss: 0.9980 - acc: 0.5000 - val_loss: 0.8235 - val_acc: 0.7556\n",
      "Epoch 13/100\n",
      "90/90 [==============================] - 0s 155us/step - loss: 0.9494 - acc: 0.4778 - val_loss: 0.8066 - val_acc: 0.7556\n",
      "Epoch 14/100\n",
      "90/90 [==============================] - 0s 166us/step - loss: 0.9314 - acc: 0.5889 - val_loss: 0.7910 - val_acc: 0.7556\n",
      "Epoch 15/100\n",
      "90/90 [==============================] - 0s 89us/step - loss: 0.8633 - acc: 0.6111 - val_loss: 0.7735 - val_acc: 0.7556\n",
      "Epoch 16/100\n",
      "90/90 [==============================] - 0s 155us/step - loss: 0.8400 - acc: 0.6111 - val_loss: 0.7537 - val_acc: 0.7778\n",
      "Epoch 17/100\n",
      "90/90 [==============================] - 0s 100us/step - loss: 0.8866 - acc: 0.5667 - val_loss: 0.7358 - val_acc: 0.8222\n",
      "Epoch 18/100\n",
      "90/90 [==============================] - 0s 111us/step - loss: 0.8779 - acc: 0.5778 - val_loss: 0.7200 - val_acc: 0.8222\n",
      "Epoch 19/100\n",
      "90/90 [==============================] - 0s 177us/step - loss: 0.7284 - acc: 0.6556 - val_loss: 0.7095 - val_acc: 0.8444\n",
      "Epoch 20/100\n",
      "90/90 [==============================] - 0s 166us/step - loss: 0.7941 - acc: 0.6444 - val_loss: 0.6918 - val_acc: 0.8444\n",
      "Epoch 21/100\n",
      "90/90 [==============================] - 0s 199us/step - loss: 0.7531 - acc: 0.6556 - val_loss: 0.6776 - val_acc: 0.8222\n",
      "Epoch 22/100\n",
      "90/90 [==============================] - 0s 222us/step - loss: 0.6482 - acc: 0.7444 - val_loss: 0.6498 - val_acc: 0.8667\n",
      "Epoch 23/100\n",
      "90/90 [==============================] - 0s 200us/step - loss: 0.7513 - acc: 0.6222 - val_loss: 0.6396 - val_acc: 0.8222\n",
      "Epoch 24/100\n",
      "90/90 [==============================] - 0s 144us/step - loss: 0.7750 - acc: 0.6556 - val_loss: 0.6155 - val_acc: 0.8889\n",
      "Epoch 25/100\n",
      "90/90 [==============================] - 0s 221us/step - loss: 0.6725 - acc: 0.7556 - val_loss: 0.6041 - val_acc: 0.8667\n",
      "Epoch 26/100\n",
      "90/90 [==============================] - 0s 122us/step - loss: 0.6538 - acc: 0.7222 - val_loss: 0.5854 - val_acc: 0.8889\n",
      "Epoch 27/100\n",
      "90/90 [==============================] - 0s 177us/step - loss: 0.6272 - acc: 0.7667 - val_loss: 0.5670 - val_acc: 0.8889\n",
      "Epoch 28/100\n",
      "90/90 [==============================] - 0s 188us/step - loss: 0.7088 - acc: 0.6556 - val_loss: 0.5548 - val_acc: 0.8889\n",
      "Epoch 29/100\n",
      "90/90 [==============================] - 0s 222us/step - loss: 0.6115 - acc: 0.7333 - val_loss: 0.5383 - val_acc: 0.8889\n",
      "Epoch 30/100\n",
      "90/90 [==============================] - 0s 100us/step - loss: 0.6404 - acc: 0.7111 - val_loss: 0.5345 - val_acc: 0.8889\n",
      "Epoch 31/100\n",
      "90/90 [==============================] - 0s 133us/step - loss: 0.6325 - acc: 0.7222 - val_loss: 0.5225 - val_acc: 0.9333\n",
      "Epoch 32/100\n",
      "90/90 [==============================] - 0s 144us/step - loss: 0.7573 - acc: 0.6889 - val_loss: 0.5112 - val_acc: 0.8889\n",
      "Epoch 33/100\n",
      "90/90 [==============================] - 0s 122us/step - loss: 0.6057 - acc: 0.7111 - val_loss: 0.4975 - val_acc: 0.8889\n",
      "Epoch 34/100\n",
      "90/90 [==============================] - 0s 244us/step - loss: 0.6227 - acc: 0.7444 - val_loss: 0.4778 - val_acc: 0.9111\n",
      "Epoch 35/100\n",
      "90/90 [==============================] - 0s 111us/step - loss: 0.5310 - acc: 0.7778 - val_loss: 0.4710 - val_acc: 0.8889\n",
      "Epoch 36/100\n",
      "90/90 [==============================] - 0s 111us/step - loss: 0.4389 - acc: 0.9222 - val_loss: 0.4411 - val_acc: 0.9111\n",
      "Epoch 37/100\n",
      "90/90 [==============================] - 0s 144us/step - loss: 0.5786 - acc: 0.7667 - val_loss: 0.4367 - val_acc: 0.9333\n",
      "Epoch 38/100\n",
      "90/90 [==============================] - 0s 89us/step - loss: 0.5019 - acc: 0.8111 - val_loss: 0.4322 - val_acc: 0.9333\n",
      "Epoch 39/100\n",
      "90/90 [==============================] - 0s 133us/step - loss: 0.4723 - acc: 0.8333 - val_loss: 0.4211 - val_acc: 0.9333\n",
      "Epoch 40/100\n",
      "90/90 [==============================] - 0s 122us/step - loss: 0.5316 - acc: 0.7889 - val_loss: 0.4153 - val_acc: 0.9111\n",
      "Epoch 41/100\n",
      "90/90 [==============================] - 0s 177us/step - loss: 0.4764 - acc: 0.8333 - val_loss: 0.4022 - val_acc: 0.9111\n",
      "Epoch 42/100\n",
      "90/90 [==============================] - 0s 144us/step - loss: 0.5572 - acc: 0.8111 - val_loss: 0.3948 - val_acc: 0.9333\n",
      "Epoch 43/100\n",
      "90/90 [==============================] - 0s 100us/step - loss: 0.4651 - acc: 0.8333 - val_loss: 0.3874 - val_acc: 0.9333\n",
      "Epoch 44/100\n",
      "90/90 [==============================] - 0s 244us/step - loss: 0.4879 - acc: 0.8222 - val_loss: 0.3827 - val_acc: 0.9111\n",
      "Epoch 45/100\n",
      "90/90 [==============================] - 0s 122us/step - loss: 0.4480 - acc: 0.8444 - val_loss: 0.3683 - val_acc: 0.9333\n",
      "Epoch 46/100\n",
      "90/90 [==============================] - 0s 100us/step - loss: 0.5408 - acc: 0.7556 - val_loss: 0.3591 - val_acc: 0.9333\n",
      "Epoch 47/100\n",
      "90/90 [==============================] - 0s 111us/step - loss: 0.4914 - acc: 0.8667 - val_loss: 0.3542 - val_acc: 0.9333\n",
      "Epoch 48/100\n",
      "90/90 [==============================] - 0s 122us/step - loss: 0.4823 - acc: 0.8667 - val_loss: 0.3574 - val_acc: 0.9333\n",
      "Epoch 49/100\n",
      "90/90 [==============================] - 0s 188us/step - loss: 0.4650 - acc: 0.8333 - val_loss: 0.3461 - val_acc: 0.9111\n",
      "Epoch 50/100\n",
      "90/90 [==============================] - 0s 89us/step - loss: 0.4186 - acc: 0.8333 - val_loss: 0.3373 - val_acc: 0.9111\n",
      "Epoch 51/100\n",
      "90/90 [==============================] - 0s 111us/step - loss: 0.3899 - acc: 0.8778 - val_loss: 0.3335 - val_acc: 0.9111\n",
      "Epoch 52/100\n",
      "90/90 [==============================] - 0s 100us/step - loss: 0.3819 - acc: 0.8667 - val_loss: 0.3314 - val_acc: 0.8889\n",
      "Epoch 53/100\n",
      "90/90 [==============================] - 0s 155us/step - loss: 0.4358 - acc: 0.8000 - val_loss: 0.3274 - val_acc: 0.9111\n",
      "Epoch 54/100\n",
      "90/90 [==============================] - 0s 133us/step - loss: 0.3996 - acc: 0.9000 - val_loss: 0.3315 - val_acc: 0.8889\n",
      "Epoch 55/100\n",
      "90/90 [==============================] - 0s 122us/step - loss: 0.3553 - acc: 0.9000 - val_loss: 0.3125 - val_acc: 0.8889\n",
      "Epoch 56/100\n",
      "90/90 [==============================] - 0s 111us/step - loss: 0.3615 - acc: 0.8889 - val_loss: 0.3071 - val_acc: 0.8889\n",
      "Epoch 57/100\n",
      "90/90 [==============================] - 0s 89us/step - loss: 0.3550 - acc: 0.8667 - val_loss: 0.3121 - val_acc: 0.8889\n",
      "Epoch 58/100\n",
      "90/90 [==============================] - 0s 100us/step - loss: 0.4062 - acc: 0.8556 - val_loss: 0.3103 - val_acc: 0.8889\n",
      "Epoch 59/100\n",
      "90/90 [==============================] - 0s 100us/step - loss: 0.3037 - acc: 0.9000 - val_loss: 0.3001 - val_acc: 0.8667\n",
      "Epoch 60/100\n",
      "90/90 [==============================] - 0s 100us/step - loss: 0.3063 - acc: 0.9333 - val_loss: 0.2902 - val_acc: 0.8889\n",
      "Epoch 61/100\n",
      "90/90 [==============================] - 0s 100us/step - loss: 0.3436 - acc: 0.8667 - val_loss: 0.2898 - val_acc: 0.9111\n"
     ]
    },
    {
     "name": "stdout",
     "output_type": "stream",
     "text": [
      "Epoch 62/100\n",
      "90/90 [==============================] - 0s 100us/step - loss: 0.3309 - acc: 0.9111 - val_loss: 0.2930 - val_acc: 0.9111\n",
      "Epoch 63/100\n",
      "90/90 [==============================] - 0s 100us/step - loss: 0.2729 - acc: 0.9222 - val_loss: 0.2771 - val_acc: 0.9111\n",
      "Epoch 64/100\n",
      "90/90 [==============================] - 0s 111us/step - loss: 0.2447 - acc: 0.9111 - val_loss: 0.2705 - val_acc: 0.9111\n",
      "Epoch 65/100\n",
      "90/90 [==============================] - 0s 100us/step - loss: 0.2265 - acc: 0.9556 - val_loss: 0.2613 - val_acc: 0.8889\n",
      "Epoch 66/100\n",
      "90/90 [==============================] - 0s 111us/step - loss: 0.2779 - acc: 0.9111 - val_loss: 0.2534 - val_acc: 0.8889\n",
      "Epoch 67/100\n",
      "90/90 [==============================] - 0s 89us/step - loss: 0.2479 - acc: 0.9333 - val_loss: 0.2491 - val_acc: 0.9111\n",
      "Epoch 68/100\n",
      "90/90 [==============================] - 0s 100us/step - loss: 0.2522 - acc: 0.9111 - val_loss: 0.2562 - val_acc: 0.9111\n",
      "Epoch 69/100\n",
      "90/90 [==============================] - 0s 100us/step - loss: 0.2621 - acc: 0.9000 - val_loss: 0.2523 - val_acc: 0.9111\n",
      "Epoch 70/100\n",
      "90/90 [==============================] - 0s 100us/step - loss: 0.2007 - acc: 0.9778 - val_loss: 0.2409 - val_acc: 0.9111\n",
      "Epoch 71/100\n",
      "90/90 [==============================] - 0s 89us/step - loss: 0.1923 - acc: 0.9444 - val_loss: 0.2425 - val_acc: 0.9111\n",
      "Epoch 72/100\n",
      "90/90 [==============================] - 0s 100us/step - loss: 0.2018 - acc: 0.9889 - val_loss: 0.2335 - val_acc: 0.9111\n",
      "Epoch 73/100\n",
      "90/90 [==============================] - 0s 89us/step - loss: 0.2722 - acc: 0.9111 - val_loss: 0.2507 - val_acc: 0.8889\n",
      "Epoch 74/100\n",
      "90/90 [==============================] - 0s 100us/step - loss: 0.2616 - acc: 0.9333 - val_loss: 0.2421 - val_acc: 0.9111\n",
      "Epoch 75/100\n",
      "90/90 [==============================] - 0s 100us/step - loss: 0.2696 - acc: 0.9111 - val_loss: 0.2344 - val_acc: 0.9111\n",
      "Epoch 76/100\n",
      "90/90 [==============================] - 0s 100us/step - loss: 0.1643 - acc: 0.9778 - val_loss: 0.2313 - val_acc: 0.9111\n",
      "Epoch 77/100\n",
      "90/90 [==============================] - 0s 89us/step - loss: 0.2191 - acc: 0.9778 - val_loss: 0.2320 - val_acc: 0.9111\n",
      "Epoch 78/100\n",
      "90/90 [==============================] - 0s 89us/step - loss: 0.1858 - acc: 0.9778 - val_loss: 0.2270 - val_acc: 0.9111\n",
      "Epoch 79/100\n",
      "90/90 [==============================] - 0s 100us/step - loss: 0.1564 - acc: 0.9556 - val_loss: 0.2334 - val_acc: 0.9111\n",
      "Epoch 80/100\n",
      "90/90 [==============================] - 0s 111us/step - loss: 0.2297 - acc: 0.9111 - val_loss: 0.2156 - val_acc: 0.9111\n",
      "Epoch 81/100\n",
      "90/90 [==============================] - 0s 89us/step - loss: 0.2120 - acc: 0.9444 - val_loss: 0.2137 - val_acc: 0.9111\n",
      "Epoch 82/100\n",
      "90/90 [==============================] - 0s 89us/step - loss: 0.1833 - acc: 0.9444 - val_loss: 0.2044 - val_acc: 0.9111\n",
      "Epoch 83/100\n",
      "90/90 [==============================] - 0s 89us/step - loss: 0.2836 - acc: 0.9111 - val_loss: 0.2070 - val_acc: 0.9111\n",
      "Epoch 84/100\n",
      "90/90 [==============================] - 0s 89us/step - loss: 0.1890 - acc: 0.9556 - val_loss: 0.2061 - val_acc: 0.9333\n",
      "Epoch 85/100\n",
      "90/90 [==============================] - 0s 89us/step - loss: 0.1805 - acc: 0.9444 - val_loss: 0.2084 - val_acc: 0.9111\n",
      "Epoch 86/100\n",
      "90/90 [==============================] - 0s 78us/step - loss: 0.1692 - acc: 0.9333 - val_loss: 0.1962 - val_acc: 0.9111\n",
      "Epoch 87/100\n",
      "90/90 [==============================] - 0s 100us/step - loss: 0.1796 - acc: 0.9556 - val_loss: 0.2137 - val_acc: 0.9111\n",
      "Epoch 88/100\n",
      "90/90 [==============================] - 0s 100us/step - loss: 0.1610 - acc: 0.9444 - val_loss: 0.2163 - val_acc: 0.9111\n",
      "Epoch 89/100\n",
      "90/90 [==============================] - 0s 100us/step - loss: 0.1674 - acc: 0.9667 - val_loss: 0.2196 - val_acc: 0.9111\n",
      "Epoch 90/100\n",
      "90/90 [==============================] - 0s 100us/step - loss: 0.1557 - acc: 0.9444 - val_loss: 0.2186 - val_acc: 0.8889\n",
      "Epoch 91/100\n",
      "90/90 [==============================] - 0s 100us/step - loss: 0.1314 - acc: 0.9889 - val_loss: 0.2211 - val_acc: 0.8889\n",
      "Epoch 92/100\n",
      "90/90 [==============================] - 0s 100us/step - loss: 0.1965 - acc: 0.9333 - val_loss: 0.2153 - val_acc: 0.9111\n",
      "Epoch 93/100\n",
      "90/90 [==============================] - 0s 77us/step - loss: 0.1728 - acc: 0.9556 - val_loss: 0.2247 - val_acc: 0.8889\n",
      "Epoch 94/100\n",
      "90/90 [==============================] - 0s 111us/step - loss: 0.2280 - acc: 0.9444 - val_loss: 0.2257 - val_acc: 0.9111\n",
      "Epoch 95/100\n",
      "90/90 [==============================] - 0s 133us/step - loss: 0.1696 - acc: 0.9556 - val_loss: 0.2182 - val_acc: 0.9111\n",
      "Epoch 96/100\n",
      "90/90 [==============================] - 0s 100us/step - loss: 0.1445 - acc: 0.9333 - val_loss: 0.2379 - val_acc: 0.8889\n",
      "Epoch 97/100\n",
      "90/90 [==============================] - 0s 122us/step - loss: 0.1798 - acc: 0.9444 - val_loss: 0.1996 - val_acc: 0.9111\n",
      "Epoch 98/100\n",
      "90/90 [==============================] - 0s 100us/step - loss: 0.1571 - acc: 0.9667 - val_loss: 0.2070 - val_acc: 0.9111\n",
      "Epoch 99/100\n",
      "90/90 [==============================] - 0s 100us/step - loss: 0.0894 - acc: 0.9778 - val_loss: 0.2073 - val_acc: 0.9111\n",
      "Epoch 100/100\n",
      "90/90 [==============================] - 0s 100us/step - loss: 0.1321 - acc: 0.9556 - val_loss: 0.2020 - val_acc: 0.9111\n"
     ]
    }
   ],
   "source": [
    "EPOCHS = 100\n",
    "history = model.fit(train_data, train_labels, epochs=EPOCHS, validation_data=(test_data, test_labels))"
   ]
  },
  {
   "cell_type": "code",
   "execution_count": 134,
   "metadata": {},
   "outputs": [
    {
     "name": "stdout",
     "output_type": "stream",
     "text": [
      "dict_keys(['val_loss', 'val_acc', 'loss', 'acc'])\n"
     ]
    },
    {
     "data": {
      "image/png": "[encoded data removed]",
      "text/plain": [
       "<matplotlib.figure.Figure at 0x15e7f76be80>"
      ]
     },
     "metadata": {},
     "output_type": "display_data"
    },
    {
     "data": {
      "image/png": "[encoded data removed]",
      "text/plain": [
       "<matplotlib.figure.Figure at 0x15e7f7cbc18>"
      ]
     },
     "metadata": {},
     "output_type": "display_data"
    }
   ],
   "source": [
    "print(history.history.keys())\n",
    "\n",
    "# Plot training & validation accuracy values\n",
    "plt.plot(history.history['acc'])\n",
    "plt.plot(history.history['val_acc'])\n",
    "\n",
    "plt.title('Model accuracy')\n",
    "plt.ylabel('Accuracy')\n",
    "plt.xlabel('Epoch')\n",
    "plt.legend(['Train', 'Test'], loc='upper left')\n",
    "plt.show()\n",
    "\n",
    "# Plot training & validation loss values\n",
    "plt.plot(history.history['loss'])\n",
    "plt.plot(history.history['val_loss'])\n",
    "plt.title('Model loss')\n",
    "plt.ylabel('Loss')\n",
    "plt.xlabel('Epoch')\n",
    "plt.legend(['Train', 'Test'], loc='upper left')\n",
    "plt.show()"
   ]
  },
  {
   "cell_type": "markdown",
   "metadata": {},
   "source": [
    "## Save the model"
   ]
  },
  {
   "cell_type": "code",
   "execution_count": 135,
   "metadata": {},
   "outputs": [],
   "source": [
    "import datetime\n",
    "\n",
    "dt = datetime.datetime.today().strftime('%Y%m%d%H%M%S')\n",
    "filename = 'rock_paper_scissors_raw_data_{}.h5'.format(dt)\n",
    "model.save(filename)"
   ]
  },
  {
   "cell_type": "markdown",
   "metadata": {},
   "source": [
    "## Load the model"
   ]
  },
  {
   "cell_type": "code",
   "execution_count": 136,
   "metadata": {},
   "outputs": [],
   "source": [
    "del model\n",
    "model = models.load_model(filename)"
   ]
  },
  {
   "cell_type": "markdown",
   "metadata": {
    "colab_type": "text",
    "id": "j6con4C3lKC1"
   },
   "source": [
    "## Confirmation"
   ]
  },
  {
   "cell_type": "code",
   "execution_count": 137,
   "metadata": {
    "colab": {
     "base_uri": "https://localhost:8080/",
     "height": 34
    },
    "colab_type": "code",
    "id": "4oZYLLij69wU",
    "outputId": "b37a4b8a-2c80-411f-d8a9-5df1c6dbfe22"
   },
   "outputs": [
    {
     "data": {
      "text/plain": [
       "(90, 64)"
      ]
     },
     "execution_count": 137,
     "metadata": {},
     "output_type": "execute_result"
    }
   ],
   "source": [
    "import numpy as np\n",
    "import matplotlib.pyplot as plt\n",
    "train_data.shape"
   ]
  },
  {
   "cell_type": "code",
   "execution_count": 138,
   "metadata": {
    "colab": {
     "base_uri": "https://localhost:8080/",
     "height": 193
    },
    "colab_type": "code",
    "id": "zSxXE9FgRBdJ",
    "outputId": "f3a53efe-e99f-4572-f9b4-1bf3c39c77ec"
   },
   "outputs": [],
   "source": [
    "layer_outputs = [layer.output for layer in model.layers]\n",
    "#layer_outputs"
   ]
  },
  {
   "cell_type": "code",
   "execution_count": 139,
   "metadata": {
    "colab": {
     "base_uri": "https://localhost:8080/",
     "height": 34
    },
    "colab_type": "code",
    "id": "dcw7yHKrRkPD",
    "outputId": "a3ed5441-ae48-4635-bf07-ac5060030608"
   },
   "outputs": [],
   "source": [
    "activation_model = models.Model(inputs=model.input, outputs=layer_outputs)\n",
    "activations = activation_model.predict(test_data)"
   ]
  },
  {
   "cell_type": "code",
   "execution_count": 140,
   "metadata": {},
   "outputs": [
    {
     "data": {
      "text/plain": [
       "['paper', 'rock', 'scissors']"
      ]
     },
     "execution_count": 140,
     "metadata": {},
     "output_type": "execute_result"
    }
   ],
   "source": [
    "class_labels"
   ]
  },
  {
   "cell_type": "code",
   "execution_count": 141,
   "metadata": {
    "colab": {
     "base_uri": "https://localhost:8080/",
     "height": 193
    },
    "colab_type": "code",
    "id": "ccSNAwGKhRn9",
    "outputId": "0ad22e12-713b-4b07-e17b-45d39ff1b80b"
   },
   "outputs": [
    {
     "data": {
      "text/plain": [
       "array([[17, 82,  0],\n",
       "       [93,  6,  0],\n",
       "       [99,  0,  0],\n",
       "       [ 2, 97,  0],\n",
       "       [ 0,  0, 99],\n",
       "       [98,  1,  0],\n",
       "       [96,  2,  0],\n",
       "       [ 1,  5, 93],\n",
       "       [ 0, 98,  0],\n",
       "       [99,  0,  0]])"
      ]
     },
     "execution_count": 141,
     "metadata": {},
     "output_type": "execute_result"
    }
   ],
   "source": [
    "(activations[-1][:10]*100).astype(int)"
   ]
  },
  {
   "cell_type": "code",
   "execution_count": 142,
   "metadata": {
    "colab": {
     "base_uri": "https://localhost:8080/",
     "height": 193
    },
    "colab_type": "code",
    "id": "RoE0nxtuiGIN",
    "outputId": "154437a8-ab72-46f4-f42c-3e6464af47d0"
   },
   "outputs": [
    {
     "data": {
      "text/plain": [
       "array([[0, 1, 0],\n",
       "       [1, 0, 0],\n",
       "       [1, 0, 0],\n",
       "       [0, 1, 0],\n",
       "       [0, 0, 1],\n",
       "       [1, 0, 0],\n",
       "       [1, 0, 0],\n",
       "       [0, 0, 1],\n",
       "       [0, 1, 0],\n",
       "       [1, 0, 0]])"
      ]
     },
     "execution_count": 142,
     "metadata": {},
     "output_type": "execute_result"
    }
   ],
   "source": [
    "test_labels[:10].astype(int)"
   ]
  },
  {
   "cell_type": "code",
   "execution_count": null,
   "metadata": {},
   "outputs": [],
   "source": []
  }
 ],
 "metadata": {
  "colab": {
   "collapsed_sections": [],
   "name": "CNN for AED",
   "provenance": [],
   "version": "0.3.2"
  },
  "kernelspec": {
   "display_name": "Python 3",
   "language": "python",
   "name": "python3"
  },
  "language_info": {
   "codemirror_mode": {
    "name": "ipython",
    "version": 3
   },
   "file_extension": ".py",
   "mimetype": "text/x-python",
   "name": "python",
   "nbconvert_exporter": "python",
   "pygments_lexer": "ipython3",
   "version": "3.6.4"
  }
 },
 "nbformat": 4,
 "nbformat_minor": 1
}
