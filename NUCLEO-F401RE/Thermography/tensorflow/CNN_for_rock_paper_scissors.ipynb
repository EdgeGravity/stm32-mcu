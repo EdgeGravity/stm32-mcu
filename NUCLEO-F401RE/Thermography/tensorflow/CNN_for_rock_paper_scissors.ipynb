{
 "cells": [
  {
   "cell_type": "markdown",
   "metadata": {
    "colab_type": "text",
    "id": "0X16cagQE-Y-"
   },
   "source": [
    "# CNN for rock-paper-scissors with Keras/TensorFlow\n",
    "\n",
    "Date: December 6, 2018\n",
    "\n",
    "Neural network: three convolution layers and three fully connected layers\n",
    "\n",
    "Classification:\n",
    "- rock\n",
    "- paper\n",
    "- scissors"
   ]
  },
  {
   "cell_type": "markdown",
   "metadata": {
    "colab_type": "text",
    "id": "WwQ-dEltkl5Q"
   },
   "source": [
    "## Preparing data set for CNN"
   ]
  },
  {
   "cell_type": "code",
   "execution_count": 1,
   "metadata": {
    "colab": {
     "base_uri": "https://localhost:8080/",
     "height": 34
    },
    "colab_type": "code",
    "id": "VEJyQsGpV3ug",
    "outputId": "3929aa39-3383-4791-e065-3622e6781181"
   },
   "outputs": [],
   "source": [
    "DATA_FOLDER = '../thermography/data/'\n",
    "\n",
    "FILES = 40\n",
    "TRAINING_FILES = 35\n",
    "TEST_FILES = FILES - TRAINING_FILES"
   ]
  },
  {
   "cell_type": "code",
   "execution_count": 2,
   "metadata": {
    "colab": {},
    "colab_type": "code",
    "id": "JTNdoPBFWGky"
   },
   "outputs": [],
   "source": [
    "%matplotlib inline\n",
    "\n",
    "import matplotlib.pyplot as plt\n",
    "import numpy as np\n",
    "import time\n",
    "import random\n",
    "import os\n",
    "import sklearn.preprocessing as pp"
   ]
  },
  {
   "cell_type": "code",
   "execution_count": 3,
   "metadata": {},
   "outputs": [
    {
     "name": "stdout",
     "output_type": "stream",
     "text": [
      "0: paper\n",
      "1: rock\n",
      "2: scissors\n"
     ]
    }
   ],
   "source": [
    "import glob\n",
    "\n",
    "data_files = glob.glob(DATA_FOLDER+'*.csv')\n",
    "class_labels = []\n",
    "\n",
    "for file in data_files:\n",
    "    label = file.split('-')[0].replace('\\\\', '/').split('/')[-1]\n",
    "    if label not in class_labels:\n",
    "        class_labels.append(label)\n",
    "\n",
    "data_set = {}\n",
    "\n",
    "class_number = 0\n",
    "\n",
    "for label in class_labels:\n",
    "    files = glob.glob(DATA_FOLDER+'{}-*.csv'.format(label))\n",
    "    random.shuffle(files)\n",
    "    data_set[label] = (files[:TRAINING_FILES], files[TRAINING_FILES:FILES], class_number)\n",
    "    class_number += 1\n",
    "\n",
    "training_set = []\n",
    "test_set = []\n",
    "\n",
    "for k, v in data_set.items():\n",
    "    files = v[0]\n",
    "    class_number = v[2]\n",
    "    for file in files:\n",
    "        with open(file) as f:\n",
    "            data = np.array(f.read().split(',')).astype(float)\n",
    "            training_set.append((pp.scale(data), class_number))\n",
    "    files = v[1]\n",
    "    for file in files:\n",
    "        with open(file) as f:\n",
    "            data = np.array(f.read().split(',')).astype(float)\n",
    "            test_set.append((pp.scale(data), class_number))\n",
    "\n",
    "random.shuffle(training_set)\n",
    "random.shuffle(test_set)\n",
    "\n",
    "class_labels = [None for _ in range(len(data_set))]\n",
    "\n",
    "# Class number and class labels\n",
    "for k,v in data_set.items():\n",
    "    print('{}: {}'.format(v[2],k))\n",
    "    class_labels[v[2]] = k\n",
    "    \n",
    "import yaml\n",
    "with open(DATA_FOLDER+'class_labels.yaml', 'w') as f:\n",
    "    yaml.dump(class_labels, f)"
   ]
  },
  {
   "cell_type": "code",
   "execution_count": 4,
   "metadata": {
    "colab": {},
    "colab_type": "code",
    "id": "28tIKkNyW3cO"
   },
   "outputs": [
    {
     "name": "stderr",
     "output_type": "stream",
     "text": [
      "C:\\Users\\shiny\\Anaconda3\\lib\\site-packages\\h5py\\__init__.py:36: FutureWarning: Conversion of the second argument of issubdtype from `float` to `np.floating` is deprecated. In future, it will be treated as `np.float64 == np.dtype(float).type`.\n",
      "  from ._conv import register_converters as _register_converters\n",
      "Using TensorFlow backend.\n"
     ]
    },
    {
     "data": {
      "text/plain": [
       "<matplotlib.image.AxesImage at 0x15df2c8c1d0>"
      ]
     },
     "execution_count": 4,
     "metadata": {},
     "output_type": "execute_result"
    },
    {
     "data": {
      "image/png": "[encoded data removed]",
      "text/plain": [
       "<matplotlib.figure.Figure at 0x15dedaee940>"
      ]
     },
     "metadata": {},
     "output_type": "display_data"
    }
   ],
   "source": [
    "train_data, train_labels = [], []\n",
    "test_data, test_labels = [], []\n",
    "for img, label in training_set:\n",
    "    train_data.append(img)\n",
    "    train_labels.append(label)\n",
    "for img, label in test_set:\n",
    "    test_data.append(img)\n",
    "    test_labels.append(label)\n",
    "train_data = np.array(train_data, dtype='float32').reshape((TRAINING_FILES*len(class_labels), 32, 32, 1))\n",
    "train_labels = np.array(train_labels, dtype='uint8')\n",
    "test_data = np.array(test_data, dtype='float32').reshape((TEST_FILES*len(class_labels), 32, 32, 1))\n",
    "test_lables = np.array(test_labels, dtype='uint8')\n",
    "#train_data.shape\n",
    "\n",
    "from keras.utils import to_categorical\n",
    "\n",
    "train_labels=to_categorical(train_labels)\n",
    "test_labels=to_categorical(test_labels)\n",
    "\n",
    "plt.imshow(train_data[12,:,:,0])"
   ]
  },
  {
   "cell_type": "markdown",
   "metadata": {
    "colab_type": "text",
    "id": "VfUmgxxVk6uM"
   },
   "source": [
    "### CNN model"
   ]
  },
  {
   "cell_type": "code",
   "execution_count": 5,
   "metadata": {
    "colab": {
     "base_uri": "https://localhost:8080/",
     "height": 509
    },
    "colab_type": "code",
    "id": "B2Xg6tGLdMKP",
    "outputId": "ae3daa32-9dbf-4d8b-9a11-7f596dd2e4a6"
   },
   "outputs": [
    {
     "name": "stdout",
     "output_type": "stream",
     "text": [
      "_________________________________________________________________\n",
      "Layer (type)                 Output Shape              Param #   \n",
      "=================================================================\n",
      "conv2d_1 (Conv2D)            (None, 30, 30, 16)        160       \n",
      "_________________________________________________________________\n",
      "max_pooling2d_1 (MaxPooling2 (None, 15, 15, 16)        0         \n",
      "_________________________________________________________________\n",
      "conv2d_2 (Conv2D)            (None, 13, 13, 32)        4640      \n",
      "_________________________________________________________________\n",
      "max_pooling2d_2 (MaxPooling2 (None, 6, 6, 32)          0         \n",
      "_________________________________________________________________\n",
      "flatten_1 (Flatten)          (None, 1152)              0         \n",
      "_________________________________________________________________\n",
      "dropout_1 (Dropout)          (None, 1152)              0         \n",
      "_________________________________________________________________\n",
      "dense_1 (Dense)              (None, 3)                 3459      \n",
      "=================================================================\n",
      "Total params: 8,259\n",
      "Trainable params: 8,259\n",
      "Non-trainable params: 0\n",
      "_________________________________________________________________\n"
     ]
    }
   ],
   "source": [
    "from keras import layers\n",
    "from keras import models\n",
    "\n",
    "model = models.Sequential()\n",
    "\n",
    "model.add(layers.Conv2D(16, (3, 3), activation='relu', input_shape=(32, 32, 1)))\n",
    "model.add(layers.MaxPooling2D((2,2)))\n",
    "\n",
    "model.add(layers.Conv2D(32, (3, 3), activation='relu'))\n",
    "model.add(layers.MaxPooling2D((2,2)))\n",
    "\n",
    "model.add(layers.Flatten())\n",
    "model.add(layers.Dropout(0.5))\n",
    "model.add(layers.Dense(len(class_labels), activation='softmax'))\n",
    "\n",
    "model.summary()"
   ]
  },
  {
   "cell_type": "code",
   "execution_count": 6,
   "metadata": {
    "colab": {},
    "colab_type": "code",
    "id": "nRr1L_4ogL6i"
   },
   "outputs": [],
   "source": [
    "model.compile(optimizer='rmsprop', loss='categorical_crossentropy', metrics=['accuracy'])"
   ]
  },
  {
   "cell_type": "code",
   "execution_count": 7,
   "metadata": {},
   "outputs": [
    {
     "data": {
      "image/svg+xml": [
       "<svg height=\"556pt\" viewBox=\"0.00 0.00 217.00 556.00\" width=\"217pt\" xmlns=\"http://www.w3.org/2000/svg\" xmlns:xlink=\"http://www.w3.org/1999/xlink\">\n",
       "<g class=\"graph\" id=\"graph0\" transform=\"scale(1 1) rotate(0) translate(4 552)\">\n",
       "<title>G</title>\n",
       "<polygon fill=\"white\" points=\"-4,4 -4,-552 213,-552 213,4 -4,4\" stroke=\"none\"/>\n",
       "<!-- 1503017281072 -->\n",
       "<g class=\"node\" id=\"node1\"><title>1503017281072</title>\n",
       "<polygon fill=\"none\" points=\"41,-438.5 41,-474.5 168,-474.5 168,-438.5 41,-438.5\" stroke=\"black\"/>\n",
       "<text font-family=\"Times New Roman,serif\" font-size=\"14.00\" text-anchor=\"middle\" x=\"104.5\" y=\"-452.8\">conv2d_1: Conv2D</text>\n",
       "</g>\n",
       "<!-- 1503017282416 -->\n",
       "<g class=\"node\" id=\"node2\"><title>1503017282416</title>\n",
       "<polygon fill=\"none\" points=\"0,-365.5 0,-401.5 209,-401.5 209,-365.5 0,-365.5\" stroke=\"black\"/>\n",
       "<text font-family=\"Times New Roman,serif\" font-size=\"14.00\" text-anchor=\"middle\" x=\"104.5\" y=\"-379.8\">max_pooling2d_1: MaxPooling2D</text>\n",
       "</g>\n",
       "<!-- 1503017281072&#45;&gt;1503017282416 -->\n",
       "<g class=\"edge\" id=\"edge2\"><title>1503017281072-&gt;1503017282416</title>\n",
       "<path d=\"M104.5,-438.313C104.5,-430.289 104.5,-420.547 104.5,-411.569\" fill=\"none\" stroke=\"black\"/>\n",
       "<polygon fill=\"black\" points=\"108,-411.529 104.5,-401.529 101,-411.529 108,-411.529\" stroke=\"black\"/>\n",
       "</g>\n",
       "<!-- 1503017179344 -->\n",
       "<g class=\"node\" id=\"node3\"><title>1503017179344</title>\n",
       "<polygon fill=\"none\" points=\"41,-292.5 41,-328.5 168,-328.5 168,-292.5 41,-292.5\" stroke=\"black\"/>\n",
       "<text font-family=\"Times New Roman,serif\" font-size=\"14.00\" text-anchor=\"middle\" x=\"104.5\" y=\"-306.8\">conv2d_2: Conv2D</text>\n",
       "</g>\n",
       "<!-- 1503017282416&#45;&gt;1503017179344 -->\n",
       "<g class=\"edge\" id=\"edge3\"><title>1503017282416-&gt;1503017179344</title>\n",
       "<path d=\"M104.5,-365.313C104.5,-357.289 104.5,-347.547 104.5,-338.569\" fill=\"none\" stroke=\"black\"/>\n",
       "<polygon fill=\"black\" points=\"108,-338.529 104.5,-328.529 101,-338.529 108,-338.529\" stroke=\"black\"/>\n",
       "</g>\n",
       "<!-- 1503017534912 -->\n",
       "<g class=\"node\" id=\"node4\"><title>1503017534912</title>\n",
       "<polygon fill=\"none\" points=\"0,-219.5 0,-255.5 209,-255.5 209,-219.5 0,-219.5\" stroke=\"black\"/>\n",
       "<text font-family=\"Times New Roman,serif\" font-size=\"14.00\" text-anchor=\"middle\" x=\"104.5\" y=\"-233.8\">max_pooling2d_2: MaxPooling2D</text>\n",
       "</g>\n",
       "<!-- 1503017179344&#45;&gt;1503017534912 -->\n",
       "<g class=\"edge\" id=\"edge4\"><title>1503017179344-&gt;1503017534912</title>\n",
       "<path d=\"M104.5,-292.313C104.5,-284.289 104.5,-274.547 104.5,-265.569\" fill=\"none\" stroke=\"black\"/>\n",
       "<polygon fill=\"black\" points=\"108,-265.529 104.5,-255.529 101,-265.529 108,-265.529\" stroke=\"black\"/>\n",
       "</g>\n",
       "<!-- 1503017435824 -->\n",
       "<g class=\"node\" id=\"node5\"><title>1503017435824</title>\n",
       "<polygon fill=\"none\" points=\"50,-146.5 50,-182.5 159,-182.5 159,-146.5 50,-146.5\" stroke=\"black\"/>\n",
       "<text font-family=\"Times New Roman,serif\" font-size=\"14.00\" text-anchor=\"middle\" x=\"104.5\" y=\"-160.8\">flatten_1: Flatten</text>\n",
       "</g>\n",
       "<!-- 1503017534912&#45;&gt;1503017435824 -->\n",
       "<g class=\"edge\" id=\"edge5\"><title>1503017534912-&gt;1503017435824</title>\n",
       "<path d=\"M104.5,-219.313C104.5,-211.289 104.5,-201.547 104.5,-192.569\" fill=\"none\" stroke=\"black\"/>\n",
       "<polygon fill=\"black\" points=\"108,-192.529 104.5,-182.529 101,-192.529 108,-192.529\" stroke=\"black\"/>\n",
       "</g>\n",
       "<!-- 1503017536984 -->\n",
       "<g class=\"node\" id=\"node6\"><title>1503017536984</title>\n",
       "<polygon fill=\"none\" points=\"39.5,-73.5 39.5,-109.5 169.5,-109.5 169.5,-73.5 39.5,-73.5\" stroke=\"black\"/>\n",
       "<text font-family=\"Times New Roman,serif\" font-size=\"14.00\" text-anchor=\"middle\" x=\"104.5\" y=\"-87.8\">dropout_1: Dropout</text>\n",
       "</g>\n",
       "<!-- 1503017435824&#45;&gt;1503017536984 -->\n",
       "<g class=\"edge\" id=\"edge6\"><title>1503017435824-&gt;1503017536984</title>\n",
       "<path d=\"M104.5,-146.313C104.5,-138.289 104.5,-128.547 104.5,-119.569\" fill=\"none\" stroke=\"black\"/>\n",
       "<polygon fill=\"black\" points=\"108,-119.529 104.5,-109.529 101,-119.529 108,-119.529\" stroke=\"black\"/>\n",
       "</g>\n",
       "<!-- 1503017630408 -->\n",
       "<g class=\"node\" id=\"node7\"><title>1503017630408</title>\n",
       "<polygon fill=\"none\" points=\"52.5,-0.5 52.5,-36.5 156.5,-36.5 156.5,-0.5 52.5,-0.5\" stroke=\"black\"/>\n",
       "<text font-family=\"Times New Roman,serif\" font-size=\"14.00\" text-anchor=\"middle\" x=\"104.5\" y=\"-14.8\">dense_1: Dense</text>\n",
       "</g>\n",
       "<!-- 1503017536984&#45;&gt;1503017630408 -->\n",
       "<g class=\"edge\" id=\"edge7\"><title>1503017536984-&gt;1503017630408</title>\n",
       "<path d=\"M104.5,-73.3129C104.5,-65.2895 104.5,-55.5475 104.5,-46.5691\" fill=\"none\" stroke=\"black\"/>\n",
       "<polygon fill=\"black\" points=\"108,-46.5288 104.5,-36.5288 101,-46.5289 108,-46.5288\" stroke=\"black\"/>\n",
       "</g>\n",
       "<!-- 1503017282192 -->\n",
       "<g class=\"node\" id=\"node8\"><title>1503017282192</title>\n",
       "<polygon fill=\"none\" points=\"52.5,-511.5 52.5,-547.5 156.5,-547.5 156.5,-511.5 52.5,-511.5\" stroke=\"black\"/>\n",
       "<text font-family=\"Times New Roman,serif\" font-size=\"14.00\" text-anchor=\"middle\" x=\"104.5\" y=\"-525.8\">1503017282192</text>\n",
       "</g>\n",
       "<!-- 1503017282192&#45;&gt;1503017281072 -->\n",
       "<g class=\"edge\" id=\"edge1\"><title>1503017282192-&gt;1503017281072</title>\n",
       "<path d=\"M104.5,-511.313C104.5,-503.289 104.5,-493.547 104.5,-484.569\" fill=\"none\" stroke=\"black\"/>\n",
       "<polygon fill=\"black\" points=\"108,-484.529 104.5,-474.529 101,-484.529 108,-484.529\" stroke=\"black\"/>\n",
       "</g>\n",
       "</g>\n",
       "</svg>"
      ],
      "text/plain": [
       "<IPython.core.display.SVG object>"
      ]
     },
     "execution_count": 7,
     "metadata": {},
     "output_type": "execute_result"
    }
   ],
   "source": [
    "from IPython.display import SVG\n",
    "from keras.utils.vis_utils import model_to_dot\n",
    "\n",
    "SVG(model_to_dot(model).create(prog='dot', format='svg'))"
   ]
  },
  {
   "cell_type": "markdown",
   "metadata": {
    "colab_type": "text",
    "id": "TfypWUJIlFkz"
   },
   "source": [
    "## Training CNN"
   ]
  },
  {
   "cell_type": "code",
   "execution_count": 8,
   "metadata": {
    "colab": {
     "base_uri": "https://localhost:8080/",
     "height": 931
    },
    "colab_type": "code",
    "id": "zsdmu-ggfvr1",
    "outputId": "77a52558-8ecc-4fc5-e0cb-2b86a75df4c6"
   },
   "outputs": [
    {
     "name": "stdout",
     "output_type": "stream",
     "text": [
      "Train on 105 samples, validate on 15 samples\n",
      "Epoch 1/100\n",
      "105/105 [==============================] - 3s 27ms/step - loss: 1.1113 - acc: 0.3619 - val_loss: 1.1152 - val_acc: 0.3333\n",
      "Epoch 2/100\n",
      "105/105 [==============================] - 2s 16ms/step - loss: 1.0787 - acc: 0.4095 - val_loss: 1.0873 - val_acc: 0.4667\n",
      "Epoch 3/100\n",
      "105/105 [==============================] - 2s 15ms/step - loss: 1.0069 - acc: 0.5143 - val_loss: 1.0661 - val_acc: 0.4000\n",
      "Epoch 4/100\n",
      "105/105 [==============================] - 2s 15ms/step - loss: 0.9584 - acc: 0.5905 - val_loss: 1.0161 - val_acc: 0.4667\n",
      "Epoch 5/100\n",
      "105/105 [==============================] - 1s 12ms/step - loss: 0.9021 - acc: 0.6762 - val_loss: 1.0031 - val_acc: 0.4667\n",
      "Epoch 6/100\n",
      "105/105 [==============================] - 2s 15ms/step - loss: 0.9169 - acc: 0.6000 - val_loss: 0.9467 - val_acc: 0.6667\n",
      "Epoch 7/100\n",
      "105/105 [==============================] - 2s 15ms/step - loss: 0.8416 - acc: 0.6000 - val_loss: 0.9834 - val_acc: 0.5333\n",
      "Epoch 8/100\n",
      "105/105 [==============================] - 2s 17ms/step - loss: 0.8051 - acc: 0.6857 - val_loss: 0.9657 - val_acc: 0.5333\n",
      "Epoch 9/100\n",
      "105/105 [==============================] - 2s 17ms/step - loss: 0.7850 - acc: 0.6667 - val_loss: 0.8930 - val_acc: 0.6667\n",
      "Epoch 10/100\n",
      "105/105 [==============================] - 2s 17ms/step - loss: 0.7520 - acc: 0.7238 - val_loss: 0.8760 - val_acc: 0.6667\n",
      "Epoch 11/100\n",
      "105/105 [==============================] - 2s 15ms/step - loss: 0.7309 - acc: 0.7238 - val_loss: 0.9361 - val_acc: 0.5333\n",
      "Epoch 12/100\n",
      "105/105 [==============================] - 2s 16ms/step - loss: 0.7218 - acc: 0.6857 - val_loss: 0.8612 - val_acc: 0.6000\n",
      "Epoch 13/100\n",
      "105/105 [==============================] - 2s 17ms/step - loss: 0.6422 - acc: 0.7143 - val_loss: 0.7844 - val_acc: 0.7333\n",
      "Epoch 14/100\n",
      "105/105 [==============================] - 2s 15ms/step - loss: 0.6661 - acc: 0.7143 - val_loss: 0.7953 - val_acc: 0.6667\n",
      "Epoch 15/100\n",
      "105/105 [==============================] - 2s 15ms/step - loss: 0.6088 - acc: 0.7905 - val_loss: 0.7140 - val_acc: 0.6667\n",
      "Epoch 16/100\n",
      "105/105 [==============================] - 2s 17ms/step - loss: 0.6134 - acc: 0.7714 - val_loss: 0.7491 - val_acc: 0.5333\n",
      "Epoch 17/100\n",
      "105/105 [==============================] - 2s 16ms/step - loss: 0.5724 - acc: 0.7810 - val_loss: 0.7875 - val_acc: 0.6000\n",
      "Epoch 18/100\n",
      "105/105 [==============================] - 1s 14ms/step - loss: 0.5727 - acc: 0.7714 - val_loss: 0.7244 - val_acc: 0.7333\n",
      "Epoch 19/100\n",
      "105/105 [==============================] - 2s 15ms/step - loss: 0.5710 - acc: 0.7619 - val_loss: 0.7525 - val_acc: 0.7333\n",
      "Epoch 20/100\n",
      "105/105 [==============================] - 2s 15ms/step - loss: 0.5142 - acc: 0.8381 - val_loss: 0.7492 - val_acc: 0.6000\n",
      "Epoch 21/100\n",
      "105/105 [==============================] - 2s 15ms/step - loss: 0.6033 - acc: 0.7238 - val_loss: 0.6642 - val_acc: 0.7333\n",
      "Epoch 22/100\n",
      "105/105 [==============================] - 2s 16ms/step - loss: 0.5560 - acc: 0.7810 - val_loss: 0.7329 - val_acc: 0.7333\n",
      "Epoch 23/100\n",
      "105/105 [==============================] - 1s 14ms/step - loss: 0.4805 - acc: 0.8190 - val_loss: 0.7129 - val_acc: 0.6667\n",
      "Epoch 24/100\n",
      "105/105 [==============================] - 2s 15ms/step - loss: 0.5339 - acc: 0.8000 - val_loss: 0.6737 - val_acc: 0.7333\n",
      "Epoch 25/100\n",
      "105/105 [==============================] - 2s 15ms/step - loss: 0.5181 - acc: 0.8000 - val_loss: 0.6357 - val_acc: 0.7333\n",
      "Epoch 26/100\n",
      "105/105 [==============================] - 2s 15ms/step - loss: 0.5916 - acc: 0.7619 - val_loss: 0.7558 - val_acc: 0.6667\n",
      "Epoch 27/100\n",
      "105/105 [==============================] - 2s 15ms/step - loss: 0.4445 - acc: 0.8286 - val_loss: 0.5709 - val_acc: 0.7333\n",
      "Epoch 28/100\n",
      "105/105 [==============================] - 2s 15ms/step - loss: 0.4522 - acc: 0.8381 - val_loss: 0.5948 - val_acc: 0.6667\n",
      "Epoch 29/100\n",
      "105/105 [==============================] - 1s 14ms/step - loss: 0.4115 - acc: 0.8667 - val_loss: 0.6213 - val_acc: 0.7333\n",
      "Epoch 30/100\n",
      "105/105 [==============================] - 2s 18ms/step - loss: 0.4000 - acc: 0.8571 - val_loss: 0.7361 - val_acc: 0.6000\n",
      "Epoch 31/100\n",
      "105/105 [==============================] - 1s 14ms/step - loss: 0.5109 - acc: 0.7619 - val_loss: 0.6743 - val_acc: 0.7333\n",
      "Epoch 32/100\n",
      "105/105 [==============================] - 2s 15ms/step - loss: 0.4511 - acc: 0.8286 - val_loss: 0.6031 - val_acc: 0.8000\n",
      "Epoch 33/100\n",
      "105/105 [==============================] - 2s 17ms/step - loss: 0.4350 - acc: 0.8667 - val_loss: 0.5993 - val_acc: 0.7333\n",
      "Epoch 34/100\n",
      "105/105 [==============================] - 1s 14ms/step - loss: 0.3518 - acc: 0.9143 - val_loss: 0.5316 - val_acc: 0.7333\n",
      "Epoch 35/100\n",
      "105/105 [==============================] - 2s 16ms/step - loss: 0.3628 - acc: 0.8667 - val_loss: 0.5099 - val_acc: 0.8000\n",
      "Epoch 36/100\n",
      "105/105 [==============================] - 2s 16ms/step - loss: 0.3910 - acc: 0.8667 - val_loss: 0.5821 - val_acc: 0.8000\n",
      "Epoch 37/100\n",
      "105/105 [==============================] - 2s 16ms/step - loss: 0.3449 - acc: 0.8952 - val_loss: 0.5052 - val_acc: 0.7333\n",
      "Epoch 38/100\n",
      "105/105 [==============================] - 2s 15ms/step - loss: 0.3491 - acc: 0.8667 - val_loss: 0.5244 - val_acc: 0.7333\n",
      "Epoch 39/100\n",
      "105/105 [==============================] - 2s 15ms/step - loss: 0.2919 - acc: 0.9333 - val_loss: 0.4964 - val_acc: 0.9333\n",
      "Epoch 40/100\n",
      "105/105 [==============================] - 2s 16ms/step - loss: 0.3004 - acc: 0.8952 - val_loss: 0.6401 - val_acc: 0.7333\n",
      "Epoch 41/100\n",
      "105/105 [==============================] - 2s 16ms/step - loss: 0.2880 - acc: 0.9048 - val_loss: 0.4517 - val_acc: 0.8000\n",
      "Epoch 42/100\n",
      "105/105 [==============================] - 2s 15ms/step - loss: 0.2801 - acc: 0.9143 - val_loss: 0.5998 - val_acc: 0.8000\n",
      "Epoch 43/100\n",
      "105/105 [==============================] - 2s 16ms/step - loss: 0.3382 - acc: 0.8857 - val_loss: 0.4713 - val_acc: 0.8667\n",
      "Epoch 44/100\n",
      "105/105 [==============================] - 2s 15ms/step - loss: 0.3490 - acc: 0.8286 - val_loss: 0.4292 - val_acc: 0.7333\n",
      "Epoch 45/100\n",
      "105/105 [==============================] - 2s 15ms/step - loss: 0.3274 - acc: 0.8857 - val_loss: 0.5437 - val_acc: 0.7333\n",
      "Epoch 46/100\n",
      "105/105 [==============================] - 2s 15ms/step - loss: 0.3118 - acc: 0.9143 - val_loss: 0.4653 - val_acc: 0.9333\n",
      "Epoch 47/100\n",
      "105/105 [==============================] - 2s 16ms/step - loss: 0.2852 - acc: 0.8952 - val_loss: 0.4473 - val_acc: 0.9333\n",
      "Epoch 48/100\n",
      "105/105 [==============================] - 2s 15ms/step - loss: 0.2988 - acc: 0.8857 - val_loss: 0.4887 - val_acc: 0.8667\n",
      "Epoch 49/100\n",
      "105/105 [==============================] - 2s 17ms/step - loss: 0.3170 - acc: 0.8762 - val_loss: 0.4243 - val_acc: 0.8000\n",
      "Epoch 50/100\n",
      "105/105 [==============================] - 2s 14ms/step - loss: 0.2358 - acc: 0.9429 - val_loss: 0.4840 - val_acc: 0.8667\n",
      "Epoch 51/100\n",
      "105/105 [==============================] - 2s 18ms/step - loss: 0.2110 - acc: 0.9143 - val_loss: 0.4807 - val_acc: 0.9333\n",
      "Epoch 52/100\n",
      "105/105 [==============================] - 1s 14ms/step - loss: 0.3091 - acc: 0.8667 - val_loss: 0.4538 - val_acc: 0.7333\n",
      "Epoch 53/100\n",
      "105/105 [==============================] - 2s 15ms/step - loss: 0.2790 - acc: 0.8952 - val_loss: 0.4177 - val_acc: 0.8667\n",
      "Epoch 54/100\n",
      "105/105 [==============================] - 2s 17ms/step - loss: 0.2686 - acc: 0.8857 - val_loss: 0.3429 - val_acc: 0.8667\n",
      "Epoch 55/100\n",
      "105/105 [==============================] - 2s 16ms/step - loss: 0.2445 - acc: 0.9048 - val_loss: 0.3874 - val_acc: 0.9333\n",
      "Epoch 56/100\n",
      "105/105 [==============================] - 2s 14ms/step - loss: 0.2092 - acc: 0.9333 - val_loss: 0.4095 - val_acc: 0.9333\n",
      "Epoch 57/100\n",
      "105/105 [==============================] - 2s 19ms/step - loss: 0.2406 - acc: 0.9238 - val_loss: 0.3867 - val_acc: 0.9333\n",
      "Epoch 58/100\n",
      "105/105 [==============================] - 2s 17ms/step - loss: 0.1730 - acc: 0.9429 - val_loss: 0.4179 - val_acc: 0.8000\n",
      "Epoch 59/100\n",
      "105/105 [==============================] - 2s 17ms/step - loss: 0.1912 - acc: 0.9524 - val_loss: 0.3136 - val_acc: 0.9333\n",
      "Epoch 60/100\n",
      "105/105 [==============================] - 2s 15ms/step - loss: 0.1888 - acc: 0.9619 - val_loss: 0.3601 - val_acc: 0.8000\n",
      "Epoch 61/100\n"
     ]
    },
    {
     "name": "stdout",
     "output_type": "stream",
     "text": [
      "105/105 [==============================] - 2s 17ms/step - loss: 0.1871 - acc: 0.9333 - val_loss: 0.3080 - val_acc: 0.9333\n",
      "Epoch 62/100\n",
      "105/105 [==============================] - 2s 15ms/step - loss: 0.2168 - acc: 0.9143 - val_loss: 0.3018 - val_acc: 0.9333\n",
      "Epoch 63/100\n",
      "105/105 [==============================] - 2s 16ms/step - loss: 0.1521 - acc: 0.9429 - val_loss: 0.4317 - val_acc: 0.8667\n",
      "Epoch 64/100\n",
      "105/105 [==============================] - 2s 16ms/step - loss: 0.2032 - acc: 0.9238 - val_loss: 0.4674 - val_acc: 0.8000\n",
      "Epoch 65/100\n",
      "105/105 [==============================] - 2s 14ms/step - loss: 0.1918 - acc: 0.9333 - val_loss: 0.3179 - val_acc: 0.9333\n",
      "Epoch 66/100\n",
      "105/105 [==============================] - 2s 16ms/step - loss: 0.1875 - acc: 0.9524 - val_loss: 0.4233 - val_acc: 0.7333\n",
      "Epoch 67/100\n",
      "105/105 [==============================] - 1s 14ms/step - loss: 0.1663 - acc: 0.9238 - val_loss: 0.3906 - val_acc: 0.8000\n",
      "Epoch 68/100\n",
      "105/105 [==============================] - 1s 13ms/step - loss: 0.1606 - acc: 0.9429 - val_loss: 0.3666 - val_acc: 0.9333\n",
      "Epoch 69/100\n",
      "105/105 [==============================] - 2s 17ms/step - loss: 0.1868 - acc: 0.9429 - val_loss: 0.3021 - val_acc: 0.9333\n",
      "Epoch 70/100\n",
      "105/105 [==============================] - 1s 14ms/step - loss: 0.1926 - acc: 0.9238 - val_loss: 0.3948 - val_acc: 0.8667\n",
      "Epoch 71/100\n",
      "105/105 [==============================] - 2s 18ms/step - loss: 0.1703 - acc: 0.9619 - val_loss: 0.3316 - val_acc: 0.9333\n",
      "Epoch 72/100\n",
      "105/105 [==============================] - 2s 16ms/step - loss: 0.1364 - acc: 0.9524 - val_loss: 0.4333 - val_acc: 0.8000\n",
      "Epoch 73/100\n",
      "105/105 [==============================] - 1s 14ms/step - loss: 0.1698 - acc: 0.9429 - val_loss: 0.3233 - val_acc: 0.9333\n",
      "Epoch 74/100\n",
      "105/105 [==============================] - 2s 16ms/step - loss: 0.1755 - acc: 0.9524 - val_loss: 0.3295 - val_acc: 0.9333\n",
      "Epoch 75/100\n",
      "105/105 [==============================] - 2s 16ms/step - loss: 0.1287 - acc: 0.9524 - val_loss: 0.3210 - val_acc: 0.8667\n",
      "Epoch 76/100\n",
      "105/105 [==============================] - 2s 17ms/step - loss: 0.1581 - acc: 0.9524 - val_loss: 0.2906 - val_acc: 0.8667\n",
      "Epoch 77/100\n",
      "105/105 [==============================] - 1s 14ms/step - loss: 0.1794 - acc: 0.9429 - val_loss: 0.2877 - val_acc: 0.9333\n",
      "Epoch 78/100\n",
      "105/105 [==============================] - 2s 17ms/step - loss: 0.1018 - acc: 0.9714 - val_loss: 0.3416 - val_acc: 0.8000\n",
      "Epoch 79/100\n",
      "105/105 [==============================] - 2s 15ms/step - loss: 0.1255 - acc: 0.9429 - val_loss: 0.4018 - val_acc: 0.9333\n",
      "Epoch 80/100\n",
      "105/105 [==============================] - 2s 14ms/step - loss: 0.1258 - acc: 0.9714 - val_loss: 0.3325 - val_acc: 0.9333\n",
      "Epoch 81/100\n",
      "105/105 [==============================] - 1s 14ms/step - loss: 0.1244 - acc: 0.9524 - val_loss: 0.4706 - val_acc: 0.8667\n",
      "Epoch 82/100\n",
      "105/105 [==============================] - 2s 17ms/step - loss: 0.1910 - acc: 0.9048 - val_loss: 0.2439 - val_acc: 0.9333\n",
      "Epoch 83/100\n",
      "105/105 [==============================] - 2s 16ms/step - loss: 0.1032 - acc: 0.9714 - val_loss: 0.2547 - val_acc: 0.8667\n",
      "Epoch 84/100\n",
      "105/105 [==============================] - 2s 17ms/step - loss: 0.1328 - acc: 0.9524 - val_loss: 0.2360 - val_acc: 0.9333\n",
      "Epoch 85/100\n",
      "105/105 [==============================] - 2s 19ms/step - loss: 0.1591 - acc: 0.9143 - val_loss: 0.5495 - val_acc: 0.7333\n",
      "Epoch 86/100\n",
      "105/105 [==============================] - 2s 18ms/step - loss: 0.1016 - acc: 0.9810 - val_loss: 0.2618 - val_acc: 0.8667\n",
      "Epoch 87/100\n",
      "105/105 [==============================] - 2s 16ms/step - loss: 0.0790 - acc: 0.9905 - val_loss: 0.2170 - val_acc: 0.9333\n",
      "Epoch 88/100\n",
      "105/105 [==============================] - 2s 17ms/step - loss: 0.1231 - acc: 0.9333 - val_loss: 0.1933 - val_acc: 1.0000\n",
      "Epoch 89/100\n",
      "105/105 [==============================] - 2s 16ms/step - loss: 0.0974 - acc: 0.9619 - val_loss: 0.2919 - val_acc: 0.8667\n",
      "Epoch 90/100\n",
      "105/105 [==============================] - 2s 16ms/step - loss: 0.0552 - acc: 0.9905 - val_loss: 0.2176 - val_acc: 0.9333\n",
      "Epoch 91/100\n",
      "105/105 [==============================] - 2s 16ms/step - loss: 0.1253 - acc: 0.9619 - val_loss: 0.3123 - val_acc: 0.8667\n",
      "Epoch 92/100\n",
      "105/105 [==============================] - 2s 15ms/step - loss: 0.1319 - acc: 0.9714 - val_loss: 0.2397 - val_acc: 0.8667\n",
      "Epoch 93/100\n",
      "105/105 [==============================] - 2s 16ms/step - loss: 0.0580 - acc: 0.9905 - val_loss: 0.1782 - val_acc: 0.9333\n",
      "Epoch 94/100\n",
      "105/105 [==============================] - 2s 15ms/step - loss: 0.0653 - acc: 0.9810 - val_loss: 0.2235 - val_acc: 1.0000\n",
      "Epoch 95/100\n",
      "105/105 [==============================] - 2s 17ms/step - loss: 0.0687 - acc: 0.9714 - val_loss: 0.1952 - val_acc: 0.9333\n",
      "Epoch 96/100\n",
      "105/105 [==============================] - 2s 17ms/step - loss: 0.0892 - acc: 0.9714 - val_loss: 0.2449 - val_acc: 0.9333\n",
      "Epoch 97/100\n",
      "105/105 [==============================] - 2s 15ms/step - loss: 0.1550 - acc: 0.9429 - val_loss: 0.4652 - val_acc: 0.8667\n",
      "Epoch 98/100\n",
      "105/105 [==============================] - 2s 17ms/step - loss: 0.0797 - acc: 0.9714 - val_loss: 0.3555 - val_acc: 0.9333\n",
      "Epoch 99/100\n",
      "105/105 [==============================] - 2s 17ms/step - loss: 0.0773 - acc: 0.9810 - val_loss: 0.2761 - val_acc: 0.9333\n",
      "Epoch 100/100\n",
      "105/105 [==============================] - 2s 17ms/step - loss: 0.1076 - acc: 0.9714 - val_loss: 0.3109 - val_acc: 0.9333\n"
     ]
    }
   ],
   "source": [
    "EPOCHS = 100\n",
    "history = model.fit(train_data, train_labels, epochs=EPOCHS, validation_data=(test_data, test_labels))"
   ]
  },
  {
   "cell_type": "code",
   "execution_count": 9,
   "metadata": {},
   "outputs": [
    {
     "name": "stdout",
     "output_type": "stream",
     "text": [
      "dict_keys(['val_loss', 'val_acc', 'loss', 'acc'])\n"
     ]
    },
    {
     "data": {
      "image/png": "[encoded data removed]",
      "text/plain": [
       "<matplotlib.figure.Figure at 0x15df31bbcc0>"
      ]
     },
     "metadata": {},
     "output_type": "display_data"
    },
    {
     "data": {
      "image/png": "[encoded data removed]",
      "text/plain": [
       "<matplotlib.figure.Figure at 0x15df311d3c8>"
      ]
     },
     "metadata": {},
     "output_type": "display_data"
    }
   ],
   "source": [
    "print(history.history.keys())\n",
    "\n",
    "# Plot training & validation accuracy values\n",
    "plt.plot(history.history['acc'])\n",
    "plt.plot(history.history['val_acc'])\n",
    "\n",
    "plt.title('Model accuracy')\n",
    "plt.ylabel('Accuracy')\n",
    "plt.xlabel('Epoch')\n",
    "plt.legend(['Train', 'Test'], loc='upper left')\n",
    "plt.show()\n",
    "\n",
    "# Plot training & validation loss values\n",
    "plt.plot(history.history['loss'])\n",
    "plt.plot(history.history['val_loss'])\n",
    "plt.title('Model loss')\n",
    "plt.ylabel('Loss')\n",
    "plt.xlabel('Epoch')\n",
    "plt.legend(['Train', 'Test'], loc='upper left')\n",
    "plt.show()"
   ]
  },
  {
   "cell_type": "markdown",
   "metadata": {},
   "source": [
    "## Save the model"
   ]
  },
  {
   "cell_type": "code",
   "execution_count": 10,
   "metadata": {},
   "outputs": [],
   "source": [
    "import datetime\n",
    "\n",
    "dt = datetime.datetime.today().strftime('%Y%m%d%H%M%S')\n",
    "filename = 'cnn_for_rock_paper_scissors_{}.h5'.format(dt)\n",
    "model.save(filename)"
   ]
  },
  {
   "cell_type": "markdown",
   "metadata": {},
   "source": [
    "## Load the model"
   ]
  },
  {
   "cell_type": "code",
   "execution_count": 11,
   "metadata": {},
   "outputs": [],
   "source": [
    "del model\n",
    "model = models.load_model(filename)"
   ]
  },
  {
   "cell_type": "markdown",
   "metadata": {
    "colab_type": "text",
    "id": "j6con4C3lKC1"
   },
   "source": [
    "## Confirmation"
   ]
  },
  {
   "cell_type": "code",
   "execution_count": 12,
   "metadata": {
    "colab": {
     "base_uri": "https://localhost:8080/",
     "height": 34
    },
    "colab_type": "code",
    "id": "4oZYLLij69wU",
    "outputId": "b37a4b8a-2c80-411f-d8a9-5df1c6dbfe22"
   },
   "outputs": [
    {
     "data": {
      "text/plain": [
       "(105, 32, 32, 1)"
      ]
     },
     "execution_count": 12,
     "metadata": {},
     "output_type": "execute_result"
    }
   ],
   "source": [
    "import numpy as np\n",
    "import matplotlib.pyplot as plt\n",
    "train_data.shape"
   ]
  },
  {
   "cell_type": "code",
   "execution_count": 13,
   "metadata": {
    "colab": {
     "base_uri": "https://localhost:8080/",
     "height": 193
    },
    "colab_type": "code",
    "id": "zSxXE9FgRBdJ",
    "outputId": "f3a53efe-e99f-4572-f9b4-1bf3c39c77ec"
   },
   "outputs": [],
   "source": [
    "layer_outputs = [layer.output for layer in model.layers]\n",
    "#layer_outputs"
   ]
  },
  {
   "cell_type": "code",
   "execution_count": 14,
   "metadata": {
    "colab": {
     "base_uri": "https://localhost:8080/",
     "height": 34
    },
    "colab_type": "code",
    "id": "dcw7yHKrRkPD",
    "outputId": "a3ed5441-ae48-4635-bf07-ac5060030608"
   },
   "outputs": [],
   "source": [
    "activation_model = models.Model(inputs=model.input, outputs=layer_outputs)\n",
    "activations = activation_model.predict(test_data)\n",
    "#activations[0][0,:,:,0].shape"
   ]
  },
  {
   "cell_type": "code",
   "execution_count": 15,
   "metadata": {},
   "outputs": [
    {
     "data": {
      "text/plain": [
       "['paper', 'rock', 'scissors']"
      ]
     },
     "execution_count": 15,
     "metadata": {},
     "output_type": "execute_result"
    }
   ],
   "source": [
    "class_labels"
   ]
  },
  {
   "cell_type": "code",
   "execution_count": 16,
   "metadata": {
    "colab": {
     "base_uri": "https://localhost:8080/",
     "height": 193
    },
    "colab_type": "code",
    "id": "ccSNAwGKhRn9",
    "outputId": "0ad22e12-713b-4b07-e17b-45d39ff1b80b"
   },
   "outputs": [
    {
     "data": {
      "text/plain": [
       "array([[ 0, 13, 86],\n",
       "       [83, 16,  0],\n",
       "       [31,  0, 67],\n",
       "       [ 1, 97,  0],\n",
       "       [ 0, 99,  0],\n",
       "       [ 0, 99,  0],\n",
       "       [98,  1,  0],\n",
       "       [20,  0, 78],\n",
       "       [41,  0, 58],\n",
       "       [71, 28,  0]])"
      ]
     },
     "execution_count": 16,
     "metadata": {},
     "output_type": "execute_result"
    }
   ],
   "source": [
    "(activations[-1][:10]*100).astype(int)"
   ]
  },
  {
   "cell_type": "code",
   "execution_count": 17,
   "metadata": {
    "colab": {
     "base_uri": "https://localhost:8080/",
     "height": 193
    },
    "colab_type": "code",
    "id": "RoE0nxtuiGIN",
    "outputId": "154437a8-ab72-46f4-f42c-3e6464af47d0"
   },
   "outputs": [
    {
     "data": {
      "text/plain": [
       "array([[0, 0, 1],\n",
       "       [1, 0, 0],\n",
       "       [0, 0, 1],\n",
       "       [0, 1, 0],\n",
       "       [0, 1, 0],\n",
       "       [0, 1, 0],\n",
       "       [1, 0, 0],\n",
       "       [0, 0, 1],\n",
       "       [0, 0, 1],\n",
       "       [1, 0, 0]])"
      ]
     },
     "execution_count": 17,
     "metadata": {},
     "output_type": "execute_result"
    }
   ],
   "source": [
    "test_labels[:10].astype(int)"
   ]
  },
  {
   "cell_type": "code",
   "execution_count": 18,
   "metadata": {},
   "outputs": [],
   "source": [
    "def plot_layer(activations, sample, layer):\n",
    "    a = activations[layer].shape\n",
    "    rows = int(a[3]/4)\n",
    "    fig, axarr = plt.subplots(rows, 4, figsize=[20,15])\n",
    "    for i in range(a[3]):\n",
    "        row = int(i/4)\n",
    "        x, y = row, i-4*row\n",
    "        axarr[x, y].imshow(np.rot90(activations[layer][sample, :, :, i]))\n",
    "        axarr[x, y].set_xticks([])\n",
    "        axarr[x, y].set_yticks([])"
   ]
  },
  {
   "cell_type": "code",
   "execution_count": 19,
   "metadata": {},
   "outputs": [
    {
     "data": {
      "text/plain": [
       "'rock'"
      ]
     },
     "execution_count": 19,
     "metadata": {},
     "output_type": "execute_result"
    },
    {
     "data": {
      "image/png": "[encoded data removed]",
      "text/plain": [
       "<matplotlib.figure.Figure at 0x15df42da780>"
      ]
     },
     "metadata": {},
     "output_type": "display_data"
    }
   ],
   "source": [
    "image_number = 10\n",
    "\n",
    "plt.imshow(test_data[image_number,:,:,0])\n",
    "class_labels[np.argmax(test_labels[image_number])]"
   ]
  },
  {
   "cell_type": "code",
   "execution_count": 22,
   "metadata": {},
   "outputs": [
    {
     "data": {
      "image/png": "[encoded data removed]",
      "text/plain": [
       "<matplotlib.figure.Figure at 0x15df5f258d0>"
      ]
     },
     "metadata": {},
     "output_type": "display_data"
    }
   ],
   "source": [
    "plot_layer(activations, image_number, 1)"
   ]
  },
  {
   "cell_type": "code",
   "execution_count": 23,
   "metadata": {},
   "outputs": [
    {
     "data": {
      "image/png": "[encoded data removed]",
      "text/plain": [
       "<matplotlib.figure.Figure at 0x15df42229e8>"
      ]
     },
     "metadata": {},
     "output_type": "display_data"
    }
   ],
   "source": [
    "plot_layer(activations, image_number, 2)"
   ]
  },
  {
   "cell_type": "code",
   "execution_count": 24,
   "metadata": {},
   "outputs": [
    {
     "data": {
      "image/png": "[encoded data removed]",
      "text/plain": [
       "<matplotlib.figure.Figure at 0x15df5d17908>"
      ]
     },
     "metadata": {},
     "output_type": "display_data"
    }
   ],
   "source": [
    "plot_layer(activations, image_number, 3)"
   ]
  },
  {
   "cell_type": "code",
   "execution_count": null,
   "metadata": {},
   "outputs": [],
   "source": []
  }
 ],
 "metadata": {
  "colab": {
   "collapsed_sections": [],
   "name": "CNN for AED",
   "provenance": [],
   "version": "0.3.2"
  },
  "kernelspec": {
   "display_name": "Python 3",
   "language": "python",
   "name": "python3"
  },
  "language_info": {
   "codemirror_mode": {
    "name": "ipython",
    "version": 3
   },
   "file_extension": ".py",
   "mimetype": "text/x-python",
   "name": "python",
   "nbconvert_exporter": "python",
   "pygments_lexer": "ipython3",
   "version": "3.6.4"
  }
 },
 "nbformat": 4,
 "nbformat_minor": 1
}
